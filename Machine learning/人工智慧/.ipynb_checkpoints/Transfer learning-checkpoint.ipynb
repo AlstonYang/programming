{
 "cells": [
  {
   "cell_type": "code",
   "execution_count": 7,
   "metadata": {},
   "outputs": [
    {
     "name": "stdout",
     "output_type": "stream",
     "text": [
      "env: KERAS_BACKEND=tensorflow\n"
     ]
    }
   ],
   "source": [
    "%env KERAS_BACKEND=tensorflow\n",
    "import numpy as np\n",
    "import matplotlib.pyplot as plt\n",
    "from keras.datasets import mnist"
   ]
  },
  {
   "cell_type": "code",
   "execution_count": 8,
   "metadata": {},
   "outputs": [],
   "source": [
    "from keras.models import Sequential\n",
    "from keras.layers import Dense, Activation\n",
    "from keras.optimizers import SGD\n",
    "from keras.utils import np_utils"
   ]
  },
  {
   "cell_type": "code",
   "execution_count": 9,
   "metadata": {},
   "outputs": [],
   "source": [
    "(x_train, y_train), (x_test, y_test) = mnist.load_data()"
   ]
  },
  {
   "cell_type": "code",
   "execution_count": 14,
   "metadata": {},
   "outputs": [
    {
     "name": "stdout",
     "output_type": "stream",
     "text": [
      "總共有 60000 筆訓練資料, 每筆資料尺寸為28*28\n",
      "總共有 10000 筆測試資料, 每筆資料尺寸為28*28\n"
     ]
    }
   ],
   "source": [
    "print(\"總共有 %d 筆訓練資料, 每筆資料尺寸為%d*%d\" %x_train.shape)\n",
    "print(\"總共有 %d 筆測試資料, 每筆資料尺寸為%d*%d\" %x_test.shape)"
   ]
  },
  {
   "cell_type": "code",
   "execution_count": 43,
   "metadata": {},
   "outputs": [],
   "source": [
    "x_train = x_train.reshape(60000,784)\n",
    "x_test = x_test.reshape(10000,784)"
   ]
  },
  {
   "cell_type": "code",
   "execution_count": 44,
   "metadata": {},
   "outputs": [],
   "source": [
    "x_train_01 = x_train[y_train<=1]\n",
    "x_test_01 = x_test[y_test<=1]"
   ]
  },
  {
   "cell_type": "code",
   "execution_count": 45,
   "metadata": {},
   "outputs": [
    {
     "name": "stdout",
     "output_type": "stream",
     "text": [
      "總共有 12665 筆訓練資料, 每筆資料尺寸為784\n",
      "總共有 2115 筆測試資料, 每筆資料尺寸為784\n"
     ]
    }
   ],
   "source": [
    "print(\"總共有 %d 筆訓練資料, 每筆資料尺寸為%d\" %x_train_01.shape)\n",
    "print(\"總共有 %d 筆測試資料, 每筆資料尺寸為%d\" %x_test_01.shape)"
   ]
  },
  {
   "cell_type": "code",
   "execution_count": 46,
   "metadata": {},
   "outputs": [],
   "source": [
    "y_train_01 = y_train[y_train<=1]\n",
    "y_test_01 = y_test[y_test<=1]\n",
    "\n",
    "y_train = np_utils.to_categorical(y_train, 10)\n",
    "y_test = np_utils.to_categorical(y_test, 10)\n",
    "\n",
    "y_train_01 = np_utils.to_categorical(y_train_01, 2)\n",
    "y_test_01 = np_utils.to_categorical(y_test_01, 2)"
   ]
  },
  {
   "cell_type": "code",
   "execution_count": 47,
   "metadata": {},
   "outputs": [
    {
     "name": "stdout",
     "output_type": "stream",
     "text": [
      "總共有 12665 筆訓練資料, 每筆資料尺寸為2\n",
      "總共有 2115 筆測試資料, 每筆資料尺寸為2\n"
     ]
    }
   ],
   "source": [
    "print(\"總共有 %d 筆訓練資料, 每筆資料尺寸為%d\" %y_train_01.shape)\n",
    "print(\"總共有 %d 筆測試資料, 每筆資料尺寸為%d\" %y_test_01.shape)"
   ]
  },
  {
   "cell_type": "code",
   "execution_count": 49,
   "metadata": {},
   "outputs": [
    {
     "name": "stdout",
     "output_type": "stream",
     "text": [
      "WARNING:tensorflow:From /opt/anaconda3/lib/python3.7/site-packages/tensorflow/python/ops/resource_variable_ops.py:435: colocate_with (from tensorflow.python.framework.ops) is deprecated and will be removed in a future version.\n",
      "Instructions for updating:\n",
      "Colocations handled automatically by placer.\n",
      "Model: \"sequential_1\"\n",
      "_________________________________________________________________\n",
      "Layer (type)                 Output Shape              Param #   \n",
      "=================================================================\n",
      "dense_1 (Dense)              (None, 500)               392500    \n",
      "_________________________________________________________________\n",
      "activation_1 (Activation)    (None, 500)               0         \n",
      "_________________________________________________________________\n",
      "dense_2 (Dense)              (None, 500)               250500    \n",
      "_________________________________________________________________\n",
      "activation_2 (Activation)    (None, 500)               0         \n",
      "_________________________________________________________________\n",
      "dense_3 (Dense)              (None, 10)                5010      \n",
      "_________________________________________________________________\n",
      "activation_3 (Activation)    (None, 10)                0         \n",
      "=================================================================\n",
      "Total params: 648,010\n",
      "Trainable params: 648,010\n",
      "Non-trainable params: 0\n",
      "_________________________________________________________________\n"
     ]
    }
   ],
   "source": [
    "model = Sequential()\n",
    "\n",
    "model.add(Dense(500, input_dim=784))\n",
    "model.add(Activation('sigmoid'))\n",
    "model.add(Dense(500))\n",
    "model.add(Activation('sigmoid'))\n",
    "model.add(Dense(10))\n",
    "model.add(Activation('softmax'))\n",
    "\n",
    "model.summary()"
   ]
  },
  {
   "cell_type": "code",
   "execution_count": 50,
   "metadata": {},
   "outputs": [
    {
     "data": {
      "text/plain": [
       "[<keras.layers.core.Dense at 0x10fcf1650>,\n",
       " <keras.layers.core.Activation at 0x6349a2990>,\n",
       " <keras.layers.core.Dense at 0x10e6c8d10>,\n",
       " <keras.layers.core.Activation at 0x1100c2690>,\n",
       " <keras.layers.core.Dense at 0x10fda3cd0>,\n",
       " <keras.layers.core.Activation at 0x10fd9af50>]"
      ]
     },
     "execution_count": 50,
     "metadata": {},
     "output_type": "execute_result"
    }
   ],
   "source": [
    "model.layers"
   ]
  },
  {
   "cell_type": "code",
   "execution_count": 51,
   "metadata": {},
   "outputs": [
    {
     "data": {
      "text/plain": [
       "[<keras.layers.core.Dense at 0x637c9b8d0>,\n",
       " <keras.layers.core.Activation at 0x637ca93d0>,\n",
       " <keras.layers.core.Dense at 0x637c9b210>,\n",
       " <keras.layers.core.Activation at 0x637ca9f50>,\n",
       " <keras.layers.core.Dense at 0x637ca9110>,\n",
       " <keras.layers.core.Activation at 0x637cbe2d0>]"
      ]
     },
     "execution_count": 51,
     "metadata": {},
     "output_type": "execute_result"
    }
   ],
   "source": [
    "list1 = [Dense(500, input_dim=784),Activation('sigmoid')]\n",
    "list2 = [Dense(500), Activation('sigmoid')]\n",
    "list3 = [Dense(10), Activation('softmax')]\n",
    "\n",
    "list1 + list2 +list3"
   ]
  },
  {
   "cell_type": "code",
   "execution_count": 52,
   "metadata": {},
   "outputs": [],
   "source": [
    "model = Sequential(list1 + list2 +list3)"
   ]
  },
  {
   "cell_type": "code",
   "execution_count": 53,
   "metadata": {},
   "outputs": [
    {
     "name": "stdout",
     "output_type": "stream",
     "text": [
      "Model: \"sequential_2\"\n",
      "_________________________________________________________________\n",
      "Layer (type)                 Output Shape              Param #   \n",
      "=================================================================\n",
      "dense_4 (Dense)              (None, 500)               392500    \n",
      "_________________________________________________________________\n",
      "activation_4 (Activation)    (None, 500)               0         \n",
      "_________________________________________________________________\n",
      "dense_5 (Dense)              (None, 500)               250500    \n",
      "_________________________________________________________________\n",
      "activation_5 (Activation)    (None, 500)               0         \n",
      "_________________________________________________________________\n",
      "dense_6 (Dense)              (None, 10)                5010      \n",
      "_________________________________________________________________\n",
      "activation_6 (Activation)    (None, 10)                0         \n",
      "=================================================================\n",
      "Total params: 648,010\n",
      "Trainable params: 648,010\n",
      "Non-trainable params: 0\n",
      "_________________________________________________________________\n"
     ]
    }
   ],
   "source": [
    "model.summary()"
   ]
  },
  {
   "cell_type": "code",
   "execution_count": 58,
   "metadata": {},
   "outputs": [],
   "source": [
    "all_except_last=[Dense(500, input_dim=784),Activation('sigmoid'),\n",
    "                 Dense(500),Activation('sigmoid')]\n",
    "\n",
    "output_layer = [Dense(10), Activation('softmax')]"
   ]
  },
  {
   "cell_type": "code",
   "execution_count": 59,
   "metadata": {},
   "outputs": [
    {
     "name": "stdout",
     "output_type": "stream",
     "text": [
      "Model: \"sequential_7\"\n",
      "_________________________________________________________________\n",
      "Layer (type)                 Output Shape              Param #   \n",
      "=================================================================\n",
      "dense_10 (Dense)             (None, 500)               392500    \n",
      "_________________________________________________________________\n",
      "activation_10 (Activation)   (None, 500)               0         \n",
      "_________________________________________________________________\n",
      "dense_11 (Dense)             (None, 500)               250500    \n",
      "_________________________________________________________________\n",
      "activation_11 (Activation)   (None, 500)               0         \n",
      "_________________________________________________________________\n",
      "dense_12 (Dense)             (None, 10)                5010      \n",
      "_________________________________________________________________\n",
      "activation_12 (Activation)   (None, 10)                0         \n",
      "=================================================================\n",
      "Total params: 648,010\n",
      "Trainable params: 648,010\n",
      "Non-trainable params: 0\n",
      "_________________________________________________________________\n"
     ]
    }
   ],
   "source": [
    "model_1_to_9 = Sequential(all_except_last+output_layer)\n",
    "model_1_to_9.summary()"
   ]
  },
  {
   "cell_type": "code",
   "execution_count": 60,
   "metadata": {},
   "outputs": [],
   "source": [
    "model_1_to_9.load_weights('model_weights.h5')"
   ]
  },
  {
   "cell_type": "code",
   "execution_count": 62,
   "metadata": {},
   "outputs": [],
   "source": [
    "new_output_layer = [Dense(2), Activation('softmax')]\n",
    "model_0_to_1 = Sequential(all_except_last+new_output_layer)"
   ]
  },
  {
   "cell_type": "code",
   "execution_count": 64,
   "metadata": {},
   "outputs": [],
   "source": [
    "for layer in all_except_last:\n",
    "    layer.trainable = False"
   ]
  },
  {
   "cell_type": "code",
   "execution_count": 67,
   "metadata": {},
   "outputs": [
    {
     "name": "stdout",
     "output_type": "stream",
     "text": [
      "Model: \"sequential_8\"\n",
      "_________________________________________________________________\n",
      "Layer (type)                 Output Shape              Param #   \n",
      "=================================================================\n",
      "dense_10 (Dense)             (None, 500)               392500    \n",
      "_________________________________________________________________\n",
      "activation_10 (Activation)   (None, 500)               0         \n",
      "_________________________________________________________________\n",
      "dense_11 (Dense)             (None, 500)               250500    \n",
      "_________________________________________________________________\n",
      "activation_11 (Activation)   (None, 500)               0         \n",
      "_________________________________________________________________\n",
      "dense_14 (Dense)             (None, 2)                 1002      \n",
      "_________________________________________________________________\n",
      "activation_14 (Activation)   (None, 2)                 0         \n",
      "=================================================================\n",
      "Total params: 644,002\n",
      "Trainable params: 1,002\n",
      "Non-trainable params: 643,000\n",
      "_________________________________________________________________\n"
     ]
    }
   ],
   "source": [
    "model_0_to_1.summary()"
   ]
  },
  {
   "cell_type": "code",
   "execution_count": 73,
   "metadata": {},
   "outputs": [
    {
     "name": "stdout",
     "output_type": "stream",
     "text": [
      "Epoch 1/20\n",
      "12665/12665 [==============================] - 0s 38us/step - loss: 0.4677 - accuracy: 0.5304\n",
      "Epoch 2/20\n",
      "12665/12665 [==============================] - 1s 45us/step - loss: 0.1950 - accuracy: 0.8010\n",
      "Epoch 3/20\n",
      "12665/12665 [==============================] - 0s 29us/step - loss: 0.0018 - accuracy: 0.9980\n",
      "Epoch 4/20\n",
      "12665/12665 [==============================] - 0s 29us/step - loss: 0.0016 - accuracy: 0.9981\n",
      "Epoch 5/20\n",
      "12665/12665 [==============================] - 0s 35us/step - loss: 0.0015 - accuracy: 0.9982\n",
      "Epoch 6/20\n",
      "12665/12665 [==============================] - 0s 34us/step - loss: 0.0014 - accuracy: 0.9983\n",
      "Epoch 7/20\n",
      "12665/12665 [==============================] - 0s 29us/step - loss: 0.0013 - accuracy: 0.9983\n",
      "Epoch 8/20\n",
      "12665/12665 [==============================] - 0s 30us/step - loss: 0.0013 - accuracy: 0.9984\n",
      "Epoch 9/20\n",
      "12665/12665 [==============================] - 0s 29us/step - loss: 0.0012 - accuracy: 0.9986\n",
      "Epoch 10/20\n",
      "12665/12665 [==============================] - 0s 33us/step - loss: 0.0012 - accuracy: 0.9987\n",
      "Epoch 11/20\n",
      "12665/12665 [==============================] - 0s 36us/step - loss: 0.0012 - accuracy: 0.9987\n",
      "Epoch 12/20\n",
      "12665/12665 [==============================] - 0s 31us/step - loss: 0.0012 - accuracy: 0.9985\n",
      "Epoch 13/20\n",
      "12665/12665 [==============================] - 0s 32us/step - loss: 0.0011 - accuracy: 0.9986\n",
      "Epoch 14/20\n",
      "12665/12665 [==============================] - 0s 31us/step - loss: 0.0011 - accuracy: 0.9987\n",
      "Epoch 15/20\n",
      "12665/12665 [==============================] - 0s 30us/step - loss: 0.0011 - accuracy: 0.9987\n",
      "Epoch 16/20\n",
      "12665/12665 [==============================] - 0s 31us/step - loss: 0.0011 - accuracy: 0.9987\n",
      "Epoch 17/20\n",
      "12665/12665 [==============================] - 0s 36us/step - loss: 0.0011 - accuracy: 0.9987 0s - loss: 0.0011 - accuracy: 0.99\n",
      "Epoch 18/20\n",
      "12665/12665 [==============================] - 0s 33us/step - loss: 0.0010 - accuracy: 0.9991\n",
      "Epoch 19/20\n",
      "12665/12665 [==============================] - 0s 31us/step - loss: 0.0010 - accuracy: 0.9988\n",
      "Epoch 20/20\n",
      "12665/12665 [==============================] - 0s 34us/step - loss: 0.0010 - accuracy: 0.9988\n"
     ]
    },
    {
     "data": {
      "text/plain": [
       "<keras.callbacks.callbacks.History at 0x63c72eb50>"
      ]
     },
     "execution_count": 73,
     "metadata": {},
     "output_type": "execute_result"
    }
   ],
   "source": [
    "model_0_to_1.compile(loss='mse', optimizer=SGD(lr=0.5), metrics=['accuracy'])\n",
    "model_0_to_1.fit(x_train_01, y_train_01,batch_size=100, epochs=20)"
   ]
  },
  {
   "cell_type": "code",
   "execution_count": 84,
   "metadata": {},
   "outputs": [
    {
     "name": "stdout",
     "output_type": "stream",
     "text": [
      "2115/2115 [==============================] - 0s 61us/step\n"
     ]
    }
   ],
   "source": [
    "score = model_0_to_1.evaluate(x_test_01, y_test_01)"
   ]
  },
  {
   "cell_type": "code",
   "execution_count": 85,
   "metadata": {},
   "outputs": [
    {
     "name": "stdout",
     "output_type": "stream",
     "text": [
      "MSE:0.000832, Accuracy rate:0.998582\n"
     ]
    }
   ],
   "source": [
    "print('MSE:%f, Accuracy rate:%f' %(score[0],score[1]))"
   ]
  },
  {
   "cell_type": "code",
   "execution_count": null,
   "metadata": {},
   "outputs": [],
   "source": []
  }
 ],
 "metadata": {
  "kernelspec": {
   "display_name": "Python 3",
   "language": "python",
   "name": "python3"
  },
  "language_info": {
   "codemirror_mode": {
    "name": "ipython",
    "version": 3
   },
   "file_extension": ".py",
   "mimetype": "text/x-python",
   "name": "python",
   "nbconvert_exporter": "python",
   "pygments_lexer": "ipython3",
   "version": "3.7.4"
  }
 },
 "nbformat": 4,
 "nbformat_minor": 2
}
