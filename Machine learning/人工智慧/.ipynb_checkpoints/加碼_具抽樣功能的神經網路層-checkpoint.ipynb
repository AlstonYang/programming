{
 "cells": [
  {
   "cell_type": "markdown",
   "metadata": {},
   "source": [
    "輸入為 $(\\mu, s)$ ，$\\mu=(\\mu_1,\\cdots,\\mu_n)$ 和 $s=(s_1,\\cdots,s_n)$ 各自為 $n$ 維向量。\n",
    "\n",
    "我們希望神經網路層輸出為服從 $N(\\mu, e^{s}I_n)$ 的 $n$ 維向量，換言之，我們希望建構的神經網路其實是一個抽樣函數。\n",
    "\n",
    "** 由於神經網路的輸入輸出經常沒有限制，為了讓 $s$ 具有變異數的非負特性，我們考慮 $e^{s}$ 作為變異數；換言之，$s$ 為 log-variance。\n",
    "\n",
    "假設我們想進行抽樣的維度為 sampling_dim，則一個具抽樣函數功能的神經網路可由下述方式建構。"
   ]
  },
  {
   "cell_type": "code",
   "execution_count": 12,
   "metadata": {},
   "outputs": [],
   "source": [
    "import numpy as np\n",
    "import matplotlib.pyplot as plt\n",
    "\n",
    "from keras.models import Model\n",
    "from keras.layers import Input, Lambda\n",
    "from keras import backend as K"
   ]
  },
  {
   "cell_type": "code",
   "execution_count": 13,
   "metadata": {},
   "outputs": [],
   "source": [
    "sampling_dim = 2\n",
    "\n",
    "def sampling(args):\n",
    "    z_mean, z_log_var = args\n",
    "    epsilon = K.random_normal(shape=(sapling_dim,), mean=0, stddev=1)\n",
    "    return z_mean + K.exp(z_log_var / 2) * epsilon"
   ]
  },
  {
   "cell_type": "markdown",
   "metadata": {},
   "source": [
    "這裡使用到常態分配的線性特性來定義函數，亦即\n",
    "\n",
    "$$X\\sim N(0, 1)\\Rightarrow \\mu+\\sigma X\\sim N(\\mu, \\sigma^2)$$"
   ]
  },
  {
   "cell_type": "code",
   "execution_count": 14,
   "metadata": {},
   "outputs": [],
   "source": [
    "sample_layer = Lambda(sampling, output_shape=(sampling_dim,))"
   ]
  },
  {
   "cell_type": "code",
   "execution_count": 15,
   "metadata": {},
   "outputs": [],
   "source": [
    "m = Input(shape=(sampling_dim,))\n",
    "s = Input(shape=(sampling_dim,))\n",
    "\n",
    "z = sample_layer([m,s])\n",
    "\n",
    "sample_model = Model([m,s],z)"
   ]
  },
  {
   "cell_type": "code",
   "execution_count": 16,
   "metadata": {},
   "outputs": [
    {
     "name": "stdout",
     "output_type": "stream",
     "text": [
      "Model: \"model_1\"\n",
      "__________________________________________________________________________________________________\n",
      "Layer (type)                    Output Shape         Param #     Connected to                     \n",
      "==================================================================================================\n",
      "input_3 (InputLayer)            (None, 2)            0                                            \n",
      "__________________________________________________________________________________________________\n",
      "input_4 (InputLayer)            (None, 2)            0                                            \n",
      "__________________________________________________________________________________________________\n",
      "lambda_2 (Lambda)               (None, 2)            0           input_3[0][0]                    \n",
      "                                                                 input_4[0][0]                    \n",
      "==================================================================================================\n",
      "Total params: 0\n",
      "Trainable params: 0\n",
      "Non-trainable params: 0\n",
      "__________________________________________________________________________________________________\n"
     ]
    }
   ],
   "source": [
    "sample_model.summary()"
   ]
  },
  {
   "cell_type": "code",
   "execution_count": 22,
   "metadata": {},
   "outputs": [
    {
     "name": "stdout",
     "output_type": "stream",
     "text": [
      "平均數為：（3, 6）\n"
     ]
    }
   ],
   "source": [
    "test_mean = np.random.randint(10, size=2).reshape(1,2)\n",
    "test_log_var = np.array([[0,0]])\n",
    "print('平均數為：（%d, %d）' %(test_mean[0][0], test_mean[0][1]))"
   ]
  },
  {
   "cell_type": "markdown",
   "metadata": {},
   "source": [
    "透過下面的指令，我們每次可以抽樣出一服從上述要求常態分配之隨機向量"
   ]
  },
  {
   "cell_type": "code",
   "execution_count": 25,
   "metadata": {},
   "outputs": [
    {
     "data": {
      "text/plain": [
       "array([[2.761613, 6.192427]], dtype=float32)"
      ]
     },
     "execution_count": 25,
     "metadata": {},
     "output_type": "execute_result"
    }
   ],
   "source": [
    "sample_model.predict([test_mean, test_log_var])"
   ]
  },
  {
   "cell_type": "code",
   "execution_count": 27,
   "metadata": {},
   "outputs": [
    {
     "name": "stdout",
     "output_type": "stream",
     "text": [
      "[[ 3.66215447  6.76021659]\n",
      " [ 3.05711277  4.80814511]\n",
      " [ 3.91427292  4.62095018]\n",
      " [ 2.67863892  5.72287834]\n",
      " [ 2.81651433  6.18612312]\n",
      " [ 3.58321936  5.72560905]\n",
      " [ 4.13307589  7.44331153]\n",
      " [ 0.82290544  3.89567262]\n",
      " [ 4.93085407  6.87297015]\n",
      " [ 2.7637565   5.96463864]\n",
      " [ 3.08854313  6.96190594]\n",
      " [ 0.91671422  6.29109648]\n",
      " [ 2.23108983  7.10018826]\n",
      " [ 4.16359244  5.27743554]\n",
      " [ 5.47705054  5.7200686 ]\n",
      " [ 5.50297667  6.52510886]\n",
      " [ 2.19548937  6.35849626]\n",
      " [ 3.06351542  5.05503032]\n",
      " [ 1.0991634   6.1316698 ]\n",
      " [ 3.25084895  5.86047777]\n",
      " [ 3.18189845  4.99508342]\n",
      " [ 3.31248516  5.20878867]\n",
      " [ 3.7275037   7.66584402]\n",
      " [ 3.97076974  4.82379958]\n",
      " [ 2.03202782  7.39211933]\n",
      " [ 4.04058932  7.7549944 ]\n",
      " [ 3.1818178   6.86151165]\n",
      " [ 3.48314236  6.45445016]\n",
      " [ 3.7956733   7.69209173]\n",
      " [ 1.91143976  6.22793904]\n",
      " [ 2.91076244  8.23057391]\n",
      " [ 6.08278355  6.61655295]\n",
      " [ 2.31674372  5.64804563]\n",
      " [ 3.1593691   6.09868855]\n",
      " [ 3.23608456  5.38641983]\n",
      " [ 3.38981376  5.85559716]\n",
      " [ 3.1104405   6.44146812]\n",
      " [ 1.21237464  5.96844221]\n",
      " [ 2.01355326  4.96319598]\n",
      " [-0.27270042  5.69555439]\n",
      " [ 3.72006134  5.77272909]\n",
      " [ 2.85617424  5.08366216]\n",
      " [ 1.86151095  7.77327803]\n",
      " [ 4.03410415  6.39483989]\n",
      " [ 3.16814463  5.61843789]\n",
      " [ 3.99014466  4.52599885]\n",
      " [ 2.72840349  5.1043585 ]\n",
      " [ 2.14708646  5.61539764]\n",
      " [ 4.23027349  6.04013286]\n",
      " [ 2.55788172  5.88840049]\n",
      " [ 1.62046303  6.77922348]\n",
      " [ 2.44941361  8.04659404]\n",
      " [ 2.4399551   6.5845857 ]\n",
      " [ 3.78856329  5.64508417]\n",
      " [ 3.78371887  4.85869934]\n",
      " [ 2.03414168  5.80849611]\n",
      " [ 3.01388903  6.03749662]\n",
      " [ 3.19893751  6.56930176]\n",
      " [ 5.51623182  7.00913739]\n",
      " [ 3.34180449  4.9249836 ]\n",
      " [ 2.58565537  4.57456965]\n",
      " [ 3.42602496  4.65318749]\n",
      " [ 3.26847851  6.57496218]\n",
      " [ 3.21892895  7.06001528]\n",
      " [ 4.48653496  7.23059272]\n",
      " [ 2.99216213  7.38707301]\n",
      " [ 4.5304385   7.28357231]\n",
      " [ 1.28843142  4.91303823]\n",
      " [ 1.73676453  6.27110932]\n",
      " [ 3.71546826  6.01674422]\n",
      " [ 2.80935281  6.52874291]\n",
      " [ 3.35516105  6.12230115]\n",
      " [ 2.83975949  4.40311917]\n",
      " [ 4.92285489  6.34871303]\n",
      " [ 2.91882408  6.38232573]\n",
      " [ 1.7332691   4.93660695]\n",
      " [ 2.34437076  6.20468721]\n",
      " [ 2.42086782  7.84224859]\n",
      " [ 3.72781331  8.37450606]\n",
      " [ 2.82148785  5.92501331]\n",
      " [ 3.6274244   6.01639501]\n",
      " [ 1.16798816  4.55184305]\n",
      " [ 3.87994475  6.78279147]\n",
      " [ 2.95013082  5.57871924]\n",
      " [ 3.29997747  6.59521883]\n",
      " [ 1.61940315  4.46280626]\n",
      " [ 3.74992023  5.83101839]\n",
      " [ 2.08931383  4.39490233]\n",
      " [ 4.12910821  7.28676511]\n",
      " [ 1.53155543  6.47178825]\n",
      " [ 1.95944265  6.47040015]\n",
      " [ 2.03890453  5.70081397]\n",
      " [ 1.78258962  5.17349448]\n",
      " [ 2.36519041  5.05428385]\n",
      " [ 3.49129197  5.44372589]\n",
      " [ 2.59260023  6.11191269]\n",
      " [-0.3195418   5.07389051]\n",
      " [ 2.86718554  6.26459724]\n",
      " [ 2.8971065   5.13215042]\n",
      " [ 3.60341153  8.29036125]]\n"
     ]
    }
   ],
   "source": [
    "num_of_samples = 100\n",
    "np_sample = np.random.multivariate_normal(test_mean[0], np.identity(2),\n",
    "                                         size = num_of_samples)\n",
    "\n",
    "print(np_sample)"
   ]
  },
  {
   "cell_type": "code",
   "execution_count": 28,
   "metadata": {},
   "outputs": [],
   "source": [
    "keras_sample = np.zeros((num_of_samples,2))\n",
    "\n",
    "for i in range(num_of_samples):\n",
    "    keras_sample[i] = sample_model.predict([test_mean, test_log_var])"
   ]
  },
  {
   "cell_type": "code",
   "execution_count": 33,
   "metadata": {},
   "outputs": [
    {
     "data": {
      "text/plain": [
       "Text(0.5, 1.0, 'Normal Random Samples using Keras/Numpy')"
      ]
     },
     "execution_count": 33,
     "metadata": {},
     "output_type": "execute_result"
    },
    {
     "data": {
      "image/png": "[encoded data removed]",
      "text/plain": [
       "<Figure size 432x288 with 1 Axes>"
      ]
     },
     "metadata": {
      "needs_background": "light"
     },
     "output_type": "display_data"
    }
   ],
   "source": [
    "plt.plot(keras_sample[:,0], keras_sample[:,1],'go')\n",
    "plt.plot(np_sample[:,0], np_sample[:,1],'o')\n",
    "\n",
    "plt.legend(['Keras','Numpy'])\n",
    "plt.title('Normal Random Samples using Keras/Numpy')"
   ]
  },
  {
   "cell_type": "markdown",
   "metadata": {},
   "source": [
    "## 4. 恭喜你，完成學習所有建立 Variational Autoencoder 所需的重要技巧。\n"
   ]
  },
  {
   "cell_type": "markdown",
   "metadata": {},
   "source": [
    "Variational Autoencoder (VAE) 是一個重要的非監督式學習模型，具體應用的場合為特徵抽取/資料壓縮及還原，為影像處理中常見的模型之一。\n",
    "\n",
    "在建立 VAE中，需要的兩個重要技巧:\n",
    "\n",
    "* 分歧-合併\n",
    "* 自定義函數 (抽樣函數)\n",
    "\n",
    "已經完成了學習，下一單元，我們將告訴各位如何建立並訓練 VAE 模型。"
   ]
  }
 ],
 "metadata": {
  "kernelspec": {
   "display_name": "Python 3",
   "language": "python",
   "name": "python3"
  },
  "language_info": {
   "codemirror_mode": {
    "name": "ipython",
    "version": 3
   },
   "file_extension": ".py",
   "mimetype": "text/x-python",
   "name": "python",
   "nbconvert_exporter": "python",
   "pygments_lexer": "ipython3",
   "version": "3.7.4"
  }
 },
 "nbformat": 4,
 "nbformat_minor": 2
}
