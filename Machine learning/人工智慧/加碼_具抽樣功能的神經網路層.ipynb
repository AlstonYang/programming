{
 "cells": [
  {
   "cell_type": "markdown",
   "metadata": {},
   "source": [
    "輸入為 $(\\mu, s)$ ，$\\mu=(\\mu_1,\\cdots,\\mu_n)$ 和 $s=(s_1,\\cdots,s_n)$ 各自為 $n$ 維向量。\n",
    "\n",
    "我們希望神經網路層輸出為服從 $N(\\mu, e^{s}I_n)$ 的 $n$ 維向量，換言之，我們希望建構的神經網路其實是一個抽樣函數。\n",
    "\n",
    "** 由於神經網路的輸入輸出經常沒有限制，為了讓 $s$ 具有變異數的非負特性，我們考慮 $e^{s}$ 作為變異數；換言之，$s$ 為 log-variance。\n",
    "\n",
    "假設我們想進行抽樣的維度為 sampling_dim，則一個具抽樣函數功能的神經網路可由下述方式建構。"
   ]
  },
  {
   "cell_type": "code",
   "execution_count": 9,
   "metadata": {},
   "outputs": [],
   "source": [
    "import numpy as np\n",
    "import matplotlib.pyplot as plt\n",
    "\n",
    "from keras.models import Model\n",
    "from keras.layers import Input, Lambda\n",
    "from keras import backend as K"
   ]
  },
  {
   "cell_type": "code",
   "execution_count": 12,
   "metadata": {},
   "outputs": [],
   "source": [
    "sampling_dim = 2\n",
    "\n",
    "def sampling(args):\n",
    "    z_mean, z_log_var = args\n",
    "    epsilon = K.random_normal(shape=(sampling_dim,), mean=0, stddev=1)\n",
    "    return z_mean + K.exp(z_log_var / 2) * epsilon"
   ]
  },
  {
   "cell_type": "markdown",
   "metadata": {},
   "source": [
    "這裡使用到常態分配的線性特性來定義函數，亦即\n",
    "\n",
    "$$X\\sim N(0, 1)\\Rightarrow \\mu+\\sigma X\\sim N(\\mu, \\sigma^2)$$"
   ]
  },
  {
   "cell_type": "code",
   "execution_count": 13,
   "metadata": {},
   "outputs": [],
   "source": [
    "sample_layer = Lambda(sampling, output_shape=(sampling_dim,))"
   ]
  },
  {
   "cell_type": "code",
   "execution_count": 14,
   "metadata": {},
   "outputs": [],
   "source": [
    "m = Input(shape=(sampling_dim,))\n",
    "s = Input(shape=(sampling_dim,))\n",
    "\n",
    "z = sample_layer([m,s])\n",
    "\n",
    "sample_model = Model([m,s],z)"
   ]
  },
  {
   "cell_type": "code",
   "execution_count": 15,
   "metadata": {},
   "outputs": [
    {
     "name": "stdout",
     "output_type": "stream",
     "text": [
      "Model: \"model_1\"\n",
      "__________________________________________________________________________________________________\n",
      "Layer (type)                    Output Shape         Param #     Connected to                     \n",
      "==================================================================================================\n",
      "input_5 (InputLayer)            (None, 2)            0                                            \n",
      "__________________________________________________________________________________________________\n",
      "input_6 (InputLayer)            (None, 2)            0                                            \n",
      "__________________________________________________________________________________________________\n",
      "lambda_3 (Lambda)               (None, 2)            0           input_5[0][0]                    \n",
      "                                                                 input_6[0][0]                    \n",
      "==================================================================================================\n",
      "Total params: 0\n",
      "Trainable params: 0\n",
      "Non-trainable params: 0\n",
      "__________________________________________________________________________________________________\n"
     ]
    }
   ],
   "source": [
    "sample_model.summary()"
   ]
  },
  {
   "cell_type": "code",
   "execution_count": 16,
   "metadata": {},
   "outputs": [
    {
     "name": "stdout",
     "output_type": "stream",
     "text": [
      "平均數為：（2, 6）\n"
     ]
    }
   ],
   "source": [
    "test_mean = np.random.randint(10, size=2).reshape(1,2)\n",
    "test_log_var = np.array([[0,0]])\n",
    "print('平均數為：（%d, %d）' %(test_mean[0][0], test_mean[0][1]))"
   ]
  },
  {
   "cell_type": "markdown",
   "metadata": {},
   "source": [
    "透過下面的指令，我們每次可以抽樣出一服從上述要求常態分配之隨機向量"
   ]
  },
  {
   "cell_type": "code",
   "execution_count": 17,
   "metadata": {},
   "outputs": [
    {
     "data": {
      "text/plain": [
       "array([[2.8155837, 6.217369 ]], dtype=float32)"
      ]
     },
     "execution_count": 17,
     "metadata": {},
     "output_type": "execute_result"
    }
   ],
   "source": [
    "sample_model.predict([test_mean, test_log_var])"
   ]
  },
  {
   "cell_type": "code",
   "execution_count": 42,
   "metadata": {},
   "outputs": [
    {
     "name": "stdout",
     "output_type": "stream",
     "text": [
      "[[4.67177536]\n",
      " [5.54148712]\n",
      " [3.25028253]\n",
      " [5.4949328 ]\n",
      " [5.18130505]\n",
      " [5.21228314]\n",
      " [3.42326309]\n",
      " [7.43263193]\n",
      " [4.94499824]\n",
      " [5.46207686]\n",
      " [4.9551653 ]\n",
      " [4.2426451 ]\n",
      " [4.42207851]\n",
      " [3.88958925]\n",
      " [5.67514139]\n",
      " [6.76869317]\n",
      " [5.61348374]\n",
      " [4.09896072]\n",
      " [5.3315838 ]\n",
      " [5.14621582]\n",
      " [5.48666838]\n",
      " [3.32246716]\n",
      " [3.01364664]\n",
      " [3.79539197]\n",
      " [6.33892774]\n",
      " [3.08068439]\n",
      " [4.5555801 ]\n",
      " [4.60907017]\n",
      " [4.20458254]\n",
      " [5.07107392]\n",
      " [4.34858361]\n",
      " [5.19666367]\n",
      " [5.13136534]\n",
      " [5.77082796]\n",
      " [5.66471186]\n",
      " [4.54319985]\n",
      " [5.31043417]\n",
      " [4.5900805 ]\n",
      " [5.39469121]\n",
      " [7.15755546]\n",
      " [5.12026035]\n",
      " [3.5414312 ]\n",
      " [4.88340078]\n",
      " [5.89749301]\n",
      " [4.96579517]\n",
      " [5.17710318]\n",
      " [4.9223552 ]\n",
      " [4.81828029]\n",
      " [4.53501671]\n",
      " [3.36567843]\n",
      " [5.50321372]\n",
      " [3.46284521]\n",
      " [5.27651865]\n",
      " [4.03840361]\n",
      " [4.10710672]\n",
      " [5.08630655]\n",
      " [6.21454128]\n",
      " [4.95561742]\n",
      " [5.9060559 ]\n",
      " [3.42928899]\n",
      " [5.97008512]\n",
      " [4.02535857]\n",
      " [4.52897531]\n",
      " [4.71504294]\n",
      " [7.5513719 ]\n",
      " [7.02531037]\n",
      " [4.73748582]\n",
      " [5.44229221]\n",
      " [3.59295071]\n",
      " [2.69727861]\n",
      " [5.0566006 ]\n",
      " [5.80754719]\n",
      " [5.96233514]\n",
      " [4.87035744]\n",
      " [6.14631535]\n",
      " [3.90462929]\n",
      " [5.14277935]\n",
      " [4.47267162]\n",
      " [5.05246058]\n",
      " [4.93279323]\n",
      " [5.86859106]\n",
      " [5.76722067]\n",
      " [5.28283052]\n",
      " [3.92395686]\n",
      " [5.92895066]\n",
      " [6.98057605]\n",
      " [4.33888319]\n",
      " [4.45635814]\n",
      " [5.05706144]\n",
      " [5.78264781]\n",
      " [6.27548085]\n",
      " [5.60840295]\n",
      " [4.01954822]\n",
      " [4.28638953]\n",
      " [4.76914846]\n",
      " [4.38245983]\n",
      " [3.99159431]\n",
      " [7.15852103]\n",
      " [3.89667358]\n",
      " [4.8633924 ]]\n"
     ]
    }
   ],
   "source": [
    "num_of_samples = 100\n",
    "np_sample = np.random.multivariate_normal([5], np.identity(1),\n",
    "                                         size = 100)\n",
    "\n",
    "print(np_sample)"
   ]
  },
  {
   "cell_type": "code",
   "execution_count": 28,
   "metadata": {},
   "outputs": [],
   "source": [
    "keras_sample = np.zeros((num_of_samples,2))\n",
    "\n",
    "for i in range(num_of_samples):\n",
    "    keras_sample[i] = sample_model.predict([test_mean, test_log_var])"
   ]
  },
  {
   "cell_type": "code",
   "execution_count": 33,
   "metadata": {},
   "outputs": [
    {
     "data": {
      "text/plain": [
       "Text(0.5, 1.0, 'Normal Random Samples using Keras/Numpy')"
      ]
     },
     "execution_count": 33,
     "metadata": {},
     "output_type": "execute_result"
    },
    {
     "data": {
      "image/png": "[encoded data removed]",
      "text/plain": [
       "<Figure size 432x288 with 1 Axes>"
      ]
     },
     "metadata": {
      "needs_background": "light"
     },
     "output_type": "display_data"
    }
   ],
   "source": [
    "plt.plot(keras_sample[:,0], keras_sample[:,1],'go')\n",
    "plt.plot(np_sample[:,0], np_sample[:,1],'o')\n",
    "\n",
    "plt.legend(['Keras','Numpy'])\n",
    "plt.title('Normal Random Samples using Keras/Numpy')"
   ]
  },
  {
   "cell_type": "markdown",
   "metadata": {},
   "source": [
    "## 4. 恭喜你，完成學習所有建立 Variational Autoencoder 所需的重要技巧。\n"
   ]
  },
  {
   "cell_type": "markdown",
   "metadata": {},
   "source": [
    "Variational Autoencoder (VAE) 是一個重要的非監督式學習模型，具體應用的場合為特徵抽取/資料壓縮及還原，為影像處理中常見的模型之一。\n",
    "\n",
    "在建立 VAE中，需要的兩個重要技巧:\n",
    "\n",
    "* 分歧-合併\n",
    "* 自定義函數 (抽樣函數)\n",
    "\n",
    "已經完成了學習，下一單元，我們將告訴各位如何建立並訓練 VAE 模型。"
   ]
  }
 ],
 "metadata": {
  "kernelspec": {
   "display_name": "Python 3",
   "language": "python",
   "name": "python3"
  },
  "language_info": {
   "codemirror_mode": {
    "name": "ipython",
    "version": 3
   },
   "file_extension": ".py",
   "mimetype": "text/x-python",
   "name": "python",
   "nbconvert_exporter": "python",
   "pygments_lexer": "ipython3",
   "version": "3.7.4"
  }
 },
 "nbformat": 4,
 "nbformat_minor": 2
}
