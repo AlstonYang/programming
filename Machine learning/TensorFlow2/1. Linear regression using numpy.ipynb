{
 "cells": [
  {
   "cell_type": "code",
   "execution_count": 5,
   "metadata": {},
   "outputs": [],
   "source": [
    "import numpy as np\n",
    "import os"
   ]
  },
  {
   "cell_type": "code",
   "execution_count": 6,
   "metadata": {},
   "outputs": [],
   "source": [
    "# calculate the average MSE for the function\n",
    "def compute_error_for_line_given_points(b, w, points):\n",
    "    totalError = 0\n",
    "    \n",
    "    for i in range (0, len(points)):\n",
    "        x = points[i, 0]\n",
    "        y = points[i, 1]\n",
    "        \n",
    "        totalError += ((w*x+b)-y)**2\n",
    "        \n",
    "        return totalError/float(len(points))"
   ]
  },
  {
   "cell_type": "code",
   "execution_count": 7,
   "metadata": {},
   "outputs": [],
   "source": [
    "# the process of the gradient for parameter tunning\n",
    "def step_gradient(b_current, w_current, points, learningRate):\n",
    "    b_gradient = 0\n",
    "    w_gradient = 0\n",
    "    N = float(len(points))\n",
    "    \n",
    "    for i in range(0, len(points)):\n",
    "        x = points[i, 0]\n",
    "        y = points[i, 1]\n",
    "        \n",
    "        b_gradient = (2/N)*((w_current*x+b_current)-y)\n",
    "        w_gradient = (2*x/N)*((w_current*x+b_current)-y)\n",
    "        \n",
    "    new_b = b_current - (learningRate*b_gradient)\n",
    "    new_w = w_current - (learningRate*w_gradient)\n",
    "    \n",
    "    return [new_b, new_w]"
   ]
  },
  {
   "cell_type": "code",
   "execution_count": 8,
   "metadata": {},
   "outputs": [],
   "source": [
    "# the repetition process of the gradient\n",
    "def gradient_descent_runner(points, starting_b, starting_w, learningRate, num_iterations):\n",
    "    b = starting_b\n",
    "    w = starting_w\n",
    "    \n",
    "    for i in range(num_iterations):\n",
    "        b, w = step_gradient(b, w, points, learningRate)\n",
    "    \n",
    "    return [b, w]"
   ]
  },
  {
   "cell_type": "code",
   "execution_count": 9,
   "metadata": {},
   "outputs": [],
   "source": [
    "os.chdir(\"/Users/alston/TensorFlow2/Deep-Learning-with-TensorFlow-book-master/ch02-回归问题/\")"
   ]
  },
  {
   "cell_type": "code",
   "execution_count": 15,
   "metadata": {},
   "outputs": [],
   "source": [
    "def run():\n",
    "    points = np.genfromtxt(\"data.csv\", delimiter=\",\")\n",
    "    learningRate = 0.0001\n",
    "    initial_b = 0\n",
    "    initial_w = 0\n",
    "    num_iterations = 1000\n",
    "    \n",
    "    print(\"Starting gradient descent at b={0}, w={1}, error={2}\".format(initial_b, initial_w, compute_error_for_line_given_points(initial_b, initial_w, points)))\n",
    "    print(\"Running...\")\n",
    "    \n",
    "    [b, w] = gradient_descent_runner(points, initial_b, initial_w, learningRate, num_iterations)\n",
    "    print(\"Starting gradient descent at b={0}, w={1}, error={2}\".format(initial_b, initial_w, compute_error_for_line_given_points(b, w, points)))\n",
    "    "
   ]
  },
  {
   "cell_type": "code",
   "execution_count": 20,
   "metadata": {},
   "outputs": [
    {
     "name": "stdout",
     "output_type": "stream",
     "text": [
      "Starting gradient descent at b = 0, w = 0, error = 5565.107834483211\n",
      "Running...\n",
      "After 1000 iterations b = 0.08893651993741346, w = 1.4777440851894448, error = 112.61481011613473\n"
     ]
    }
   ],
   "source": [
    "if __name__ == \"__main__\":\n",
    "    run()"
   ]
  }
 ],
 "metadata": {
  "kernelspec": {
   "display_name": "Python 3",
   "language": "python",
   "name": "python3"
  },
  "language_info": {
   "codemirror_mode": {
    "name": "ipython",
    "version": 3
   },
   "file_extension": ".py",
   "mimetype": "text/x-python",
   "name": "python",
   "nbconvert_exporter": "python",
   "pygments_lexer": "ipython3",
   "version": "3.7.4"
  }
 },
 "nbformat": 4,
 "nbformat_minor": 2
}
