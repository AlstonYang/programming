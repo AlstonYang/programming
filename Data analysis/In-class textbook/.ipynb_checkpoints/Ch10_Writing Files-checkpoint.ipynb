{
 "cells": [
  {
   "cell_type": "markdown",
   "metadata": {},
   "source": [
    "## Writing Files Using Python\n",
    "\n",
    "1. write\n",
    "    + open('filename.txt', 'w')\n",
    "    + with open('filename.txt', 'w') as filehandle:\n",
    "2. append\n",
    "    + open('filename.txt', 'a')\n",
    "    + with open('filename.txt', 'a') as filehandle:\n",
    "3. URL: https://stackabuse.com/writing-files-using-python/"
   ]
  },
  {
   "cell_type": "markdown",
   "metadata": {},
   "source": [
    "###### 1. Writing a Single Line to a File"
   ]
  },
  {
   "cell_type": "raw",
   "metadata": {},
   "source": [
    "1.1 "
   ]
  },
  {
   "cell_type": "code",
   "execution_count": null,
   "metadata": {},
   "outputs": [],
   "source": [
    "import os\n",
    "os.chdir(\"D:/Python/Class/Edgar\")"
   ]
  },
  {
   "cell_type": "code",
   "execution_count": null,
   "metadata": {},
   "outputs": [],
   "source": [
    "filehandle = open('helloworld11.txt', 'w')  \n",
    "filehandle.write('Hello, world!\\n')  \n",
    "filehandle.close()  "
   ]
  },
  {
   "cell_type": "code",
   "execution_count": null,
   "metadata": {},
   "outputs": [],
   "source": [
    "1.2 same"
   ]
  },
  {
   "cell_type": "code",
   "execution_count": null,
   "metadata": {},
   "outputs": [],
   "source": [
    "with open('helloworld12.txt', 'w') as filehandle:  \n",
    "    filehandle.write('Hello, world!\\n')"
   ]
  },
  {
   "cell_type": "markdown",
   "metadata": {},
   "source": [
    "###### 2. Writing a List of Lines to a File"
   ]
  },
  {
   "cell_type": "raw",
   "metadata": {},
   "source": [
    "2.1 \n",
    "writelines() method does not automatically add any line separators "
   ]
  },
  {
   "cell_type": "code",
   "execution_count": 1,
   "metadata": {},
   "outputs": [],
   "source": [
    "filehandle = open(\"helloworld21.txt\", \"w\")  \n",
    "filebuffer = [\"a first line of text\", \"a second line of text\", \"a third line\"]  \n",
    "filehandle.writelines(filebuffer)  \n",
    "filehandle.close()  "
   ]
  },
  {
   "cell_type": "raw",
   "metadata": {},
   "source": [
    "2.2 \n",
    "Adding the line separator \"\\n\"; \n",
    "Using a generator expression each line is substituted by the line \n",
    "plus line separator."
   ]
  },
  {
   "cell_type": "code",
   "execution_count": 2,
   "metadata": {},
   "outputs": [],
   "source": [
    "with open('helloworld22.txt', 'w') as filehandle:  \n",
    "    filebuffer = [\"a line of text\", \"another line of text\", \"a third line\"]\n",
    "    filehandle.writelines(\"%s\\n\" % line for line in filebuffer)"
   ]
  },
  {
   "cell_type": "raw",
   "metadata": {},
   "source": [
    "2.3 same"
   ]
  },
  {
   "cell_type": "code",
   "execution_count": 4,
   "metadata": {},
   "outputs": [],
   "source": [
    "# import sys module\n",
    "import sys\n",
    "\n",
    "# define the name of the output file\n",
    "filename = \"helloworld23.txt\"\n",
    "\n",
    "# preserve the stdout channel\n",
    "original = sys.stdout\n",
    "\n",
    "# define content\n",
    "filecontent = [\"Hello, world\", \"a second line\", \"and a third line\"]\n",
    "\n",
    "with open(filename, 'w') as filehandle:  \n",
    "    # set the new output channel\n",
    "    sys.stdout = filehandle\n",
    "\n",
    "    for line in filecontent:\n",
    "        print(line)\n",
    "\n",
    "    # restore the old output channel\n",
    "    sys.stdout = original"
   ]
  },
  {
   "cell_type": "markdown",
   "metadata": {},
   "source": [
    "###### 3. Appending Data to a File"
   ]
  },
  {
   "cell_type": "raw",
   "metadata": {},
   "source": [
    "3.1"
   ]
  },
  {
   "cell_type": "code",
   "execution_count": 6,
   "metadata": {},
   "outputs": [],
   "source": [
    "filehandle = open('helloworld31.txt','a')  \n",
    "filehandle.write('\\n' + 'Hello, world!\\n')  \n",
    "filehandle.close() "
   ]
  },
  {
   "cell_type": "raw",
   "metadata": {},
   "source": [
    "3.2 same"
   ]
  },
  {
   "cell_type": "code",
   "execution_count": 7,
   "metadata": {},
   "outputs": [],
   "source": [
    "with open('helloworld.txt', 'a') as filehandle:  \n",
    "    filehandle.write('\\n' + 'Hello, world!\\n')"
   ]
  },
  {
   "cell_type": "markdown",
   "metadata": {},
   "source": [
    "###                     The End!"
   ]
  },
  {
   "cell_type": "code",
   "execution_count": 2,
   "metadata": {},
   "outputs": [
    {
     "name": "stdout",
     "output_type": "stream",
     "text": [
      "no boolean operator\n"
     ]
    }
   ],
   "source": [
    "s = \"a1 c2 OR c3 AND\"\n",
    "boolops = [\"AND\", \"OR\", \"NOT\"]\n",
    "if not any(boolop in s for boolop in boolops):\n",
    "    print(\"no boolean operator\")\n",
    "\n",
    "s = \"test\"\n",
    "boolops = [\"AND\", \"OR\", \"NOT\"]\n",
    "if not any(boolop in s for boolop in boolops):\n",
    "    print(\"no boolean operator\")"
   ]
  },
  {
   "cell_type": "code",
   "execution_count": 1,
   "metadata": {},
   "outputs": [
    {
     "name": "stdout",
     "output_type": "stream",
     "text": [
      "no boolean operator\n"
     ]
    }
   ],
   "source": [
    "s = \"test\"\n",
    "boolops = [\"AND\", \"OR\", \"NOT\"]\n",
    "if not any(boolop in s for boolop in boolops):\n",
    "    print(\"no boolean operator\")"
   ]
  },
  {
   "cell_type": "code",
   "execution_count": null,
   "metadata": {},
   "outputs": [],
   "source": []
  }
 ],
 "metadata": {
  "kernelspec": {
   "display_name": "Python 3",
   "language": "python",
   "name": "python3"
  },
  "language_info": {
   "codemirror_mode": {
    "name": "ipython",
    "version": 3
   },
   "file_extension": ".py",
   "mimetype": "text/x-python",
   "name": "python",
   "nbconvert_exporter": "python",
   "pygments_lexer": "ipython3",
   "version": "3.7.4"
  }
 },
 "nbformat": 4,
 "nbformat_minor": 2
}
