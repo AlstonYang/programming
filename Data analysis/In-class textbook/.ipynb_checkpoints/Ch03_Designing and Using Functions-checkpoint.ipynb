{
 "cells": [
  {
   "cell_type": "markdown",
   "metadata": {},
   "source": [
    "# Ch03_Designing and Using Functions, p. 31\n",
    "1. **Functions** make calculations easy to reuse and make other calculations easier to read.\n",
    "2. This chapter explores:\n",
    "    + **built-in functions** that come with Python\n",
    "    + how to **define your own functions**"
   ]
  },
  {
   "cell_type": "markdown",
   "metadata": {},
   "source": [
    "## Functions That Python Provides, p. 31\n",
    "1. function call: abs(-9)"
   ]
  },
  {
   "cell_type": "code",
   "execution_count": 7,
   "metadata": {},
   "outputs": [
    {
     "data": {
      "text/plain": [
       "3.3"
      ]
     },
     "execution_count": 7,
     "metadata": {},
     "output_type": "execute_result"
    }
   ],
   "source": [
    "# Function call\n",
    "abs(3.3)"
   ]
  },
  {
   "cell_type": "code",
   "execution_count": 1,
   "metadata": {},
   "outputs": [
    {
     "data": {
      "text/plain": [
       "9"
      ]
     },
     "execution_count": 1,
     "metadata": {},
     "output_type": "execute_result"
    }
   ],
   "source": [
    "# Function call\n",
    "abs(-9)"
   ]
  },
  {
   "cell_type": "code",
   "execution_count": 8,
   "metadata": {},
   "outputs": [
    {
     "data": {
      "text/plain": [
       "7"
      ]
     },
     "execution_count": 8,
     "metadata": {},
     "output_type": "execute_result"
    }
   ],
   "source": [
    "day_temperature  =  3\n",
    "night_temperature  =  10\n",
    "\n",
    "# In the call below on function abs(), \n",
    "# the argument is the value of parameter (day_temperature - night_temperature).\n",
    "\n",
    "abs(day_temperature - night_temperature)"
   ]
  },
  {
   "cell_type": "code",
   "execution_count": 3,
   "metadata": {},
   "outputs": [
    {
     "data": {
      "text/plain": [
       "10.3"
      ]
     },
     "execution_count": 3,
     "metadata": {},
     "output_type": "execute_result"
    }
   ],
   "source": [
    "# Since function calls produce values, they can be used in expressions\n",
    "abs(-7) + abs(3.3)"
   ]
  },
  {
   "cell_type": "code",
   "execution_count": 4,
   "metadata": {},
   "outputs": [
    {
     "data": {
      "text/plain": [
       "16"
      ]
     },
     "execution_count": 4,
     "metadata": {},
     "output_type": "execute_result"
    }
   ],
   "source": [
    "# Function calls can also be arguments to other functions\n",
    "pow(abs(-2), round(4.3))"
   ]
  },
  {
   "cell_type": "code",
   "execution_count": 5,
   "metadata": {},
   "outputs": [],
   "source": [
    "# Some of the most useful built-in functions are ones that convert \n",
    "# from one type to another. Type names int and float can be used as functions:"
   ]
  },
  {
   "cell_type": "code",
   "execution_count": 6,
   "metadata": {},
   "outputs": [
    {
     "data": {
      "text/plain": [
       "34"
      ]
     },
     "execution_count": 6,
     "metadata": {},
     "output_type": "execute_result"
    }
   ],
   "source": [
    "# When a floating-point number is converted to an integer, it is truncated, \n",
    "# not rounded.\n",
    "int(34.6)   # truncated"
   ]
  },
  {
   "cell_type": "code",
   "execution_count": 7,
   "metadata": {},
   "outputs": [
    {
     "data": {
      "text/plain": [
       "-4"
      ]
     },
     "execution_count": 7,
     "metadata": {},
     "output_type": "execute_result"
    }
   ],
   "source": [
    "int(-4.3)"
   ]
  },
  {
   "cell_type": "code",
   "execution_count": 9,
   "metadata": {},
   "outputs": [
    {
     "data": {
      "text/plain": [
       "21.0"
      ]
     },
     "execution_count": 9,
     "metadata": {},
     "output_type": "execute_result"
    }
   ],
   "source": [
    "float(21)"
   ]
  },
  {
   "cell_type": "markdown",
   "metadata": {},
   "source": [
    "###### The forward slash argutment (/) in a function documentation indicates that there are no more arguments."
   ]
  },
  {
   "cell_type": "code",
   "execution_count": 20,
   "metadata": {},
   "outputs": [
    {
     "name": "stdout",
     "output_type": "stream",
     "text": [
      "Help on built-in function abs in module builtins:\n",
      "\n",
      "abs(x, /)\n",
      "    Return the absolute value of the argument.\n",
      "\n"
     ]
    }
   ],
   "source": [
    "# Calling built-in function help.\n",
    "# 1. The built-in function abs is in module builtins.\n",
    "# 2. The / as argument indicates that there are no more arguments.\n",
    "\n",
    "help(abs)"
   ]
  },
  {
   "cell_type": "code",
   "execution_count": 10,
   "metadata": {},
   "outputs": [],
   "source": [
    "# ?abs and abs? get the same result\n",
    "abs?"
   ]
  },
  {
   "cell_type": "code",
   "execution_count": 4,
   "metadata": {},
   "outputs": [],
   "source": [
    "# ?abs and abs? get the same result\n",
    "?abs"
   ]
  },
  {
   "cell_type": "code",
   "execution_count": 10,
   "metadata": {},
   "outputs": [
    {
     "name": "stdout",
     "output_type": "stream",
     "text": [
      "4\n",
      "3\n",
      "4\n",
      "-3\n",
      "-4\n"
     ]
    }
   ],
   "source": [
    "# The built-in function round() rounds a floating-point number \n",
    "# to the nearest integer:\n",
    "print(round(3.8))\n",
    "print(round(3.3))\n",
    "print(round(3.5))\n",
    "print(round(-3.3))\n",
    "print(round(-3.5))"
   ]
  },
  {
   "cell_type": "code",
   "execution_count": 11,
   "metadata": {},
   "outputs": [
    {
     "data": {
      "text/plain": [
       "3.14"
      ]
     },
     "execution_count": 11,
     "metadata": {},
     "output_type": "execute_result"
    }
   ],
   "source": [
    "# The 2nd argument asks for 2-digit precision\n",
    "round(3.141592653, 2)"
   ]
  },
  {
   "cell_type": "code",
   "execution_count": 12,
   "metadata": {},
   "outputs": [
    {
     "name": "stdout",
     "output_type": "stream",
     "text": [
      "Help on built-in function round in module builtins:\n",
      "\n",
      "round(...)\n",
      "    round(number[, ndigits]) -> number\n",
      "    \n",
      "    Round a number to a given precision in decimal digits (default 0 digits).\n",
      "    This returns an int when called with one argument, otherwise the\n",
      "    same type as the number. ndigits may be negative.\n",
      "\n"
     ]
    }
   ],
   "source": [
    "help(round)"
   ]
  },
  {
   "cell_type": "code",
   "execution_count": 28,
   "metadata": {},
   "outputs": [],
   "source": [
    "?pow"
   ]
  },
  {
   "cell_type": "code",
   "execution_count": 25,
   "metadata": {},
   "outputs": [],
   "source": [
    "pow?"
   ]
  },
  {
   "cell_type": "code",
   "execution_count": 28,
   "metadata": {},
   "outputs": [
    {
     "name": "stdout",
     "output_type": "stream",
     "text": [
      "Help on built-in function pow in module builtins:\n",
      "\n",
      "pow(x, y, z=None, /)\n",
      "    Equivalent to x**y (with two arguments) or x**y % z (with three arguments)\n",
      "    \n",
      "    Some types, such as ints, are able to use a more efficient algorithm when\n",
      "    invoked using the three argument form.\n",
      "\n"
     ]
    }
   ],
   "source": [
    "help(pow)"
   ]
  },
  {
   "cell_type": "code",
   "execution_count": 15,
   "metadata": {},
   "outputs": [
    {
     "data": {
      "text/plain": [
       "16"
      ]
     },
     "execution_count": 15,
     "metadata": {},
     "output_type": "execute_result"
    }
   ],
   "source": [
    "# pow(x, y): x**y (with two arguments) \n",
    "pow(2, 4)"
   ]
  },
  {
   "cell_type": "code",
   "execution_count": 16,
   "metadata": {},
   "outputs": [
    {
     "data": {
      "text/plain": [
       "1"
      ]
     },
     "execution_count": 16,
     "metadata": {},
     "output_type": "execute_result"
    }
   ],
   "source": [
    "# pow(x, y, z): x**y % z (with three arguments)\n",
    "pow(2, 4, 3)   # %: Modulo (i.e., remainder)"
   ]
  },
  {
   "cell_type": "code",
   "execution_count": 5,
   "metadata": {},
   "outputs": [],
   "source": [
    "# builtin functions: functions come with Python\n",
    "# dir(__builtins__)"
   ]
  },
  {
   "cell_type": "code",
   "execution_count": null,
   "metadata": {},
   "outputs": [],
   "source": [
    "# import builtins\n",
    "# dir(builtins)"
   ]
  },
  {
   "cell_type": "markdown",
   "metadata": {},
   "source": [
    "## Memory Addresses: How Python Keeps Track of Values, p. 34\n",
    "+ You can discover the actual memory address of an object using **built-in  function id()**\n",
    "+ Function objects also have memory addresses\n",
    "+ For the same object, you will get differnt memory address each time since objects get stored wherever there happens to be free space."
   ]
  },
  {
   "cell_type": "code",
   "execution_count": 6,
   "metadata": {},
   "outputs": [
    {
     "name": "stdout",
     "output_type": "stream",
     "text": [
      "Help on built-in function id in module builtins:\n",
      "\n",
      "id(obj, /)\n",
      "    Return the identity of an object.\n",
      "    \n",
      "    This is guaranteed to be unique among simultaneously existing objects.\n",
      "    (CPython uses the object's memory address.)\n",
      "\n"
     ]
    }
   ],
   "source": [
    "# id(obj, /): Return the identity of an object.\n",
    "help(id)"
   ]
  },
  {
   "cell_type": "code",
   "execution_count": 7,
   "metadata": {},
   "outputs": [
    {
     "data": {
      "text/plain": [
       "2062910831504"
      ]
     },
     "execution_count": 7,
     "metadata": {},
     "output_type": "execute_result"
    }
   ],
   "source": [
    "# id(obj, /): Return the identity of an object.\n",
    "id(-20)"
   ]
  },
  {
   "cell_type": "code",
   "execution_count": 12,
   "metadata": {},
   "outputs": [
    {
     "data": {
      "text/plain": [
       "2340134522512"
      ]
     },
     "execution_count": 12,
     "metadata": {},
     "output_type": "execute_result"
    }
   ],
   "source": [
    "fahrenheit =77.7\n",
    "id(fahrenheit)"
   ]
  },
  {
   "cell_type": "code",
   "execution_count": 13,
   "metadata": {},
   "outputs": [
    {
     "data": {
      "text/plain": [
       "2340090734216"
      ]
     },
     "execution_count": 13,
     "metadata": {},
     "output_type": "execute_result"
    }
   ],
   "source": [
    "id(abs)"
   ]
  },
  {
   "cell_type": "code",
   "execution_count": 14,
   "metadata": {},
   "outputs": [
    {
     "data": {
      "text/plain": [
       "2340090749400"
      ]
     },
     "execution_count": 14,
     "metadata": {},
     "output_type": "execute_result"
    }
   ],
   "source": [
    "id(round)"
   ]
  },
  {
   "cell_type": "markdown",
   "metadata": {},
   "source": [
    "## Defining Our Own Functions"
   ]
  },
  {
   "cell_type": "markdown",
   "metadata": {},
   "source": [
    "###### Python Remembers and Reuses Some Objects\n",
    "+ A cache is a collection of data. Because small integers—up to about 250 or so—are so common, Python creates those objects as it starts up and reuses the same objects whenever it can. This speeds up operations involving these values. The example by function id below reveals this."
   ]
  },
  {
   "cell_type": "markdown",
   "metadata": {},
   "source": [
    "###### Aliasing: What below means is that variables i, j, and k refer to the exact same object. This is called aliasing."
   ]
  },
  {
   "cell_type": "code",
   "execution_count": 25,
   "metadata": {},
   "outputs": [
    {
     "name": "stdout",
     "output_type": "stream",
     "text": [
      "140704231957008\n",
      "140704231957008\n",
      "140704231957008\n"
     ]
    }
   ],
   "source": [
    "i = 5\n",
    "j = 5\n",
    "k = 6 - 1\n",
    "print(id(i))\n",
    "print(id(j))\n",
    "print(id(k))"
   ]
  },
  {
   "cell_type": "markdown",
   "metadata": {},
   "source": [
    "###### Larger integers and all floating-point values aren’t necessarily cached:"
   ]
  },
  {
   "cell_type": "code",
   "execution_count": 23,
   "metadata": {},
   "outputs": [
    {
     "name": "stdout",
     "output_type": "stream",
     "text": [
      "2062911796592\n",
      "2062911796560\n"
     ]
    }
   ],
   "source": [
    "# Larger integers and all floating-point values aren’t necessarily cached:\n",
    "i = 30000000000\n",
    "j = 30000000000\n",
    "print(id(i))\n",
    "print(id(j))"
   ]
  },
  {
   "cell_type": "code",
   "execution_count": 22,
   "metadata": {},
   "outputs": [
    {
     "name": "stdout",
     "output_type": "stream",
     "text": [
      "2062911796368\n",
      "2062911796304\n"
     ]
    }
   ],
   "source": [
    "# Larger integers and all floating-point values aren’t necessarily cached:\n",
    "f = 0.0\n",
    "g = 0.0\n",
    "print(id(f))\n",
    "print(id(g))"
   ]
  },
  {
   "cell_type": "markdown",
   "metadata": {},
   "source": [
    "###### The function body is indented four spaces, p. 37\n",
    "1. function header\n",
    "2. function body\n",
    "3. the execution of the function creates the function object\n",
    "4. **return statement** that, when executed, **ends the function and produces a value**"
   ]
  },
  {
   "cell_type": "raw",
   "metadata": {},
   "source": [
    "Defining Functions\n",
    "\n",
    "The general form of a function definition:\n",
    "    \n",
    "def function_name(parameters):    \n",
    "    body\n",
    "    \n",
    "* def: a keyword indicating a function definition\n",
    "* function_name: the function name\n",
    "* parameters:\n",
    "    1. the parameter(s) of the function, 0 or more and are separated by a comma\n",
    "    2. a parameter is a variable whose value will be supplied when the function is called\n",
    "* body:\n",
    "    1. 1 or more statements\n",
    "    2. often ending with a return statement\n",
    "* return statement:\n",
    "    1. Evaluates the expression and produces a memory address.\n",
    "    2. Passes back that memory address to the caller. \n",
    "    3. Exits the function."
   ]
  },
  {
   "cell_type": "code",
   "execution_count": 27,
   "metadata": {},
   "outputs": [],
   "source": [
    "# Example of a function definition\n",
    "def f(x):                # x: parameter\n",
    "    return x ** 2"
   ]
  },
  {
   "cell_type": "code",
   "execution_count": 28,
   "metadata": {},
   "outputs": [
    {
     "data": {
      "text/plain": [
       "25"
      ]
     },
     "execution_count": 28,
     "metadata": {},
     "output_type": "execute_result"
    }
   ],
   "source": [
    "# function call\n",
    "f(5)                    # 4: argument"
   ]
  },
  {
   "cell_type": "raw",
   "metadata": {},
   "source": [
    "Function Calls\n",
    "Function calls are expressions and the result can be stored in a variable.\n",
    "The general form of a function call:\n",
    "\n",
    "function_name(arguments)\n",
    "\n",
    "The rules for executing a function call:\n",
    "1.\tEvaluate the arguments to produce memory addresses.\n",
    "2.\tStore those memory addresses in the corresponding parameters.\n",
    "3.\tExecute the body of the function."
   ]
  },
  {
   "cell_type": "code",
   "execution_count": 29,
   "metadata": {},
   "outputs": [
    {
     "data": {
      "text/plain": [
       "37.25"
      ]
     },
     "execution_count": 29,
     "metadata": {},
     "output_type": "execute_result"
    }
   ],
   "source": [
    "# Example of a function definition and function calls:\n",
    "\n",
    "# Function definition\n",
    "def area(base, height):\n",
    "    return base * height / 2\n",
    "\n",
    "# Function call\n",
    "area(3, 4)\n",
    "\n",
    "# Function call can be assigned to a variable\n",
    "result = area(10, 7.45)\n",
    "\n",
    "# Display the result\n",
    "result"
   ]
  },
  {
   "cell_type": "code",
   "execution_count": 13,
   "metadata": {},
   "outputs": [],
   "source": [
    "# The function body is indented four spaces:\n",
    "def convert_to_celsius(fahrenheit):             # function header\n",
    "    return (fahrenheit - 32) * 5 / 9            # function body"
   ]
  },
  {
   "cell_type": "code",
   "execution_count": 14,
   "metadata": {},
   "outputs": [
    {
     "data": {
      "text/plain": [
       "17.77777777777778"
      ]
     },
     "execution_count": 14,
     "metadata": {},
     "output_type": "execute_result"
    }
   ],
   "source": [
    "# function call\n",
    "convert_to_celsius(64)"
   ]
  },
  {
   "cell_type": "markdown",
   "metadata": {},
   "source": [
    "Terminology of a function:\n",
    "+ Parameter\n",
    "+ Argument: a value given to a function call\n",
    "+ Pass: to provide to a function\n",
    "+ Call: ask Python to evaluate a function\n",
    "+ Return: pass back a value"
   ]
  },
  {
   "cell_type": "markdown",
   "metadata": {},
   "source": [
    "###### A complete list of Python keywords, p. 38"
   ]
  },
  {
   "cell_type": "raw",
   "metadata": {},
   "source": [
    "False   assert   del     for     in       or     while \n",
    "None    break    elif    from    is       pass   with  \n",
    "True    class    else    global  lambda   raise  yield \n",
    "and\t    continue except  if      nonlocal return     \n",
    "as      def      finally import  not      try          "
   ]
  },
  {
   "cell_type": "markdown",
   "metadata": {},
   "source": [
    "### Using Local Variables for Temporary Storage\n",
    "+ Variables like first, second, and third in the code below that are created within a function are called **local variables**.\n",
    "+ A function’s parameters are also local variables, so we get the same error if we try to use them outside of a function definition.\n",
    "+ Local variables get created each time that function is called, and they are erased when the function returns. \n",
    "+ Because they only exist when the function is being executed, they can’t be used outside of the function."
   ]
  },
  {
   "cell_type": "markdown",
   "metadata": {},
   "source": [
    "###### Variables like first, second, and third in the code below that are created within a function are called local variables. A function’s parameters are also local variables. They are erased when the function returns."
   ]
  },
  {
   "cell_type": "code",
   "execution_count": 31,
   "metadata": {},
   "outputs": [
    {
     "data": {
      "text/plain": [
       "6.0"
      ]
     },
     "execution_count": 31,
     "metadata": {},
     "output_type": "execute_result"
    }
   ],
   "source": [
    "# Parameters and variables inside a function are local varaibles which will be\n",
    "# erased when the function returns. \n",
    "\n",
    "# A return statement is used to end the execution of the function call \n",
    "# and “returns” the result to the caller. \n",
    "# The statements after the return statements are not executed. If the return \n",
    "# statement is without any expression, then the special value None is returned.\n",
    "\n",
    "def quadratic(a, b, c, x): # Parameters like a, b, c, and x are local variables\n",
    "    first = a * x ** 2     # Variables like first, second, and third are also\n",
    "    second = b * x         # local variables. Local varaibles are variables \n",
    "    third = c              # inside the function.\n",
    "    return first + second + third\n",
    "\n",
    "quadratic(2, 3, 4, 0.5)    # quadratic() is a function caller. "
   ]
  },
  {
   "cell_type": "code",
   "execution_count": 18,
   "metadata": {},
   "outputs": [
    {
     "data": {
      "text/plain": [
       "13.0"
      ]
     },
     "execution_count": 18,
     "metadata": {},
     "output_type": "execute_result"
    }
   ],
   "source": [
    "quadratic(2, 3, 4, 1.5)"
   ]
  },
  {
   "cell_type": "markdown",
   "metadata": {},
   "source": [
    "###### A function’s parameters are also local variables, so we get the same error if we try to use them outside of a function definition."
   ]
  },
  {
   "cell_type": "code",
   "execution_count": 32,
   "metadata": {},
   "outputs": [
    {
     "ename": "NameError",
     "evalue": "name 'second' is not defined",
     "output_type": "error",
     "traceback": [
      "\u001b[1;31m---------------------------------------------------------------------------\u001b[0m",
      "\u001b[1;31mNameError\u001b[0m                                 Traceback (most recent call last)",
      "\u001b[1;32m<ipython-input-32-7bee8f3b184e>\u001b[0m in \u001b[0;36m<module>\u001b[1;34m\u001b[0m\n\u001b[1;32m----> 1\u001b[1;33m \u001b[0msecond\u001b[0m\u001b[1;33m\u001b[0m\u001b[1;33m\u001b[0m\u001b[0m\n\u001b[0m",
      "\u001b[1;31mNameError\u001b[0m: name 'second' is not defined"
     ]
    }
   ],
   "source": [
    "# local variable of a function cannot run outside the function\n",
    "second"
   ]
  },
  {
   "cell_type": "markdown",
   "metadata": {},
   "source": [
    "###### Variable’s scope\n",
    "+ The area of a program that a variable can be used in is called the **variable’s scope**. \n",
    "+ The **scope of a local variable** is from the line in which it is defined up until the end of the function."
   ]
  },
  {
   "cell_type": "markdown",
   "metadata": {},
   "source": [
    "### Tracing Function Calls in the Memory Model\n",
    "+ Whenever Python executes a **function call**, it creates a **namespace** (literally, a space for names) in which to **store local variables** for that call.\n",
    "+ You can think of a namespace as a scrap piece of paper; Python writes down the local variables on that piece of paper.\n",
    "+ Python keeps track of the local variables as long as the function is being executed, and **throws that namespace away when the function returns**."
   ]
  },
  {
   "cell_type": "code",
   "execution_count": 30,
   "metadata": {},
   "outputs": [
    {
     "data": {
      "text/plain": [
       "25"
      ]
     },
     "execution_count": 30,
     "metadata": {},
     "output_type": "execute_result"
    }
   ],
   "source": [
    "# Function: f(x) = x ** 2\n",
    "def f(x):           # def: a keyword indicating a function definition; \n",
    "    return x**2     # f: function name\n",
    "                    # x: the parameter of the function; it’s value should be \n",
    "                    #    supplied when the function is called. \n",
    "                    # Parameter: a variable gets their values from expressions \n",
    "                    #            in a function call. \n",
    "                    # The colon indicates to Python that what will happens \n",
    "                    # when the function is called. \n",
    "# Call function:\n",
    "f(5)"
   ]
  },
  {
   "cell_type": "code",
   "execution_count": 34,
   "metadata": {},
   "outputs": [
    {
     "data": {
      "text/plain": [
       "10"
      ]
     },
     "execution_count": 34,
     "metadata": {},
     "output_type": "execute_result"
    }
   ],
   "source": [
    "# The function below uses:\n",
    "# assignment statements, expressions, function definitions, and function calls.\n",
    "\n",
    "def f(x):\n",
    "    x = 2 * x\n",
    "    return x\n",
    "x = 1\n",
    "x = f(x + 1) + f(x + 2) \n",
    "x"
   ]
  },
  {
   "cell_type": "markdown",
   "metadata": {},
   "source": [
    "###### Q. Are all the x's in the above code the same variable?"
   ]
  },
  {
   "cell_type": "markdown",
   "metadata": {},
   "source": [
    "###### Namespace, p. 40\n",
    "Whenever Python executes a function call, it creates a **namespace (literally, a space for names)** in which to store local variables for that call. "
   ]
  },
  {
   "cell_type": "markdown",
   "metadata": {},
   "source": [
    "###### [Python visualizer, pp. 41-46](http://www.pythontutor.com/visualize.html#mode=display)"
   ]
  },
  {
   "cell_type": "markdown",
   "metadata": {},
   "source": [
    "### Designing New Functions: A Recipe, p. 47"
   ]
  },
  {
   "cell_type": "markdown",
   "metadata": {},
   "source": [
    "**docstring**, short for **documentation string**: Python uses **three double quotes** to start and end this documentation. "
   ]
  },
  {
   "cell_type": "code",
   "execution_count": 25,
   "metadata": {},
   "outputs": [],
   "source": [
    "def days_difference(day1: int, day2: int) -> int:       # 3. function header (type annotations are optional)\n",
    "    \"\"\"(int, int) -> int             # 2. Type contract\n",
    "    \n",
    "    Return the number of days between day1 and day2, which are   # 4. Description \n",
    "    both in the range 1-365 (thus indicating the day of the          a. return value\n",
    "    year).                                                           b. parameters\n",
    "    \n",
    "    >>> days_difference(200, 224)     # 1. Examples\n",
    "    24\n",
    "    >>> days_difference(50, 50)\n",
    "    0\n",
    "    >>> days_difference(100, 99)\n",
    "    -1\n",
    "    \"\"\"\n",
    "    return day2 - day1         # 5. function body"
   ]
  },
  {
   "cell_type": "code",
   "execution_count": 26,
   "metadata": {},
   "outputs": [
    {
     "data": {
      "text/plain": [
       "24"
      ]
     },
     "execution_count": 26,
     "metadata": {},
     "output_type": "execute_result"
    }
   ],
   "source": [
    "# 6. function tests\n",
    "days_difference(200, 224)"
   ]
  },
  {
   "cell_type": "code",
   "execution_count": 27,
   "metadata": {},
   "outputs": [
    {
     "data": {
      "text/plain": [
       "0"
      ]
     },
     "execution_count": 27,
     "metadata": {},
     "output_type": "execute_result"
    }
   ],
   "source": [
    "days_difference(50, 50) "
   ]
  },
  {
   "cell_type": "code",
   "execution_count": 28,
   "metadata": {},
   "outputs": [
    {
     "data": {
      "text/plain": [
       "-1"
      ]
     },
     "execution_count": 28,
     "metadata": {},
     "output_type": "execute_result"
    }
   ],
   "source": [
    "days_difference(100, 99)"
   ]
  },
  {
   "cell_type": "markdown",
   "metadata": {},
   "source": [
    "### Five steps to the function design recipe (FDR): p. 48\n",
    "1. Examples\n",
    "2. Type Contract\n",
    "3. Header: The parameter types and return type form a type contract with type annotation. \n",
    "4. Description: It mentions both parameters and describes what the function returns.\n",
    "5. Body\n",
    "6. Test: Run the examples to make sure your function body is correct"
   ]
  },
  {
   "cell_type": "raw",
   "metadata": {},
   "source": [
    "def rectangle(length, width):           # 3. Function Header\n",
    "\t'''(number, number) -> number       # 2. Type Contract\n",
    "\t\n",
    "\tReturn the area of a rectangle with \n",
    "    dimensions length and width.\t\t# 4. Description\n",
    "\t\n",
    "\t>>> rectangle(8, 6)\t\t\t\t\t# 1. Examples\n",
    "\t24.0\n",
    "\t>>> rectangle(8.5, 4)\n",
    "\t17.0\n",
    "\t'''\n",
    "\t\n",
    "\treturn length * width    \t\t\t# 5. Body\n",
    "\t\t\t\t\t\t\t\t\t\t# 6. Test"
   ]
  },
  {
   "cell_type": "markdown",
   "metadata": {},
   "source": [
    "### Designing Three Birthday-Related Functions"
   ]
  },
  {
   "cell_type": "markdown",
   "metadata": {},
   "source": [
    "#### A. How many days difference?, p. 50"
   ]
  },
  {
   "cell_type": "code",
   "execution_count": 2,
   "metadata": {},
   "outputs": [],
   "source": [
    "def days_difference(day1: int, day2: int) -> int:      # function header \n",
    "    # (type annotations are optional)\n",
    "    \"\"\"Return the number of days between day1 and day2, which are   \n",
    "    both in the range 1-365 (thus indicating the day of the\n",
    "    year).\n",
    "    >>> days_difference(200, 224)\n",
    "    24\n",
    "    >>> days_difference(50, 50)\n",
    "    0\n",
    "    >>> days_difference(100, 99)\n",
    "    -1\n",
    "    \"\"\"\n",
    "    return day2 - day1         # function body"
   ]
  },
  {
   "cell_type": "code",
   "execution_count": 3,
   "metadata": {},
   "outputs": [
    {
     "name": "stdout",
     "output_type": "stream",
     "text": [
      "24\n",
      "0\n",
      "-1\n"
     ]
    },
    {
     "data": {
      "text/plain": [
       "2"
      ]
     },
     "execution_count": 3,
     "metadata": {},
     "output_type": "execute_result"
    }
   ],
   "source": [
    "# function call\n",
    "print(days_difference(200, 224))  \n",
    "print(days_difference(50, 50))\n",
    "print(days_difference(100, 99))\n",
    "days_difference(50, 52)   "
   ]
  },
  {
   "cell_type": "markdown",
   "metadata": {},
   "source": [
    "#### B. What day will it be in the future?, pp. 52-56"
   ]
  },
  {
   "cell_type": "markdown",
   "metadata": {},
   "source": [
    "###### B-1. Incorrect program example, pp. 52-55\n",
    "+ we want a number in the range 1 through 7 but we’re getting incorrect answers."
   ]
  },
  {
   "cell_type": "code",
   "execution_count": 4,
   "metadata": {},
   "outputs": [],
   "source": [
    "def get_weekday(current_weekday: int, days_ahead: int) -> int:\n",
    "    \"\"\"Return which day of the week it will be days_ahead days from\n",
    "    current_weekday.\n",
    "\n",
    "    current_weekday is the current day of the week and is in the\n",
    "    range 1-7, indicating whether today is Sunday (1), Monday (2),\n",
    "    ..., Saturday (7).\n",
    "\n",
    "    days_ahead is the number of days after today.\n",
    "\n",
    "    >>> get_weekday(3, 1)\n",
    "    4\n",
    "    >>> get_weekday(6, 1)\n",
    "    7\n",
    "    >>> get_weekday(7, 1)\n",
    "    1\n",
    "    >>> get_weekday(1, 0)\n",
    "    1\n",
    "    >>> get_weekday(4, 7)\n",
    "    4\n",
    "    >>> get_weekday(7, 72)\n",
    "    2\n",
    "    \"\"\"\n",
    "    return current_weekday + days_ahead % 7 # it won't get correct result: 1~7"
   ]
  },
  {
   "cell_type": "code",
   "execution_count": 38,
   "metadata": {},
   "outputs": [
    {
     "name": "stdout",
     "output_type": "stream",
     "text": [
      "4\n",
      "7\n",
      "8\n",
      "1\n",
      "4\n",
      "9\n"
     ]
    }
   ],
   "source": [
    "print(get_weekday(3, 1))\n",
    "print(get_weekday(6, 1))\n",
    "print(get_weekday(7, 1))       # incorrect result\n",
    "print(get_weekday(1, 0))\n",
    "print(get_weekday(4, 7))\n",
    "print(get_weekday(7, 72))      # incorrect result"
   ]
  },
  {
   "cell_type": "markdown",
   "metadata": {},
   "source": [
    "###### B-2. Incorrect program example, pp. 55(bottom)-56\n",
    "+ we want a number in the range 1 through 7 but we’re getting an answer in the range 0 through 6."
   ]
  },
  {
   "cell_type": "code",
   "execution_count": 41,
   "metadata": {},
   "outputs": [],
   "source": [
    "def get_weekday(current_weekday: int, days_ahead: int) -> int:\n",
    "    \"\"\"Return which day of the week it will be days_ahead days from\n",
    "    current_weekday.\n",
    "\n",
    "    current_weekday is the current day of the week and is in the\n",
    "    range 1-7, indicating whether today is Sunday (1), Monday (2),\n",
    "    ..., Saturday (7).\n",
    "\n",
    "    days_ahead is the number of days after today.\n",
    "\n",
    "    >>> get_weekday(3, 1)\n",
    "    4\n",
    "    >>> get_weekday(6, 1)\n",
    "    7\n",
    "    >>> get_weekday(7, 1)\n",
    "    1\n",
    "    >>> get_weekday(1, 0)\n",
    "    1\n",
    "    >>> get_weekday(4, 7)\n",
    "    4\n",
    "    >>> get_weekday(7, 72)\n",
    "    2\n",
    "    \"\"\"\n",
    "    return (current_weekday + days_ahead) % 7 # it won't get correct result: 1~7"
   ]
  },
  {
   "cell_type": "code",
   "execution_count": 42,
   "metadata": {},
   "outputs": [
    {
     "name": "stdout",
     "output_type": "stream",
     "text": [
      "4\n",
      "0\n",
      "1\n",
      "1\n",
      "4\n",
      "2\n"
     ]
    }
   ],
   "source": [
    "print(get_weekday(3, 1))\n",
    "print(get_weekday(6, 1))      # incorrect result\n",
    "print(get_weekday(7, 1))       \n",
    "print(get_weekday(1, 0))\n",
    "print(get_weekday(4, 7))\n",
    "print(get_weekday(7, 72))"
   ]
  },
  {
   "cell_type": "markdown",
   "metadata": {},
   "source": [
    "###### B-3. Correct program example\n",
    "+  By changing code to **return (current_weekday + days_ahead - 1) % 7 + 1**, we get a number in the range 1 through 7."
   ]
  },
  {
   "cell_type": "code",
   "execution_count": 12,
   "metadata": {},
   "outputs": [],
   "source": [
    "def get_weekday(current_weekday: int, days_ahead: int) -> int:\n",
    "    \"\"\"Return which day of the week it will be days_ahead days from\n",
    "    current_weekday.\n",
    "\n",
    "    current_weekday is the current day of the week and is in the\n",
    "    range 1-7, indicating whether today is Sunday (1), Monday (2),\n",
    "    ..., Saturday (7).\n",
    "\n",
    "    days_ahead is the number of days after today.\n",
    "\n",
    "    >>> get_weekday(3, 1)\n",
    "    4\n",
    "    >>> get_weekday(6, 1)\n",
    "    7\n",
    "    >>> get_weekday(7, 1)\n",
    "    1\n",
    "    >>> get_weekday(1, 0)\n",
    "    1\n",
    "    >>> get_weekday(4, 7)\n",
    "    4\n",
    "    >>> get_weekday(7, 72)\n",
    "    2\n",
    "    \"\"\"\n",
    "    return (current_weekday + days_ahead -1) % 7 + 1  # Get correct result: 1~7"
   ]
  },
  {
   "cell_type": "code",
   "execution_count": 13,
   "metadata": {},
   "outputs": [
    {
     "name": "stdout",
     "output_type": "stream",
     "text": [
      "4\n",
      "7\n",
      "1\n",
      "1\n",
      "4\n",
      "2\n"
     ]
    }
   ],
   "source": [
    "# We get all the correct results\n",
    "print(get_weekday(3, 1))\n",
    "print(get_weekday(6, 1))    # now, it gets a correct result\n",
    "print(get_weekday(7, 1))\n",
    "print(get_weekday(1, 0))\n",
    "print(get_weekday(4, 7))\n",
    "print(get_weekday(7, 72))"
   ]
  },
  {
   "cell_type": "code",
   "execution_count": 6,
   "metadata": {},
   "outputs": [],
   "source": [
    "# help(get_weekday)"
   ]
  },
  {
   "cell_type": "markdown",
   "metadata": {},
   "source": [
    "#### C. What day is my birthday on?, pp. 56-58"
   ]
  },
  {
   "cell_type": "raw",
   "metadata": {},
   "source": [
    "Script concept: \n",
    "\n",
    "get_birthday_weekday(current_weekday, current_day, birthday_day)\n",
    "\n",
    "current_day (known)      -   birthday_day (known)    =   days_differences()\n",
    "current_weekday (known)      get_birthday_weekday()?      "
   ]
  },
  {
   "cell_type": "code",
   "execution_count": 14,
   "metadata": {},
   "outputs": [],
   "source": [
    "def days_difference(day1: int, day2: int) -> int:    # function header \n",
    "    # (type annotations are optional)\n",
    "    \"\"\"Return the number of days between day1 and day2, which are\n",
    "    both in the range 1-365 (thus indicating the day of the\n",
    "    year).\n",
    "    >>> days_difference(200, 224)\n",
    "    24\n",
    "    >>> days_difference(50, 50)\n",
    "    0\n",
    "    >>> days_difference(100, 99)\n",
    "    -1\n",
    "    \"\"\"\n",
    "    return day2 - day1         # function body\n",
    "\n",
    "def get_birthday_weekday(current_weekday: int, current_day: int, \\\n",
    "                         birthday_day: int) -> int:\n",
    "    \"\"\"Return the day of the week it will be on birthday_day,\n",
    "    given that the day of the week is current_weekday and the\n",
    "    day of the year is current_day.\n",
    "    current_weekday is the current day of the week and is in\n",
    "    the range 1-7, indicating whether today is Sunday (1),\n",
    "    Monday (2), ..., Saturday (7).\n",
    "    current_day and birthday_day are both in the range 1-365.\n",
    "    >>> get_birthday_weekday(5, 3, 4)\n",
    "    6\n",
    "    >>> get_birthday_weekday(5, 3, 116)\n",
    "    6\n",
    "    >>> get_birthday_weekday(6, 116, 3)\n",
    "    5\n",
    "    \"\"\"\n",
    "    days_diff = days_difference(current_day, birthday_day)\n",
    "    return get_weekday(current_weekday,  days_diff)"
   ]
  },
  {
   "cell_type": "code",
   "execution_count": 11,
   "metadata": {},
   "outputs": [
    {
     "name": "stdout",
     "output_type": "stream",
     "text": [
      "6\n",
      "6\n",
      "5\n"
     ]
    }
   ],
   "source": [
    "# get_birthday_weekday(current_weekday, current_day, birthday_day)\n",
    "print(get_birthday_weekday(5, 3, 4))\n",
    "print(get_birthday_weekday(5, 3, 116))\n",
    "print(get_birthday_weekday(6, 116, 3))"
   ]
  },
  {
   "cell_type": "markdown",
   "metadata": {},
   "source": [
    "### Writing and Running a Program, p. 58"
   ]
  },
  {
   "cell_type": "code",
   "execution_count": 15,
   "metadata": {},
   "outputs": [],
   "source": [
    "# temperature_conversion.py \n",
    "\n",
    "def convert_to_celsius(fahrenheit):             # function header\n",
    "    return (fahrenheit - 32) * 5 / 9            # function body"
   ]
  },
  {
   "cell_type": "code",
   "execution_count": 16,
   "metadata": {},
   "outputs": [
    {
     "name": "stdout",
     "output_type": "stream",
     "text": [
      "26.666666666666668\n",
      "26.0\n",
      "-12.0\n"
     ]
    }
   ],
   "source": [
    "print(convert_to_celsius(80))\n",
    "print(convert_to_celsius(78.8))\n",
    "print(convert_to_celsius(10.4))"
   ]
  },
  {
   "cell_type": "code",
   "execution_count": 19,
   "metadata": {},
   "outputs": [
    {
     "data": {
      "text/plain": [
       "'D:\\\\Python\\\\Class\\\\Data'"
      ]
     },
     "execution_count": 19,
     "metadata": {},
     "output_type": "execute_result"
    }
   ],
   "source": [
    "import os\n",
    "os.chdir(r\"D:\\Python\\Class\\Data\")\n",
    "os.getcwd()"
   ]
  },
  {
   "cell_type": "code",
   "execution_count": 20,
   "metadata": {},
   "outputs": [
    {
     "name": "stdout",
     "output_type": "stream",
     "text": [
      "43.333333333333336\n"
     ]
    }
   ],
   "source": [
    "# run module from Jupyter Notebook\n",
    "%run temperature_conversion"
   ]
  },
  {
   "cell_type": "code",
   "execution_count": null,
   "metadata": {},
   "outputs": [],
   "source": [
    "# load module from Jupyter Notebook\n",
    "%load temperature_conversion.py"
   ]
  },
  {
   "cell_type": "code",
   "execution_count": 21,
   "metadata": {},
   "outputs": [
    {
     "data": {
      "text/plain": [
       "'D:\\\\Python\\\\Class\\\\Data'"
      ]
     },
     "execution_count": 21,
     "metadata": {},
     "output_type": "execute_result"
    }
   ],
   "source": [
    "pwd"
   ]
  },
  {
   "cell_type": "code",
   "execution_count": 22,
   "metadata": {},
   "outputs": [
    {
     "name": "stdout",
     "output_type": "stream",
     "text": [
      "43.333333333333336\n"
     ]
    },
    {
     "data": {
      "text/plain": [
       "26.0"
      ]
     },
     "execution_count": 22,
     "metadata": {},
     "output_type": "execute_result"
    }
   ],
   "source": [
    "import temperature_conversion\n",
    "convert_to_celsius(78.8)"
   ]
  },
  {
   "cell_type": "code",
   "execution_count": 25,
   "metadata": {},
   "outputs": [
    {
     "name": "stdout",
     "output_type": "stream",
     "text": [
      "Help on function convert_to_celsius in module __main__:\n",
      "\n",
      "convert_to_celsius(fahrenheit: float) -> 0.0\n",
      "    Return the number of Celsius degrees equivalent to fahrenheit \n",
      "    degrees.\n",
      "    \n",
      "    >>> convert_to_celsius(75)\n",
      "    23.8888888888889\n",
      "\n"
     ]
    }
   ],
   "source": [
    "help(convert_to_celsius)"
   ]
  },
  {
   "cell_type": "code",
   "execution_count": 26,
   "metadata": {},
   "outputs": [
    {
     "data": {
      "text/plain": [
       "['__builtins__',\n",
       " '__cached__',\n",
       " '__doc__',\n",
       " '__file__',\n",
       " '__loader__',\n",
       " '__name__',\n",
       " '__package__',\n",
       " '__spec__',\n",
       " 'convert_to_celsius']"
      ]
     },
     "execution_count": 26,
     "metadata": {},
     "output_type": "execute_result"
    }
   ],
   "source": [
    "dir(temperature_conversion)"
   ]
  },
  {
   "cell_type": "code",
   "execution_count": 27,
   "metadata": {},
   "outputs": [],
   "source": [
    "?convert_to_celsius"
   ]
  },
  {
   "cell_type": "code",
   "execution_count": null,
   "metadata": {},
   "outputs": [],
   "source": [
    "%load temperature_conversion"
   ]
  },
  {
   "cell_type": "markdown",
   "metadata": {},
   "source": [
    "### Omitting a return Statement: None, p. 60"
   ]
  },
  {
   "cell_type": "markdown",
   "metadata": {},
   "source": [
    "###### Without return statement, nothing is produced"
   ]
  },
  {
   "cell_type": "code",
   "execution_count": 29,
   "metadata": {},
   "outputs": [],
   "source": [
    "def f(x):\n",
    "    x = x * 2\n",
    "    # return x\n",
    "\n",
    "res = f(3)\n",
    "res"
   ]
  },
  {
   "cell_type": "code",
   "execution_count": 30,
   "metadata": {},
   "outputs": [
    {
     "name": "stdout",
     "output_type": "stream",
     "text": [
      "None\n"
     ]
    }
   ],
   "source": [
    "print(res)"
   ]
  },
  {
   "cell_type": "code",
   "execution_count": 31,
   "metadata": {},
   "outputs": [
    {
     "data": {
      "text/plain": [
       "140704224009440"
      ]
     },
     "execution_count": 31,
     "metadata": {},
     "output_type": "execute_result"
    }
   ],
   "source": [
    "# object id\n",
    "id(res)"
   ]
  },
  {
   "cell_type": "markdown",
   "metadata": {},
   "source": [
    "###### With return statement, the value is produced"
   ]
  },
  {
   "cell_type": "code",
   "execution_count": 32,
   "metadata": {},
   "outputs": [
    {
     "data": {
      "text/plain": [
       "6"
      ]
     },
     "execution_count": 32,
     "metadata": {},
     "output_type": "execute_result"
    }
   ],
   "source": [
    "# With return statement, the value is produced:\n",
    "def f(x):\n",
    "    x = 2 * x\n",
    "    return x\n",
    "\n",
    "res = f(3)\n",
    "res"
   ]
  },
  {
   "cell_type": "markdown",
   "metadata": {},
   "source": [
    "### Dealing with Situations That Your Code Doesn’t Handle, p. 61"
   ]
  },
  {
   "cell_type": "markdown",
   "metadata": {},
   "source": [
    "###### 1. Without specifying (n > 0) precondition warning"
   ]
  },
  {
   "cell_type": "code",
   "execution_count": 33,
   "metadata": {},
   "outputs": [],
   "source": [
    "def pie_percent(n: int) -> int:\n",
    "    \"\"\"Assuming there are n people who want to eat a pie, return the \n",
    "    percentage of the pie that each person gets to eat.\n",
    "\n",
    "    >>> pie_percent(5) \n",
    "    20\n",
    "    >>> pie_percent(2) \n",
    "    50\n",
    "    >>> pie_percent(1) \n",
    "    100\n",
    "    \"\"\"\n",
    "    return int(100 / n)"
   ]
  },
  {
   "cell_type": "code",
   "execution_count": 34,
   "metadata": {},
   "outputs": [
    {
     "data": {
      "text/plain": [
       "20"
      ]
     },
     "execution_count": 34,
     "metadata": {},
     "output_type": "execute_result"
    }
   ],
   "source": [
    "pie_percent(5)"
   ]
  },
  {
   "cell_type": "code",
   "execution_count": 35,
   "metadata": {},
   "outputs": [
    {
     "ename": "ZeroDivisionError",
     "evalue": "division by zero",
     "output_type": "error",
     "traceback": [
      "\u001b[1;31m---------------------------------------------------------------------------\u001b[0m",
      "\u001b[1;31mZeroDivisionError\u001b[0m                         Traceback (most recent call last)",
      "\u001b[1;32m<ipython-input-35-5fe14b9f740a>\u001b[0m in \u001b[0;36m<module>\u001b[1;34m\u001b[0m\n\u001b[1;32m----> 1\u001b[1;33m \u001b[0mpie_percent\u001b[0m\u001b[1;33m(\u001b[0m\u001b[1;36m0\u001b[0m\u001b[1;33m)\u001b[0m\u001b[1;33m\u001b[0m\u001b[1;33m\u001b[0m\u001b[0m\n\u001b[0m",
      "\u001b[1;32m<ipython-input-33-18b59431f3b4>\u001b[0m in \u001b[0;36mpie_percent\u001b[1;34m(n)\u001b[0m\n\u001b[0;32m     10\u001b[0m     \u001b[1;36m100\u001b[0m\u001b[1;33m\u001b[0m\u001b[1;33m\u001b[0m\u001b[0m\n\u001b[0;32m     11\u001b[0m     \"\"\"\n\u001b[1;32m---> 12\u001b[1;33m     \u001b[1;32mreturn\u001b[0m \u001b[0mint\u001b[0m\u001b[1;33m(\u001b[0m\u001b[1;36m100\u001b[0m \u001b[1;33m/\u001b[0m \u001b[0mn\u001b[0m\u001b[1;33m)\u001b[0m\u001b[1;33m\u001b[0m\u001b[1;33m\u001b[0m\u001b[0m\n\u001b[0m",
      "\u001b[1;31mZeroDivisionError\u001b[0m: division by zero"
     ]
    }
   ],
   "source": [
    "# Semantics error\n",
    "pie_percent(0)"
   ]
  },
  {
   "cell_type": "markdown",
   "metadata": {},
   "source": [
    "###### 2. With specifying (n > 0) precondition warning\n",
    "+ Set a **precondition** that lets other programmers know your assumptions: **n > 0**"
   ]
  },
  {
   "cell_type": "code",
   "execution_count": null,
   "metadata": {},
   "outputs": [],
   "source": [
    "def pie_percent(n: int) -> int:\n",
    "    \"\"\"Precondition:  n  >  0\n",
    "\n",
    "    Assuming there are n people who want to eat a pie, \n",
    "    return the percentage of the pie that each person gets to eat.\n",
    "    \n",
    "    >>>    pie_percent(5) \n",
    "    20\n",
    "    >>>    pie_percent(2) \n",
    "    50\n",
    "    >>>    pie_percent(1) \n",
    "    100\n",
    "    \"\"\"\n",
    "    return int(100 / n)"
   ]
  },
  {
   "cell_type": "code",
   "execution_count": 36,
   "metadata": {},
   "outputs": [
    {
     "data": {
      "text/plain": [
       "20"
      ]
     },
     "execution_count": 36,
     "metadata": {},
     "output_type": "execute_result"
    }
   ],
   "source": [
    "pie_percent(5)"
   ]
  },
  {
   "cell_type": "markdown",
   "metadata": {},
   "source": [
    "### What Did You Call That?, p. 62\n",
    "1. A function definition introduces a new variable which is a function object.\n",
    "2. A parameter is a local variable. \n",
    "3. A local variable is a variable that is used in a function definition.\n",
    "4. A precondition makes assumptions that the values of parameters or warns that the function won’t work with particular values.\n",
    "5. A function call tells Python to execute a function."
   ]
  },
  {
   "cell_type": "markdown",
   "metadata": {},
   "source": [
    "###### Parameters vs. arguments"
   ]
  },
  {
   "cell_type": "code",
   "execution_count": 53,
   "metadata": {},
   "outputs": [
    {
     "data": {
      "text/plain": [
       "6.0"
      ]
     },
     "execution_count": 53,
     "metadata": {},
     "output_type": "execute_result"
    }
   ],
   "source": [
    "# parameters vs. arguments\n",
    "# The number of arguments of a function call must equal the number of parameters in the function. \n",
    "\n",
    "def quadratic(a, b, c, x):          # parameters\n",
    "    first = a * x ** 2\n",
    "    second = b * x\n",
    "    third = c\n",
    "    return first + second + third\n",
    "\n",
    "quadratic(2, 3, 4, 0.5)             # arguments"
   ]
  },
  {
   "cell_type": "markdown",
   "metadata": {},
   "source": [
    "## The End of Chapter 3!\n"
   ]
  },
  {
   "cell_type": "markdown",
   "metadata": {},
   "source": [
    "## Supplements"
   ]
  },
  {
   "cell_type": "code",
   "execution_count": 37,
   "metadata": {},
   "outputs": [
    {
     "data": {
      "text/plain": [
       "'D:\\\\Python\\\\Tutorial\\\\1'"
      ]
     },
     "execution_count": 37,
     "metadata": {},
     "output_type": "execute_result"
    }
   ],
   "source": [
    "import os\n",
    "os.chdir(r\"D:\\Python\\Tutorial\\1\")\n",
    "os.getcwd()"
   ]
  },
  {
   "cell_type": "markdown",
   "metadata": {},
   "source": [
    "###### Running module, *.py, in Jupyter Notebook"
   ]
  },
  {
   "cell_type": "code",
   "execution_count": 38,
   "metadata": {},
   "outputs": [
    {
     "data": {
      "text/plain": [
       "'D:\\\\Python\\\\Books\\\\Python\\\\Gries 2017\\\\data'"
      ]
     },
     "execution_count": 38,
     "metadata": {},
     "output_type": "execute_result"
    }
   ],
   "source": [
    "import os\n",
    "os.chdir(r\"D:\\Python\\Books\\Python\\Gries 2017\\data\")\n",
    "# os.chdir(\"D:/Python/Tutorial/1\")\n",
    "os.getcwd()"
   ]
  },
  {
   "cell_type": "code",
   "execution_count": 41,
   "metadata": {
    "scrolled": true
   },
   "outputs": [
    {
     "name": "stdout",
     "output_type": "stream",
     "text": [
      "Hello World!Hello World!Hello World!\n"
     ]
    }
   ],
   "source": [
    "%run hello_world.py"
   ]
  },
  {
   "cell_type": "code",
   "execution_count": 42,
   "metadata": {},
   "outputs": [
    {
     "name": "stdout",
     "output_type": "stream",
     "text": [
      "Hello World!Hello World!Hello World!\n"
     ]
    }
   ],
   "source": [
    "%run hello_world"
   ]
  },
  {
   "cell_type": "markdown",
   "metadata": {},
   "source": [
    "###### Playing youtue video in Jupyter Notebook"
   ]
  },
  {
   "cell_type": "code",
   "execution_count": 39,
   "metadata": {},
   "outputs": [
    {
     "data": {
      "image/jpeg": "[encoded data removed]",
      "text/html": [
       "\n",
       "        <iframe\n",
       "            width=\"400\"\n",
       "            height=\"300\"\n",
       "            src=\"https://www.youtube.com/embed/A_r704F7C8Q\"\n",
       "            frameborder=\"0\"\n",
       "            allowfullscreen\n",
       "        ></iframe>\n",
       "        "
      ],
      "text/plain": [
       "<IPython.lib.display.YouTubeVideo at 0x2600511ccc8>"
      ]
     },
     "execution_count": 39,
     "metadata": {},
     "output_type": "execute_result"
    }
   ],
   "source": [
    "# YouTubeVideo('id')  where id refers to A_r704F7C8Q in the URL below:\n",
    "# https://www.youtube.com/watch?v=A_r704F7C8Q\n",
    "\n",
    "from IPython.display import YouTubeVideo\n",
    "YouTubeVideo('A_r704F7C8Q')   # YouTubeVideo('id')"
   ]
  },
  {
   "cell_type": "code",
   "execution_count": 1,
   "metadata": {},
   "outputs": [
    {
     "data": {
      "image/jpeg": "[encoded data removed]",
      "text/html": [
       "\n",
       "        <iframe\n",
       "            width=\"400\"\n",
       "            height=\"300\"\n",
       "            src=\"https://www.youtube.com/embed/rfscVS0vtbw\"\n",
       "            frameborder=\"0\"\n",
       "            allowfullscreen\n",
       "        ></iframe>\n",
       "        "
      ],
      "text/plain": [
       "<IPython.lib.display.YouTubeVideo at 0x220dae03a48>"
      ]
     },
     "execution_count": 1,
     "metadata": {},
     "output_type": "execute_result"
    }
   ],
   "source": [
    "# https://www.youtube.com/watch?v=rfscVS0vtbw&t=7622s\n",
    "from IPython.display import YouTubeVideo\n",
    "YouTubeVideo('rfscVS0vtbw')"
   ]
  },
  {
   "cell_type": "code",
   "execution_count": null,
   "metadata": {},
   "outputs": [],
   "source": []
  }
 ],
 "metadata": {
  "kernelspec": {
   "display_name": "Python 3",
   "language": "python",
   "name": "python3"
  },
  "language_info": {
   "codemirror_mode": {
    "name": "ipython",
    "version": 3
   },
   "file_extension": ".py",
   "mimetype": "text/x-python",
   "name": "python",
   "nbconvert_exporter": "python",
   "pygments_lexer": "ipython3",
   "version": "3.7.7"
  }
 },
 "nbformat": 4,
 "nbformat_minor": 2
}
