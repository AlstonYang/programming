{
 "cells": [
  {
   "cell_type": "markdown",
   "metadata": {},
   "source": [
    "# Numpy 索引"
   ]
  },
  {
   "cell_type": "code",
   "execution_count": 1,
   "metadata": {},
   "outputs": [],
   "source": [
    "import numpy as np"
   ]
  },
  {
   "cell_type": "code",
   "execution_count": 4,
   "metadata": {},
   "outputs": [
    {
     "name": "stdout",
     "output_type": "stream",
     "text": [
      "a: [ 3  4  5  6  7  8  9 10 11 12 13 14]\n",
      "第三個值為： 5\n"
     ]
    }
   ],
   "source": [
    "a = np.arange(3,15)\n",
    "print('a:',a)\n",
    "print(\"第三個值為：\",a[2])"
   ]
  },
  {
   "cell_type": "code",
   "execution_count": 11,
   "metadata": {},
   "outputs": [
    {
     "name": "stdout",
     "output_type": "stream",
     "text": [
      "a:\n",
      " [[ 3  4  5  6]\n",
      " [ 7  8  9 10]\n",
      " [11 12 13 14]]\n",
      "--------------- 使用index找出值 ---------------\n",
      "第二列第一行的值為： 7\n",
      "--------------- 相同作法 ---------------\n",
      "第二列第一行的值為： 7\n",
      "第二列的值為： [ 7  8  9 10]\n",
      "第二列的第二,三行值為： [8 9]\n"
     ]
    }
   ],
   "source": [
    "a = np.arange(3,15).reshape((3,4))\n",
    "print('a:\\n',a)\n",
    "\n",
    "print('-'*15,'使用index找出值','-'*15)\n",
    "\n",
    "print(\"第二列第一行的值為：\",a[1][0])\n",
    "\n",
    "print('-'*15,'相同作法','-'*15)\n",
    "\n",
    "print(\"第二列第一行的值為：\",a[1,0])\n",
    "print(\"第二列的值為：\",a[1,:])\n",
    "print(\"第二列的第二,三行值為：\",a[1,1:3])"
   ]
  },
  {
   "cell_type": "code",
   "execution_count": 18,
   "metadata": {},
   "outputs": [
    {
     "name": "stdout",
     "output_type": "stream",
     "text": [
      "逐步將矩陣一列一列印出(預設)：\n",
      "[3 4 5 6]\n",
      "[ 7  8  9 10]\n",
      "[11 12 13 14]\n"
     ]
    }
   ],
   "source": [
    "print(\"逐步將矩陣一列一列印出(預設)：\")\n",
    "for row in a:\n",
    "    print(row)"
   ]
  },
  {
   "cell_type": "code",
   "execution_count": 19,
   "metadata": {},
   "outputs": [
    {
     "name": "stdout",
     "output_type": "stream",
     "text": [
      "逐步將矩陣一行一行印出：\n",
      "[ 3  7 11]\n",
      "[ 4  8 12]\n",
      "[ 5  9 13]\n",
      "[ 6 10 14]\n"
     ]
    }
   ],
   "source": [
    "print(\"逐步將矩陣一行一行印出：\")\n",
    "for col in a.T:\n",
    "    print(col)"
   ]
  },
  {
   "cell_type": "markdown",
   "metadata": {},
   "source": [
    "### flatten(): 回傳一維陣列\n",
    "### flat: 迭代器"
   ]
  },
  {
   "cell_type": "code",
   "execution_count": 21,
   "metadata": {},
   "outputs": [
    {
     "name": "stdout",
     "output_type": "stream",
     "text": [
      "逐步將矩陣一個項目一個項目印出：\n",
      "3\n",
      "4\n",
      "5\n",
      "6\n",
      "7\n",
      "8\n",
      "9\n",
      "10\n",
      "11\n",
      "12\n",
      "13\n",
      "14\n"
     ]
    }
   ],
   "source": [
    "print(\"逐步將矩陣一個項目一個項目印出：\")\n",
    "for item in a.flat:\n",
    "    print(item)"
   ]
  },
  {
   "cell_type": "code",
   "execution_count": null,
   "metadata": {},
   "outputs": [],
   "source": []
  }
 ],
 "metadata": {
  "kernelspec": {
   "display_name": "Python 3",
   "language": "python",
   "name": "python3"
  },
  "language_info": {
   "codemirror_mode": {
    "name": "ipython",
    "version": 3
   },
   "file_extension": ".py",
   "mimetype": "text/x-python",
   "name": "python",
   "nbconvert_exporter": "python",
   "pygments_lexer": "ipython3",
   "version": "3.7.4"
  }
 },
 "nbformat": 4,
 "nbformat_minor": 2
}
