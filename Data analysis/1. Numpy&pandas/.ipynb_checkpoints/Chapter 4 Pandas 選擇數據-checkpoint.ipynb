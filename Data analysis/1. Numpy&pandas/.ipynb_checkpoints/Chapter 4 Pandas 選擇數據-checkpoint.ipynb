{
 "cells": [
  {
   "cell_type": "code",
   "execution_count": 1,
   "metadata": {},
   "outputs": [],
   "source": [
    "import pandas as pd\n",
    "import numpy as np"
   ]
  },
  {
   "cell_type": "code",
   "execution_count": 5,
   "metadata": {},
   "outputs": [
    {
     "name": "stdout",
     "output_type": "stream",
     "text": [
      "             A   B   C   D\n",
      "2020-09-03   0   1   2   3\n",
      "2020-09-04   4   5   6   7\n",
      "2020-09-05   8   9  10  11\n",
      "2020-09-06  12  13  14  15\n",
      "2020-09-07  16  17  18  19\n",
      "2020-09-08  20  21  22  23\n"
     ]
    }
   ],
   "source": [
    "dates = pd.date_range('20200903', periods=6)\n",
    "df = pd.DataFrame(np.arange(24).reshape(6,4), index=dates, columns=['A','B','C','D'])\n",
    "\n",
    "print(df)"
   ]
  },
  {
   "cell_type": "markdown",
   "metadata": {},
   "source": [
    "### 選擇跨行"
   ]
  },
  {
   "cell_type": "code",
   "execution_count": 13,
   "metadata": {},
   "outputs": [
    {
     "name": "stdout",
     "output_type": "stream",
     "text": [
      "2020-09-03     0\n",
      "2020-09-04     4\n",
      "2020-09-05     8\n",
      "2020-09-06    12\n",
      "2020-09-07    16\n",
      "2020-09-08    20\n",
      "Freq: D, Name: A, dtype: int64\n",
      "---------- other method ----------\n",
      "2020-09-03     0\n",
      "2020-09-04     4\n",
      "2020-09-05     8\n",
      "2020-09-06    12\n",
      "2020-09-07    16\n",
      "2020-09-08    20\n",
      "Freq: D, Name: A, dtype: int64\n"
     ]
    }
   ],
   "source": [
    "print(df['A'])\n",
    "print('-'*10,'other method','-'*10)\n",
    "print(df.A)"
   ]
  },
  {
   "cell_type": "markdown",
   "metadata": {},
   "source": [
    "### 選擇跨列"
   ]
  },
  {
   "cell_type": "code",
   "execution_count": 22,
   "metadata": {},
   "outputs": [
    {
     "name": "stdout",
     "output_type": "stream",
     "text": [
      "            A  B  C  D\n",
      "2020-09-04  4  5  6  7\n",
      "            A  B  C  D\n",
      "2020-09-03  0  1  2  3\n",
      "2020-09-04  4  5  6  7\n"
     ]
    }
   ],
   "source": [
    "print(df[1:2])\n",
    "\n",
    "print(df['2020-09-03':'2020-09-04'])"
   ]
  },
  {
   "cell_type": "markdown",
   "metadata": {},
   "source": [
    "### 根据标签 loc"
   ]
  },
  {
   "cell_type": "code",
   "execution_count": 33,
   "metadata": {},
   "outputs": [
    {
     "name": "stdout",
     "output_type": "stream",
     "text": [
      "A    0\n",
      "B    1\n",
      "C    2\n",
      "D    3\n",
      "Name: 2020-09-03 00:00:00, dtype: int64\n",
      "             A   B   C   D\n",
      "2020-09-03   0   1   2   3\n",
      "2020-09-04   4   5   6   7\n",
      "2020-09-05   8   9  10  11\n",
      "2020-09-06  12  13  14  15\n",
      "             B   C\n",
      "2020-09-03   1   2\n",
      "2020-09-04   5   6\n",
      "2020-09-05   9  10\n",
      "2020-09-06  13  14\n",
      "2020-09-07  17  18\n",
      "2020-09-08  21  22\n",
      "             B   C   D\n",
      "2020-09-03   1   2   3\n",
      "2020-09-04   5   6   7\n",
      "2020-09-05   9  10  11\n",
      "2020-09-06  13  14  15\n",
      "2020-09-07  17  18  19\n",
      "2020-09-08  21  22  23\n"
     ]
    }
   ],
   "source": [
    "print(df.loc['2020-09-03'])\n",
    "print(df.loc[:'2020-09-06'])\n",
    "print(df.loc[:,['B','C']])\n",
    "print(df.loc[:,'B':])"
   ]
  },
  {
   "cell_type": "markdown",
   "metadata": {},
   "source": [
    "### 根据序列 iloc"
   ]
  },
  {
   "cell_type": "code",
   "execution_count": 39,
   "metadata": {},
   "outputs": [
    {
     "name": "stdout",
     "output_type": "stream",
     "text": [
      "             A   B   C   D\n",
      "2020-09-03   0   1   2   3\n",
      "2020-09-04   4   5   6   7\n",
      "2020-09-05   8   9  10  11\n",
      "2020-09-06  12  13  14  15\n",
      "2020-09-07  16  17  18  19\n",
      "2020-09-08  20  21  22  23\n",
      "--------------- Next ---------------\n",
      "13\n",
      "--------------- Next ---------------\n",
      "             B   C\n",
      "2020-09-06  13  14\n",
      "2020-09-07  17  18\n",
      "--------------- Next ---------------\n",
      "             B   C\n",
      "2020-09-06  13  14\n",
      "2020-09-07  17  18\n"
     ]
    }
   ],
   "source": [
    "print(df)\n",
    "print('-'*15,'Next','-'*15)\n",
    "print(df.iloc[3, 1])\n",
    "print('-'*15,'Next','-'*15)\n",
    "print(df.iloc[3:5, 1:3])\n",
    "print('-'*15,'Next','-'*15)\n",
    "print(df.iloc[[3,4], [1,2]])"
   ]
  },
  {
   "cell_type": "markdown",
   "metadata": {},
   "source": [
    "### 根据混合的这两种 ix"
   ]
  },
  {
   "cell_type": "code",
   "execution_count": 41,
   "metadata": {},
   "outputs": [
    {
     "name": "stdout",
     "output_type": "stream",
     "text": [
      "            A   C\n",
      "2020-09-03  0   2\n",
      "2020-09-04  4   6\n",
      "2020-09-05  8  10\n"
     ]
    },
    {
     "name": "stderr",
     "output_type": "stream",
     "text": [
      "/opt/anaconda3/lib/python3.7/site-packages/ipykernel_launcher.py:1: FutureWarning: \n",
      ".ix is deprecated. Please use\n",
      ".loc for label based indexing or\n",
      ".iloc for positional indexing\n",
      "\n",
      "See the documentation here:\n",
      "http://pandas.pydata.org/pandas-docs/stable/user_guide/indexing.html#ix-indexer-is-deprecated\n",
      "  \"\"\"Entry point for launching an IPython kernel.\n"
     ]
    }
   ],
   "source": [
    "print(df.ix[:3,['A','C']])"
   ]
  },
  {
   "cell_type": "markdown",
   "metadata": {},
   "source": [
    "### 通过判断的筛选 "
   ]
  },
  {
   "cell_type": "code",
   "execution_count": 44,
   "metadata": {},
   "outputs": [
    {
     "name": "stdout",
     "output_type": "stream",
     "text": [
      "             A   B   C   D\n",
      "2020-09-05   8   9  10  11\n",
      "2020-09-06  12  13  14  15\n",
      "2020-09-07  16  17  18  19\n",
      "2020-09-08  20  21  22  23\n"
     ]
    }
   ],
   "source": [
    "# 只顯示A大於5的列\n",
    "print(df[df.A>5])"
   ]
  },
  {
   "cell_type": "code",
   "execution_count": 45,
   "metadata": {},
   "outputs": [
    {
     "name": "stdout",
     "output_type": "stream",
     "text": [
      "2020-09-07    17\n",
      "2020-09-08    21\n",
      "Freq: D, Name: B, dtype: int64\n"
     ]
    }
   ],
   "source": [
    "# 只顯示A大於5的B項\n",
    "print(df.B[df.A>12])"
   ]
  }
 ],
 "metadata": {
  "kernelspec": {
   "display_name": "Python 3",
   "language": "python",
   "name": "python3"
  },
  "language_info": {
   "codemirror_mode": {
    "name": "ipython",
    "version": 3
   },
   "file_extension": ".py",
   "mimetype": "text/x-python",
   "name": "python",
   "nbconvert_exporter": "python",
   "pygments_lexer": "ipython3",
   "version": "3.7.4"
  }
 },
 "nbformat": 4,
 "nbformat_minor": 2
}
