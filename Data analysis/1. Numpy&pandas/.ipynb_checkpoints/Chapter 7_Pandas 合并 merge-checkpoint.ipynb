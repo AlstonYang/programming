{
 "cells": [
  {
   "cell_type": "markdown",
   "metadata": {},
   "source": [
    "### merge\n",
    "pandas中的merge和concat類似,但主要是用於兩組有key column的數據,統一索引的數據. 通常也被用在Database的處理當中.\n",
    "* 根據一組key合併"
   ]
  },
  {
   "cell_type": "code",
   "execution_count": 1,
   "metadata": {},
   "outputs": [],
   "source": [
    "import pandas as pd\n",
    "import numpy as np"
   ]
  },
  {
   "cell_type": "code",
   "execution_count": 5,
   "metadata": {},
   "outputs": [
    {
     "name": "stdout",
     "output_type": "stream",
     "text": [
      "  key   A   B\n",
      "0  K0  A0  B0\n",
      "1  K1  A1  B1\n",
      "2  K2  A2  B2\n",
      "3  K3  A3  B3\n",
      "4  K4  A4  B4\n",
      "--------------- segment ---------------\n",
      "  key   C   D\n",
      "0  K0  C0  D0\n",
      "1  K1  C1  D1\n",
      "2  K2  C2  D2\n",
      "3  K3  C3  D3\n",
      "4  K4  C4  D4\n"
     ]
    }
   ],
   "source": [
    "left = pd.DataFrame({'key':['K0','K1','K2','K3','K4'], \n",
    "                         'A':['A0','A1','A2','A3','A4'],\n",
    "                            'B':['B0','B1','B2','B3','B4']})\n",
    "\n",
    "right = pd.DataFrame({'key':['K0','K1','K2','K3','K4'], \n",
    "                         'C':['C0','C1','C2','C3','C4'],\n",
    "                            'D':['D0','D1','D2','D3','D4']})\n",
    "\n",
    "\n",
    "print(left)\n",
    "\n",
    "print('-'*15,'segment','-'*15)\n",
    "\n",
    "print(right)"
   ]
  },
  {
   "cell_type": "code",
   "execution_count": 8,
   "metadata": {},
   "outputs": [
    {
     "name": "stdout",
     "output_type": "stream",
     "text": [
      "  key   A   B   C   D\n",
      "0  K0  A0  B0  C0  D0\n",
      "1  K1  A1  B1  C1  D1\n",
      "2  K2  A2  B2  C2  D2\n",
      "3  K3  A3  B3  C3  D3\n",
      "4  K4  A4  B4  C4  D4\n"
     ]
    }
   ],
   "source": [
    "res = pd.merge(left, right, on='key')\n",
    "print(res)"
   ]
  },
  {
   "cell_type": "markdown",
   "metadata": {},
   "source": [
    "### Indicator\n",
    "indicator=True會將合併的記錄放在新的一列"
   ]
  },
  {
   "cell_type": "code",
   "execution_count": 9,
   "metadata": {},
   "outputs": [],
   "source": [
    "df1 = pd.DataFrame({'col':[0,1],'col_left':['a','b']})\n",
    "df2 = pd.DataFrame({'col':[1,2,3], 'col_right':['2','2','2']})"
   ]
  },
  {
   "cell_type": "code",
   "execution_count": 11,
   "metadata": {},
   "outputs": [
    {
     "name": "stdout",
     "output_type": "stream",
     "text": [
      "   col col_left col_right      _merge\n",
      "0    0        a       NaN   left_only\n",
      "1    1        b         2        both\n",
      "2    2      NaN         2  right_only\n",
      "3    3      NaN         2  right_only\n"
     ]
    }
   ],
   "source": [
    "res = pd.merge(df1, df2, on='col', how='outer', indicator=True)\n",
    "print(res)"
   ]
  },
  {
   "cell_type": "code",
   "execution_count": 12,
   "metadata": {},
   "outputs": [
    {
     "name": "stdout",
     "output_type": "stream",
     "text": [
      "   col col_left col_right Indicator info.\n",
      "0    0        a       NaN       left_only\n",
      "1    1        b         2            both\n",
      "2    2      NaN         2      right_only\n",
      "3    3      NaN         2      right_only\n"
     ]
    }
   ],
   "source": [
    "res = pd.merge(df1, df2, on='col', how='outer', indicator='Indicator info.')\n",
    "print(res)"
   ]
  },
  {
   "cell_type": "markdown",
   "metadata": {},
   "source": [
    "### 依據索引合併\n",
    "how='right','left','inner','outer'"
   ]
  },
  {
   "cell_type": "code",
   "execution_count": 14,
   "metadata": {},
   "outputs": [],
   "source": [
    "left = pd.DataFrame({'A':['A0','A1','A2'], \n",
    "                         'B':['B0','B1','B2']}\n",
    "                           ,index = ['K0','K1','K2'])\n",
    "right = pd.DataFrame({'C':['C0','C1','C2'], \n",
    "                          'D':['D0','D1','D2']}\n",
    "                            ,index = ['K0','K2','K3'])"
   ]
  },
  {
   "cell_type": "code",
   "execution_count": 20,
   "metadata": {},
   "outputs": [
    {
     "name": "stdout",
     "output_type": "stream",
     "text": [
      "      A    B    C    D\n",
      "K0   A0   B0   C0   D0\n",
      "K1   A1   B1  NaN  NaN\n",
      "K2   A2   B2   C1   D1\n",
      "K3  NaN  NaN   C2   D2\n"
     ]
    }
   ],
   "source": [
    "res = pd.merge(left, right, left_index=True, right_index=True, how='outer')\n",
    "print(res)"
   ]
  },
  {
   "cell_type": "code",
   "execution_count": 21,
   "metadata": {},
   "outputs": [
    {
     "name": "stdout",
     "output_type": "stream",
     "text": [
      "     A   B    C    D\n",
      "K0  A0  B0   C0   D0\n",
      "K1  A1  B1  NaN  NaN\n",
      "K2  A2  B2   C1   D1\n"
     ]
    }
   ],
   "source": [
    "res = pd.merge(left, right, left_index=True, right_index=True, how='left')\n",
    "print(res)"
   ]
  },
  {
   "cell_type": "markdown",
   "metadata": {},
   "source": [
    "### 解決overlapping的問題\n",
    "* suffixes=[]"
   ]
  },
  {
   "cell_type": "code",
   "execution_count": 23,
   "metadata": {},
   "outputs": [
    {
     "name": "stdout",
     "output_type": "stream",
     "text": [
      "    K  age_bo  age_girl\n",
      "0  K0       1        20\n",
      "1  K0       1        40\n",
      "2  K2       3        67\n"
     ]
    }
   ],
   "source": [
    "boys = pd.DataFrame({'K':['K0','K1','K2'], 'age':[1,2,3]})\n",
    "girls = pd.DataFrame({'K':['K0','K0','K2'], 'age':[20, 40, 67]})\n",
    "\n",
    "res = pd.merge(boys, girls, on='K', suffixes=['_bo','_girl'])\n",
    "print(res)"
   ]
  },
  {
   "cell_type": "code",
   "execution_count": null,
   "metadata": {},
   "outputs": [],
   "source": []
  }
 ],
 "metadata": {
  "kernelspec": {
   "display_name": "Python 3",
   "language": "python",
   "name": "python3"
  },
  "language_info": {
   "codemirror_mode": {
    "name": "ipython",
    "version": 3
   },
   "file_extension": ".py",
   "mimetype": "text/x-python",
   "name": "python",
   "nbconvert_exporter": "python",
   "pygments_lexer": "ipython3",
   "version": "3.7.4"
  }
 },
 "nbformat": 4,
 "nbformat_minor": 2
}
