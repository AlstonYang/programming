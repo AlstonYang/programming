{
 "cells": [
  {
   "cell_type": "markdown",
   "metadata": {},
   "source": [
    "# Numpy基礎運算1"
   ]
  },
  {
   "cell_type": "markdown",
   "metadata": {},
   "source": [
    "* 矩陣相減：-\n",
    "* 矩陣相加：+\n",
    "* 矩陣相乘：np.dot()\n",
    "\n",
    "* 二次方：**2\n",
    "* 三次方：**3\n",
    "\n",
    "* sin函數：np.sin()"
   ]
  },
  {
   "cell_type": "code",
   "execution_count": 3,
   "metadata": {},
   "outputs": [],
   "source": [
    "import numpy as np"
   ]
  },
  {
   "cell_type": "code",
   "execution_count": 9,
   "metadata": {},
   "outputs": [
    {
     "name": "stdout",
     "output_type": "stream",
     "text": [
      "[10 21 32 43]\n",
      "[10 19 28 37]\n",
      "200\n",
      "[ 100  400  900 1600]\n",
      "[-0.54402111  0.91294525 -0.98803162  0.74511316]\n"
     ]
    }
   ],
   "source": [
    "a = np.array([10, 20, 30, 40])\n",
    "b = np.arange(4)\n",
    "\n",
    "print(a+b)\n",
    "print(a-b)\n",
    "print(a.dot(b))\n",
    "\n",
    "\n",
    "print(a**2)\n",
    "print(np.sin(a))"
   ]
  },
  {
   "cell_type": "markdown",
   "metadata": {},
   "source": [
    "## 對矩陣元素\n",
    "\n",
    "* 求和：np.sum()\n",
    "* 求最小值：np.min()\n",
    "* 求最大值：np.max()\n",
    "* 求平均：np.mean()\n",
    "* 求中位數：np.median()\n",
    "* 求最大元素index: np.argmax()\n",
    "* 求最小元素index: np.argmin()\n",
    "* 求累加：np.cumsum()\n",
    "* 求累差：np.diff()\n",
    "* 求非0元素：np.nonzero()\n",
    "* 排序：np.sort()\n",
    "* 矩陣反向：np.transpose(A) / A.T\n",
    "* 大於某數變某數, 小於某數變某數: np.clip(Array,Array_min,Array_max)\n",
    "\n",
    "#### 上述方法皆可以指定 \n",
    "* axis = 0  =>對列\n",
    "* axis = 1  =>對行\n",
    "\n",
    "#### 隨機抽取0~1個指定數目\n",
    "* np.random.random(number)"
   ]
  },
  {
   "cell_type": "code",
   "execution_count": 17,
   "metadata": {},
   "outputs": [],
   "source": [
    "a = np.random.random(4).reshape(2,2)"
   ]
  },
  {
   "cell_type": "code",
   "execution_count": 27,
   "metadata": {},
   "outputs": [
    {
     "name": "stdout",
     "output_type": "stream",
     "text": [
      "[[0.00737646 0.57127136]\n",
      " [0.03731283 0.07708265]]\n",
      "--------------- 分隔線 ---------------\n",
      "0.6930433040528268\n",
      "0.007376458183004808\n",
      "0.5712713627780054\n",
      "--------------- 分隔線 ---------------\n",
      "[0.04468929 0.64835401]\n",
      "[0.00737646 0.07708265]\n",
      "[0.03731283 0.57127136]\n"
     ]
    }
   ],
   "source": [
    "print(a)\n",
    "\n",
    "print('-'*15,'分隔線','-'*15)\n",
    "\n",
    "print(np.sum(a))\n",
    "print(np.min(a))\n",
    "print(np.max(a))\n",
    "\n",
    "print('-'*15,'分隔線','-'*15)\n",
    "\n",
    "print(np.sum(a, axis=0))\n",
    "print(np.min(a, axis=0))\n",
    "print(np.max(a, axis=0))"
   ]
  },
  {
   "cell_type": "code",
   "execution_count": 65,
   "metadata": {},
   "outputs": [
    {
     "name": "stdout",
     "output_type": "stream",
     "text": [
      "a:\n",
      " [[ 2  3  4  5]\n",
      " [ 6  7  8  9]\n",
      " [10 11 12 13]]\n",
      "--------------- 分隔線 ---------------\n",
      "argmin: [0 0 0]\n",
      "argmax: 11\n",
      "--------------- 分隔線 ---------------\n",
      "mean: [6. 7. 8. 9.]\n",
      "median: [6. 7. 8. 9.]\n",
      "--------------- 分隔線 ---------------\n",
      "cumsum: [ 2  5  9 14 20 27 35 44 54 65 77 90]\n",
      "diff:\n",
      " [[1 1 1]\n",
      " [1 1 1]\n",
      " [1 1 1]]\n",
      "--------------- 分隔線 ---------------\n",
      "nonzero: (array([0, 0, 0, 0, 1, 1, 1, 1, 2, 2, 2, 2]), array([0, 1, 2, 3, 0, 1, 2, 3, 0, 1, 2, 3]))\n",
      "--------------- 分隔線 ---------------\n",
      "b:\n",
      " [[0.15826791 0.16747157]\n",
      " [0.15258731 0.05392788]]\n",
      "sort:\n",
      " [[0.15826791 0.16747157]\n",
      " [0.05392788 0.15258731]]\n",
      "--------------- 分隔線 ---------------\n",
      "a:\n",
      " [[ 2  3  4  5]\n",
      " [ 6  7  8  9]\n",
      " [10 11 12 13]]\n",
      "transpose:\n",
      " [[ 2  6 10]\n",
      " [ 3  7 11]\n",
      " [ 4  8 12]\n",
      " [ 5  9 13]]\n",
      "--------------- 一樣結果 ---------------\n",
      "transpose:\n",
      " [[ 2  6 10]\n",
      " [ 3  7 11]\n",
      " [ 4  8 12]\n",
      " [ 5  9 13]]\n",
      "[[140 158 176 194]\n",
      " [158 179 200 221]\n",
      " [176 200 224 248]\n",
      " [194 221 248 275]]\n",
      "--------------- 分隔線 ---------------\n",
      "clip:\n",
      " [[3 3 4 5]\n",
      " [5 5 5 5]\n",
      " [5 5 5 5]]\n"
     ]
    }
   ],
   "source": [
    "a = np.arange(2,14).reshape((3,4))\n",
    "\n",
    "print('a:\\n',a)\n",
    "\n",
    "print('-'*15,'分隔線','-'*15)\n",
    "\n",
    "print('argmin:',np.argmin(a,axis=1))\n",
    "print('argmax:',np.argmax(a))\n",
    "\n",
    "print('-'*15,'分隔線','-'*15)\n",
    "\n",
    "print('mean:',np.mean(a,axis=0))\n",
    "print('median:',np.median(a,axis=0))\n",
    "\n",
    "print('-'*15,'分隔線','-'*15)\n",
    "\n",
    "print('cumsum:',np.cumsum(a))\n",
    "print('diff:\\n',np.diff(a))\n",
    "\n",
    "print('-'*15,'分隔線','-'*15)\n",
    "\n",
    "print('nonzero:',np.nonzero(a))\n",
    "#這個函數將所有非零元素的行與列坐標分割開，重構成兩個分別關於行和列的矩陣。\n",
    "\n",
    "print('-'*15,'分隔線','-'*15)\n",
    "\n",
    "b = np.random.random(4).reshape((2,2))\n",
    "print('b:\\n',b)\n",
    "print('sort:\\n',np.sort(b))\n",
    "\n",
    "print('-'*15,'分隔線','-'*15)\n",
    "\n",
    "print('a:\\n',a)\n",
    "print('transpose:\\n',np.transpose(a))\n",
    "print('-'*15,'一樣結果','-'*15)\n",
    "print('transpose:\\n',a.T)\n",
    "print(a.T.dot(a))\n",
    "\n",
    "print('-'*15,'分隔線','-'*15)\n",
    "\n",
    "print('clip:\\n',np.clip(a,3,5))"
   ]
  },
  {
   "cell_type": "code",
   "execution_count": null,
   "metadata": {},
   "outputs": [],
   "source": []
  }
 ],
 "metadata": {
  "kernelspec": {
   "display_name": "Python 3",
   "language": "python",
   "name": "python3"
  },
  "language_info": {
   "codemirror_mode": {
    "name": "ipython",
    "version": 3
   },
   "file_extension": ".py",
   "mimetype": "text/x-python",
   "name": "python",
   "nbconvert_exporter": "python",
   "pygments_lexer": "ipython3",
   "version": "3.7.4"
  }
 },
 "nbformat": 4,
 "nbformat_minor": 2
}
