{
 "cells": [
  {
   "cell_type": "markdown",
   "metadata": {},
   "source": [
    "### concatenating()  \n",
    "* 默認為outer\n",
    "\n",
    "pandas處理多組數據的時候往往會要用到數據的合併處理,使用 concat是一種基本的合併方式.而且concat中有很多參數可以調整,合併成你想要的數據形式.\n",
    "\n",
    "1. axis (合併方向):\n",
    "<br>axis=0是預設值，因此未設定任何參數時，函數默認axis=0。\n",
    "<br>axis=0:上下合併\n",
    "<br>axis=1:左右合併\n",
    "\n",
    "2. ignore_index (重置 index)"
   ]
  },
  {
   "cell_type": "code",
   "execution_count": 1,
   "metadata": {},
   "outputs": [],
   "source": [
    "import numpy as np\n",
    "import pandas as pd"
   ]
  },
  {
   "cell_type": "code",
   "execution_count": 6,
   "metadata": {},
   "outputs": [],
   "source": [
    "df1 = pd.DataFrame(np.ones((3,4))*0, columns=['A','B','C','D'])\n",
    "df2 = pd.DataFrame(np.ones((3,4))*1, columns=['A','B','C','D'])\n",
    "df3 = pd.DataFrame(np.ones((3,4))*2, columns=['A','B','C','D'])"
   ]
  },
  {
   "cell_type": "code",
   "execution_count": 8,
   "metadata": {},
   "outputs": [
    {
     "data": {
      "text/html": [
       "<div>\n",
       "<style scoped>\n",
       "    .dataframe tbody tr th:only-of-type {\n",
       "        vertical-align: middle;\n",
       "    }\n",
       "\n",
       "    .dataframe tbody tr th {\n",
       "        vertical-align: top;\n",
       "    }\n",
       "\n",
       "    .dataframe thead th {\n",
       "        text-align: right;\n",
       "    }\n",
       "</style>\n",
       "<table border=\"1\" class=\"dataframe\">\n",
       "  <thead>\n",
       "    <tr style=\"text-align: right;\">\n",
       "      <th></th>\n",
       "      <th>A</th>\n",
       "      <th>B</th>\n",
       "      <th>C</th>\n",
       "      <th>D</th>\n",
       "    </tr>\n",
       "  </thead>\n",
       "  <tbody>\n",
       "    <tr>\n",
       "      <td>0</td>\n",
       "      <td>0.0</td>\n",
       "      <td>0.0</td>\n",
       "      <td>0.0</td>\n",
       "      <td>0.0</td>\n",
       "    </tr>\n",
       "    <tr>\n",
       "      <td>1</td>\n",
       "      <td>0.0</td>\n",
       "      <td>0.0</td>\n",
       "      <td>0.0</td>\n",
       "      <td>0.0</td>\n",
       "    </tr>\n",
       "    <tr>\n",
       "      <td>2</td>\n",
       "      <td>0.0</td>\n",
       "      <td>0.0</td>\n",
       "      <td>0.0</td>\n",
       "      <td>0.0</td>\n",
       "    </tr>\n",
       "    <tr>\n",
       "      <td>3</td>\n",
       "      <td>1.0</td>\n",
       "      <td>1.0</td>\n",
       "      <td>1.0</td>\n",
       "      <td>1.0</td>\n",
       "    </tr>\n",
       "    <tr>\n",
       "      <td>4</td>\n",
       "      <td>1.0</td>\n",
       "      <td>1.0</td>\n",
       "      <td>1.0</td>\n",
       "      <td>1.0</td>\n",
       "    </tr>\n",
       "    <tr>\n",
       "      <td>5</td>\n",
       "      <td>1.0</td>\n",
       "      <td>1.0</td>\n",
       "      <td>1.0</td>\n",
       "      <td>1.0</td>\n",
       "    </tr>\n",
       "    <tr>\n",
       "      <td>6</td>\n",
       "      <td>2.0</td>\n",
       "      <td>2.0</td>\n",
       "      <td>2.0</td>\n",
       "      <td>2.0</td>\n",
       "    </tr>\n",
       "    <tr>\n",
       "      <td>7</td>\n",
       "      <td>2.0</td>\n",
       "      <td>2.0</td>\n",
       "      <td>2.0</td>\n",
       "      <td>2.0</td>\n",
       "    </tr>\n",
       "    <tr>\n",
       "      <td>8</td>\n",
       "      <td>2.0</td>\n",
       "      <td>2.0</td>\n",
       "      <td>2.0</td>\n",
       "      <td>2.0</td>\n",
       "    </tr>\n",
       "  </tbody>\n",
       "</table>\n",
       "</div>"
      ],
      "text/plain": [
       "     A    B    C    D\n",
       "0  0.0  0.0  0.0  0.0\n",
       "1  0.0  0.0  0.0  0.0\n",
       "2  0.0  0.0  0.0  0.0\n",
       "3  1.0  1.0  1.0  1.0\n",
       "4  1.0  1.0  1.0  1.0\n",
       "5  1.0  1.0  1.0  1.0\n",
       "6  2.0  2.0  2.0  2.0\n",
       "7  2.0  2.0  2.0  2.0\n",
       "8  2.0  2.0  2.0  2.0"
      ]
     },
     "execution_count": 8,
     "metadata": {},
     "output_type": "execute_result"
    }
   ],
   "source": [
    "pd.concat([df1, df2, df3], axis=0, ignore_index=True)"
   ]
  },
  {
   "cell_type": "markdown",
   "metadata": {},
   "source": [
    "### join (合併方式)\n",
    "join='outer'為預設值，因此未設定任何參數時，函數默認join='outer'。此方式是依照column來做縱向合併，有相同的column上下合併在一起，其他獨自的column個自成列，原本沒有值的位置皆以NaN填充。\n",
    "* outer\n",
    "* inner "
   ]
  },
  {
   "cell_type": "code",
   "execution_count": 11,
   "metadata": {},
   "outputs": [],
   "source": [
    "df1 = pd.DataFrame(np.ones((3,4)), index=[1,2,3], columns=['a','b','c','d'])\n",
    "df2 = pd.DataFrame(np.ones((3,4))*2, index=[2,3,4], columns=['b','c','d','e'])"
   ]
  },
  {
   "cell_type": "code",
   "execution_count": 15,
   "metadata": {},
   "outputs": [
    {
     "name": "stdout",
     "output_type": "stream",
     "text": [
      "     b    c    d\n",
      "0  1.0  1.0  1.0\n",
      "1  1.0  1.0  1.0\n",
      "2  1.0  1.0  1.0\n",
      "3  2.0  2.0  2.0\n",
      "4  2.0  2.0  2.0\n",
      "5  2.0  2.0  2.0\n"
     ]
    }
   ],
   "source": [
    "res = pd.concat([df1,df2], join='inner',ignore_index=True)\n",
    "print(res)"
   ]
  },
  {
   "cell_type": "markdown",
   "metadata": {},
   "source": [
    "### 被轉換DataFrame.reindex()\n",
    "\n",
    "* index=df1.index\n",
    "* columns = df1.columns"
   ]
  },
  {
   "cell_type": "code",
   "execution_count": 18,
   "metadata": {},
   "outputs": [],
   "source": [
    "df1 = pd.DataFrame(np.ones((3,4)), index=[1,2,3], columns=['a','b','c','d'])\n",
    "df2 = pd.DataFrame(np.ones((3,4))*2, index=[2,3,4], columns=['b','c','d','e'])"
   ]
  },
  {
   "cell_type": "code",
   "execution_count": 37,
   "metadata": {},
   "outputs": [
    {
     "name": "stdout",
     "output_type": "stream",
     "text": [
      "     a    b    c    d\n",
      "1  1.0  1.0  1.0  1.0\n",
      "2  1.0  1.0  1.0  1.0\n",
      "3  1.0  1.0  1.0  1.0\n",
      "2  NaN  2.0  2.0  2.0\n",
      "3  NaN  2.0  2.0  2.0\n",
      "4  NaN  2.0  2.0  2.0\n"
     ]
    }
   ],
   "source": [
    "res=pd.concat([df1,df2.reindex(columns=df1.columns)])\n",
    "print(res)"
   ]
  },
  {
   "cell_type": "code",
   "execution_count": 47,
   "metadata": {},
   "outputs": [
    {
     "name": "stdout",
     "output_type": "stream",
     "text": [
      "     a    b    c    d\n",
      "1  1.0  1.0  1.0  1.0\n",
      "2  1.0  1.0  1.0  1.0\n",
      "3  1.0  1.0  1.0  1.0\n",
      "2  NaN  2.0  2.0  2.0\n",
      "3  NaN  2.0  2.0  2.0\n",
      "4  NaN  2.0  2.0  2.0\n",
      "--------------- next ---------------\n",
      "     a    b    c    d    b    c    d    e\n",
      "1  1.0  1.0  1.0  1.0  NaN  NaN  NaN  NaN\n",
      "2  1.0  1.0  1.0  1.0  2.0  2.0  2.0  2.0\n",
      "3  1.0  1.0  1.0  1.0  2.0  2.0  2.0  2.0\n"
     ]
    }
   ],
   "source": [
    "print(pd.concat([df1,df2.reindex(columns=df1.columns)]))\n",
    "print('-'*15,'next','-'*15)\n",
    "print(pd.concat([df1,df2.reindex(index=df1.index)],axis=1))"
   ]
  },
  {
   "cell_type": "markdown",
   "metadata": {},
   "source": [
    "### append (添加數據)\n",
    "append只有上下合併，沒有橫向合併"
   ]
  },
  {
   "cell_type": "code",
   "execution_count": 48,
   "metadata": {},
   "outputs": [],
   "source": [
    "df1 = pd.DataFrame(np.ones((3,4))*0, columns=['A','B','C','D'])\n",
    "df2 = pd.DataFrame(np.ones((3,4))*1, columns=['A','B','C','D'])\n",
    "df3 = pd.DataFrame(np.ones((3,4))*2, columns=['A','B','C','D'])"
   ]
  },
  {
   "cell_type": "code",
   "execution_count": 50,
   "metadata": {},
   "outputs": [
    {
     "name": "stdout",
     "output_type": "stream",
     "text": [
      "     A    B    C    D\n",
      "0  0.0  0.0  0.0  0.0\n",
      "1  0.0  0.0  0.0  0.0\n",
      "2  0.0  0.0  0.0  0.0\n",
      "3  1.0  1.0  1.0  1.0\n",
      "4  1.0  1.0  1.0  1.0\n",
      "5  1.0  1.0  1.0  1.0\n"
     ]
    }
   ],
   "source": [
    "res = df1.append(df2, ignore_index=True)\n",
    "print(res)"
   ]
  },
  {
   "cell_type": "code",
   "execution_count": 51,
   "metadata": {},
   "outputs": [
    {
     "name": "stdout",
     "output_type": "stream",
     "text": [
      "     A    B    C    D\n",
      "0  0.0  0.0  0.0  0.0\n",
      "1  0.0  0.0  0.0  0.0\n",
      "2  0.0  0.0  0.0  0.0\n",
      "3  1.0  1.0  1.0  1.0\n",
      "4  1.0  1.0  1.0  1.0\n",
      "5  1.0  1.0  1.0  1.0\n",
      "6  2.0  2.0  2.0  2.0\n",
      "7  2.0  2.0  2.0  2.0\n",
      "8  2.0  2.0  2.0  2.0\n"
     ]
    }
   ],
   "source": [
    "res = df1.append([df2,df3], ignore_index=True)\n",
    "print(res)"
   ]
  },
  {
   "cell_type": "markdown",
   "metadata": {},
   "source": [
    "#### 合併series，將s1合併至df1，以及重置index，並打印出結果"
   ]
  },
  {
   "cell_type": "code",
   "execution_count": 52,
   "metadata": {},
   "outputs": [
    {
     "name": "stdout",
     "output_type": "stream",
     "text": [
      "     A    B    C    D\n",
      "0  0.0  0.0  0.0  0.0\n",
      "1  0.0  0.0  0.0  0.0\n",
      "2  0.0  0.0  0.0  0.0\n",
      "3  1.0  2.0  3.0  4.0\n"
     ]
    }
   ],
   "source": [
    "s1 = pd.Series([1,2,3,4], index=['A','B','C','D'])\n",
    "\n",
    "res = df1.append(s1, ignore_index=True)\n",
    "print(res)"
   ]
  }
 ],
 "metadata": {
  "kernelspec": {
   "display_name": "Python 3",
   "language": "python",
   "name": "python3"
  },
  "language_info": {
   "codemirror_mode": {
    "name": "ipython",
    "version": 3
   },
   "file_extension": ".py",
   "mimetype": "text/x-python",
   "name": "python",
   "nbconvert_exporter": "python",
   "pygments_lexer": "ipython3",
   "version": "3.7.4"
  }
 },
 "nbformat": 4,
 "nbformat_minor": 2
}
