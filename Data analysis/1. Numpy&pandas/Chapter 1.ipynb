{
 "cells": [
  {
   "cell_type": "markdown",
   "metadata": {},
   "source": [
    "# 1.1 numpy array創建\n",
    "\n",
    "\n",
    "+ array：創建數組\n",
    "+ dtype：指定數據類型\n",
    "+ zeros：創建數據全為0\n",
    "+ ones：創建數據全為1\n",
    "+ empty：創建數據接近0\n",
    "+ arrange：按指定範圍創建數據\n",
    "+ linspace：創建線段\n",
    "\n",
    "### 指定數據 dtype\n",
    "+ int\n",
    "+ int32\n",
    "+ float\n",
    "+ float32\n"
   ]
  },
  {
   "cell_type": "code",
   "execution_count": 4,
   "metadata": {},
   "outputs": [
    {
     "name": "stdout",
     "output_type": "stream",
     "text": [
      "[1 2 3]\n"
     ]
    }
   ],
   "source": [
    "import numpy as np\n",
    "\n",
    "a = np.array([1,2,3], dtype=np.int)\n",
    "print(a)"
   ]
  },
  {
   "cell_type": "code",
   "execution_count": 10,
   "metadata": {},
   "outputs": [
    {
     "name": "stdout",
     "output_type": "stream",
     "text": [
      "[[1 2 3]\n",
      " [4 5 6]]\n",
      "--------------------\n",
      "[[1 2 3 4 5 6]]\n"
     ]
    }
   ],
   "source": [
    "b = np.array([[1,2,3],[4,5,6]])\n",
    "print(b)\n",
    "\n",
    "print('-'*20)\n",
    "\n",
    "c = b.reshape((1,6))\n",
    "print(c)"
   ]
  },
  {
   "cell_type": "code",
   "execution_count": 13,
   "metadata": {},
   "outputs": [
    {
     "name": "stdout",
     "output_type": "stream",
     "text": [
      "[[0 0 0 0]\n",
      " [0 0 0 0]\n",
      " [0 0 0 0]]\n"
     ]
    }
   ],
   "source": [
    "zeroArray = np.zeros((3,4), dtype=np.int)\n",
    "print(zeroArray)"
   ]
  },
  {
   "cell_type": "code",
   "execution_count": 16,
   "metadata": {},
   "outputs": [
    {
     "name": "stdout",
     "output_type": "stream",
     "text": [
      "[[1 1 1 1 1 1 1 1 1 1 1 1]]\n"
     ]
    }
   ],
   "source": [
    "oneArray = np.ones((3,4), dtype=np.int).reshape(1,12)\n",
    "print(oneArray)"
   ]
  },
  {
   "cell_type": "code",
   "execution_count": 17,
   "metadata": {},
   "outputs": [
    {
     "name": "stdout",
     "output_type": "stream",
     "text": [
      "[[5.e-324 5.e-324 5.e-324 5.e-324]\n",
      " [5.e-324 5.e-324 5.e-324 5.e-324]\n",
      " [5.e-324 5.e-324 5.e-324 5.e-324]]\n"
     ]
    }
   ],
   "source": [
    "emptyArray = np.empty((3,4))\n",
    "print(emptyArray)"
   ]
  },
  {
   "cell_type": "markdown",
   "metadata": {},
   "source": [
    "### 用arange創建連續整數： \n",
    "\n",
    "* 不包含末位數"
   ]
  },
  {
   "cell_type": "code",
   "execution_count": 20,
   "metadata": {},
   "outputs": [
    {
     "name": "stdout",
     "output_type": "stream",
     "text": [
      "[10 12 14 16 18]\n"
     ]
    }
   ],
   "source": [
    "arangeArray = np.arange(10, 20, 2)\n",
    "print(arangeArray)"
   ]
  },
  {
   "cell_type": "markdown",
   "metadata": {},
   "source": [
    "### 用linspace創建線段型數據："
   ]
  },
  {
   "cell_type": "code",
   "execution_count": 28,
   "metadata": {},
   "outputs": [
    {
     "name": "stdout",
     "output_type": "stream",
     "text": [
      "[[10. 12. 14.]\n",
      " [16. 18. 20.]]\n"
     ]
    }
   ],
   "source": [
    "linArray = np.linspace(10,20,6).reshape((2,3))\n",
    "print(linArray)"
   ]
  },
  {
   "cell_type": "code",
   "execution_count": null,
   "metadata": {},
   "outputs": [],
   "source": []
  }
 ],
 "metadata": {
  "kernelspec": {
   "display_name": "Python 3",
   "language": "python",
   "name": "python3"
  },
  "language_info": {
   "codemirror_mode": {
    "name": "ipython",
    "version": 3
   },
   "file_extension": ".py",
   "mimetype": "text/x-python",
   "name": "python",
   "nbconvert_exporter": "python",
   "pygments_lexer": "ipython3",
   "version": "3.7.4"
  }
 },
 "nbformat": 4,
 "nbformat_minor": 2
}
