{
 "cells": [
  {
   "cell_type": "code",
   "execution_count": 8,
   "metadata": {},
   "outputs": [],
   "source": [
    "import numpy as np\n",
    "import pandas as pd"
   ]
  },
  {
   "cell_type": "code",
   "execution_count": 6,
   "metadata": {},
   "outputs": [
    {
     "name": "stdout",
     "output_type": "stream",
     "text": [
      "9\n",
      "333\n"
     ]
    }
   ],
   "source": [
    "print(3*3)\n",
    "print('3'*3)"
   ]
  },
  {
   "cell_type": "code",
   "execution_count": 5,
   "metadata": {},
   "outputs": [
    {
     "name": "stdout",
     "output_type": "stream",
     "text": [
      "['1', '2', '3', '4']\n"
     ]
    }
   ],
   "source": [
    "#split() 以空白字元分隔多個字串\n",
    "s= \"NCCU is good university.\"\n",
    "s.split()\n",
    "\n",
    "#split() 以自定義字元分隔多個字串\n",
    "s2 = '1,2,3,4'\n",
    "print(s2.split(','))"
   ]
  },
  {
   "cell_type": "code",
   "execution_count": 14,
   "metadata": {},
   "outputs": [
    {
     "name": "stdout",
     "output_type": "stream",
     "text": [
      "2020\n",
      "2029\n"
     ]
    }
   ],
   "source": [
    "a = '2020 09 04'\n",
    "number = a.split()\n",
    "\n",
    "print(number[0])\n",
    "print(int(number[0])+int(number[1]))"
   ]
  },
  {
   "cell_type": "code",
   "execution_count": 25,
   "metadata": {},
   "outputs": [
    {
     "name": "stdout",
     "output_type": "stream",
     "text": [
      "請輸入三個整數：1 2 3\n",
      "6\n"
     ]
    }
   ],
   "source": [
    "nums = input('請輸入三個整數：').split()\n",
    "res = 0\n",
    "for num in nums:\n",
    "    res += int(num)\n",
    "print(res)"
   ]
  },
  {
   "cell_type": "code",
   "execution_count": null,
   "metadata": {},
   "outputs": [],
   "source": [
    "# 成績處理練習\n",
    "\n",
    "scores = input(\"請輸入任意個數整數分數：\").split()\n",
    "final_scores=[]\n",
    "\n",
    "for score in scores:\n",
    "    if int(score) <=100 and int(score)>=0:\n",
    "        final_scores.append(int(score))\n",
    "print(score.count())"
   ]
  },
  {
   "cell_type": "code",
   "execution_count": null,
   "metadata": {},
   "outputs": [],
   "source": []
  }
 ],
 "metadata": {
  "kernelspec": {
   "display_name": "Python 3",
   "language": "python",
   "name": "python3"
  },
  "language_info": {
   "codemirror_mode": {
    "name": "ipython",
    "version": 3
   },
   "file_extension": ".py",
   "mimetype": "text/x-python",
   "name": "python",
   "nbconvert_exporter": "python",
   "pygments_lexer": "ipython3",
   "version": "3.7.4"
  }
 },
 "nbformat": 4,
 "nbformat_minor": 2
}
