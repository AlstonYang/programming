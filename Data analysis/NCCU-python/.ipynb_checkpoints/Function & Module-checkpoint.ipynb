{
 "cells": [
  {
   "cell_type": "code",
   "execution_count": 2,
   "metadata": {},
   "outputs": [
    {
     "name": "stdout",
     "output_type": "stream",
     "text": [
      "Hello Python\n"
     ]
    }
   ],
   "source": [
    "def hello():\n",
    "    print(\"Hello Python\")\n",
    "    \n",
    "hello()"
   ]
  },
  {
   "cell_type": "code",
   "execution_count": 7,
   "metadata": {},
   "outputs": [
    {
     "name": "stdout",
     "output_type": "stream",
     "text": [
      "Hello NCCU\n"
     ]
    }
   ],
   "source": [
    "def echo(word):\n",
    "    print('Hello '+word)\n",
    "\n",
    "echo('NCCU')"
   ]
  },
  {
   "cell_type": "code",
   "execution_count": 9,
   "metadata": {},
   "outputs": [
    {
     "data": {
      "text/plain": [
       "24"
      ]
     },
     "execution_count": 9,
     "metadata": {},
     "output_type": "execute_result"
    }
   ],
   "source": [
    "def sum(a, b, c):\n",
    "    return a+b+c\n",
    "\n",
    "sum(7,8,9)"
   ]
  },
  {
   "cell_type": "code",
   "execution_count": 36,
   "metadata": {},
   "outputs": [
    {
     "ename": "TypeError",
     "evalue": "sum() missing 1 required positional argument: 'c'",
     "output_type": "error",
     "traceback": [
      "\u001b[0;31m---------------------------------------------------------------------------\u001b[0m",
      "\u001b[0;31mTypeError\u001b[0m                                 Traceback (most recent call last)",
      "\u001b[0;32m<ipython-input-36-2927d490c1da>\u001b[0m in \u001b[0;36m<module>\u001b[0;34m\u001b[0m\n\u001b[1;32m      1\u001b[0m \u001b[0ma\u001b[0m \u001b[0;34m=\u001b[0m \u001b[0;34m(\u001b[0m\u001b[0;36m1\u001b[0m\u001b[0;34m,\u001b[0m \u001b[0;36m2\u001b[0m\u001b[0;34m,\u001b[0m \u001b[0;36m3\u001b[0m\u001b[0;34m,\u001b[0m \u001b[0;36m4\u001b[0m\u001b[0;34m,\u001b[0m \u001b[0;36m5\u001b[0m\u001b[0;34m)\u001b[0m\u001b[0;34m\u001b[0m\u001b[0;34m\u001b[0m\u001b[0m\n\u001b[0;32m----> 2\u001b[0;31m \u001b[0mx\u001b[0m \u001b[0;34m=\u001b[0m \u001b[0msum\u001b[0m\u001b[0;34m(\u001b[0m\u001b[0ma\u001b[0m\u001b[0;34m,\u001b[0m \u001b[0;36m7\u001b[0m\u001b[0;34m)\u001b[0m\u001b[0;34m\u001b[0m\u001b[0;34m\u001b[0m\u001b[0m\n\u001b[0m\u001b[1;32m      3\u001b[0m \u001b[0mprint\u001b[0m\u001b[0;34m(\u001b[0m\u001b[0mx\u001b[0m\u001b[0;34m)\u001b[0m\u001b[0;34m\u001b[0m\u001b[0;34m\u001b[0m\u001b[0m\n",
      "\u001b[0;31mTypeError\u001b[0m: sum() missing 1 required positional argument: 'c'"
     ]
    }
   ],
   "source": [
    "a = (1, 2, 3, 4, 5)\n",
    "x = sum(a, 7)\n",
    "print(x)"
   ]
  },
  {
   "cell_type": "code",
   "execution_count": 24,
   "metadata": {},
   "outputs": [
    {
     "data": {
      "text/plain": [
       "(7, 3)"
      ]
     },
     "execution_count": 24,
     "metadata": {},
     "output_type": "execute_result"
    }
   ],
   "source": [
    "def max_min(data):\n",
    "    return max(data), min(data)\n",
    "    #回傳tuple型態資料\n",
    "    \n",
    "max_min([3,4,5,6,7])"
   ]
  },
  {
   "cell_type": "code",
   "execution_count": 35,
   "metadata": {},
   "outputs": [
    {
     "data": {
      "text/plain": [
       "[1, 2, 3, 6, 4, 3]"
      ]
     },
     "execution_count": 35,
     "metadata": {},
     "output_type": "execute_result"
    }
   ],
   "source": [
    "def remove_zeros(data):\n",
    "    return [e for e in data if e!=0]\n",
    "\n",
    "remove_zeros([1,2,3,0,6,4,3])"
   ]
  },
  {
   "cell_type": "code",
   "execution_count": 101,
   "metadata": {},
   "outputs": [
    {
     "name": "stdout",
     "output_type": "stream",
     "text": [
      "107年總案件數：22件\n",
      "6月總案件數：99件\n",
      "13時總案件數：160件\n"
     ]
    }
   ],
   "source": [
    "def GetCrimeData(filename):\n",
    "    data =[]\n",
    "    with open(filename, encoding='big5') as f:\n",
    "        f.readline()\n",
    "        for line in f:\n",
    "            data.append(line.split(','))\n",
    "    return data\n",
    "\n",
    "def GetYear(record):\n",
    "    return(int(record[2][:3]))\n",
    "\n",
    "def GetMonth(record):\n",
    "    return(int(record[2][3:5]))\n",
    "\n",
    "def GetTime(record):\n",
    "    start = int(record[3][:2])\n",
    "    end = int(record[3][3:])\n",
    "    return(start, end)\n",
    "    \n",
    "def GetYearCount(data, year):\n",
    "    count = 0\n",
    "    for record in data:\n",
    "        if GetYear(record) == year:\n",
    "            count+=1\n",
    "    return(count)\n",
    "\n",
    "def GetMonthCount(data, month):\n",
    "    count = 0 \n",
    "    for record in data:\n",
    "        if GetMonth(record)==month:\n",
    "            count+=1\n",
    "    return count\n",
    "\n",
    "def GetTimeCount(data, time):\n",
    "    count=0\n",
    "    for record in data:\n",
    "        start, end = GetTime(record)\n",
    "        if start<= time < end:\n",
    "            count+=1\n",
    "    return count\n",
    "\n",
    "def main():\n",
    "    data = GetCrimeData('/Users/alston/bike.txt')\n",
    "    GetYear(data[0])\n",
    "    GetMonth(data[0])\n",
    "    GetTime(data[0])\n",
    "    \n",
    "    year = 107\n",
    "    month = 6\n",
    "    time = 13\n",
    "    print('%d年總案件數：%d件'%(year, GetYearCount(data, year)))\n",
    "    print('%d月總案件數：%d件'%(month, GetMonthCount(data, month)))\n",
    "    print('%d時總案件數：%d件'%(time, GetTimeCount(data, time)))\n",
    "    \n",
    "main()"
   ]
  },
  {
   "cell_type": "code",
   "execution_count": 102,
   "metadata": {},
   "outputs": [
    {
     "name": "stdout",
     "output_type": "stream",
     "text": [
      "3\n"
     ]
    }
   ],
   "source": [
    "if True:\n",
    "    a = 3\n",
    "\n",
    "print(a)"
   ]
  },
  {
   "cell_type": "code",
   "execution_count": 106,
   "metadata": {},
   "outputs": [],
   "source": [
    "#不管程式碼是否被執行，只要函式出現負值指派，該變數即為區域變數\n",
    "\n",
    "#Error1\n",
    "# i = 9\n",
    "\n",
    "# def g():\n",
    "#     print(i)\n",
    "#     i = 10\n",
    "#     print(i)\n",
    "    \n",
    "# g()\n",
    "\n",
    "#Error2\n",
    "# i=9\n",
    "\n",
    "# def f():\n",
    "#     if False:\n",
    "#         i=3\n",
    "#     if i == 9:\n",
    "#         print(i)\n",
    "\n",
    "# f()\n"
   ]
  },
  {
   "cell_type": "code",
   "execution_count": 104,
   "metadata": {},
   "outputs": [
    {
     "name": "stdout",
     "output_type": "stream",
     "text": [
      "9\n",
      "10\n",
      "10\n"
     ]
    }
   ],
   "source": [
    "i = 9\n",
    "\n",
    "def g(i):\n",
    "    print(i)\n",
    "    i = 10\n",
    "    print(i)\n",
    "    return i\n",
    "    \n",
    "i = g(i)\n",
    "print(i)"
   ]
  },
  {
   "cell_type": "code",
   "execution_count": 108,
   "metadata": {},
   "outputs": [
    {
     "name": "stdout",
     "output_type": "stream",
     "text": [
      "Please input your score:99\n",
      "You are passed.\n"
     ]
    }
   ],
   "source": [
    "# define user input\n",
    "def Scores():\n",
    "    score = int(input(\"Please input your score:\"))\n",
    "    Assess(score)\n",
    "\n",
    "# Assess the score\n",
    "def Assess(score):\n",
    "    if score >= 60:\n",
    "        print(\"You are passed.\")\n",
    "    else:\n",
    "        print(\"You are failed\")\n",
    "        \n",
    "Scores()"
   ]
  },
  {
   "cell_type": "code",
   "execution_count": 112,
   "metadata": {},
   "outputs": [
    {
     "name": "stdout",
     "output_type": "stream",
     "text": [
      "Please input your score:89\n",
      "Assess(): 89\n",
      "Assess(): 90\n",
      "Scores(): 90\n"
     ]
    }
   ],
   "source": [
    "# define user input\n",
    "def Scores():\n",
    "    score = int(input(\"Please input your score:\"))\n",
    "    score = Assess(score)\n",
    "    print(\"Scores():\",score)\n",
    "\n",
    "# Assess the score\n",
    "def Assess(score):\n",
    "    print(\"Assess():\",score)\n",
    "    score +=1\n",
    "    print(\"Assess():\",score)\n",
    "    return score\n",
    "\n",
    "Scores()"
   ]
  },
  {
   "cell_type": "code",
   "execution_count": 113,
   "metadata": {},
   "outputs": [
    {
     "name": "stdout",
     "output_type": "stream",
     "text": [
      "Assess(): [89, 90, 96]\n",
      "Assess(): [90, 91, 97]\n",
      "Scores(): [90, 91, 97]\n"
     ]
    }
   ],
   "source": [
    "# define user input\n",
    "def Scores():\n",
    "    score = [89, 90, 96]\n",
    "    score = Assess(score)\n",
    "    print(\"Scores():\",score)\n",
    "\n",
    "# Assess the score\n",
    "def Assess(score):\n",
    "    print(\"Assess():\",score)\n",
    "    score = [e+1 for e in score]\n",
    "    print(\"Assess():\",score)\n",
    "    return score\n",
    "\n",
    "Scores()"
   ]
  },
  {
   "cell_type": "code",
   "execution_count": 138,
   "metadata": {},
   "outputs": [
    {
     "name": "stdout",
     "output_type": "stream",
     "text": [
      "[['松山區', '13~15', 11], ['大安區', '16~18', 35], ['大安區', '07~09', 30], ['萬華區', '13~15', 12], ['北投區', '07~09', 15], ['松山區', '16~18', 10], ['南港區', '04~06', 6], ['內湖區', '13~15', 8], ['北投區', '13~15', 22], ['內湖區', '04~06', 7], ['松山區', '10~12', 19], ['萬華區', '16~18', 16], ['南港區', '07~09', 13], ['萬華區', '07~09', 9], ['中正區', '10~12', 17], ['信義區', '07~09', 18], ['松山區', '04~06', 3], ['信義區', '10~12', 21], ['內湖區', '10~12', 8], ['北投區', '22~24', 7], ['南港區', '16~18', 10], ['北投區', '19~21', 22], ['松山區', '22~24', 6], ['中正區', '22~24', 10], ['南港區', '10~12', 9], ['北投區', '16~18', 19], ['文山區', '04~06', 8], ['大安區', '13~15', 24], ['萬華區', '10~12', 10], ['中山區', '16~18', 13], ['松山區', '19~21', 5], ['大同區', '19~21', 8], ['信義區', '19~21', 10], ['士林區', '13~15', 8], ['文山區', '07~09', 16], ['北投區', '10~12', 27], ['大安區', '19~21', 31], ['文山區', '01~03', 8], ['大安區', '10~12', 29], ['內湖區', '07~09', 5], ['萬華區', '22~24', 8], ['中山區', '13~15', 18], ['大安區', '04~06', 16], ['文山區', '22~24', 10], ['大安區', '01~03', 22], ['文山區', '10~12', 20], ['南港區', '22~24', 10], ['南港區', '13~15', 4], ['士林區', '10~12', 10], ['中正區', '13~15', 16], ['中山區', '19~21', 7], ['內湖區', '22~24', 6], ['大同區', '22~24', 4], ['大安區', '22~24', 19], ['大同區', '07~09', 14], ['文山區', '16~18', 16], ['大同區', '04~06', 11], ['信義區', '22~24', 13], ['中正區', '19~21', 15], ['文山區', '19~21', 17], ['信義區', '13~15', 12], ['中正區', '16~18', 21], ['大同區', '16~18', 16], ['信義區', '16~18', 12], ['士林區', '19~21', 11], ['中山區', '07~09', 4], ['內湖區', '16~18', 8], ['中正區', '01~03', 9], ['大同區', '01~03', 6], ['士林區', '01~03', 2], ['北投區', '01~03', 6], ['中山區', '10~12', 8], ['中山區', '04~06', 4], ['信義區', '04~06', 8], ['大同區', '13~15', 11], ['中山區', '22~24', 7], ['士林區', '16~18', 8], ['文山區', '13~15', 14], ['信義區', '01~03', 12], ['內湖區', '19~21', 9], ['萬華區', '19~21', 10], ['士林區', '22~24', 3], ['南港區', '19~21', 7], ['士林區', '07~09', 10], ['士林區', '04~06', 5], ['中正區', '07~09', 13], ['松山區', '01~03', 5], ['中正區', '04~06', 8], ['大同區', '10~12', 9], ['中山區', '01~03', 6], ['北投區', '04~06', 3], ['萬華區', '01~03', 8], ['萬華區', '04~06', 5], ['南港區', '01~03', 4], ['內湖區', '01~03', 4], ['松山區', '07~09', 3]]\n"
     ]
    }
   ],
   "source": [
    "#統計出所有資料（區域）\n",
    "\n",
    "def GetData(filename):\n",
    "    data = []\n",
    "    with open(filename, encoding=\"big5\") as f:\n",
    "        f.readline()\n",
    "        for line in f:\n",
    "            data.append(line.split(','))\n",
    "    return data\n",
    "\n",
    "def GetTime(record):\n",
    "     return record[3]\n",
    "\n",
    "def GetPlace(record):\n",
    "    return record[4][3:6]\n",
    "\n",
    "def StatisticGetPlace(data):\n",
    "    result = []\n",
    "    for record in data:\n",
    "        crimePlace = GetPlace(record)\n",
    "        crimeTime = GetTime(record)\n",
    "        \n",
    "        found = False\n",
    "        \n",
    "        for case in result:\n",
    "            if crimePlace == case[0] and crimeTime == case[1]:\n",
    "                case[2]+=1\n",
    "                found = True\n",
    "        \n",
    "        if not found:\n",
    "            result.append([crimePlace,crimeTime,1])\n",
    "    \n",
    "    return result\n",
    "    \n",
    "def main():\n",
    "    data = GetData('/Users/alston/bike.txt')\n",
    "    print(StatisticGetPlace(data))\n",
    "    \n",
    "    \n",
    "    \n",
    "main()"
   ]
  },
  {
   "cell_type": "code",
   "execution_count": null,
   "metadata": {},
   "outputs": [],
   "source": []
  }
 ],
 "metadata": {
  "kernelspec": {
   "display_name": "Python 3",
   "language": "python",
   "name": "python3"
  },
  "language_info": {
   "codemirror_mode": {
    "name": "ipython",
    "version": 3
   },
   "file_extension": ".py",
   "mimetype": "text/x-python",
   "name": "python",
   "nbconvert_exporter": "python",
   "pygments_lexer": "ipython3",
   "version": "3.7.4"
  }
 },
 "nbformat": 4,
 "nbformat_minor": 2
}
