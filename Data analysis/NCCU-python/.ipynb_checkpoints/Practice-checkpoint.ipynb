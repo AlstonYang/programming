{
 "cells": [
  {
   "cell_type": "code",
   "execution_count": 2,
   "metadata": {},
   "outputs": [],
   "source": [
    "import numpy as np"
   ]
  },
  {
   "cell_type": "code",
   "execution_count": 4,
   "metadata": {},
   "outputs": [
    {
     "data": {
      "text/plain": [
       "array([0, 1, 2, 3, 4, 5])"
      ]
     },
     "execution_count": 4,
     "metadata": {},
     "output_type": "execute_result"
    }
   ],
   "source": [
    "np.arange(6)"
   ]
  },
  {
   "cell_type": "code",
   "execution_count": 8,
   "metadata": {},
   "outputs": [
    {
     "data": {
      "text/plain": [
       "array([[[0.86518651, 0.86046003, 0.7875064 ],\n",
       "        [0.88396308, 0.20602528, 0.78827179]],\n",
       "\n",
       "       [[0.9957209 , 0.53091824, 0.66349953],\n",
       "        [0.56774327, 0.73373834, 0.33858899]]])"
      ]
     },
     "execution_count": 8,
     "metadata": {},
     "output_type": "execute_result"
    }
   ],
   "source": [
    "#從[0,1)抽樣取值\n",
    "np.random.random(12).reshape(2,2,3)"
   ]
  },
  {
   "cell_type": "code",
   "execution_count": 28,
   "metadata": {},
   "outputs": [
    {
     "name": "stdout",
     "output_type": "stream",
     "text": [
      "[8 8 4]\n",
      "[2 9 1]\n",
      "[2 9 1]\n",
      "92\n"
     ]
    }
   ],
   "source": [
    "#元素相乘\n",
    "np.random.seed(5566)\n",
    "a=np.random.randint(1,10,3)\n",
    "b=np.random.randint(1,10,3)\n",
    "print(a)\n",
    "print(b)\n",
    "# print(a*b)\n",
    "\n",
    "#轉置矩陣\n",
    "print(b.T)\n",
    "#矩陣相乘\n",
    "print(a.dot(b))"
   ]
  },
  {
   "cell_type": "code",
   "execution_count": 30,
   "metadata": {},
   "outputs": [],
   "source": [
    "import pandas as pd"
   ]
  },
  {
   "cell_type": "code",
   "execution_count": 31,
   "metadata": {},
   "outputs": [
    {
     "data": {
      "text/plain": [
       "0    1.0\n",
       "1    1.0\n",
       "2    1.0\n",
       "3    1.0\n",
       "dtype: float32"
      ]
     },
     "execution_count": 31,
     "metadata": {},
     "output_type": "execute_result"
    }
   ],
   "source": [
    "pd.Series(1,index=range(4),dtype='float32')"
   ]
  },
  {
   "cell_type": "code",
   "execution_count": 33,
   "metadata": {},
   "outputs": [
    {
     "data": {
      "text/plain": [
       "array([3, 3, 3, 3], dtype=int32)"
      ]
     },
     "execution_count": 33,
     "metadata": {},
     "output_type": "execute_result"
    }
   ],
   "source": [
    "np.array([3]*4,dtype='int32')"
   ]
  },
  {
   "cell_type": "code",
   "execution_count": 34,
   "metadata": {},
   "outputs": [
    {
     "data": {
      "text/plain": [
       "[9, 9, 9, 9, 9, 9, 9, 9, 9, 9]"
      ]
     },
     "execution_count": 34,
     "metadata": {},
     "output_type": "execute_result"
    }
   ],
   "source": [
    "[9]*10"
   ]
  },
  {
   "cell_type": "code",
   "execution_count": 35,
   "metadata": {},
   "outputs": [
    {
     "data": {
      "text/plain": [
       "Timestamp('2017-08-21 00:00:00')"
      ]
     },
     "execution_count": 35,
     "metadata": {},
     "output_type": "execute_result"
    }
   ],
   "source": [
    "pd.Timestamp('20170821')"
   ]
  },
  {
   "cell_type": "code",
   "execution_count": 40,
   "metadata": {},
   "outputs": [],
   "source": [
    "df2 = pd.DataFrame({\n",
    "    \n",
    "    'decimal':pd.Series(1, index=range(4), dtype='float32'),\n",
    "    'int':np.array([3]*4, dtype='int32'),\n",
    "    'Time':pd.Timestamp('20170821'),\n",
    "    'DataType':pd.Categorical(['Test','Train','Test','Train'])\n",
    "})"
   ]
  },
  {
   "cell_type": "code",
   "execution_count": 43,
   "metadata": {},
   "outputs": [
    {
     "name": "stdout",
     "output_type": "stream",
     "text": [
      "       decimal  int\n",
      "count      4.0  4.0\n",
      "mean       1.0  3.0\n",
      "std        0.0  0.0\n",
      "min        1.0  3.0\n",
      "25%        1.0  3.0\n",
      "50%        1.0  3.0\n",
      "75%        1.0  3.0\n",
      "max        1.0  3.0\n"
     ]
    }
   ],
   "source": [
    "# print(df2.dtypes)\n",
    "print(df2.describe())"
   ]
  },
  {
   "cell_type": "code",
   "execution_count": 49,
   "metadata": {},
   "outputs": [
    {
     "name": "stdout",
     "output_type": "stream",
     "text": [
      "   decimal  int       Time DataType\n",
      "0      1.0    3 2017-08-21     Test\n",
      "2      1.0    3 2017-08-21     Test\n",
      "1      1.0    3 2017-08-21    Train\n",
      "3      1.0    3 2017-08-21    Train\n"
     ]
    }
   ],
   "source": [
    "# print(df2.T)\n",
    "\n",
    "#排序columns的index\n",
    "# print(df2.sort_index(axis=1, ascending=False))\n",
    "\n",
    "#排序值\n",
    "print(df2.sort_values(by='DataType'))"
   ]
  },
  {
   "cell_type": "markdown",
   "metadata": {},
   "source": [
    "## Python 串接API"
   ]
  },
  {
   "cell_type": "code",
   "execution_count": 50,
   "metadata": {},
   "outputs": [],
   "source": [
    "import json\n",
    "import requests"
   ]
  },
  {
   "cell_type": "code",
   "execution_count": 77,
   "metadata": {},
   "outputs": [],
   "source": [
    "token='EAAZAMNmLJhkMBALmvfKFKzZBa391BPLjYwMAJLfZCEtbDBbCJRyZBXZC96DPeSZALCH7ssIHPO5x5FLggs7xZCyLeAjANJG72ycJBmZAaZB9Uv3w7SFWe2qHSrCc1GQb2EpctenoqUPIJJtnARbYQKqDFz3NNN0ItNZCtydrZBoH2caBq1SLhs02vClQwwZCVKytoOYEWg7IwDBRaQZDZD'\n",
    "url = 'https://graph.facebook.com/v9.0/748209631865311?fields=posts'\n",
    "\n",
    "\n",
    "res = requests.get(url+'&access_token={}'.format(token))"
   ]
  },
  {
   "cell_type": "code",
   "execution_count": 111,
   "metadata": {},
   "outputs": [
    {
     "name": "stdout",
     "output_type": "stream",
     "text": [
      "{'posts': {'data': [{'created_time': '2017-03-26T01:44:00+0000', 'message': '好想回家 😭😭😭', 'id': '748209631865311_1464871200199147'}, {'created_time': '2017-03-24T04:48:49+0000', 'message': '還沒領取預購週商品的朋友們，儘快到我們攤位取貨哦～～～～', 'id': '748209631865311_1463085697044364'}, {'created_time': '2017-03-22T16:04:40+0000', 'message': '開獎開獎開獎開獎', 'story': '淡江大學文化週【金門校友會】的直播影片。', 'id': '748209631865311_1461458737207060'}, {'created_time': '2017-03-17T14:02:48+0000', 'message': '💪💪💪', 'id': '748209631865311_1456792741006993'}, {'created_time': '2017-03-15T08:03:24+0000', 'message': '各位 預購的最後一天請大家好好把握窩\\n擺攤時間到5點！！！！\\n好吃的貢糖、牛肉乾、還有金門麵線👍👍👍', 'id': '748209631865311_1454780954541505'}, {'created_time': '2017-03-12T17:19:34+0000', 'story': '淡江大學文化週【金門校友會】更新了大頭貼照。', 'id': '748209631865311_1452341384785462'}, {'created_time': '2017-03-12T12:32:44+0000', 'id': '748209631865311_1452044544815146'}, {'created_time': '2017-03-12T04:46:36+0000', 'message': '嗨 Hello もしもし Bonjour 안녕하세요\\n今天的小編又是我金門王\\n本王的褲子跟外套昨天已經拿去洗了\\n所以想當然也沒有口袋了\\n在這種情況下我就來就紹一下我桌上的這罐金門高粱吧\\n--------------------------------#徵大炳--------------------------------\\n首先，我們來談談名字\\n顧名思義，他的\"唯一\"產地就是金門\\n你所看到的正版金門高粱酒都出自於僅有一間的金門酒廠\\n高粱經過酒廠的各種繁雜程序、存入地窖、完成檢測後就會裝瓶出廠後，就是現在看到的金門高粱啦~\\n\\n再來，我們來談談紅白標的區別吧\\n58度的金門高粱分為紅標和白標\\n差別在哪裡呢\\n\\n\"沒有差別\"\\n\"沒有差別\"\\n\"沒有差別\"\\n\\n紅標跟白標的差別只有貼在玻璃瓶上那張貼紙的顏色\\n分顏色的目的只是為了區分金門本地經銷商和台灣經銷商\\n金門使用紅色，本島使用白色\\n也因為紅標只有金門販售數量較少的原因，價格約會比白高高出30~50元喔!\\n\\n最後我來說說年分，放越久會越貴是因為高粱再經過時間的存放後，嗆辛味會逐漸淡化，喝起來會更順口，經過約4、5年的存放後就會有明顯的差異了，當然如果你口袋夠深，也有人收藏超過20年的，想嘗嘗看嗎 ? 如果你從漁人碼頭游到金門我家的地窖都給你喝!\\n--------------------------------#徵大炳--------------------------------\\n#桌上真的有高梁      #首先我要有個地窖\\n#本文不代表本專頁及本編立場\\n--------------------------------#徵大炳--------------------------------\\n我們對金門的介紹先在這篇貼文告一段落\\n晚些時候將會釋出抽獎的相關訊息\\n敬啟期待< 3\\n(先在這裡透漏頭獎是高粱喔喔喔喔喔!!!)\\n\\n預購週：3/13 - 3/17 商館前\\n文化週：3/20 - 3/24 海報街', 'id': '748209631865311_1451713434848257'}, {'created_time': '2017-03-12T10:39:39+0000', 'message': '*************金友會 文化週抽獎活動*************\\n\\n【抽獎活動訊息】\\n活動時間：*******已截止******\\n只要完成以下步驟，即可參加抽獎：\\n1. 到《淡江大學文化週【金門校友會】》粉絲專頁按讚\\n2.「公開」分享此文\\n3. 在本文章留言『快來金門校友會抽好康』並TAG三位好友\\n\\n我們將從留言中抽出8名幸運得主\\n獎品包括：\\n     58度0.6L 紅標金門高粱酒 (一名)\\n     原味麵線一包（兩名)\\n     原味牛肉乾一包 (兩名)\\n     原味貢糖一包（三名）\\n\\n得獎公布:將於活動截止後抽出\\n獎品領取：統一由紛絲專頁私訊得獎者，3/23-3/24請至金門校友會攤位領取，領取時請出示粉絲團私訊記錄\\n\\n小提醒：\\n★領獎必須親自至攤位領取，恕不郵寄或代領哦\\n★分享貼文時一定要設定公開唷!\\n★地點都在海報街喔~~~', 'id': '748209631865311_1452344368118497'}, {'created_time': '2017-03-11T04:20:15+0000', 'message': '大家好～今天又輪到牛小編來和大家介紹金門的美食啦🙋🏼\\u200d♂️🙋🏼\\u200d♂️🙋🏼\\u200d♂️\\n\\n今天，我們要介紹的是觀光客來到金門必吃的「金門牛家莊🐂」！不僅是觀光客，連我們當地人都是愛不釋手，動不動就去牛一下的喔！😆😆\\n\\n對了對了，牛家莊也是使用金門醉生夢死酒糟牛來料理的哦～也是相當新鮮的溫體牛😋\\n\\n小編跟大家介紹我最喜歡的一道料理，就是「薯香牛腩（ㄋㄢˇ）啦～」！千萬別以為它有看起來的這麼普通。每一塊馬鈴薯都是先微炸過，外酥內香又有牛伯伯的體味😳，堪稱一絕呀！\\n滿滿的牛腩，肉質鮮嫩肥美多汁😲加上紅蘿蔔以及馬鈴薯，再淋上熱騰騰的勾芡，吃過敢說不好吃的，小編幫你/妳付錢啦😤❤️✌️\\n\\n另外一道是我們的「紅燒牛筋」。光看就很好吃了，吃起來怎麼樣呢🤔🤔就請你/妳們自己來體會啦！！！\\n\\nP.s牛肉麵不用說，當然也是豪好吃的唷\\n\\n「但薯香牛腩（ㄋㄢˇ）最讚！我不管🕺🏻😍😍」\\n\\n----------------------------\\n03/13-03/17  預購週（商管前\\n03/20-03/24 文化週（海報街\\n\\n快點來找牛小編啦🙋🏼\\u200d♂️🙋🏼\\u200d♂️😍', 'id': '748209631865311_1450512668301667'}, {'created_time': '2017-03-09T05:02:14+0000', 'message': '嗨～～\\n小編今天又要來介紹美食，今天要來介紹這家家喻戶曉的\"談天樓\"，它是一家賣湯圓的店，有鹹的、有甜的、有熱的、有冰的，而店裡的招牌是-酒釀湯圓，甜酒釀+蛋花煮成的湯底，充滿酒香與微微蛋香，相當順口，加上原本就好吃的湯圓，是來金門值得一試的美食喔👍👍👍\\n不只有這樣店內還有鹹湯圓、冰的紅豆湯圓等各式各樣的湯圓等你們喔!!!!!!!\\n-----------------------------------------------\\n別忘了要持續關注我們，有更多好康活動陸續出現\\n\\n預購週：3/13-3/17     在商管前\\n文化週：3/20-3/24    在海報街', 'id': '748209631865311_1447633905256210'}, {'created_time': '2017-03-07T03:04:09+0000', 'message': '✨金門彩繪風光✨\\n來到金門，不仿來趟環島吧？\\n租一輛腳踏車代步\\n迎著涼涼微風、追著煦煦陽光\\n尋著「金門的古色古香」\\n路途中你會看見\\n屬於金門特色的村落彩繪\\n\\n💋貼心提示：陽翟、上堡、下堡\\n\\n🎵～🎵～🎵～\\n親愛的，要預購，從哪天起？\\n\\n👇🏻👇🏻👇🏻👇🏻👇🏻👇🏻\\n\\n⚠️預購週，商管前：3/13-3/17 \\n⚠️金門週，海報街：3/20-3/24\\n\\n要訂要快，會爆ㄛ💥💥💥\\n小編寶寶說再見✋🏻', 'id': '748209631865311_1444727798880154'}, {'created_time': '2017-03-06T12:19:53+0000', 'message': '打給厚～\\n又到了一天一次的小編推薦時間\\n今天小編要介紹的是     一條根\\n      \\n--------------------------------------------------------------------\\n\\n各位有沒有早上起床脖子酸肩膀酸背酸的感覺啊\\n還是打完球大腿酸小腿酸的感覺啊\\n那麼各位就一定要來試試看來使用我們的一條根吧吧吧！！！\\n我們的一條根不只有藥布還有噴劑哦可以更方便使用哦\\n還不敢快來我們金友會買一組回家放啊！\\n\\n--------------------------------------------------------------------\\n\\n預購週會公佈我們的優惠還有活動哦！！\\n快快邀請親朋好友來關注粉專哦\\n\\n預購週：3/13～3/17商館前\\n文化週：3/20～3/24海報街', 'id': '748209631865311_1443985378954396'}, {'created_time': '2017-03-05T10:20:13+0000', 'message': '大家好 \\n小編今天要來介紹一家小吃店\\n這一間小吃店可是不簡單啊\\n它可是金門炒泡麵的創始店-鴻美餐飲\\n同時它也是當年阿兵哥們的回憶啊\\n------------------------------\\n這間小吃店其實有一半是雜貨店 一半是餐廳\\n而店裡最有名的不外乎就是炒泡麵\\n當然除炒泡麵之外呢 也有很多其他餐點\\n像小編 就喜歡來個炒泡麵+雞排+蔥花蛋\\n不僅又好吃又滿足哦~~\\n說到這小編又要餓啦~~~\\n\\n不過對於第一次來這家小吃店的朋友來說\\n可能會找不太到這間店的位子\\n所以小編建議找人帶路會比較好哦~~\\n\\n---------------------------------\\n距離我們預購週的時間愈來愈近囉~~\\n好康的活動也將在近期當場囉~~\\n請大家繼續關注我們!!\\n預購週：3/13 - 3/17 商館前\\n文化週：3/20 - 3/24 海報街', 'id': '748209631865311_1442826019070332'}, {'created_time': '2017-03-04T09:00:00+0000', 'message': '文化週一天一天地逼近\\n大家是不是都很期待阿~\\n▪▫▪▫▪▫▪▫▪▫▪▫▪▫▪▫▪▫▪▫▪▫▪▫▪\\n今天小編要來介紹金門非常特別且具戰地形象的特產\\n【子彈餅】\\n這個產品是由金門老字號  《陳金福號貢糖》發想且製作\\n形似子彈且有多種口味\\n並且盒子是精心製作的鐵盒\\n打開的感覺就跟打開真正的子彈一樣呢！\\n成為獨一無二的「新金門特產」\\n▪▫▪▫▪▫▪▫▪▫▪▫▪▫▪▫▪▫▪▫▪▫▪▫▪\\n謝謝大家對我們粉絲專頁的關注\\n我們即將要公布我們的活動資訊了！！\\n請繼續多多關注我們的粉絲專頁哦\\n\\n預購週：3/13 - 3/17 商館前\\n文化週：3/20 - 3/24 海報街', 'id': '748209631865311_1441408335878767'}, {'created_time': '2017-03-03T01:37:42+0000', 'message': '嗨       Hello   もしもし    Bonjour    안녕하세요\\n今天的小編是到淡水流浪已久的金門王\\n因為本編的口袋已經被前幾天的翻光了\\n所以我只好把我暗袋名單拿出來啦\\n今天我要掏出的是金門的閩式燒餅~\\n--------------------------------我是分隔島--------------------------------\\n金門燒餅正其名為閩式燒餅\\n首先，這燒餅特別的地方在於食用方法\\n不同於臺灣本島經常夾著油條、蛋食用\\n閩式燒餅是在烘烤過程中就已經包入餡料了\\n餡料分為多少種呢 ?\\n只有包著麥芽糖的甜燒餅和封入豬碎肉的鹹燒餅兩種喔 !\\n分辨的方法非常非常簡單\\n甜的是橢圓形的，鹹的是圓形的\\n無論是那多層次的香酥外皮包有幸福的焗香千層餅佐麥芽\\n亦或者是那飽含豚腿精華的金式世界紀錄燒千層酥餅\\n都是本編朝思暮想的家鄉味啊~\\n但是金門最有名的三間燒餅專賣店\"金一\" \"三寶齋\" \"閩式\"\\n經常在拉起鐵門後兩小時就售罄啦\\n不過沒關係，因為有賣廣東粥的店家也都會販售自家的燒餅喔 !\\n想品嘗看看嗎 ?\\n買張機票，帶著皮夾，一起去排隊啦<3\\n--------------------------------我是分隔島--------------------------------\\n#好餓 #徵大炳 #流浪回金門\\n--------------------------------我是分隔島--------------------------------\\n謝謝大家對我們粉絲團的關注及支持\\n我們會帶給大家更多的金門特產\\n請繼續關注我們的粉絲團哦 !\\n預購週：3/13 - 3/17 商館前\\n文化週：3/20 - 3/24 海報街', 'id': '748209631865311_1440090769343857'}, {'created_time': '2017-03-02T08:35:46+0000', 'message': '嗨~\\n今天小編要來推薦金門排隊美食《蚵嗲之家》的蚵嗲，這家蚵嗲都是老闆娘現做的，能夠在現場看到老闆娘在鐵勺上先鋪上一層麵糊，放上大量的高麗菜及紅蘿蔔絲，上面擺上不少顆新鮮蚵仔，最後以麵糊封起來後，放入油鍋炸熟。剛炸好的蚵嗲很燙口，搭配他們家自己調配的蒜蓉醬，大口咬下，外皮香脆、裡面柔軟，是來金門必吃的美食。\\n\\n另外這裡還有賣芝麻球，一共有3種不同的口味，大家不妨可以來試試喔~\\n—————————————————————————\\n當然在這幾天也會有很多好吃的美食\\n\\n3/13-3/17 預購週 商館前\\n3/20-3/24 文化週 海報街', 'id': '748209631865311_1439346769418257'}, {'created_time': '2017-03-01T08:14:06+0000', 'message': '嗨~~\\n大家好，大家晚上是不是坐在電腦前面，打電動，打報告呢？就在這時候，突然感到肚子餓，嘴饞，那我給你們介紹一下金門一口酥，小而巧，甜而不膩，也不會太沾手，重點是又超級好吃哦~~\\n\\n簡單介紹一下一口酥：\\n\\n顧名思義，「一口酥」只有一口的大小，外層是多層的花生酥，內餡是花生粉，通常帶有淡淡的蒜頭味，入口即化，但也容易碎開。在金門大多用來當作招待客人的茶點。當客人來訪，煮人家就會泡一壺茶，並拿出點心佐茶。「一口酥」是其中最有名的點心。\\n\\n——————————分隔線—————————————\\n\\n3/13-3/17 預購週 商館前\\n3/20-3/24 文化週 海報街', 'id': '748209631865311_1438370632849204'}, {'created_time': '2017-02-28T07:29:59+0000', 'message': '我就是小編啦 捧個場囉🙋🏼\\u200d♂️🎉🎉', 'id': '748209631865311_1437275366292064'}, {'created_time': '2017-02-28T06:47:45+0000', 'message': '同學們！今天2/28，讓小編帶你/妳認識紅遍大江南北的金門牛 🐂🐂🐂\\n\\n為什麼說金門牛厲害呢？因為我們的牛伯伯還有牛咩咩都是吃酒糟長大的哦！肉質非常的鮮嫩多汁，其原因可能是因為每天都醉生夢死啊～🤔🤔😂\\n\\n如果來到當地的話絕對要來吃一下我們的「鮮刷酒糟牛肉麵」新鮮的溫體牛加上精心熬製的高湯直接給它燙到半熟，好過癮好殘忍好好吃啊🤤🤤\\n\\n當然，由金門酒糟牛所製成的系列產品也是不容錯過的唷！\\n\\n3/13～3/17 預購週（商館前）\\n3/20～3/24 文化週（海報街）\\n金門在等著你/妳們認識啊～🎉🎉🎉\\n\\n順帶一提 小編我騎牛上學的哦🙋🏼\\u200d♂️🐂🏫', 'id': '748209631865311_1437247226294878'}, {'created_time': '2017-02-27T08:46:45+0000', 'message': '嗨～\\n今天我們要來介紹，在地人與觀光客都最愛的金門的傳統美食。\\n\\n廣東粥\\n\\n金門的廣東粥，其實正確學名是：粥糜\\n也就是所謂的無米粥，把米粒熬到化為無形，看似有形，實為無形，是為糜，是獨一無二的在地美食。\\n金門廣東粥有放蛋花、芹菜末、豬肝、鮮肉丸子、炸土魠魚、肉條等..\\n肉丸子超新鮮又嫩又鹹香夠味，豬肝也是很新鮮又很肥厚。\\n有歷史的金門粥糜\\n因為戰地時期，米是奢侈品，所以很珍惜的熬成粥糜，\\n即使是無米粥，也得以裹腹，是金門的風味美食，也是在地人的早餐。\\n\\n鹹粿炸\\n\\n鹹粿炸是位於金城鎮邱良功母節孝坊旁的傳統老店家，一家看似不起眼的店家，其實是傳承百年歷史。店家至今堅持使用古早的爐灶，利用柴火來炸鹹粿，造就外酥內軟的特酥口感，再搭配上特製酸辣椒醬，特別的好吃。\\n\\n---------------------我也是分隔線-------------------------\\n謝謝大家對我們粉絲專頁的關注\\n接下來到預購週之前，我們還會持續介紹金門的很多東西！\\n請繼續多多關注我們的粉絲專頁哦！！\\n\\n預購週：3/13～3/17商館前\\n文化週：3/20～3/24海報街\\n---\\n圖片via\\nhttps://goo.gl/KVG2YP\\nhttps://goo.gl/YYx5UP', 'id': '748209631865311_1436000826419518'}, {'created_time': '2017-02-26T12:34:02+0000', 'message': '嗨 ✋\\n\\n讓小編帶著各位認識除了吃以外的金門。\\n金門分為大金門與小金門，往返的交通工具倚靠船隻。而今日便要向大家介紹小金門其中兩個堡壘。\\n\\n從前戰火頻仍，士兵便挖掘了兩個堡壘。堡壘沿岸設置，環繞著整個小金門海岸，主要是防守與監控作用。\\n\\n鐵漢堡、勇士堡是兩個相通的堡壘，經過整理後成了觀光景點。裡頭有許多道路，卻因標示的清楚不以致於迷路。\\n\\n小編知道你不想看字，以下簡單介紹：\\n👉「地雷主題館」\\n👉「標誌介紹區」\\n👉「機械介紹區」\\n\\n有ㄐ會來金門17冒險ㄅ。\\n\\n———————————————\\n探險也4會餓的👇\\n\\n3/13-3/17 預購週 (商館前)\\n3/20-3/24 文化週 (海報街)\\n等你ㄛ❤️', 'id': '748209631865311_1435140666505534'}, {'created_time': '2017-02-25T11:00:07+0000', 'message': '228連假的第一天   大家有沒有玩的盡興啊！！\\n在前兩天看到那藏在街道裡的隱藏美食，讓連假不能回家的小編開始流口水啦。\\n所以今天不推薦美食了，今天就來說說金門菜刀吧！！！\\n\\n-----------------------我是分隔線---------------------------\\n\\n金門菜刀是金門的特產之一，使用八二三炮戰期間中國砲擊金門的砲彈彈片、彈頭所製造，因菜刀鋒利耐用而著名，又稱砲彈鋼刀。\\n\\n在八二三炮戰的時候，中國使用榴彈和砲宣彈砲擊金門，在這20年間使用超過100萬枚砲彈打在金門上，而這些炮彈就變成了各把鋼刀所需要的主要材料。\\n\\n砲戰後，金合利鋼刀店老闆搜購島內的廢棄彈殼，將其用於鍛造刀具。由於彈頭的鋼鐵品質極佳，以之打製出來的菜刀也特別鋒利、耐用，鋼中帶韌的特性，即使切割硬物也不易變形，使金門菜刀在台灣島內遠近馳名呢！！！\\n\\n各位客官們想想如此小的金門曾經被如此猛烈砲火轟炸，現在卻物盡其用拿這些炮彈來製作鋼刀，這是多麼的厲害啊。如果有機會來金門旅遊，歡迎帶幾把菜刀當伴手禮哦！\\n\\n---------------------我也是分隔線-------------------------\\n\\n謝謝大家對我們粉絲專頁的關注\\n接下來到預購週之前，我們還會持續介紹金門的很多東西！\\n請繼續多多關注我們的粉絲專頁哦！！\\n最後祝各位228連假玩的開心！下雨趕快停！\\n\\n預購週：3/13～3/17商館前\\n文化週：3/20～3/24海報街', 'id': '748209631865311_1434070666612534'}, {'created_time': '2017-02-24T11:04:28+0000', 'message': 'Hi大家好\\u3000\\n昨天跟大家介紹了隱藏版的包子饅頭\\n引起不少朋友們的關注、討論\\n所以今天又要帶給大家不同風味的美食囉\\n\\n而這間店的名子就叫\\u3000合泉平價中心\\n一間看似平凡的鄉間小雜貨店\\n其實隱藏著金門旅遊必吃的美食\\n這間店的菜單有四樣-\\n炒泡麵、蛋狗、蛋香、雜七雜八\\n炒泡麵大家應該都聽過\\n但什麼是蛋狗?蛋香?雜七雜八?\\n簡單來說\\n蛋狗=蛋餅包著熱狗 \\n蛋香=蛋餅包著香腸\\n雜七雜八則是一盤綜合炸物的概念\\n\\n雖然說是蛋餅包著熱狗、香腸\\n但是他們的蛋餅跟普通的蛋餅皮較不一樣\\n不管是外觀還是口感都非常酥脆\\n再搭配上特殊醬料\\n已經成為小編回金門必去的行程之一\\n所以有機會來金門的朋友們\\n可別忘記去嚐嚐看哦!!\\n\\n---------------------\\n謝謝大家對我們粉絲團的關注及支持\\n我們會持續帶給大家更多東西\\n所以請繼續關注我們的粉絲團哦!!\\n最後祝大家連假快樂哦!!\\n\\n預購週：3/13 - 3/17 商館前\\n文化週：3/20 - 3/24 海報街', 'id': '748209631865311_1433101730042761'}, {'created_time': '2017-02-23T11:09:13+0000', 'message': '大家好！又到了淡江一年一度的聯合文化週拉！\\n我們金門校友會今年也會帶來非常多的商品\\n請大家拭目以待瞜！\\n\\n▪▫▪▫▪▫▪▫▪▫▪▫▪▫▪▫▪▫▪▫▪▫▪▫▪▫\\n\\n今天我要來介紹金門的隱藏美食！\\n就是《京采創意鰻頭包子》\\n這家包子饅頭店是以 \" 創意且兼具美味 \" 出名\\n包子的項目琳瑯滿目\\n當中最出名且最搶手的就是他的 \" 黑珍珠鰻頭 \" \\n黑糖饅頭中心圈住一塊Q軟的黑糖糕\\n不僅創意滿分！口感味道更是不在話下阿！\\n身為在地金人的小編真的真的非常推薦阿~~\\n\\n但要提醒大家，一定要提早去買\\n不然大約7點就賣完了\\n而請可能要排隊呦\\n要去金門玩的同學不妨去吃吃看好吃的京采創意鰻頭包子喔！\\n\\n▪▫▪▫▪▫▪▫▪▫▪▫▪▫▪▫▪▫▪▫▪▫▪▫▪▫\\n\\n最後一定要提一下，未來粉絲團會有好康活動\\n請各位同學家長密切關注我們的粉絲專頁喔！\\n\\n預購週：3/13 - 3/17  商館前\\n文化週：3/20 - 3/24  海報街', 'id': '748209631865311_1432144243471843'}], 'paging': {'cursors': {'before': 'QVFIUjdkTktWaDhBVFk4VDF3M2xMcmJlSWlVZATljU0JnWHpIdlhyYVJlQlBXLVc0bUVhMFNtRjBCS0tWbkZAKcnlVNWZAENEduWXhaQlZAKUF8wNkpGVkVCcmhra1BFR05RNmI2aVRac3JIZATg0cnhNdkRUNEhSR1BwbEMyY0tVaS1jc1Rk', 'after': 'QVFIUnhzVjlIUW1qZAHAtSFFjSzVEdVlsanhRTVFvSjdoVm9DaFAtV0JtMFdRaTloU1hLRzBpbXk1RGxDYk8tSVdLZAHJPMmF1RE1xLVFPS2FBTUJTZAlVfN2ItQVl2b3htNjZAYcTF2c1JCTVE4MERqOWpoTFZAXbFFxTGVvcnNES1NXLTVx'}, 'next': 'https://graph.facebook.com/v9.0/748209631865311/posts?access_token=EAAZAMNmLJhkMBALmvfKFKzZBa391BPLjYwMAJLfZCEtbDBbCJRyZBXZC96DPeSZALCH7ssIHPO5x5FLggs7xZCyLeAjANJG72ycJBmZAaZB9Uv3w7SFWe2qHSrCc1GQb2EpctenoqUPIJJtnARbYQKqDFz3NNN0ItNZCtydrZBoH2caBq1SLhs02vClQwwZCVKytoOYEWg7IwDBRaQZDZD&limit=25&after=QVFIUnhzVjlIUW1qZAHAtSFFjSzVEdVlsanhRTVFvSjdoVm9DaFAtV0JtMFdRaTloU1hLRzBpbXk1RGxDYk8tSVdLZAHJPMmF1RE1xLVFPS2FBTUJTZAlVfN2ItQVl2b3htNjZAYcTF2c1JCTVE4MERqOWpoTFZAXbFFxTGVvcnNES1NXLTVx'}}, 'id': '748209631865311'}\n",
      "https://graph.facebook.com/v9.0/748209631865311/posts?access_token=EAAZAMNmLJhkMBALmvfKFKzZBa391BPLjYwMAJLfZCEtbDBbCJRyZBXZC96DPeSZALCH7ssIHPO5x5FLggs7xZCyLeAjANJG72ycJBmZAaZB9Uv3w7SFWe2qHSrCc1GQb2EpctenoqUPIJJtnARbYQKqDFz3NNN0ItNZCtydrZBoH2caBq1SLhs02vClQwwZCVKytoOYEWg7IwDBRaQZDZD&limit=25&after=QVFIUnhzVjlIUW1qZAHAtSFFjSzVEdVlsanhRTVFvSjdoVm9DaFAtV0JtMFdRaTloU1hLRzBpbXk1RGxDYk8tSVdLZAHJPMmF1RE1xLVFPS2FBTUJTZAlVfN2ItQVl2b3htNjZAYcTF2c1JCTVE4MERqOWpoTFZAXbFFxTGVvcnNES1NXLTVx\n"
     ]
    }
   ],
   "source": [
    "fanpage = json.loads(res.text)\n",
    "# print(fanpage['data'])\n",
    "# print(len(fanpage['posts']['data']))\n",
    "# print(fanpage['posts']['data'][0])\n",
    "print(fanpage)\n",
    "\n",
    "print(fanpage['posts']['paging']['next'])"
   ]
  },
  {
   "cell_type": "code",
   "execution_count": 2,
   "metadata": {},
   "outputs": [],
   "source": [
    "import jieba\n",
    "from nltk.corpus import stopwords"
   ]
  },
  {
   "cell_type": "code",
   "execution_count": 18,
   "metadata": {},
   "outputs": [
    {
     "name": "stderr",
     "output_type": "stream",
     "text": [
      "Building prefix dict from /Users/alston/NCCU Python/dict.txt ...\n",
      "Loading model from cache /var/folders/6n/tmwg_8tj28z2lrqcbsf3kqw00000gn/T/jieba.u4f5fbf212928c3685bd2ecccbf66dcd3.cache\n",
      "Loading model cost 1.210 seconds.\n",
      "Prefix dict has been built succesfully.\n"
     ]
    }
   ],
   "source": [
    "jieba.set_dictionary('dict.txt')\n",
    "stop = stopwords.words('stop.txt')\n",
    "jieba.load_userdict('addDict.txt')"
   ]
  },
  {
   "cell_type": "code",
   "execution_count": 26,
   "metadata": {},
   "outputs": [
    {
     "name": "stdout",
     "output_type": "stream",
     "text": [
      "打/好打/滿七/場大/賽精/彩無/比過/程不/少細/節值/得討/論例/如兄/弟方/面首/戰何/在段局/勢先/啟用鄭/凱/文不/是牛/棚最/強李/振/昌第/四/戰何/要勝/利組牛/棚負/擔較多局/數第/六/戰米/蘭/達在/換投時/機有/沒/有改/善空/間獅/隊能/夠奪/冠自相/應理/由三/戰火/力爆/發獅/子/軍何/能迅/速做/出調/整難/道只/是球/員狀/況調/整得/宜嗎整/個系/列/賽表/現搶/眼獅/隊老/將們帶/給啟/示\n"
     ]
    }
   ],
   "source": [
    "words = \"打好打滿的七場台灣大賽精彩無比，過程中也有不少細節值得討論，例如兄弟方面，首戰為何在後段局勢先啟用鄭凱文而不是牛棚最強的李振昌？第四戰又為何要讓勝利組牛棚負擔較多局數？第六戰的米蘭達在換投時機上有沒有可以改善的空間？而獅隊能夠奪冠自也有相應理由，在後三戰火力大爆發的獅子軍為何能迅速做出調整，難道只是球員狀況調整得宜嗎？在整個系列賽表現搶眼的獅隊老將們，又帶給了我們什麼啟示呢？\"\n",
    "words = jieba.cut(words, cut_all=False)\n",
    "# print('/'.join(words))\n",
    "\n",
    "\n",
    "\n",
    "fixed_text=''\n",
    "\n",
    "for word in words:\n",
    "    if word not in stop:\n",
    "        fixed_text+='/'.join(word)\n",
    "\n",
    "print(fixed_text)\n",
    "\n",
    "\n",
    "\n"
   ]
  },
  {
   "cell_type": "code",
   "execution_count": 15,
   "metadata": {},
   "outputs": [],
   "source": []
  },
  {
   "cell_type": "code",
   "execution_count": null,
   "metadata": {},
   "outputs": [],
   "source": []
  }
 ],
 "metadata": {
  "kernelspec": {
   "display_name": "Python 3",
   "language": "python",
   "name": "python3"
  },
  "language_info": {
   "codemirror_mode": {
    "name": "ipython",
    "version": 3
   },
   "file_extension": ".py",
   "mimetype": "text/x-python",
   "name": "python",
   "nbconvert_exporter": "python",
   "pygments_lexer": "ipython3",
   "version": "3.7.4"
  }
 },
 "nbformat": 4,
 "nbformat_minor": 2
}
