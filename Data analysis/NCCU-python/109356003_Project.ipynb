{
 "cells": [
  {
   "cell_type": "markdown",
   "metadata": {},
   "source": [
    "# 109356003-楊仁瀚: Term Project"
   ]
  },
  {
   "cell_type": "code",
   "execution_count": 7,
   "metadata": {},
   "outputs": [],
   "source": [
    "import pandas as pd\n",
    "import numpy as np"
   ]
  },
  {
   "cell_type": "markdown",
   "metadata": {},
   "source": [
    "### Part I"
   ]
  },
  {
   "cell_type": "code",
   "execution_count": 8,
   "metadata": {},
   "outputs": [],
   "source": [
    "## Reading the input file\n",
    "df = pd.read_csv(\"/Users/alston/NCCU Python/Project/Scale_in.csv\")\n",
    "\n",
    "## Convert the data type to np.array\n",
    "x = np.array(df)\n",
    "\n",
    "## Use \"for-loop\" statement to turn the numbers in the Number-Scale Table into the corresponding scales \n",
    "for i in range(len(x)):\n",
    "    for j in range(len(x[i])):\n",
    "    \n",
    "        element = x[i,j]\n",
    "    \n",
    "        if type(element)==str:\n",
    "            x[i,j] = element\n",
    "\n",
    "        else:\n",
    "            element = float(element)\n",
    "\n",
    "            if element>=2:\n",
    "                x[i,j] = float(5)\n",
    "            elif element>=1.5 and element<2:\n",
    "                x[i,j] = float(4)\n",
    "            elif element>=1 and element<1.5:\n",
    "                x[i,j] = float(3)\n",
    "            elif element>=0.5 and element<1:\n",
    "                x[i,j] = float(2)\n",
    "            elif element>=0 and element<0.5:\n",
    "                x[i,j] = float(1)\n",
    "            elif element>=-0.5 and element<0:\n",
    "                x[i,j] = float(-1)\n",
    "            elif element>=-1 and element<-0.5:\n",
    "                x[i,j] = float(-2)\n",
    "            elif element>=-1.5 and element<-1:\n",
    "                x[i,j] = float(-3)\n",
    "            else:\n",
    "                x[i,j] = np.nan"
   ]
  },
  {
   "cell_type": "code",
   "execution_count": 9,
   "metadata": {},
   "outputs": [
    {
     "name": "stdout",
     "output_type": "stream",
     "text": [
      "     Structure Group 1 Group 2 Group 3 Group 4\n",
      "0  Structure 1     NaN     NaN      -1     NaN\n",
      "1  Structure 2      -2      -1      -1      -1\n",
      "2  Structure 3     NaN     NaN      -2     NaN\n",
      "3  Structure 4       3     NaN     NaN     NaN\n",
      "4  Structure 5       4     NaN     NaN     NaN\n",
      "5  Structure 6       3     NaN     NaN     NaN\n",
      "6  Structure 7     NaN     NaN     NaN     NaN\n",
      "7  Structure 8       3     NaN     NaN     NaN\n",
      "8  Structure 9       2     NaN       2     NaN\n"
     ]
    }
   ],
   "source": [
    "## Convert the data type to pd.DataFrame\n",
    "df1 = pd.DataFrame(x)\n",
    "df1.columns = [\"Structure\", \"Group 1\", \"Group 2\", \"Group 3\",\"Group 4\"]\n",
    "print(df1)\n",
    "\n",
    "## save the result as 'Scale_out1.csv'\n",
    "df1.to_csv('Scale_out1.csv')"
   ]
  },
  {
   "cell_type": "markdown",
   "metadata": {},
   "source": [
    "### Part II"
   ]
  },
  {
   "cell_type": "code",
   "execution_count": 10,
   "metadata": {},
   "outputs": [],
   "source": [
    "## Reading the input file\n",
    "df = pd.read_csv(\"/Users/alston/NCCU Python/Project/Scale_in.csv\")"
   ]
  },
  {
   "cell_type": "code",
   "execution_count": 11,
   "metadata": {},
   "outputs": [],
   "source": [
    "## Write the function to turn the numbers in the Number-Scale Table into the corresponding scales \n",
    "def numberScale(element):\n",
    "    \n",
    "    if type(element)==str:\n",
    "        return element\n",
    "    \n",
    "    else:\n",
    "        element = float(element)\n",
    "\n",
    "        if element>=2:\n",
    "            return 5\n",
    "        elif element>=1.5 and element<2:\n",
    "            return 4\n",
    "        elif element>=1 and element<1.5:\n",
    "            return 3\n",
    "        elif element>=0.5 and element<1:\n",
    "            return 2\n",
    "        elif element>=0 and element<0.5:\n",
    "            return 1\n",
    "        elif element>=-0.5 and element<0:\n",
    "            return -1\n",
    "        elif element>=-1 and element<-0.5:\n",
    "            return -2\n",
    "        elif element>=-1.5 and element<-1:\n",
    "            return -3\n",
    "        else:\n",
    "            return np.nan"
   ]
  },
  {
   "cell_type": "code",
   "execution_count": 12,
   "metadata": {},
   "outputs": [
    {
     "name": "stdout",
     "output_type": "stream",
     "text": [
      "     Structure  Group 1  Group 2  Group 3  Group 4\n",
      "0  Structure 1      NaN      NaN     -1.0      NaN\n",
      "1  Structure 2     -2.0     -1.0     -1.0     -1.0\n",
      "2  Structure 3      NaN      NaN     -2.0      NaN\n",
      "3  Structure 4      3.0      NaN      NaN      NaN\n",
      "4  Structure 5      4.0      NaN      NaN      NaN\n",
      "5  Structure 6      3.0      NaN      NaN      NaN\n",
      "6  Structure 7      NaN      NaN      NaN      NaN\n",
      "7  Structure 8      3.0      NaN      NaN      NaN\n",
      "8  Structure 9      2.0      NaN      2.0      NaN\n"
     ]
    }
   ],
   "source": [
    "## Use df.applymap() to pass each element in the DataFrame into the numberScale() method\n",
    "df2 = df.applymap(numberScale)\n",
    "print(df2)\n",
    "\n",
    "## save the result as 'Scale_out2.csv'\n",
    "df2.to_csv('Scale_out2.csv')"
   ]
  }
 ],
 "metadata": {
  "kernelspec": {
   "display_name": "Python 3",
   "language": "python",
   "name": "python3"
  },
  "language_info": {
   "codemirror_mode": {
    "name": "ipython",
    "version": 3
   },
   "file_extension": ".py",
   "mimetype": "text/x-python",
   "name": "python",
   "nbconvert_exporter": "python",
   "pygments_lexer": "ipython3",
   "version": "3.7.4"
  }
 },
 "nbformat": 4,
 "nbformat_minor": 2
}
