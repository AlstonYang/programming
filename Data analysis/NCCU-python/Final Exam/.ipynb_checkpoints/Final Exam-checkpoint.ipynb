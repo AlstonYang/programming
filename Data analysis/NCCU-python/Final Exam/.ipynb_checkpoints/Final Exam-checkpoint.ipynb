{
 "cells": [
  {
   "cell_type": "markdown",
   "metadata": {},
   "source": [
    "# Final Exam: 109356003 資碩一  楊仁瀚"
   ]
  },
  {
   "cell_type": "markdown",
   "metadata": {},
   "source": [
    "###### 考試注意事項:\n",
    "1. 考試時間: 9:10 ~ 12:00 \n",
    "2. 考試開始時 (9:10 a.m.), 我會用 Cisco Webex 口頭講解, 接著在 Q&A 上答問. \n",
    "3. 答案卷繳交處: WM5 => 作業管理區 => \"Final Exam\" 資料夾\n",
    "4. 每個人只繳交一個答卷檔案, 檔名都稱為: Final Exam.ipynb;\n",
    "5. 答卷檔案內第一個格子(cell)請改成自己的學號, 系級, 及姓名, 例如: 109350001 會碩一  張大頭\n",
    "6. 答卷檔案內的程式碼必須執行過並呈現跑出來的結果, 評量時根據程式碼以及跑出來的結果給分"
   ]
  },
  {
   "cell_type": "markdown",
   "metadata": {},
   "source": [
    "### Files proived:\n",
    "hopedale.txt\n"
   ]
  },
  {
   "cell_type": "code",
   "execution_count": 1,
   "metadata": {},
   "outputs": [],
   "source": [
    "import numpy as np\n",
    "import pandas as pd"
   ]
  },
  {
   "cell_type": "markdown",
   "metadata": {},
   "source": [
    "### Problem 1 (5%)"
   ]
  },
  {
   "cell_type": "raw",
   "metadata": {},
   "source": [
    "Problem 1 (5%)\n",
    "\n",
    "Create a ndarray as follows.\n",
    "[[[ 0  1  2  3]\n",
    "  [ 4  5  6  7]]\n",
    "\n",
    " [[ 8  9 10 11]\n",
    "  [12 13 14 15]]\n",
    "\n",
    " [[16 17 18 19]\n",
    "  [20 21 22 23]]]"
   ]
  },
  {
   "cell_type": "code",
   "execution_count": 82,
   "metadata": {},
   "outputs": [
    {
     "name": "stdout",
     "output_type": "stream",
     "text": [
      "[[[ 0  1  2  3]\n",
      "  [ 4  5  6  7]]\n",
      "\n",
      " [[ 8  9 10 11]\n",
      "  [12 13 14 15]]\n",
      "\n",
      " [[16 17 18 19]\n",
      "  [20 21 22 23]]]\n"
     ]
    }
   ],
   "source": [
    "print(np.arange(24).reshape(3,2,4))"
   ]
  },
  {
   "cell_type": "markdown",
   "metadata": {},
   "source": [
    "### Problem 2 (5%)"
   ]
  },
  {
   "cell_type": "raw",
   "metadata": {},
   "source": [
    "Problem 2 (5%)\n",
    "Based on the DataFrame df below to calculate the cumulative product for each column.\n",
    "\n",
    "np.random.seed(1)\n",
    "df = pd.DataFrame(np.random.randint(10, size=(3, 4)), columns=list('ABCD'))\n",
    "print(df)"
   ]
  },
  {
   "cell_type": "code",
   "execution_count": 84,
   "metadata": {},
   "outputs": [
    {
     "name": "stdout",
     "output_type": "stream",
     "text": [
      "   A  B  C  D\n",
      "0  5  8  9  5\n",
      "1  0  0  1  7\n",
      "2  6  9  2  4\n",
      "--------------------\n",
      "   A  B   C    D\n",
      "0  5  8   9    5\n",
      "1  0  0   9   35\n",
      "2  0  0  18  140\n"
     ]
    }
   ],
   "source": [
    "np.random.seed(1)\n",
    "df = pd.DataFrame(np.random.randint(10, size=(3, 4)), columns=list('ABCD'))\n",
    "print(df)\n",
    "print('-'*20)\n",
    "print(df.cumprod())"
   ]
  },
  {
   "cell_type": "markdown",
   "metadata": {},
   "source": [
    "### Problem 3 (10%)"
   ]
  },
  {
   "cell_type": "raw",
   "metadata": {},
   "source": [
    "Problem 3 (10%)\n",
    "\n",
    "Based on the code below: \n",
    "x = np.array([[[1],[2],[3]], [[4],[5],[6]], [[7],[8],[9]]])\n",
    "\n",
    "write a code snippet to print out the result:\n",
    "[[[1 2 3]]\n",
    "\n",
    " [[4 5 6]]\n",
    "\n",
    " [[7 8 9]]]"
   ]
  },
  {
   "cell_type": "code",
   "execution_count": 93,
   "metadata": {},
   "outputs": [
    {
     "name": "stdout",
     "output_type": "stream",
     "text": [
      "[[[1 2 3]]\n",
      "\n",
      " [[4 5 6]]\n",
      "\n",
      " [[7 8 9]]]\n"
     ]
    }
   ],
   "source": [
    "x = np.array([[[1],[2],[3]], [[4],[5],[6]], [[7],[8],[9]]])\n",
    "print(x.reshape(3,1,3))"
   ]
  },
  {
   "cell_type": "markdown",
   "metadata": {},
   "source": [
    "### Problem 4 (10%)"
   ]
  },
  {
   "cell_type": "raw",
   "metadata": {},
   "source": [
    "Problem 4 (10%)\n",
    "\n",
    "Based on the ndarray x generated from the code below:  \n",
    "x = np.array(range(1, 13)).reshape(3, 4) \n",
    "print(x)\n",
    "\n",
    "write a code to print out the following result: \n",
    "[[12 11 10  9]\n",
    " [ 8  7  6  5]\n",
    " [ 4  3  2  1]]"
   ]
  },
  {
   "cell_type": "code",
   "execution_count": 36,
   "metadata": {},
   "outputs": [
    {
     "name": "stdout",
     "output_type": "stream",
     "text": [
      "[[12 11 10  9]\n",
      " [ 8  7  6  5]\n",
      " [ 4  3  2  1]]\n"
     ]
    }
   ],
   "source": [
    "x = np.array(range(1, 13)).reshape(3, 4) \n",
    "print(-1*np.sort(-x[::-1]))"
   ]
  },
  {
   "cell_type": "markdown",
   "metadata": {},
   "source": [
    "### Problem 5 (10%)"
   ]
  },
  {
   "cell_type": "raw",
   "metadata": {},
   "source": [
    "Problem 5 (10%)\n",
    "Based on the DataFrame df below to calculate the difference between maximun value and minimum value for each column.\n",
    "\n",
    "np.random.seed(1)\n",
    "df = pd.DataFrame(np.random.randint(10, size=(3, 4)), columns=list('ABCD'))\n",
    "print(df)"
   ]
  },
  {
   "cell_type": "code",
   "execution_count": 85,
   "metadata": {},
   "outputs": [
    {
     "name": "stdout",
     "output_type": "stream",
     "text": [
      "   A  B  C  D\n",
      "0  5  8  9  5\n",
      "1  0  0  1  7\n",
      "2  6  9  2  4\n",
      "--------------------\n",
      "A    6\n",
      "B    9\n",
      "C    8\n",
      "D    3\n",
      "dtype: int64\n"
     ]
    }
   ],
   "source": [
    "np.random.seed(1)\n",
    "df = pd.DataFrame(np.random.randint(10, size=(3, 4)), columns=list('ABCD'))\n",
    "print(df)\n",
    "print('-'*20)\n",
    "print(df.max()-df.min())"
   ]
  },
  {
   "cell_type": "markdown",
   "metadata": {},
   "source": [
    "### Problem 6 (10%)"
   ]
  },
  {
   "cell_type": "raw",
   "metadata": {},
   "source": [
    "Problem 6 (10%)\n",
    "\n",
    "You have a DataFrame called df which is generated by the following code:\n",
    "\n",
    "np.random.seed(0)\n",
    "df = pd.DataFrame(np.random.randn(1000, 4), columns=list('ABCD'))\n",
    "print(df)\n",
    "\n",
    "In df, how many numbers are negative and how many numbers are non-negative?"
   ]
  },
  {
   "cell_type": "code",
   "execution_count": 54,
   "metadata": {},
   "outputs": [
    {
     "name": "stdout",
     "output_type": "stream",
     "text": [
      "The number of negative: 2047\n",
      "The number of non-negative: 1953\n"
     ]
    }
   ],
   "source": [
    "np.random.seed(0)\n",
    "df = pd.DataFrame(np.random.randn(1000, 4), columns=list('ABCD'))\n",
    "print(\"The number of negative:\",sum(np.sum(df<0)))\n",
    "print(\"The number of non-negative:\",sum(np.sum(df>=0)))"
   ]
  },
  {
   "cell_type": "markdown",
   "metadata": {},
   "source": [
    "### Problem 7 (10%)"
   ]
  },
  {
   "cell_type": "raw",
   "metadata": {},
   "source": [
    "Problem 7 (10%)\n",
    "\n",
    "Write a  program to read the hopedale.txt file and print all lines of it in reversed order. Below is the input file, hopedale.txt. \n",
    "\n",
    "Coloured fox fur production, HOPEDALE, Labrador, 1834-1842\n",
    "#Source: C. Elton (1942) \"Voles, Mice and Lemmings\", Oxford Univ. Press\n",
    "#Table 17, p.265--266\n",
    "       22\n",
    "       29\n",
    "        2\n",
    "       16\n",
    "       12\n",
    "       35\n",
    "        8\n",
    "       83\n",
    "      166\n",
    "\n",
    "The printed output should looks like:\n",
    "\n",
    "      166\n",
    "       83\n",
    "        8\n",
    "       35\n",
    "       12\n",
    "       16\n",
    "        2\n",
    "       29\n",
    "       22\n",
    "#Table 17, p.265--266\n",
    "#Source: C. Elton (1942) \"Voles, Mice and Lemmings\", Oxford Univ. Press\n",
    "Coloured fox fur production, HOPEDALE, Labrador, 1834-1842"
   ]
  },
  {
   "cell_type": "code",
   "execution_count": 92,
   "metadata": {},
   "outputs": [
    {
     "name": "stdout",
     "output_type": "stream",
     "text": [
      "      166\n",
      "       83\n",
      "        8\n",
      "       35\n",
      "       12\n",
      "       16\n",
      "        2\n",
      "       29\n",
      "       22\n",
      "#Table 17, p.265--266\n",
      "#Source: C. Elton (1942) \"Voles, Mice and Lemmings\", Oxford Univ. Press\n",
      "Coloured fox fur production, HOPEDALE, Labrador, 1834-1842\n"
     ]
    }
   ],
   "source": [
    "with open('hopedale.txt', 'r') as input_file: \n",
    "    input = input_file.readlines()\n",
    "\n",
    "input.reverse() \n",
    "input[0]+='\\n'\n",
    "for content in input:\n",
    "    print(content,end=\"\")"
   ]
  },
  {
   "cell_type": "markdown",
   "metadata": {},
   "source": [
    "### Problem 8 (20%)"
   ]
  },
  {
   "cell_type": "raw",
   "metadata": {},
   "source": [
    "Problem 8 (20%)\n",
    "\n",
    "Use NumPy to create and print a list called x as the following:\n",
    "[[0, 1, 2, 3], [4, 5, 6, 7], [8, 9, 10, 11]]\n",
    "\n",
    "Next, based on the list x, write a small program to print out the result: \n",
    "[[0], [5], [10]]"
   ]
  },
  {
   "cell_type": "code",
   "execution_count": 75,
   "metadata": {},
   "outputs": [
    {
     "name": "stdout",
     "output_type": "stream",
     "text": [
      "[[0], [5], [10]]\n"
     ]
    }
   ],
   "source": [
    "x = np.arange(12).reshape(3,4)\n",
    "\n",
    "result = []\n",
    "for i in range(3):\n",
    "    result.append([x[i][i]])\n",
    "print(result)"
   ]
  },
  {
   "cell_type": "markdown",
   "metadata": {},
   "source": [
    "### Problem 9 (20%)"
   ]
  },
  {
   "cell_type": "raw",
   "metadata": {},
   "source": [
    "Problem 9 (20%)\n",
    "Applying 'for' loop and 'if' control flow, or any other approach to write a program that prints the list elements at the position indices [1, 3, 5, 7, 9, ..., and the last element]. \n",
    "\n",
    "For example 1, \n",
    "input list:  [0, 1, 2, 3, 4, 5, 6, 7, 8, 9, 10]\n",
    "output list: [1, 3, 5, 7, 9, 10]\n",
    "\n",
    "For example 2, \n",
    "input list:  [0, 1, 2, 3, 4, 5, 6, 7, 8, 9]\n",
    "output list: [1, 3, 5, 7, 9]"
   ]
  },
  {
   "cell_type": "code",
   "execution_count": 77,
   "metadata": {},
   "outputs": [],
   "source": [
    "def find_value(inputList):\n",
    "    \n",
    "    result = list()\n",
    "    \n",
    "    for i in range(len(inputList)):    \n",
    "        if (i % 2 != 0 or i==(len(inputList)-1)):       \n",
    "            result.append(inputList[i])\n",
    "            \n",
    "    return(result)"
   ]
  },
  {
   "cell_type": "code",
   "execution_count": 79,
   "metadata": {},
   "outputs": [
    {
     "name": "stdout",
     "output_type": "stream",
     "text": [
      "[1, 3, 5, 7, 9, 10]\n"
     ]
    }
   ],
   "source": [
    "print(find_value([0, 1, 2, 3, 4, 5, 6, 7, 8, 9, 10]))"
   ]
  },
  {
   "cell_type": "code",
   "execution_count": 81,
   "metadata": {},
   "outputs": [
    {
     "name": "stdout",
     "output_type": "stream",
     "text": [
      "[1, 3, 5, 7, 9]\n"
     ]
    }
   ],
   "source": [
    "print(find_value([0, 1, 2, 3, 4, 5, 6, 7, 8, 9]))"
   ]
  },
  {
   "cell_type": "markdown",
   "metadata": {},
   "source": [
    "# The End!"
   ]
  },
  {
   "cell_type": "code",
   "execution_count": null,
   "metadata": {},
   "outputs": [],
   "source": []
  },
  {
   "cell_type": "code",
   "execution_count": null,
   "metadata": {},
   "outputs": [],
   "source": []
  }
 ],
 "metadata": {
  "kernelspec": {
   "display_name": "Python 3",
   "language": "python",
   "name": "python3"
  },
  "language_info": {
   "codemirror_mode": {
    "name": "ipython",
    "version": 3
   },
   "file_extension": ".py",
   "mimetype": "text/x-python",
   "name": "python",
   "nbconvert_exporter": "python",
   "pygments_lexer": "ipython3",
   "version": "3.7.4"
  }
 },
 "nbformat": 4,
 "nbformat_minor": 4
}
