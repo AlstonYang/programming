{
 "cells": [
  {
   "cell_type": "markdown",
   "metadata": {},
   "source": [
    "# Ch08_Storing Collections of Data Using Lists"
   ]
  },
  {
   "cell_type": "raw",
   "metadata": {},
   "source": [
    "Q.  Exercise 7-5 (解答編號為 7-4), 為什麼 'tomato'.find('o','tomato'.find('o')) 的結果跟 'tomato'.find('o') 一樣？要有 +1才可以得出答案？\n",
    "\n",
    "A. 這要從 syntax 去了解:\n",
    "\tSyntax: string.find(value, start, end)\n",
    "value: Required. The value to search for\n",
    "start: Optional. Where to start the search. Default is 0\n",
    "end: Optional. Where to end the search. Default is to the end of the string\n",
    "\t\n",
    "\t'tomato'.find('o') 得到 1, 因為我們沒有指定從哪個 position index 開始尋找, 所以它就從 0 開始找起, 在 1 的位置找到第一個'o', 所以回應 1. \n",
    "    \n",
    "\t'tomato'.find('o', 'tomato'.find('o')) 把上面 'tomato'.find('o') 得到的 1 代入這裡, 變成 'tomato'.find('o', 1), 表示要它從 1 的位置找起, 結果是在 1 的位置找到第一個'o', 所以也回應 1.\n",
    "    \n",
    "\t因此, 兩者都得到 1.  \n",
    "    \n",
    "    +1 則表示從 2 (即 1+1) 開始找起, 也就是略過 1 的位置開始找起, 下一個就會找到第二個 'o' 的位置. "
   ]
  },
  {
   "cell_type": "raw",
   "metadata": {},
   "source": [
    "Exercise 7-5\n",
    "Using string method find, write a single expression that produces the index of the second occurrence of o in 'tomato'. Hint: Call find twice."
   ]
  },
  {
   "cell_type": "markdown",
   "metadata": {},
   "source": [
    "syntax:\n",
    "+ string.find(value, **start**, end)"
   ]
  },
  {
   "cell_type": "code",
   "execution_count": 4,
   "metadata": {},
   "outputs": [
    {
     "data": {
      "text/plain": [
       "1"
      ]
     },
     "execution_count": 4,
     "metadata": {},
     "output_type": "execute_result"
    }
   ],
   "source": [
    "'tomato'.find('o')"
   ]
  },
  {
   "cell_type": "code",
   "execution_count": 6,
   "metadata": {},
   "outputs": [
    {
     "name": "stdout",
     "output_type": "stream",
     "text": [
      "5\n",
      "5\n"
     ]
    }
   ],
   "source": [
    "print('tomato'.find('o',  'tomato'.find('o') + 1))\n",
    "print('tomato'.find('o',          1          + 1))"
   ]
  },
  {
   "cell_type": "raw",
   "metadata": {},
   "source": [
    "Q.  Exercise 7-11-d，答案寫'Boolean'[0].islower()，但'Boolean'.islower()也有一樣的答案，[0]在這題裡有特別的涵義嗎？  \n",
    "\n",
    "A. 這是 \"題意容易讓人混淆意思\" 所造成的問題. 因為 str.islower() method 是檢查整個 string 中每個字元是否都是 lowercase, 當整個字串中每個字元都是小寫時, 才會得到 True. 但其實 'Boolean' 這個字串只剩下第一個字元不是小寫, 只要這第一個元是小寫, 整個字串所有字元就都是小寫, 就會得到 True. \n",
    "\n",
    "解答寫 'Boolean'[0].islower() 的意思是: 只要 'Boolean' 這個字串的第一個字元是小寫就會得到 True. 而 'Boolean'.islower() 這樣寫則表示 'Boolean' 這整個字串都要小寫才會得到 True. 兩種寫法意思有點不同, 但是確實不容易分辨. "
   ]
  },
  {
   "cell_type": "raw",
   "metadata": {},
   "source": [
    "Exercise 7-11\n",
    "Using string methods, write expressions that produce the following:\n",
    "\n",
    "d. True if and only if 'Boolean' begins lowercase"
   ]
  },
  {
   "cell_type": "code",
   "execution_count": null,
   "metadata": {},
   "outputs": [],
   "source": []
  },
  {
   "cell_type": "code",
   "execution_count": null,
   "metadata": {},
   "outputs": [],
   "source": []
  },
  {
   "cell_type": "raw",
   "metadata": {},
   "source": [
    "Once one of the objects of numbers, Boolean values, strings, tuples, functions, and a few other types has been created, it can’t be modified. However, the Python type named list can be modified."
   ]
  },
  {
   "cell_type": "markdown",
   "metadata": {},
   "source": [
    "## Storing and Accessing Data in Lists, p. 128"
   ]
  },
  {
   "cell_type": "markdown",
   "metadata": {},
   "source": [
    "###### List\n",
    "1. A list is a **mutable** object which can be assigned to a variable.\n",
    "2. The general form of a list expression is as follows: \n",
    "    + [«expression1»,  «expression2»,  ... , «expressionN»] \n",
    "3. The empty list is expressed as []."
   ]
  },
  {
   "cell_type": "code",
   "execution_count": 1,
   "metadata": {},
   "outputs": [
    {
     "data": {
      "text/plain": [
       "[5, 4, 7, 3, 2, 3, 2, 6, 4, 2, 1, 7, 1, 3]"
      ]
     },
     "execution_count": 1,
     "metadata": {},
     "output_type": "execute_result"
    }
   ],
   "source": [
    "whales = [5, 4, 7, 3, 2, 3, 2, 6, 4, 2, 1, 7, 1, 3]\n",
    "whales"
   ]
  },
  {
   "cell_type": "raw",
   "metadata": {},
   "source": [
    "The variable whales refers to a list with fourteen items, also known as elements. The list itself is an object, but it also contains the memory addresses of fourteen other objects."
   ]
  },
  {
   "cell_type": "markdown",
   "metadata": {},
   "source": [
    "###### List elements are ordered and indexed\n",
    "1. The items in a list are ordered, and each item has an index indicating its position in the list. \n",
    "2. Python, like C and Java, starts counting at zero."
   ]
  },
  {
   "cell_type": "code",
   "execution_count": 6,
   "metadata": {},
   "outputs": [
    {
     "name": "stdout",
     "output_type": "stream",
     "text": [
      "5\n",
      "4\n",
      "1\n",
      "3\n"
     ]
    }
   ],
   "source": [
    "# index1:   0   1   2   3   4  5  6  7  8  9 10 11 12 13\n",
    "x =        [5,  4,  7,  3,  2, 3, 2, 6, 4, 2, 1, 7, 1, 3]\n",
    "# index2: -14 -13 -12 -11 -10 -9 -8 -7 -6 -5 -4 -3 -2 -1\n",
    "print(x[0])   # 5\n",
    "print(x[1])   # 4\n",
    "print(x[12])  # 1\n",
    "print(x[13])  # 3"
   ]
  },
  {
   "cell_type": "markdown",
   "metadata": {},
   "source": [
    "###### Negative indecing, p. 131\n",
    "+ Backward indecing from the end of a list starting at index -1, -2, and so on. "
   ]
  },
  {
   "cell_type": "code",
   "execution_count": 5,
   "metadata": {},
   "outputs": [
    {
     "name": "stdout",
     "output_type": "stream",
     "text": [
      "3\n",
      "1\n",
      "5\n"
     ]
    }
   ],
   "source": [
    "# index1:   0   1   2   3   4  5  6  7  8  9 10 11 12 13\n",
    "x        = [5,  4,  7,  3,  2, 3, 2, 6, 4, 2, 1, 7, 1, 3]\n",
    "# index2: -14 -13 -12 -11 -10 -9 -8 -7 -6 -5 -4 -3 -2 -1\n",
    "print(x[-1])   # 3\n",
    "print(x[-2])   # 1\n",
    "print(x[-14])  # 5"
   ]
  },
  {
   "cell_type": "raw",
   "metadata": {},
   "source": [
    "Since each item in a list is an object, the items can be assigned to other variables:"
   ]
  },
  {
   "cell_type": "code",
   "execution_count": 7,
   "metadata": {},
   "outputs": [
    {
     "name": "stdout",
     "output_type": "stream",
     "text": [
      "Third day: 7\n"
     ]
    }
   ],
   "source": [
    "x = [5, 4, 7, 3, 2, 3, 2, 6, 4, 2, 1, 7, 1, 3]\n",
    "third = x[2]\n",
    "print('Third day:', third)   # Third day: 7"
   ]
  },
  {
   "cell_type": "markdown",
   "metadata": {},
   "source": [
    "### The Empty List, p. 132"
   ]
  },
  {
   "cell_type": "code",
   "execution_count": 8,
   "metadata": {},
   "outputs": [
    {
     "data": {
      "text/plain": [
       "[]"
      ]
     },
     "execution_count": 8,
     "metadata": {},
     "output_type": "execute_result"
    }
   ],
   "source": [
    "x = []\n",
    "x"
   ]
  },
  {
   "cell_type": "markdown",
   "metadata": {},
   "source": [
    "### Lists Are Heterogeneous, p. 132\n",
    "+ Lists can contain any type of data, including integers, strings, and even other lists"
   ]
  },
  {
   "cell_type": "code",
   "execution_count": 10,
   "metadata": {},
   "outputs": [
    {
     "name": "stdout",
     "output_type": "stream",
     "text": [
      "Krypton\n",
      "Kr\n",
      "-157.2\n",
      "-153.4\n",
      "-153.4\n"
     ]
    }
   ],
   "source": [
    "x = ['Krypton', 'Kr', -157.2, -153.4]\n",
    "print(x[0])   # 'Krypton'\n",
    "print(x[1])   # 'Kr'\n",
    "print(x[2])   # -157.2\n",
    "print(x[3])   # -153.4\n",
    "print(x[-1])  # -153.4"
   ]
  },
  {
   "cell_type": "markdown",
   "metadata": {},
   "source": [
    "## Type Annotations for Lists, p. 133"
   ]
  },
  {
   "cell_type": "code",
   "execution_count": 7,
   "metadata": {},
   "outputs": [],
   "source": [
    "# Type contracts for functions usually specifies that the \n",
    "# values in a list parameter are all of a particular type.\n",
    "\n",
    "def average(L: list) -> float:\n",
    "    \"\"\"Return the average of the values in L.\n",
    "    \n",
    "    >>> average([1.4, 1.6, 1.8, 2.0])\n",
    "    1.7\n",
    "    \"\"\""
   ]
  },
  {
   "cell_type": "markdown",
   "metadata": {},
   "source": [
    "###### from typing import List\n",
    "1. **Python** includes **module typing** that allows us to **specify the expected type of value contained in a list**.\n",
    "2. In order **to prevent conflicts with type list**, this module contains a **capitalized** version, **List**, that we can use in the type annotation.\n",
    "3. It indicates what we expect when someone calls our function."
   ]
  },
  {
   "cell_type": "code",
   "execution_count": 10,
   "metadata": {},
   "outputs": [],
   "source": [
    "import typing\n",
    "# print(dir(typing))  # typing.List"
   ]
  },
  {
   "cell_type": "code",
   "execution_count": 6,
   "metadata": {},
   "outputs": [
    {
     "data": {
      "text/plain": [
       "1.7"
      ]
     },
     "execution_count": 6,
     "metadata": {},
     "output_type": "execute_result"
    }
   ],
   "source": [
    "from typing import List\n",
    "def average(L: List[float]) -> float:         # [float] is optional\n",
    "    \"\"\"Return the average of the values in L.\n",
    "    \n",
    "    >>> average([1.4, 1.6, 1.8, 2.0])\n",
    "    1.7\n",
    "    \"\"\"\n",
    "    return sum(L)/len(L)\n",
    "\n",
    "average([1.4, 1.6, 1.8, 2.0])"
   ]
  },
  {
   "cell_type": "markdown",
   "metadata": {},
   "source": [
    "## Modifying Lists, p. 133"
   ]
  },
  {
   "cell_type": "markdown",
   "metadata": {},
   "source": [
    "###### List objects are mutable"
   ]
  },
  {
   "cell_type": "code",
   "execution_count": 40,
   "metadata": {},
   "outputs": [
    {
     "data": {
      "text/plain": [
       "['helium', 'none', 'argon', 'krypton', 'xenon', 'radon']"
      ]
     },
     "execution_count": 40,
     "metadata": {},
     "output_type": "execute_result"
    }
   ],
   "source": [
    "# Typo: 'neon' as 'none'\n",
    "nobles = ['helium', 'none', 'argon', 'krypton', 'xenon', 'radon']\n",
    "nobles"
   ]
  },
  {
   "cell_type": "code",
   "execution_count": 41,
   "metadata": {},
   "outputs": [
    {
     "data": {
      "text/plain": [
       "['helium', 'neon', 'argon', 'krypton', 'xenon', 'radon']"
      ]
     },
     "execution_count": 41,
     "metadata": {},
     "output_type": "execute_result"
    }
   ],
   "source": [
    "# modify the list\n",
    "nobles[1] = 'neon'\n",
    "nobles"
   ]
  },
  {
   "cell_type": "code",
   "execution_count": 42,
   "metadata": {},
   "outputs": [
    {
     "data": {
      "text/plain": [
       "['helium', ['neon'], 'argon', 'krypton', 'xenon', 'radon']"
      ]
     },
     "execution_count": 42,
     "metadata": {},
     "output_type": "execute_result"
    }
   ],
   "source": [
    "# ['neon'] diffs from 'neon' in the list element modification\n",
    "nobles[1] = ['neon']\n",
    "nobles"
   ]
  },
  {
   "cell_type": "markdown",
   "metadata": {},
   "source": [
    "###### list[i] can be assigned as a variable"
   ]
  },
  {
   "cell_type": "code",
   "execution_count": 43,
   "metadata": {},
   "outputs": [
    {
     "data": {
      "text/plain": [
       "[2, 1, 2]"
      ]
     },
     "execution_count": 43,
     "metadata": {},
     "output_type": "execute_result"
    }
   ],
   "source": [
    "L = [0, 1, 2]\n",
    "L[0] = L[2]\n",
    "L"
   ]
  },
  {
   "cell_type": "raw",
   "metadata": {},
   "source": [
    "If L[i] is used in an expression (such as on the right of an assignment statement), it means “Get the value referred to by the memory address at index i of list L.”"
   ]
  },
  {
   "cell_type": "code",
   "execution_count": 27,
   "metadata": {},
   "outputs": [
    {
     "data": {
      "text/plain": [
       "['__add__',\n",
       " '__class__',\n",
       " '__contains__',\n",
       " '__delattr__',\n",
       " '__delitem__',\n",
       " '__dir__',\n",
       " '__doc__',\n",
       " '__eq__',\n",
       " '__format__',\n",
       " '__ge__',\n",
       " '__getattribute__',\n",
       " '__getitem__',\n",
       " '__gt__',\n",
       " '__hash__',\n",
       " '__iadd__',\n",
       " '__imul__',\n",
       " '__init__',\n",
       " '__init_subclass__',\n",
       " '__iter__',\n",
       " '__le__',\n",
       " '__len__',\n",
       " '__lt__',\n",
       " '__mul__',\n",
       " '__ne__',\n",
       " '__new__',\n",
       " '__reduce__',\n",
       " '__reduce_ex__',\n",
       " '__repr__',\n",
       " '__reversed__',\n",
       " '__rmul__',\n",
       " '__setattr__',\n",
       " '__setitem__',\n",
       " '__sizeof__',\n",
       " '__str__',\n",
       " '__subclasshook__',\n",
       " 'append',\n",
       " 'clear',\n",
       " 'copy',\n",
       " 'count',\n",
       " 'extend',\n",
       " 'index',\n",
       " 'insert',\n",
       " 'pop',\n",
       " 'remove',\n",
       " 'reverse',\n",
       " 'sort']"
      ]
     },
     "execution_count": 27,
     "metadata": {},
     "output_type": "execute_result"
    }
   ],
   "source": [
    "dir(list)"
   ]
  },
  {
   "cell_type": "markdown",
   "metadata": {},
   "source": [
    "[Python list methods](https://www.w3schools.com/python/python_ref_list.asp)"
   ]
  },
  {
   "cell_type": "markdown",
   "metadata": {},
   "source": [
    "###### [append() vs. extend()](https://www.geeksforgeeks.org/append-extend-python/)\n",
    "1. **append()**: Adds its argument as a single element to the end of a list. The length of the list increases by one.\n",
    "2. **extend()**: **Iterates** over its argument and adding each element to the list and extending the list. The length of the list increases by number of elements in it’s argument."
   ]
  },
  {
   "cell_type": "code",
   "execution_count": 9,
   "metadata": {},
   "outputs": [
    {
     "data": {
      "text/plain": [
       "['helium', 'neon', 'argon', 'krypton', 'xenon', 'radon']"
      ]
     },
     "execution_count": 9,
     "metadata": {},
     "output_type": "execute_result"
    }
   ],
   "source": [
    "nobles = ['helium', 'neon', 'argon', 'krypton', 'xenon', 'radon']\n",
    "nobles"
   ]
  },
  {
   "cell_type": "code",
   "execution_count": 10,
   "metadata": {},
   "outputs": [
    {
     "data": {
      "text/plain": [
       "['helium', 'neon', 'argon', 'krypton', 'xenon', 'radon', 'neon']"
      ]
     },
     "execution_count": 10,
     "metadata": {},
     "output_type": "execute_result"
    }
   ],
   "source": [
    "# append(): Adds its argument as a single element to the end of a list. \n",
    "# NOTE: A list is an object. If you append another list onto a list, \n",
    "#       the parameter list will be a single object at the end of the list.\n",
    "nobles.append(nobles[1])\n",
    "nobles"
   ]
  },
  {
   "cell_type": "code",
   "execution_count": 11,
   "metadata": {},
   "outputs": [
    {
     "name": "stdout",
     "output_type": "stream",
     "text": [
      "['helium', 'neon', 'argon', 'krypton', 'xenon', 'radon', 'neon', 'n', 'e', 'o', 'n']\n"
     ]
    }
   ],
   "source": [
    "# extend(): Iterates over its argument and adding each element to the list \n",
    "#           and extending the list. The length of the list increases \n",
    "#           by number of elements in it’s argument.\n",
    "nobles.extend(nobles[1])\n",
    "print(nobles)"
   ]
  },
  {
   "cell_type": "code",
   "execution_count": 12,
   "metadata": {},
   "outputs": [
    {
     "name": "stdout",
     "output_type": "stream",
     "text": [
      "['helium', 'neon', 'argon', 'krypton', 'xenon', 'radon', 'neon', 'n', 'e', 'o', 'n', 'neon', 'argon']\n"
     ]
    }
   ],
   "source": [
    "nobles.extend(nobles[1:3])\n",
    "print(nobles)"
   ]
  },
  {
   "cell_type": "code",
   "execution_count": 15,
   "metadata": {},
   "outputs": [
    {
     "name": "stdout",
     "output_type": "stream",
     "text": [
      "[2, 'dogs', 'and', [1, 3, 5, 7, 9]]\n"
     ]
    }
   ],
   "source": [
    "# NOTE: A string is an iterable, so if you extend a list with a string, \n",
    "#       you’ll append each character as you iterate over the string.\n",
    "L1 = [2, 'dogs', 'and'] \n",
    "L2 = [1,3,5,7,9]\n",
    "L1.append(L2) \n",
    "print(L1) "
   ]
  },
  {
   "cell_type": "markdown",
   "metadata": {},
   "source": [
    "###### copy(): Shallow copy vs. deep copy"
   ]
  },
  {
   "cell_type": "code",
   "execution_count": 6,
   "metadata": {},
   "outputs": [
    {
     "name": "stdout",
     "output_type": "stream",
     "text": [
      "['A', 'B', 'C', '123']\n",
      "['A', 'B', 'C', '123']\n"
     ]
    }
   ],
   "source": [
    "# Shallow copy\n",
    "f = ['A', 'B', 'C', 'D']\n",
    "x = f             # Shallow copy\n",
    "x[3] = '123'\n",
    "print(f)\n",
    "print(x)"
   ]
  },
  {
   "cell_type": "code",
   "execution_count": 5,
   "metadata": {},
   "outputs": [
    {
     "name": "stdout",
     "output_type": "stream",
     "text": [
      "['A', 'B', 'C', 'D']\n",
      "['A', 'B', 'C', '123']\n"
     ]
    }
   ],
   "source": [
    "# Deep copy\n",
    "f = ['A', 'B', 'C', 'D']\n",
    "x = f.copy()     # Deep copy\n",
    "x[3] = '123'\n",
    "print(f)\n",
    "print(x)"
   ]
  },
  {
   "cell_type": "markdown",
   "metadata": {},
   "source": [
    "###### Immutability, p. 135\n",
    "1. In contrast to lists, **numbers and strings are immutable**. \n",
    "2. You cannot, for example, change a letter in a string. \n",
    "3. Methods that appear to do that, like upper, actually create new strings:"
   ]
  },
  {
   "cell_type": "code",
   "execution_count": 15,
   "metadata": {},
   "outputs": [
    {
     "name": "stdout",
     "output_type": "stream",
     "text": [
      "DARWIN\n",
      "Darwin\n"
     ]
    }
   ],
   "source": [
    "# demo: string is immutable\n",
    "name = 'Darwin'\n",
    "capitalized = name.upper()\n",
    "print(capitalized)  # DARWIN\n",
    "print(name)         # Darwin"
   ]
  },
  {
   "cell_type": "raw",
   "metadata": {},
   "source": [
    "Because strings are immutable, it is only possible to use an expression of the form s[i] (string s at index i) on the right side of the assignment operator."
   ]
  },
  {
   "cell_type": "markdown",
   "metadata": {},
   "source": [
    "## Operations on Lists, p. 135"
   ]
  },
  {
   "cell_type": "raw",
   "metadata": {},
   "source": [
    "# Operations on Lists\n",
    "\n",
    "Function    Description\n",
    "len(L)      Returns the number of items in list L \n",
    "max(L)      Returns the maximum value in list L\n",
    "min(L)      Returns the minimum value in list L\n",
    "sum(L)      Returns the sum of the values in list L\n",
    "sorted(L)   Returns a copy of list L with elements in ascending order (This  \n",
    "            does not mutate L.)"
   ]
  },
  {
   "cell_type": "code",
   "execution_count": 16,
   "metadata": {},
   "outputs": [
    {
     "name": "stdout",
     "output_type": "stream",
     "text": [
      "5\n",
      "8730.0\n",
      "384.7\n",
      "10642.7\n",
      "[384.7, 410, 420.0, 698.0, 8730.0]\n",
      "[384.7, 420.0, 698.0, 410, 8730.0]\n"
     ]
    }
   ],
   "source": [
    "num_list = [384.7,  420.0,  698.0,  410,  8730.0]\n",
    "print(len(num_list))     # 5\n",
    "print(max(num_list))     # 8730.0\n",
    "print(min(num_list))     # 384.7\n",
    "print(sum(num_list))     # 10642.7\n",
    "print(sorted(num_list))  # [384.7, 410, 420.0, 698.0, 8730.0]\n",
    "print(num_list)          # [384.7, 420.0, 698.0, 410, 8730.0]"
   ]
  },
  {
   "cell_type": "code",
   "execution_count": 8,
   "metadata": {},
   "outputs": [
    {
     "name": "stdout",
     "output_type": "stream",
     "text": [
      "Help on built-in function sorted in module builtins:\n",
      "\n",
      "sorted(iterable, /, *, key=None, reverse=False)\n",
      "    Return a new list containing all items from the iterable in ascending order.\n",
      "    \n",
      "    A custom key function can be supplied to customize the sort order, and the\n",
      "    reverse flag can be set to request the result in descending order.\n",
      "\n"
     ]
    }
   ],
   "source": [
    "# sorted() syntax: sorted(iterable, /, *, key=None, reverse=False)\n",
    "help(sorted)"
   ]
  },
  {
   "cell_type": "code",
   "execution_count": 13,
   "metadata": {},
   "outputs": [
    {
     "name": "stdout",
     "output_type": "stream",
     "text": [
      "['A', 'C', 'T']\n",
      "['T', 'C', 'A']\n"
     ]
    }
   ],
   "source": [
    "L1 = ['C', 'A', 'T'] \n",
    "print(sorted(L1))\n",
    "print(sorted(L1, reverse=True))"
   ]
  },
  {
   "cell_type": "code",
   "execution_count": 19,
   "metadata": {},
   "outputs": [
    {
     "name": "stdout",
     "output_type": "stream",
     "text": [
      "['H', 'He', 'Li', ['Be']]\n",
      "None\n"
     ]
    }
   ],
   "source": [
    "# Concatenation (+) operator in list\n",
    "# Like strings, lists can be combined using the concatenation (+) operator.\n",
    "# It won't change the original list:\n",
    "original = ['H', 'He', 'Li']\n",
    "final = original.append(['Be'])\n",
    "print(original)     # \n",
    "print(final)        # ['H', 'He', 'Li', 'Be']"
   ]
  },
  {
   "cell_type": "raw",
   "metadata": {},
   "source": [
    "The concatenation operator cannot apply to a list and a string, they must belong to the same data type:\n",
    "['H', 'He', 'Li'] + 'Be'   # SyntaxError: invalid syntax"
   ]
  },
  {
   "cell_type": "code",
   "execution_count": 13,
   "metadata": {},
   "outputs": [
    {
     "ename": "TypeError",
     "evalue": "can only concatenate list (not \"str\") to list",
     "output_type": "error",
     "traceback": [
      "\u001b[1;31m---------------------------------------------------------------------------\u001b[0m",
      "\u001b[1;31mTypeError\u001b[0m                                 Traceback (most recent call last)",
      "\u001b[1;32m<ipython-input-13-460e9c3e8c72>\u001b[0m in \u001b[0;36m<module>\u001b[1;34m\u001b[0m\n\u001b[1;32m----> 1\u001b[1;33m \u001b[1;33m[\u001b[0m\u001b[1;34m'H'\u001b[0m\u001b[1;33m,\u001b[0m \u001b[1;34m'He'\u001b[0m\u001b[1;33m,\u001b[0m \u001b[1;34m'Li'\u001b[0m\u001b[1;33m]\u001b[0m \u001b[1;33m+\u001b[0m \u001b[1;34m'Be'\u001b[0m\u001b[1;33m\u001b[0m\u001b[1;33m\u001b[0m\u001b[0m\n\u001b[0m",
      "\u001b[1;31mTypeError\u001b[0m: can only concatenate list (not \"str\") to list"
     ]
    }
   ],
   "source": [
    "['H', 'He', 'Li'] + 'Be' "
   ]
  },
  {
   "cell_type": "markdown",
   "metadata": {},
   "source": [
    "###### Multiply a list by an integer to get a new list while the original list will not be modified"
   ]
  },
  {
   "cell_type": "code",
   "execution_count": 18,
   "metadata": {},
   "outputs": [
    {
     "data": {
      "text/plain": [
       "['Fe', 'Ni', 'Fe', 'Ni', 'Fe', 'Ni']"
      ]
     },
     "execution_count": 18,
     "metadata": {},
     "output_type": "execute_result"
    }
   ],
   "source": [
    "metals = ['Fe', 'Ni']\n",
    "metals * 3     # ['Fe', 'Ni', 'Fe', 'Ni', 'Fe', 'Ni']"
   ]
  },
  {
   "cell_type": "raw",
   "metadata": {},
   "source": [
    "del removes an item from a list. It modifies the original list. "
   ]
  },
  {
   "cell_type": "code",
   "execution_count": 19,
   "metadata": {},
   "outputs": [
    {
     "data": {
      "text/plain": [
       "['Ni']"
      ]
     },
     "execution_count": 19,
     "metadata": {},
     "output_type": "execute_result"
    }
   ],
   "source": [
    "# del is a Python command\n",
    "metals = ['Fe', 'Ni']\n",
    "del metals[0]\n",
    "metals   # ['Ni']"
   ]
  },
  {
   "cell_type": "markdown",
   "metadata": {},
   "source": [
    "## The in Operator on Lists, p. 137\n",
    "+ The in operator can be applied to lists to check whether an object is in a list:"
   ]
  },
  {
   "cell_type": "code",
   "execution_count": 17,
   "metadata": {},
   "outputs": [
    {
     "name": "stdout",
     "output_type": "stream",
     "text": [
      "Enter a gas: neon\n",
      "neon is noble.\n"
     ]
    }
   ],
   "source": [
    "nobles = ['helium', 'neon', 'argon', 'krypton', 'xenon', 'radon']\n",
    "gas = input('Enter a gas: ')\n",
    "if gas in nobles:\n",
    "    print('{} is noble.'.format(gas))   # old format"
   ]
  },
  {
   "cell_type": "code",
   "execution_count": 15,
   "metadata": {},
   "outputs": [
    {
     "name": "stdout",
     "output_type": "stream",
     "text": [
      "Enter a gas: argon\n",
      "argon is noble.\n"
     ]
    }
   ],
   "source": [
    "# new f-string formatting gets the same result as the above: \n",
    "nobles = ['helium', 'neon', 'argon', 'krypton', 'xenon', 'radon']\n",
    "gas = input('Enter a gas: ')\n",
    "if gas in nobles:\n",
    "    print(f'{gas} is noble.')     # new f-string formatting"
   ]
  },
  {
   "cell_type": "code",
   "execution_count": 3,
   "metadata": {},
   "outputs": [
    {
     "name": "stdout",
     "output_type": "stream",
     "text": [
      "helium\n",
      "neon\n",
      "argon\n",
      "krypton\n",
      "xenon\n",
      "radon\n"
     ]
    }
   ],
   "source": [
    "# same\n",
    "nobles = ['helium', 'neon', 'argon', 'krypton', 'xenon', 'radon']\n",
    "for gas in nobles:\n",
    "    print(gas)"
   ]
  },
  {
   "cell_type": "code",
   "execution_count": 2,
   "metadata": {},
   "outputs": [
    {
     "name": "stdout",
     "output_type": "stream",
     "text": [
      "helium\n",
      "neon\n",
      "argon\n",
      "krypton\n",
      "xenon\n",
      "radon\n"
     ]
    }
   ],
   "source": [
    "nobles = ['helium', 'neon', 'argon', 'krypton', 'xenon', 'radon']\n",
    "for gas in range(len(nobles)):  # 0, 1, 2, 3, 4, 5\n",
    "    print(nobles[gas])"
   ]
  },
  {
   "cell_type": "code",
   "execution_count": 4,
   "metadata": {},
   "outputs": [
    {
     "name": "stdout",
     "output_type": "stream",
     "text": [
      "a\n",
      "b\n",
      "c\n"
     ]
    }
   ],
   "source": [
    "# same as the above\n",
    "nobles = ['a', 'b', 'c']\n",
    "for i in range(len(nobles)):\n",
    "    print(nobles[i])"
   ]
  },
  {
   "cell_type": "code",
   "execution_count": 16,
   "metadata": {},
   "outputs": [
    {
     "data": {
      "text/plain": [
       "range(0, 6)"
      ]
     },
     "execution_count": 16,
     "metadata": {},
     "output_type": "execute_result"
    }
   ],
   "source": [
    "range(len(nobles))  # 0, 1, ..., 5"
   ]
  },
  {
   "cell_type": "code",
   "execution_count": 18,
   "metadata": {},
   "outputs": [
    {
     "data": {
      "text/plain": [
       "[0, 1, 2, 3, 4, 5]"
      ]
     },
     "execution_count": 18,
     "metadata": {},
     "output_type": "execute_result"
    }
   ],
   "source": [
    "list(range(len(nobles)))"
   ]
  },
  {
   "cell_type": "code",
   "execution_count": 8,
   "metadata": {},
   "outputs": [
    {
     "name": "stdout",
     "output_type": "stream",
     "text": [
      "True\n",
      "True\n",
      "--------------------\n",
      "False\n",
      "True\n"
     ]
    }
   ],
   "source": [
    "# Unlike with strings, when used with lists, the in operator\n",
    "# checks only for a single item. \n",
    "# This code checks whether the list [1, 2] is an item in the \n",
    "# list [0, 1, 2, 3]:\n",
    "\n",
    "print('c' in 'abcd')\n",
    "print('cd' in 'abcd') \n",
    "print('-'*20)\n",
    "print([1, 2] in [0, 1, 2, 3])           # False\n",
    "print([1, 2] in [0, 1, 2, 3, [1, 2]])   # True"
   ]
  },
  {
   "cell_type": "markdown",
   "metadata": {},
   "source": [
    "## Slicing Lists, p. 137"
   ]
  },
  {
   "cell_type": "code",
   "execution_count": 18,
   "metadata": {},
   "outputs": [
    {
     "data": {
      "text/plain": [
       "'E'"
      ]
     },
     "execution_count": 18,
     "metadata": {},
     "output_type": "execute_result"
    }
   ],
   "source": [
    "# indexing\n",
    "list1 = ['A', 'B', 'C', 'D', 'E', 'F']\n",
    "list1[4]"
   ]
  },
  {
   "cell_type": "code",
   "execution_count": 7,
   "metadata": {},
   "outputs": [
    {
     "name": "stdout",
     "output_type": "stream",
     "text": [
      "['A', 'B', 'C', 'D', 'E', 'F']\n",
      "['A', 'B', 'C', 'D']\n"
     ]
    }
   ],
   "source": [
    "# slicing\n",
    "list1 = ['A', 'B', 'C', 'D', 'E', 'F']\n",
    "list2 = list1[0:4]   # Excluing index 4\n",
    "print(list1)\n",
    "print(list2)"
   ]
  },
  {
   "cell_type": "markdown",
   "metadata": {},
   "source": [
    "###### **:** notation in a list\n",
    "1. [:4]: starting from the beginning  \n",
    "2. [4:]:  up to the end"
   ]
  },
  {
   "cell_type": "code",
   "execution_count": 8,
   "metadata": {},
   "outputs": [
    {
     "name": "stdout",
     "output_type": "stream",
     "text": [
      "['A', 'B', 'C', 'D', 'E', 'F']\n",
      "['A', 'B', 'C', 'D']\n",
      "['E', 'F']\n"
     ]
    }
   ],
   "source": [
    "list1 = ['A', 'B', 'C', 'D', 'E', 'F']\n",
    "list2 = list1[:4]   # from index 0 and up to index 4 but not inducing index 4\n",
    "list3 = list1[4:]   # from index 4 and up the the end of the list\n",
    "print(list1)\n",
    "print(list2)\n",
    "print(list3)"
   ]
  },
  {
   "cell_type": "markdown",
   "metadata": {},
   "source": [
    "### Deep copy vs. shadow copy"
   ]
  },
  {
   "cell_type": "markdown",
   "metadata": {},
   "source": [
    "###### Deep copy vs. shadow copy\n",
    "1. Shallow copy: **list2 = list1** \n",
    "2. Two ways to make a deep copy\n",
    "    1. **list[:]**\n",
    "    2. **list.copy()**"
   ]
  },
  {
   "cell_type": "code",
   "execution_count": 15,
   "metadata": {},
   "outputs": [
    {
     "name": "stdout",
     "output_type": "stream",
     "text": [
      "['A', 'B', 500]\n",
      "['A', 'B', 500]\n"
     ]
    }
   ],
   "source": [
    "# Shallow copy\n",
    "list1 = ['A', 'B', 'C']\n",
    "list4 = list1    # copy all items from list1 to list4\n",
    "list4[2] = 500\n",
    "print(list1)\n",
    "print(list4)"
   ]
  },
  {
   "cell_type": "markdown",
   "metadata": {},
   "source": [
    "###### list[:] & list.copy() makes list4 a clone of list1 but they are two different lists "
   ]
  },
  {
   "cell_type": "code",
   "execution_count": 16,
   "metadata": {},
   "outputs": [
    {
     "name": "stdout",
     "output_type": "stream",
     "text": [
      "['A', 'B', 'C']\n",
      "['A', 'B', 500]\n"
     ]
    }
   ],
   "source": [
    "# Deep copy: method 2\n",
    "# change in list4 won't change lsit1\n",
    "list1 = ['A', 'B', 'C']\n",
    "list4 = list1[:]    # deep copy [:] makes two lists different\n",
    "list4[2] = 500\n",
    "print(list1)\n",
    "print(list4)"
   ]
  },
  {
   "cell_type": "code",
   "execution_count": 17,
   "metadata": {},
   "outputs": [
    {
     "name": "stdout",
     "output_type": "stream",
     "text": [
      "['A', 'B', 'C']\n",
      "['A', 'B', 500]\n"
     ]
    }
   ],
   "source": [
    "# Deep copy: method 2\n",
    "# change in list4 won't change lsit1\n",
    "list1 = ['A', 'B', 'C']\n",
    "list4 = list1.copy()    # deep copy [:] makes two lists different\n",
    "list4[2] = 500\n",
    "print(list1)\n",
    "print(list4) "
   ]
  },
  {
   "cell_type": "markdown",
   "metadata": {},
   "source": [
    "## Aliasing: What’s in a Name?, p. 139\n",
    "1. An **alias for lists** means that **two variables contain the same memory address and hence refer to a single list**. \n",
    "2. When we modify the list using one of the variables, references through the other variable show the change as well.\n",
    "3. The fact that **aliasing** can make hard-to-find errors **leads to** the importance of **mutability**. This **can’t happen with immutable** values like **strings**. \n",
    "4. **Immutability** of data types such as **strings** makes it's **safe to have aliases** for it."
   ]
  },
  {
   "cell_type": "code",
   "execution_count": 24,
   "metadata": {},
   "outputs": [
    {
     "name": "stdout",
     "output_type": "stream",
     "text": [
      "['A', 'B', 100, 'D', 'E', 'F']\n",
      "['A', 'B', 100, 'D', 'E', 'F']\n"
     ]
    }
   ],
   "source": [
    "# Aliasing of lists\n",
    "list1 = ['A', 'B', 'C', 'D', 'E', 'F']\n",
    "list2 = list1       # Alising: two variables refer to the same list \n",
    "list2[2] = 100\n",
    "print(list1)\n",
    "print(list2)"
   ]
  },
  {
   "cell_type": "code",
   "execution_count": 20,
   "metadata": {},
   "outputs": [
    {
     "name": "stdout",
     "output_type": "stream",
     "text": [
      "3\n"
     ]
    },
    {
     "ename": "TypeError",
     "evalue": "'str' object does not support item assignment",
     "output_type": "error",
     "traceback": [
      "\u001b[1;31m---------------------------------------------------------------------------\u001b[0m",
      "\u001b[1;31mTypeError\u001b[0m                                 Traceback (most recent call last)",
      "\u001b[1;32m<ipython-input-20-ad7ec89aeb32>\u001b[0m in \u001b[0;36m<module>\u001b[1;34m\u001b[0m\n\u001b[0;32m      3\u001b[0m \u001b[0mB\u001b[0m \u001b[1;33m=\u001b[0m \u001b[0mA\u001b[0m\u001b[1;33m\u001b[0m\u001b[1;33m\u001b[0m\u001b[0m\n\u001b[0;32m      4\u001b[0m \u001b[0mprint\u001b[0m\u001b[1;33m(\u001b[0m\u001b[0mB\u001b[0m\u001b[1;33m[\u001b[0m\u001b[1;36m3\u001b[0m\u001b[1;33m]\u001b[0m\u001b[1;33m)\u001b[0m\u001b[1;33m\u001b[0m\u001b[1;33m\u001b[0m\u001b[0m\n\u001b[1;32m----> 5\u001b[1;33m \u001b[0mB\u001b[0m\u001b[1;33m[\u001b[0m\u001b[1;36m3\u001b[0m\u001b[1;33m]\u001b[0m \u001b[1;33m=\u001b[0m \u001b[1;34m'k'\u001b[0m    \u001b[1;31m# Error since strings are immutable\u001b[0m\u001b[1;33m\u001b[0m\u001b[1;33m\u001b[0m\u001b[0m\n\u001b[0m",
      "\u001b[1;31mTypeError\u001b[0m: 'str' object does not support item assignment"
     ]
    }
   ],
   "source": [
    "# strings are immutable\n",
    "A = '012345'\n",
    "B = A\n",
    "print(B[3])\n",
    "B[3] = 'k'    # Error since strings are immutable"
   ]
  },
  {
   "cell_type": "markdown",
   "metadata": {},
   "source": [
    "## Mutable Parameters, p. 140\n",
    "+ Aliasing occurs to the parameter L and the list1 in the function example below.\n",
    "+ Aliasing occurs when you use list parameters as well, since parameters are variables. \n",
    "+ Here is a function that takes a list, removes its last item, and returns the list:"
   ]
  },
  {
   "cell_type": "markdown",
   "metadata": {},
   "source": [
    "###### 1. a function with return inside"
   ]
  },
  {
   "cell_type": "code",
   "execution_count": 51,
   "metadata": {},
   "outputs": [
    {
     "name": "stdout",
     "output_type": "stream",
     "text": [
      "[1, 2]\n",
      "[1, 2]\n"
     ]
    }
   ],
   "source": [
    "# Both the parameter L and the variable list are aliasing\n",
    "# A function that takes a list, removes its last item, and returns the list:\n",
    "\n",
    "def remove_last_item(L: list) -> list:\n",
    "    \"\"\"Return list L with the last item removed.\n",
    "    \n",
    "    Precondition: len(L) >= 0\n",
    "\n",
    "    >>> remove_last_item([1, 3, 2, 4])\n",
    "    [1, 3, 2]\n",
    "    \"\"\"\n",
    "    del L[-1]\n",
    "    return L\n",
    "\n",
    "# A list is created and stored in a variable; \n",
    "# then that variable is passed as an argument to \n",
    "# remove_last_item:\n",
    "\n",
    "# In the code execution, the parameter L is assigned the \n",
    "# memory address that list1 contains. That makes list1 and L \n",
    "# aliases. When the last item of the list that L refers to \n",
    "# is removed, that change is “seen” by list1 as well.\n",
    "\n",
    "# Both the parameter L and the variable list1 are aliasing\n",
    "# L: a parameter; list1 is a variable as an argument\n",
    "list1 = [1, 2, 3]\n",
    "print(remove_last_item(L = list1))    # Both L and list1 are aliasing\n",
    "print(list1)"
   ]
  },
  {
   "cell_type": "code",
   "execution_count": 43,
   "metadata": {},
   "outputs": [
    {
     "data": {
      "text/plain": [
       "[1, 2]"
      ]
     },
     "execution_count": 43,
     "metadata": {},
     "output_type": "execute_result"
    }
   ],
   "source": [
    "# The parameter L of the function is omitted here:\n",
    "list1 = [1, 2, 3]\n",
    "remove_last_item(list1)  #  The parameter L is omitted "
   ]
  },
  {
   "cell_type": "markdown",
   "metadata": {},
   "source": [
    "###### 2. a function without return inside"
   ]
  },
  {
   "cell_type": "raw",
   "metadata": {},
   "source": [
    "Since the remove_last_item() funciton modifies the list parameter, the modified list doesn’t actually need to be returned. You can remove the return statement but use print() to show the result:"
   ]
  },
  {
   "cell_type": "code",
   "execution_count": 52,
   "metadata": {},
   "outputs": [
    {
     "name": "stdout",
     "output_type": "stream",
     "text": [
      "None\n",
      "[1, 2]\n"
     ]
    }
   ],
   "source": [
    "# A function without return inside\n",
    "def remove_last_item(L: list) -> list:\n",
    "    \"\"\"Return list L with the last item removed.\n",
    "    \n",
    "    Precondition: len(L) >= 0\n",
    "\n",
    "    >>> remove_last_item([1, 3, 2, 4])\n",
    "    [1, 3, 2]\n",
    "    \"\"\"\n",
    "    del L[-1]\n",
    "    # return L (without return statement here, get 'None')  \n",
    "\n",
    "list1 = [1, 2, 3]\n",
    "print(remove_last_item(L = list1))    # Both L and list1 are aliasing\n",
    "print(list1)                          # Aliasing makes L and list1 modified"
   ]
  },
  {
   "cell_type": "code",
   "execution_count": 47,
   "metadata": {},
   "outputs": [
    {
     "name": "stdout",
     "output_type": "stream",
     "text": [
      "4\n",
      "[1, 3, 2]\n"
     ]
    }
   ],
   "source": [
    "# pop the last element by default\n",
    "x = [1, 3, 2, 4]\n",
    "print(x.pop())   # pop the last element by default\n",
    "print(x)"
   ]
  },
  {
   "cell_type": "code",
   "execution_count": 46,
   "metadata": {},
   "outputs": [
    {
     "name": "stdout",
     "output_type": "stream",
     "text": [
      "3\n",
      "[1, 2, 4]\n"
     ]
    }
   ],
   "source": [
    "# assign index as parameter\n",
    "x = [1, 3, 2, 4]\n",
    "print(x.pop(1))    # 1: index\n",
    "print(x)"
   ]
  },
  {
   "cell_type": "code",
   "execution_count": null,
   "metadata": {},
   "outputs": [],
   "source": [
    "x = [1, 3, 2, 4]\n",
    "# x.remove(3)  # 3: element value"
   ]
  },
  {
   "cell_type": "markdown",
   "metadata": {},
   "source": [
    "###### Using typing.List\n",
    "+ Instead of using list type in the type contract, we could use **typing.List** and specify **Any** as the **type**:"
   ]
  },
  {
   "cell_type": "code",
   "execution_count": 54,
   "metadata": {},
   "outputs": [
    {
     "name": "stdout",
     "output_type": "stream",
     "text": [
      "None\n",
      "[1, 2]\n"
     ]
    }
   ],
   "source": [
    "# using \"Any\" as type:\n",
    "\n",
    "from typing import List, Any \n",
    "\n",
    "def remove_last_item(L: List[Any]) -> None:\n",
    "    \"\"\"Remove the last item from L.\n",
    "\n",
    "    Precondition: len(L) >= 0\n",
    "\n",
    "    >>> remove_last_item([1, 3, 2, 4])\n",
    "    \"\"\"\n",
    "    del L[-1]\n",
    "    # without return statement here, get 'None'\n",
    "\n",
    "list1 = [1, 2, 3]\n",
    "print(remove_last_item(L = list1)) \n",
    "print(list1)"
   ]
  },
  {
   "cell_type": "markdown",
   "metadata": {},
   "source": [
    "## List Methods, p. 141\n",
    "1. Lists are objects and thus have methods.\n",
    "2. Several methods modify a list and return None, like the second version of remove_last_item function above."
   ]
  },
  {
   "cell_type": "markdown",
   "metadata": {},
   "source": [
    "###### Some examples for modifying a list \n",
    "1. list.extend('E'):     same\n",
    "2. list.extend(['E']): same\n",
    "3. list.append('E'): different\n",
    "4. list.append(['E']): different\n",
    "5. list.insert(2, 'F')\n",
    "6. list.remove('F')\n",
    "7. list.remove('E')"
   ]
  },
  {
   "cell_type": "code",
   "execution_count": 57,
   "metadata": {},
   "outputs": [
    {
     "name": "stdout",
     "output_type": "stream",
     "text": [
      "1: ['1', '2', '3', 'E']\n",
      "2: ['1', '2', '3', 'E', 'E']\n",
      "3: ['1', '2', '3', 'E', 'E', 'E']\n",
      "4: ['1', '2', '3', 'E', 'E', 'E', ['E']]\n",
      "5: ['1', '2', 'F', '3', 'E', 'E', 'E', ['E']]\n",
      "6: ['1', '2', '3', 'E', 'E', 'E', ['E']]\n",
      "7: ['1', '2', '3', 'E', 'E', ['E']]\n"
     ]
    }
   ],
   "source": [
    "# Here we use list methods to construct/modify a list \n",
    "L = ['1', '2', '3']\n",
    "L.extend('E')     # extend 'E'\n",
    "print('1:', L)\n",
    "L.extend(['E'])   # extend ['E'] \n",
    "print('2:', L)\n",
    "L.append('E')     # append 'E'\n",
    "print('3:', L) \n",
    "L.append(['E'])   # append ['E']\n",
    "print('4:', L) \n",
    "L.insert(2, 'F')  # insert 'F' at index 2\n",
    "print('5:', L)   \n",
    "L.remove('F')     # remove 'F'\n",
    "print('6:', L)   \n",
    "L.remove('E')     # remove 'E'\n",
    "print('7:', L)"
   ]
  },
  {
   "cell_type": "code",
   "execution_count": 56,
   "metadata": {},
   "outputs": [
    {
     "name": "stdout",
     "output_type": "stream",
     "text": [
      "['1', '2', '3']\n",
      "['1', '2']\n"
     ]
    }
   ],
   "source": [
    "# Using index to remove an element of a list\n",
    "L = ['1', '2', '3']\n",
    "print(L)\n",
    "L.remove(L[2])    # same as:  L.remove('3') \n",
    "print(L)  "
   ]
  },
  {
   "cell_type": "markdown",
   "metadata": {},
   "source": [
    "###### Which list methods modify the original list or creating a new list?"
   ]
  },
  {
   "cell_type": "raw",
   "metadata": {},
   "source": [
    "Python list methods \n",
    "\n",
    "methods     modify the list    create a new list     NA to either one\n",
    "--------------------------------------------------------------------------\n",
    "1. L.append         *\n",
    "2. L.copy                              * (similar to L[:])\n",
    "3. L.count                                                    *\n",
    "4. L.clear          *\n",
    "5. L.extend         *\n",
    "6. L.index                                                    *\n",
    "7. L.insert         *\n",
    "8. L.pop            *\n",
    "9. L.remove         *\n",
    "10.L.reverse        *\n",
    "11.L.sort            *\n",
    "\n",
    "Of the above methods:\n",
    "1. only pop returns a value other than None. (pop returns the item that was removed) from the list.) I\n",
    "2. The only method that returns a list is copy, which is equivalent to L[:], a deep copy."
   ]
  },
  {
   "cell_type": "code",
   "execution_count": 20,
   "metadata": {},
   "outputs": [
    {
     "name": "stdout",
     "output_type": "stream",
     "text": [
      "['apple', 'banana', 'cherry', 5]\n",
      "['apple', 'banana', 'cherry', 'orange']\n"
     ]
    }
   ],
   "source": [
    "# Deep copy: copy(), similar to L[:]\n",
    "x = ['apple', 'banana', 'cherry', 'orange']\n",
    "y = x.copy()\n",
    "x[3] = 5\n",
    "print(x)\n",
    "print(y)"
   ]
  },
  {
   "cell_type": "code",
   "execution_count": 35,
   "metadata": {},
   "outputs": [
    {
     "name": "stdout",
     "output_type": "stream",
     "text": [
      "['apple', 'banana']\n",
      "cherry\n"
     ]
    }
   ],
   "source": [
    "# pop(): by default removes the last item \n",
    "# Syntax: list.pop(pos) \n",
    "#     where pos is a number specifying the position of the element \n",
    "#     you want to remove, default value is -1, which returns the last item. \n",
    "x = ['apple', 'banana', 'cherry']\n",
    "z = x.pop()\n",
    "print(x)\n",
    "print(z)"
   ]
  },
  {
   "cell_type": "code",
   "execution_count": 58,
   "metadata": {},
   "outputs": [
    {
     "name": "stdout",
     "output_type": "stream",
     "text": [
      "['apple', 'cherry']\n",
      "banana\n"
     ]
    }
   ],
   "source": [
    "# pop(position): Removes the element at the specified position \n",
    "x = ['apple', 'banana', 'cherry']\n",
    "z = x.pop(1)\n",
    "print(x)\n",
    "print(z)"
   ]
  },
  {
   "cell_type": "code",
   "execution_count": 59,
   "metadata": {},
   "outputs": [
    {
     "name": "stdout",
     "output_type": "stream",
     "text": [
      "['apple', 'cherry']\n"
     ]
    }
   ],
   "source": [
    "# remove(): Removes the first item with the specified value\n",
    "x = ['apple', 'banana', 'cherry']\n",
    "x.remove(\"banana\")\n",
    "print(x)"
   ]
  },
  {
   "cell_type": "code",
   "execution_count": 39,
   "metadata": {},
   "outputs": [
    {
     "name": "stdout",
     "output_type": "stream",
     "text": [
      "['BMW', 'Ford', 'Volvo']\n"
     ]
    }
   ],
   "source": [
    "# The sort() method sorts the list ascending by default.\n",
    "cars = ['Ford', 'BMW', 'Volvo']\n",
    "cars.sort()\n",
    "print(cars)"
   ]
  },
  {
   "cell_type": "code",
   "execution_count": 42,
   "metadata": {},
   "outputs": [
    {
     "name": "stdout",
     "output_type": "stream",
     "text": [
      "['Volvo', 'Ford', 'BMW']\n"
     ]
    }
   ],
   "source": [
    "# sort(reverse=True) method sorts the list in desscending order.\n",
    "cars = ['Ford', 'BMW', 'Volvo']\n",
    "cars.sort(reverse=True)\n",
    "print(cars)"
   ]
  },
  {
   "cell_type": "code",
   "execution_count": 60,
   "metadata": {},
   "outputs": [],
   "source": [
    "# dir() shows the methods of lists\n",
    "# dir(list)"
   ]
  },
  {
   "cell_type": "raw",
   "metadata": {},
   "source": [
    "# p. 142\n",
    "Method               Description\n",
    "L.append(v)          Appends value v to list L. \n",
    "L.clear()            Removes all items from list L.\n",
    "L.count(v)           Returns the number of occurrences of v in list L.\n",
    "L.extend(v)          Appends the items in v to L.\n",
    "L.index(v)           Returns the index of the first occurrence of v in L—an\n",
    "                     error is raised if v doesn’t occur in\n",
    "                     L.\n",
    "L.index(v, beg)      Returns the index of the first \n",
    "                     occurrence of v at or after\n",
    "                     index beg in L—an error is raised if v \n",
    "                     doesn’t occur in that part of L.\n",
    "L.index(v, beg, end) Returns the index of the first\n",
    "                     occurrence of v between\n",
    "                     indices beg (inclusive) and end \n",
    "                     (exclusive) in L; an error is raised if \n",
    "                     v doesn’t occur in that part of L.\n",
    "L.insert(i, v)       Inserts value v at index i in list L, \n",
    "                     shifting subsequent\n",
    "                     items to make room.\n",
    "L.pop()              Removes and returns the last item of L \n",
    "                     (which must be nonempty).\n",
    "L.remove(v)          Removes the first occurrence of value v \n",
    "                     from list L. \n",
    "L.reverse()          Reverses the order of the values in \n",
    "                     list L.\n",
    "L.sort()             Sorts the values in list L in ascending \n",
    "                     order (for strings with the same letter \n",
    "                     case, it sorts in alphabetical order).\n",
    "L.sort(reverse=True) Sorts the values in list L in \n",
    "                     descending order (for strings with the\n",
    "                     same letter case, it sorts in reverse\n",
    "                     alphabetical order)."
   ]
  },
  {
   "cell_type": "markdown",
   "metadata": {},
   "source": [
    "###### Note that a call to append isn’t the same as using +:\n",
    "1. **append appends a single value, while + expects two lists as operands**\n",
    "2. append modifies the list rather than creating a new one"
   ]
  },
  {
   "cell_type": "code",
   "execution_count": 64,
   "metadata": {},
   "outputs": [
    {
     "name": "stdout",
     "output_type": "stream",
     "text": [
      "[1, 2, [3, 4]]\n"
     ]
    }
   ],
   "source": [
    "# append() appends a single value\n",
    "x = [1, 2]\n",
    "y = [3, 4]\n",
    "x.append(y)\n",
    "print(x)"
   ]
  },
  {
   "cell_type": "code",
   "execution_count": 61,
   "metadata": {},
   "outputs": [
    {
     "data": {
      "text/plain": [
       "[1, 2, 3, 4]"
      ]
     },
     "execution_count": 61,
     "metadata": {},
     "output_type": "execute_result"
    }
   ],
   "source": [
    "# concatination sign (+) concatinates two lists\n",
    "x = [1, 2]\n",
    "y = [3, 4]\n",
    "x + y "
   ]
  },
  {
   "cell_type": "markdown",
   "metadata": {},
   "source": [
    "## Working with a List of Lists, p. 142"
   ]
  },
  {
   "cell_type": "markdown",
   "metadata": {},
   "source": [
    "###### Accessing nested list\n",
    "1. Lists are Heterogeneous and can contain any type of data. \n",
    "2. They can contain other lists. \n",
    "3. A list whose items are lists is called a nested list. \n",
    "4. For example, the following nested list describes life expectancies in different countries:"
   ]
  },
  {
   "cell_type": "code",
   "execution_count": 65,
   "metadata": {},
   "outputs": [
    {
     "name": "stdout",
     "output_type": "stream",
     "text": [
      "['Canada', 76.5]\n",
      "['United States', 75.5]\n",
      "['Mexico', 72.0]\n"
     ]
    }
   ],
   "source": [
    "# Accessing nested list\n",
    "# The nested list describes life expectancies in different countries:\n",
    "life = [['Canada', 76.5], ['United States', 75.5], ['Mexico', 72.0]]\n",
    "print(life[0])   # ['Canada', 76.5]\n",
    "print(life[1])   # ['United States', 75.5]\n",
    "print(life[2])   # ['Mexico', 72.0]"
   ]
  },
  {
   "cell_type": "code",
   "execution_count": 32,
   "metadata": {},
   "outputs": [
    {
     "name": "stdout",
     "output_type": "stream",
     "text": [
      "['United States', 75.5]\n",
      "United States\n",
      "75.5\n"
     ]
    }
   ],
   "source": [
    "# Accessing nested list\n",
    "life = [['Canada', 76.5], ['United States', 75.5], ['Mexico', 72.0]]\n",
    "print(life[1])      # ['United States', 75.5]\n",
    "print(life[1][0])   # 'United States'\n",
    "print(life[1][1])   # 75.5"
   ]
  },
  {
   "cell_type": "code",
   "execution_count": 33,
   "metadata": {},
   "outputs": [
    {
     "name": "stdout",
     "output_type": "stream",
     "text": [
      "['Canada', 76.5]\n",
      "Canada\n",
      "76.5\n"
     ]
    }
   ],
   "source": [
    "# Accessing nested list\n",
    "# We can also assign sublists to variables:\n",
    "# Assigning a sublist to a variable creates an alias for \n",
    "# that sublist.\n",
    "life = [['Canada', 76.5], ['United States', 75.5], ['Mexico', 72.0]]\n",
    "canada = life[0]   \n",
    "print(canada)       # ['Canada', 76.5]\n",
    "print(canada[0])    # 'Canada'\n",
    "print(canada[1])    # 76.5"
   ]
  },
  {
   "cell_type": "markdown",
   "metadata": {},
   "source": [
    "###### Assigning a sublist to a variable creates an alias for that sublist\n",
    "+ any change we make through the sublist reference will be seen when we access the main list, and vice versa"
   ]
  },
  {
   "cell_type": "code",
   "execution_count": 46,
   "metadata": {},
   "outputs": [
    {
     "name": "stdout",
     "output_type": "stream",
     "text": [
      "[['Canada', 76.5], ['United States', 75.5], ['Mexico', 72.0]]\n",
      "['Canada', 76.5]\n",
      "['Canada', 80.0]\n",
      "[['Canada', 80.0], ['United States', 75.5], ['Mexico', 72.0]]\n"
     ]
    }
   ],
   "source": [
    "# Any change we make through the sublist reference will be seen when we access \n",
    "# the main list, and vice versa.\n",
    "life = [['Canada', 76.5], ['United States', 75.5], ['Mexico', 72.0]]\n",
    "print(life)     # [['Canada', 76.5], ['United States', 75.5], ['Mexico', 72.0]]\n",
    "canada = life[0]\n",
    "print(canada) \n",
    "canada[1] = 80.0\n",
    "print(canada)   # ['Canada', 80.0]\n",
    "print(life)     # [['Canada', 80.0], ['United States', 75.5], ['Mexico', 72.0]]"
   ]
  },
  {
   "cell_type": "markdown",
   "metadata": {},
   "source": [
    "## Where Did My List Go?, p. 143"
   ]
  },
  {
   "cell_type": "markdown",
   "metadata": {},
   "source": [
    "###### Many list methods return None rather than creating and returning a new list. As a result, lists sometimes seem to disappear. "
   ]
  },
  {
   "cell_type": "code",
   "execution_count": 66,
   "metadata": {},
   "outputs": [
    {
     "name": "stdout",
     "output_type": "stream",
     "text": [
      "['red', 'orange', 'yellow', 'green', 'blue', 'purple']\n",
      "None\n",
      "['blue', 'green', 'orange', 'purple', 'red', 'yellow']\n"
     ]
    }
   ],
   "source": [
    "colors = 'red orange yellow green blue purple'.split()\n",
    "print(colors)         # ['red', 'orange', 'yellow', 'green', 'blue', 'purple']\n",
    "sorted_colors = colors.sort() # colors.sort() returns None.\n",
    "print(sorted_colors)     # None\n",
    "print(colors)"
   ]
  },
  {
   "cell_type": "code",
   "execution_count": 49,
   "metadata": {},
   "outputs": [
    {
     "name": "stdout",
     "output_type": "stream",
     "text": [
      "['blue', 'green', 'orange', 'purple', 'red', 'yellow']\n"
     ]
    }
   ],
   "source": [
    "colors = 'red orange yellow green blue purple'.split()\n",
    "colors.sort()  # Variable colors refers to the sorted list.\n",
    "print(colors)"
   ]
  },
  {
   "cell_type": "markdown",
   "metadata": {},
   "source": [
    "###### In the above example\n",
    "1. colors.sort() did two things: \n",
    "    1. it sorted the items in the list, and \n",
    "    2. it returned the value None. \n",
    "2. That’s why variable sorted_colors refers to None. Variable colors, on the other hand, refers to the sorted list:"
   ]
  },
  {
   "cell_type": "code",
   "execution_count": 67,
   "metadata": {},
   "outputs": [
    {
     "data": {
      "text/plain": [
       "['blue', 'green', 'orange', 'purple', 'red', 'yellow']"
      ]
     },
     "execution_count": 67,
     "metadata": {},
     "output_type": "execute_result"
    }
   ],
   "source": [
    "colors   # ['blue', 'green', 'orange', 'purple', 'red', 'yellow']"
   ]
  },
  {
   "cell_type": "markdown",
   "metadata": {},
   "source": [
    "###### Methods that mutate a collection, such as append and sort, return None;\n",
    "1. It’s a common error to expect that they’ll return the resulting list. \n",
    "2. As we discussed in Testing Your Code Semiautomatically, on page 110, mistakes like these can be caught by writing and running a few tests."
   ]
  },
  {
   "cell_type": "markdown",
   "metadata": {},
   "source": [
    "## A Summary List, p. 145\n",
    "1. Lists are used to keep track of zero or more objects. The objects in a list are called items or elements. Each item has a position in the list called an index and that position ranges from zero to one less than the length of the list.\n",
    "2. Lists can contain any type of data, including other lists.\n",
    "3. Lists are mutable, which means that their contents can be modified.\n",
    "4. Slicing is used to create new lists that have the same values or a subset of the values of the originals.\n",
    "5. When two variables refer to the same object, they are called **aliases**.\n",
    "6. Module **typing** contains type **List**, and this can be used in type contracts to annotate the type of values a particular list is expected to contain."
   ]
  },
  {
   "cell_type": "markdown",
   "metadata": {},
   "source": [
    "## The End!"
   ]
  },
  {
   "cell_type": "markdown",
   "metadata": {},
   "source": [
    "###### Data types: int, float, complex, bool, str, list, tuple, set, dict¶\n",
    "+ https://www.tutorialsteacher.com/python/python-data-types"
   ]
  }
 ],
 "metadata": {
  "kernelspec": {
   "display_name": "Python 3",
   "language": "python",
   "name": "python3"
  },
  "language_info": {
   "codemirror_mode": {
    "name": "ipython",
    "version": 3
   },
   "file_extension": ".py",
   "mimetype": "text/x-python",
   "name": "python",
   "nbconvert_exporter": "python",
   "pygments_lexer": "ipython3",
   "version": "3.7.4"
  }
 },
 "nbformat": 4,
 "nbformat_minor": 2
}
