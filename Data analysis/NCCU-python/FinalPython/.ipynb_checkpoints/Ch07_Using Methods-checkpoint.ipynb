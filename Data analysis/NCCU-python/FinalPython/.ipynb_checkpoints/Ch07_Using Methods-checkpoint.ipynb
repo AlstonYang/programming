{
 "cells": [
  {
   "cell_type": "markdown",
   "metadata": {},
   "source": [
    "# Ch07_Using Methods"
   ]
  },
  {
   "cell_type": "markdown",
   "metadata": {},
   "source": [
    "1. Functions of module: \n",
    "    1. built-in functions\n",
    "    2. functions inside modules\n",
    "    3. functions that we’ve defined. \n",
    "2. **Methods of class:\n",
    "    A method** is another kind of function that **is attached to a** particular **type**. There are **str methods, int methods, bool methods, and more—every type has its own set of methods**."
   ]
  },
  {
   "cell_type": "markdown",
   "metadata": {},
   "source": [
    "## A Methodical Review, p. 125\n",
    "1. Class and module:\n",
    "    1. Class: a **class** is how Python represents a **type**.\n",
    "        + Classes:\n",
    "            1. int\n",
    "            2. float\n",
    "            3. complex number\n",
    "            4. bool\n",
    "            5. str\n",
    "            6. etc.\n",
    "    2. Module: a module is a kind of object which contain functions and variables.\n",
    "3. Classes are like modules, except that **classes contain methods** and **modules contain functions**.\n",
    "4. Methods are like functions, except that the first argument must be an object of the class in which the method is defined.\n",
    "5. Method calls in this form—**'browning'.capitalize()**—are shorthand for this: **str.capitalize('browning')**.\n",
    "6. Methods beginning and ending with two underscores are considered special by Python, and they are triggered by particular syntax. For example, ('TTA' + 'GGG') triggers ('TTA' .__ add__('GGG'))"
   ]
  },
  {
   "cell_type": "code",
   "execution_count": 5,
   "metadata": {},
   "outputs": [
    {
     "data": {
      "text/plain": [
       "'__main__'"
      ]
     },
     "execution_count": 5,
     "metadata": {},
     "output_type": "execute_result"
    }
   ],
   "source": [
    "__name__"
   ]
  },
  {
   "cell_type": "markdown",
   "metadata": {},
   "source": [
    "## Modules, Classes, and Methods, p. 115"
   ]
  },
  {
   "cell_type": "markdown",
   "metadata": {},
   "source": [
    "### Objects:\n",
    "1. Class and module:\n",
    "    1. Class: a class is how Python represents a type.\n",
    "        + Classes:\n",
    "            1. int\n",
    "            2. float\n",
    "            3. complex number\n",
    "            4. bool\n",
    "            5. str\n",
    "            6. etc.\n",
    "    2. Module: a module is a kind of object which contain functions and variables.\n",
    "2. Classes are like modules, except that **classes contain methods** and **modules contain functions**."
   ]
  },
  {
   "cell_type": "code",
   "execution_count": 4,
   "metadata": {},
   "outputs": [
    {
     "name": "stdout",
     "output_type": "stream",
     "text": [
      "['__add__', '__class__', '__contains__', '__delattr__', '__dir__', '__doc__', '__eq__', '__format__', '__ge__', '__getattribute__', '__getitem__', '__getnewargs__', '__gt__', '__hash__', '__init__', '__init_subclass__', '__iter__', '__le__', '__len__', '__lt__', '__mod__', '__mul__', '__ne__', '__new__', '__reduce__', '__reduce_ex__', '__repr__', '__rmod__', '__rmul__', '__setattr__', '__sizeof__', '__str__', '__subclasshook__', 'capitalize', 'casefold', 'center', 'count', 'encode', 'endswith', 'expandtabs', 'find', 'format', 'format_map', 'index', 'isalnum', 'isalpha', 'isascii', 'isdecimal', 'isdigit', 'isidentifier', 'islower', 'isnumeric', 'isprintable', 'isspace', 'istitle', 'isupper', 'join', 'ljust', 'lower', 'lstrip', 'maketrans', 'partition', 'replace', 'rfind', 'rindex', 'rjust', 'rpartition', 'rsplit', 'rstrip', 'split', 'splitlines', 'startswith', 'strip', 'swapcase', 'title', 'translate', 'upper', 'zfill']\n"
     ]
    }
   ],
   "source": [
    "x = 'abc'\n",
    "print(dir(x))"
   ]
  },
  {
   "cell_type": "code",
   "execution_count": 6,
   "metadata": {},
   "outputs": [
    {
     "data": {
      "text/plain": [
       "'TTAGGG'"
      ]
     },
     "execution_count": 6,
     "metadata": {},
     "output_type": "execute_result"
    }
   ],
   "source": [
    "# ('TTA' + 'GGG') triggers ('TTA'.__add__('GGG'))\n",
    "('TTA' + 'GGG') "
   ]
  },
  {
   "cell_type": "code",
   "execution_count": 8,
   "metadata": {},
   "outputs": [
    {
     "data": {
      "text/plain": [
       "'TTAGGG'"
      ]
     },
     "execution_count": 8,
     "metadata": {},
     "output_type": "execute_result"
    }
   ],
   "source": [
    "# ('TTA' + 'GGG') triggers ('TTA'.__add__('GGG')) in which \n",
    "# __add__ is a special method.\n",
    "('TTA'.__add__('GGG'))"
   ]
  },
  {
   "cell_type": "code",
   "execution_count": 10,
   "metadata": {
    "scrolled": true
   },
   "outputs": [
    {
     "data": {
      "text/plain": [
       "['__add__',\n",
       " '__class__',\n",
       " '__contains__',\n",
       " '__delattr__',\n",
       " '__dir__',\n",
       " '__doc__',\n",
       " '__eq__',\n",
       " '__format__',\n",
       " '__ge__',\n",
       " '__getattribute__',\n",
       " '__getitem__',\n",
       " '__getnewargs__',\n",
       " '__gt__',\n",
       " '__hash__',\n",
       " '__init__',\n",
       " '__init_subclass__',\n",
       " '__iter__',\n",
       " '__le__',\n",
       " '__len__',\n",
       " '__lt__',\n",
       " '__mod__',\n",
       " '__mul__',\n",
       " '__ne__',\n",
       " '__new__',\n",
       " '__reduce__',\n",
       " '__reduce_ex__',\n",
       " '__repr__',\n",
       " '__rmod__',\n",
       " '__rmul__',\n",
       " '__setattr__',\n",
       " '__sizeof__',\n",
       " '__str__',\n",
       " '__subclasshook__',\n",
       " 'capitalize',\n",
       " 'casefold',\n",
       " 'center',\n",
       " 'count',\n",
       " 'encode',\n",
       " 'endswith',\n",
       " 'expandtabs',\n",
       " 'find',\n",
       " 'format',\n",
       " 'format_map',\n",
       " 'index',\n",
       " 'isalnum',\n",
       " 'isalpha',\n",
       " 'isascii',\n",
       " 'isdecimal',\n",
       " 'isdigit',\n",
       " 'isidentifier',\n",
       " 'islower',\n",
       " 'isnumeric',\n",
       " 'isprintable',\n",
       " 'isspace',\n",
       " 'istitle',\n",
       " 'isupper',\n",
       " 'join',\n",
       " 'ljust',\n",
       " 'lower',\n",
       " 'lstrip',\n",
       " 'maketrans',\n",
       " 'partition',\n",
       " 'replace',\n",
       " 'rfind',\n",
       " 'rindex',\n",
       " 'rjust',\n",
       " 'rpartition',\n",
       " 'rsplit',\n",
       " 'rstrip',\n",
       " 'split',\n",
       " 'splitlines',\n",
       " 'startswith',\n",
       " 'strip',\n",
       " 'swapcase',\n",
       " 'title',\n",
       " 'translate',\n",
       " 'upper',\n",
       " 'zfill']"
      ]
     },
     "execution_count": 10,
     "metadata": {},
     "output_type": "execute_result"
    }
   ],
   "source": [
    "dir(str)"
   ]
  },
  {
   "cell_type": "code",
   "execution_count": 4,
   "metadata": {},
   "outputs": [
    {
     "name": "stdout",
     "output_type": "stream",
     "text": [
      "Help on method_descriptor:\n",
      "\n",
      "islower(...)\n",
      "    S.islower() -> bool\n",
      "    \n",
      "    Return True if all cased characters in S are lowercase and there is\n",
      "    at least one cased character in S, False otherwise.\n",
      "\n"
     ]
    }
   ],
   "source": [
    "help(str.islower)"
   ]
  },
  {
   "cell_type": "code",
   "execution_count": 12,
   "metadata": {},
   "outputs": [],
   "source": [
    "# Note the first line: Help on \"class str\" in module builtins\n",
    "# help(str)  "
   ]
  },
  {
   "cell_type": "code",
   "execution_count": 7,
   "metadata": {},
   "outputs": [
    {
     "data": {
      "text/plain": [
       "'17'"
      ]
     },
     "execution_count": 7,
     "metadata": {},
     "output_type": "execute_result"
    }
   ],
   "source": [
    "# class str(object)\n",
    "#  |  str(object='') -> str\n",
    "#  |  str(bytes_or_buffer[, encoding[, errors]]) -> str\n",
    "#  |  \n",
    "#  |  Create a new string object from the given object.\n",
    "# That describes how to use str as a function: \n",
    "# we can call it to create a string. \n",
    "# For example, str(17) creates the string '17'\n",
    "str(17)"
   ]
  },
  {
   "cell_type": "markdown",
   "metadata": {},
   "source": [
    "###### str.XXX (**class.method**))"
   ]
  },
  {
   "cell_type": "markdown",
   "metadata": {},
   "source": [
    "[Python String Methods](https://www.w3schools.com/python/python_ref_string.asp)"
   ]
  },
  {
   "cell_type": "code",
   "execution_count": 4,
   "metadata": {},
   "outputs": [
    {
     "data": {
      "text/plain": [
       "'Browning'"
      ]
     },
     "execution_count": 4,
     "metadata": {},
     "output_type": "execute_result"
    }
   ],
   "source": [
    "# We can also use str to call a method in class str\n",
    "str.capitalize('browning')"
   ]
  },
  {
   "cell_type": "code",
   "execution_count": 8,
   "metadata": {},
   "outputs": [
    {
     "data": {
      "text/plain": [
       "'Browning'"
      ]
     },
     "execution_count": 8,
     "metadata": {},
     "output_type": "execute_result"
    }
   ],
   "source": [
    "'browning'.capitalize()"
   ]
  },
  {
   "cell_type": "code",
   "execution_count": 5,
   "metadata": {},
   "outputs": [
    {
     "data": {
      "text/plain": [
       "'ABCDE'"
      ]
     },
     "execution_count": 5,
     "metadata": {},
     "output_type": "execute_result"
    }
   ],
   "source": [
    "str.upper('abcde')"
   ]
  },
  {
   "cell_type": "code",
   "execution_count": 6,
   "metadata": {},
   "outputs": [
    {
     "data": {
      "text/plain": [
       "'abcde'"
      ]
     },
     "execution_count": 6,
     "metadata": {},
     "output_type": "execute_result"
    }
   ],
   "source": [
    "str.lower('ABCDE')"
   ]
  },
  {
   "cell_type": "code",
   "execution_count": 10,
   "metadata": {},
   "outputs": [],
   "source": [
    "# help(str.lower)"
   ]
  },
  {
   "cell_type": "code",
   "execution_count": 13,
   "metadata": {},
   "outputs": [
    {
     "data": {
      "text/plain": [
       "'        Sonnet 43         '"
      ]
     },
     "execution_count": 13,
     "metadata": {},
     "output_type": "execute_result"
    }
   ],
   "source": [
    "# This method call produces a new string that centers \n",
    "# 'Sonnet 43' in a string of length 26, padding to the left \n",
    "# and right with spaces.\n",
    "str.center('Sonnet 43', 26)   # '     Sonnet 43             '"
   ]
  },
  {
   "cell_type": "code",
   "execution_count": 14,
   "metadata": {},
   "outputs": [
    {
     "data": {
      "text/plain": [
       "2"
      ]
     },
     "execution_count": 14,
     "metadata": {},
     "output_type": "execute_result"
    }
   ],
   "source": [
    "# Ths method call counts how many times 'the' occurs in 'How do I love thee?\n",
    "str.count('How  do  I love  thee?    Let  me  count  the  ways.',  'the')"
   ]
  },
  {
   "cell_type": "markdown",
   "metadata": {},
   "source": [
    "## Calling Methods the Object-Oriented Way, p. 117"
   ]
  },
  {
   "cell_type": "code",
   "execution_count": 10,
   "metadata": {},
   "outputs": [
    {
     "data": {
      "text/plain": [
       "'abcde'"
      ]
     },
     "execution_count": 10,
     "metadata": {},
     "output_type": "execute_result"
    }
   ],
   "source": [
    "# long form for calling a method\n",
    "str.lower('ABCDE')"
   ]
  },
  {
   "cell_type": "code",
   "execution_count": 11,
   "metadata": {},
   "outputs": [
    {
     "data": {
      "text/plain": [
       "'abcde'"
      ]
     },
     "execution_count": 11,
     "metadata": {},
     "output_type": "execute_result"
    }
   ],
   "source": [
    "# short form for calling a method\n",
    "'ABCDE'.lower()"
   ]
  },
  {
   "cell_type": "code",
   "execution_count": 12,
   "metadata": {},
   "outputs": [
    {
     "data": {
      "text/plain": [
       "'Browning'"
      ]
     },
     "execution_count": 12,
     "metadata": {},
     "output_type": "execute_result"
    }
   ],
   "source": [
    "# long form for calling a method\n",
    "str.capitalize('browning')"
   ]
  },
  {
   "cell_type": "code",
   "execution_count": 13,
   "metadata": {},
   "outputs": [
    {
     "data": {
      "text/plain": [
       "'Browning'"
      ]
     },
     "execution_count": 13,
     "metadata": {},
     "output_type": "execute_result"
    }
   ],
   "source": [
    "# short form for calling a method\n",
    "'browning'.capitalize()"
   ]
  },
  {
   "cell_type": "code",
   "execution_count": 14,
   "metadata": {},
   "outputs": [
    {
     "data": {
      "text/plain": [
       "'        Sonnet  43        '"
      ]
     },
     "execution_count": 14,
     "metadata": {},
     "output_type": "execute_result"
    }
   ],
   "source": [
    "# long form for calling a method\n",
    "str.center('Sonnet  43', 26)"
   ]
  },
  {
   "cell_type": "code",
   "execution_count": 15,
   "metadata": {},
   "outputs": [
    {
     "data": {
      "text/plain": [
       "'        Sonnet  43        '"
      ]
     },
     "execution_count": 15,
     "metadata": {},
     "output_type": "execute_result"
    }
   ],
   "source": [
    "# short form for calling a method\n",
    "'Sonnet  43'.center(26)"
   ]
  },
  {
   "cell_type": "markdown",
   "metadata": {},
   "source": [
    "###### The help documentation for methods uses this form."
   ]
  },
  {
   "cell_type": "code",
   "execution_count": 16,
   "metadata": {},
   "outputs": [
    {
     "name": "stdout",
     "output_type": "stream",
     "text": [
      "Help on method_descriptor:\n",
      "\n",
      "lower(...)\n",
      "    S.lower() -> str\n",
      "    \n",
      "    Return a copy of the string S converted to lowercase.\n",
      "\n"
     ]
    }
   ],
   "source": [
    "# help for method lower in class str\n",
    "help(str.lower)"
   ]
  },
  {
   "cell_type": "code",
   "execution_count": 14,
   "metadata": {},
   "outputs": [
    {
     "name": "stdout",
     "output_type": "stream",
     "text": [
      "Help on built-in function lower:\n",
      "\n",
      "lower() method of builtins.str instance\n",
      "    Return a copy of the string converted to lowercase.\n",
      "\n"
     ]
    }
   ],
   "source": [
    "# help for method lower in class str\n",
    "help('ABCDE'.lower)"
   ]
  },
  {
   "cell_type": "code",
   "execution_count": 17,
   "metadata": {},
   "outputs": [
    {
     "name": "stdout",
     "output_type": "stream",
     "text": [
      "Help on built-in function sqrt in module math:\n",
      "\n",
      "sqrt(...)\n",
      "    sqrt(x)\n",
      "    \n",
      "    Return the square root of x.\n",
      "\n"
     ]
    }
   ],
   "source": [
    "import math\n",
    "help(math.sqrt)"
   ]
  },
  {
   "cell_type": "markdown",
   "metadata": {},
   "source": [
    "###### The general form of a method call is as follows:\n",
    "+ «expression».«method_name»(«arguments»)"
   ]
  },
  {
   "cell_type": "code",
   "execution_count": 15,
   "metadata": {},
   "outputs": [
    {
     "data": {
      "text/plain": [
       "2"
      ]
     },
     "execution_count": 15,
     "metadata": {},
     "output_type": "execute_result"
    }
   ],
   "source": [
    "# call on method count of class string \n",
    "('TTA' + 'G' * 3).count('T')"
   ]
  },
  {
   "cell_type": "code",
   "execution_count": 13,
   "metadata": {},
   "outputs": [
    {
     "data": {
      "text/plain": [
       "6"
      ]
     },
     "execution_count": 13,
     "metadata": {},
     "output_type": "execute_result"
    }
   ],
   "source": [
    "('TTA' * 3 + 'G').count('T')"
   ]
  },
  {
   "cell_type": "markdown",
   "metadata": {},
   "source": [
    "###### Steps for executing a method call, similar to a function call\n",
    "+ **('TTA' + 'G' * 3).count('T')** is equivalent to **str.count('TTA' + 'G' * 3, 'T')**\n",
    "+ Steps:\n",
    "    0. Take ('TTA' + 'G' * 3).count('T') as an example.\n",
    "    1. Evaluate «expression» like ('TTA' + 'G' * 3) to produce a single object. \n",
    "    2. Now that we have an object, evaluate the count method arguments left to right. The argument is 'T'.\n",
    "    3. Pass the result of evaluating the initial expression as the first argument, and also pass the argument values from the previous step, into the method. The code is equivalent to str.count('TTAGGG', 'T').\n",
    "    4. Execute the method and produce a value."
   ]
  },
  {
   "cell_type": "code",
   "execution_count": 19,
   "metadata": {},
   "outputs": [
    {
     "name": "stdout",
     "output_type": "stream",
     "text": [
      "2\n",
      "2\n"
     ]
    }
   ],
   "source": [
    "# long form vs. short form\n",
    "print(str.count('TTA' + 'G' * 3, 'T'))  # long form\n",
    "print(('TTA' + 'G' * 3).count('T'))     # short form"
   ]
  },
  {
   "cell_type": "markdown",
   "metadata": {},
   "source": [
    "## Exploring String Methods, p. 119\n",
    "+ Table 8, Common String Methods\n",
    "+ [Python String Methods]( https://www.w3schools.com/python/python_ref_string.asp)"
   ]
  },
  {
   "cell_type": "code",
   "execution_count": null,
   "metadata": {},
   "outputs": [],
   "source": [
    "dir(str.capitalize)"
   ]
  },
  {
   "cell_type": "raw",
   "metadata": {},
   "source": [
    "Python String Methods\n",
    "Source: https://www.w3schools.com/python/python_ref_string.asp\n",
    "\n",
    "Method        Description\n",
    "capitalize()  Converts the first character to upper case\n",
    "casefold()\t  Converts string into lower case\n",
    "center()\t  Returns a centered string\n",
    "count()\t      Returns the number of times a specified value occurs in a string\n",
    "encode()\t  Returns an encoded version of the string\n",
    "endswith()\t  Returns true if the string ends with the specified value\n",
    "expandtabs()  Sets the tab size of the string\n",
    "find()\t      Searches the string for a specified value and returns the position of where it was found\n",
    "format()\t  Formats specified values in a string\n",
    "format_map()  Formats specified values in a string\n",
    "index()\t      Searches the string for a specified value and returns the position of where it was found\n",
    "isalnum()\t  Returns True if all characters in the string are alphanumeric\n",
    "isalpha()\t  Returns True if all characters in the string are in the alphabet\n",
    "isdecimal()\t  Returns True if all characters in the string are decimals\n",
    "isdigit()\t  Returns True if all characters in the string are digits\n",
    "isidentifier()\tReturns True if the string is an identifier\n",
    "islower()\t  Returns True if all characters in the string are lower case\n",
    "isnumeric()\t  Returns True if all characters in the string are numeric\n",
    "isprintable() Returns True if all characters in the string are printable\n",
    "isspace()\t  Returns True if all characters in the string are whitespaces\n",
    "istitle()\t  Returns True if the string follows the rules of a title\n",
    "isupper()\t  Returns True if all characters in the string are upper case\n",
    "join()\t      Joins the elements of an iterable to the end of the string\n",
    "ljust()\t      Returns a left justified version of the string\n",
    "lower()\tConverts a string into lower case\n",
    "lstrip()\t  Returns a left trim version of the string\n",
    "maketrans()\t  Returns a translation table to be used in translations\n",
    "partition()\t  Returns a tuple where the string is parted into three parts\n",
    "replace()\t  Returns a string where a specified value is replaced with a specified value\n",
    "rfind()\t      Searches the string for a specified value and returns the last position of where it was found\n",
    "rindex()\t  Searches the string for a specified value and returns the last position of where it was found\n",
    "rjust()\t      Returns a right justified version of the string\n",
    "rpartition()  Returns a tuple where the string is parted into three parts\n",
    "rsplit()\t  Splits the string at the specified separator, and returns a list\n",
    "rstrip()\t  Returns a right trim version of the string\n",
    "split()\t      Splits the string at the specified separator, and returns a list\n",
    "splitlines()  Splits the string at line breaks and returns a list\n",
    "startswith()  Returns true if the string starts with the specified value\n",
    "strip()\t      Returns a trimmed version of the string\n",
    "swapcase()\t  Swaps cases, lower case becomes upper case and vice versa\n",
    "title()\t      Converts the first character of each word to upper case\n",
    "translate()\t  Returns a translated string\n",
    "upper()\t      Converts a string into upper case\n",
    "zfill()\t      Fills the string with a specified number of 0 values at the                     beginning"
   ]
  },
  {
   "cell_type": "code",
   "execution_count": 21,
   "metadata": {},
   "outputs": [],
   "source": [
    "# Python Common String Methods\n",
    "# dir(str)"
   ]
  },
  {
   "cell_type": "markdown",
   "metadata": {},
   "source": [
    "###### String method startswith takes a string argument and returns a bool \n",
    "+ Hence, **'species'.startswith('spe')** means **str.startswith('species', 'spe')**"
   ]
  },
  {
   "cell_type": "code",
   "execution_count": 1,
   "metadata": {},
   "outputs": [
    {
     "data": {
      "text/plain": [
       "False"
      ]
     },
     "execution_count": 1,
     "metadata": {},
     "output_type": "execute_result"
    }
   ],
   "source": [
    "# String is a class.\n",
    "# Call the string method startswith on the string 'species' \n",
    "# which will be evaluated as a class object:\n",
    "'species'.startswith('a')    # False"
   ]
  },
  {
   "cell_type": "code",
   "execution_count": 3,
   "metadata": {},
   "outputs": [
    {
     "data": {
      "text/plain": [
       "False"
      ]
     },
     "execution_count": 3,
     "metadata": {},
     "output_type": "execute_result"
    }
   ],
   "source": [
    "# long form\n",
    "# 'species'.startswith('a') means str.startswith('species', 'a')\n",
    "str.startswith('species', 'a')"
   ]
  },
  {
   "cell_type": "code",
   "execution_count": 4,
   "metadata": {},
   "outputs": [
    {
     "data": {
      "text/plain": [
       "True"
      ]
     },
     "execution_count": 4,
     "metadata": {},
     "output_type": "execute_result"
    }
   ],
   "source": [
    "# 'species'.startswith('spe') means str.startswith('species', 'spe')\n",
    "'species'.startswith('spe')  # True"
   ]
  },
  {
   "cell_type": "code",
   "execution_count": 5,
   "metadata": {},
   "outputs": [
    {
     "data": {
      "text/plain": [
       "True"
      ]
     },
     "execution_count": 5,
     "metadata": {},
     "output_type": "execute_result"
    }
   ],
   "source": [
    "# same\n",
    "str.startswith('species', 'spe')"
   ]
  },
  {
   "cell_type": "code",
   "execution_count": 33,
   "metadata": {},
   "outputs": [
    {
     "data": {
      "text/plain": [
       "False"
      ]
     },
     "execution_count": 33,
     "metadata": {},
     "output_type": "execute_result"
    }
   ],
   "source": [
    "'species'.endswith('a')    # False"
   ]
  },
  {
   "cell_type": "code",
   "execution_count": 6,
   "metadata": {},
   "outputs": [
    {
     "data": {
      "text/plain": [
       "True"
      ]
     },
     "execution_count": 6,
     "metadata": {},
     "output_type": "execute_result"
    }
   ],
   "source": [
    "'species'.endswith('es')   # True"
   ]
  },
  {
   "cell_type": "markdown",
   "metadata": {},
   "source": [
    "###### The string methods lstrip(), rstrip(), and strip() remove whitespaces, tabs, and newlines from the front, from the end, and from both, respectively"
   ]
  },
  {
   "cell_type": "code",
   "execution_count": 23,
   "metadata": {},
   "outputs": [
    {
     "data": {
      "text/plain": [
       "'Methyl \\n butanol    \\n    '"
      ]
     },
     "execution_count": 23,
     "metadata": {},
     "output_type": "execute_result"
    }
   ],
   "source": [
    "compound = '   \\n  Methyl \\n butanol    \\n    '\n",
    "compound.lstrip()   # 'Methyl \\n butanol    \\n'"
   ]
  },
  {
   "cell_type": "code",
   "execution_count": 28,
   "metadata": {},
   "outputs": [
    {
     "data": {
      "text/plain": [
       "'   \\n  Methyl \\n butanol'"
      ]
     },
     "execution_count": 28,
     "metadata": {},
     "output_type": "execute_result"
    }
   ],
   "source": [
    "compound = '   \\n  Methyl \\n butanol    \\n'\n",
    "compound.rstrip()   # '   \\n  Methyl \\n butanol'"
   ]
  },
  {
   "cell_type": "code",
   "execution_count": 29,
   "metadata": {},
   "outputs": [
    {
     "data": {
      "text/plain": [
       "'Methyl \\n butanol'"
      ]
     },
     "execution_count": 29,
     "metadata": {},
     "output_type": "execute_result"
    }
   ],
   "source": [
    "compound = '   \\n  Methyl \\n butanol    \\n'\n",
    "compound.strip()    # 'Methyl \\n butanol'"
   ]
  },
  {
   "cell_type": "markdown",
   "metadata": {},
   "source": [
    "###### String method swapcase() changes lowercase letters to uppercase and uppercase to lowercase"
   ]
  },
  {
   "cell_type": "code",
   "execution_count": 30,
   "metadata": {},
   "outputs": [
    {
     "data": {
      "text/plain": [
       "'cOMPUTER  sCIENCE'"
      ]
     },
     "execution_count": 30,
     "metadata": {},
     "output_type": "execute_result"
    }
   ],
   "source": [
    "'Computer  Science'.swapcase()"
   ]
  },
  {
   "cell_type": "markdown",
   "metadata": {},
   "source": [
    "###### Substituting a series of strings into a format string\n",
    "+ **str.format()**"
   ]
  },
  {
   "cell_type": "code",
   "execution_count": 7,
   "metadata": {},
   "outputs": [
    {
     "data": {
      "text/plain": [
       "'\"none\" is derived from \"no one\"'"
      ]
     },
     "execution_count": 7,
     "metadata": {},
     "output_type": "execute_result"
    }
   ],
   "source": [
    "# Before Python 3.6: format string \n",
    "# '\"none\" is derived from \"no one\"'\n",
    "'\"{0}\" is derived from \"{1}\"'.format('none', 'no one')"
   ]
  },
  {
   "cell_type": "code",
   "execution_count": 8,
   "metadata": {},
   "outputs": [
    {
     "data": {
      "text/plain": [
       "'\"none\" is derived from \"no one\"'"
      ]
     },
     "execution_count": 8,
     "metadata": {},
     "output_type": "execute_result"
    }
   ],
   "source": [
    "# New f-string format: Starting from Python 3.6\n",
    "x = 'none'\n",
    "y = 'no one'\n",
    "f'\"{x}\" is derived from \"{y}\"'"
   ]
  },
  {
   "cell_type": "code",
   "execution_count": 9,
   "metadata": {},
   "outputs": [
    {
     "data": {
      "text/plain": [
       "'\"Etymology\" is derived from the Greek \"ethos\"'"
      ]
     },
     "execution_count": 9,
     "metadata": {},
     "output_type": "execute_result"
    }
   ],
   "source": [
    "# Before Python 3.6: format string \n",
    "# '\"Etymology\" is derived from the Greek \"ethos\"'\n",
    "'\"{0}\" is derived from the {1} \"{2}\"'.format('Etymology', 'Greek', 'ethos')"
   ]
  },
  {
   "cell_type": "code",
   "execution_count": 36,
   "metadata": {},
   "outputs": [
    {
     "data": {
      "text/plain": [
       "'\"Etymology\" is derived from the Greek \"ethos\"'"
      ]
     },
     "execution_count": 36,
     "metadata": {},
     "output_type": "execute_result"
    }
   ],
   "source": [
    "# '\"Etymology\" is derived from the Greek \"ethos\"'\n",
    "# New f-string format: Starting from Python 3.6\n",
    "f'\"{\"Etymology\"}\" is derived from the {\"Greek\"} \"{\"ethos\"}\"'"
   ]
  },
  {
   "cell_type": "code",
   "execution_count": 27,
   "metadata": {},
   "outputs": [
    {
     "data": {
      "text/plain": [
       "'\"30\" is derived from the Greek \"ethos\"'"
      ]
     },
     "execution_count": 27,
     "metadata": {},
     "output_type": "execute_result"
    }
   ],
   "source": [
    "f'\"{3 * 10}\" is derived from the {\"Greek\"} \"{\"ethos\"}\"'"
   ]
  },
  {
   "cell_type": "code",
   "execution_count": 9,
   "metadata": {},
   "outputs": [
    {
     "data": {
      "text/plain": [
       "'Etymology is derived from the Greek ethos'"
      ]
     },
     "execution_count": 9,
     "metadata": {},
     "output_type": "execute_result"
    }
   ],
   "source": [
    "# use f-string format \n",
    "E = 'Etymology'\n",
    "G = 'Greek'\n",
    "e = 'ethos'\n",
    "f'{E} is derived from the {G} {e}'"
   ]
  },
  {
   "cell_type": "markdown",
   "metadata": {},
   "source": [
    "###### We don’t have to use the numbers in order"
   ]
  },
  {
   "cell_type": "code",
   "execution_count": 33,
   "metadata": {},
   "outputs": [
    {
     "data": {
      "text/plain": [
       "'\"December\" is derived from the Latin \"decem\"'"
      ]
     },
     "execution_count": 33,
     "metadata": {},
     "output_type": "execute_result"
    }
   ],
   "source": [
    "# Before Python 3.6: format string \n",
    "# We don’t have to use the numbers in order.\n",
    "# '\"December\" is derived from the Latin \"decem\"'\n",
    "'\"{0}\" is derived from the {2} \"{1}\"'.format('December', 'decem', 'Latin')"
   ]
  },
  {
   "cell_type": "code",
   "execution_count": 41,
   "metadata": {},
   "outputs": [
    {
     "data": {
      "text/plain": [
       "'\"December\" is derived from the Latin \"decem\"'"
      ]
     },
     "execution_count": 41,
     "metadata": {},
     "output_type": "execute_result"
    }
   ],
   "source": [
    "# New f-string format \n",
    "# Result: '\"December\" is derived from the Latin \"decem\"'\n",
    "?????"
   ]
  },
  {
   "cell_type": "code",
   "execution_count": 39,
   "metadata": {},
   "outputs": [
    {
     "data": {
      "text/plain": [
       "'\"December\" is derived from the Latin \"decem\"'"
      ]
     },
     "execution_count": 39,
     "metadata": {},
     "output_type": "execute_result"
    }
   ],
   "source": [
    "# '\"{0}\" is derived from the {2} \"{1}\"'.format('December', 'decem', 'Latin')\n",
    "a = 'December'\n",
    "b = 'decem'\n",
    "c = 'Latin'\n",
    "f'\"{a}\" is derived from the {c} \"{b}\"'"
   ]
  },
  {
   "cell_type": "code",
   "execution_count": 11,
   "metadata": {},
   "outputs": [
    {
     "name": "stdout",
     "output_type": "stream",
     "text": [
      "December is derived from the Latin decem.\n",
      "December is derived from the Latindecem\n",
      "December is derived from the Latin      decem\n"
     ]
    }
   ],
   "source": [
    "# New f-string format \n",
    "D = 'December'\n",
    "d = 'decem'\n",
    "L = 'Latin'\n",
    "print(f'{D} is derived from the {L} {d}.')\n",
    "print(f'{D} is derived from the {L}{d}')\n",
    "print(f'{D} is derived from the {L}      {d}')"
   ]
  },
  {
   "cell_type": "markdown",
   "metadata": {},
   "source": [
    "######  str.format(): string method format, p. 122"
   ]
  },
  {
   "cell_type": "code",
   "execution_count": 29,
   "metadata": {},
   "outputs": [
    {
     "data": {
      "text/plain": [
       "'Pi rounded to 2 decimal places is 3.14.'"
      ]
     },
     "execution_count": 29,
     "metadata": {},
     "output_type": "execute_result"
    }
   ],
   "source": [
    "my_pi  =  3.14159\n",
    "# 'Pi rounded to 2 decimal places is 3.14.'\n",
    "'Pi rounded to {0} decimal places is {1:.2f}.'.format(2, my_pi)"
   ]
  },
  {
   "cell_type": "code",
   "execution_count": 11,
   "metadata": {},
   "outputs": [
    {
     "data": {
      "text/plain": [
       "'Pi rounded to 2 decimal places is 3.14.'"
      ]
     },
     "execution_count": 11,
     "metadata": {},
     "output_type": "execute_result"
    }
   ],
   "source": [
    "# new f-string format\n",
    "my_pi  =  3.14159\n",
    "# 'Pi rounded to 2 decimal places is 3.14.'\n",
    "# 'Pi rounded to {0} decimal places is {1:.2f}.'.format(2, my_pi)\n",
    "\n",
    "f'Pi rounded to {2} decimal places is {my_pi:.2f}.'"
   ]
  },
  {
   "cell_type": "code",
   "execution_count": 43,
   "metadata": {},
   "outputs": [
    {
     "data": {
      "text/plain": [
       "'Pi rounded to 2 decimal places is 3.14.'"
      ]
     },
     "execution_count": 43,
     "metadata": {},
     "output_type": "execute_result"
    }
   ],
   "source": [
    "# new f-string format\n",
    "my_pi  =  3.14159\n",
    "# 'Pi rounded to 2 decimal places is 3.14.'\n",
    "'Pi rounded to {0} decimal places is {1:.2f}.'.format(2, my_pi)\n",
    "\n",
    "f'Pi rounded to {2} decimal places is {my_pi:.2f}.'"
   ]
  },
  {
   "cell_type": "code",
   "execution_count": 35,
   "metadata": {},
   "outputs": [
    {
     "data": {
      "text/plain": [
       "'Pi rounded to 3 decimal places is 3.142.'"
      ]
     },
     "execution_count": 35,
     "metadata": {},
     "output_type": "execute_result"
    }
   ],
   "source": [
    "my_pi  =  3.14159\n",
    "# 'Pi rounded to 3 decimal places is 3.142.'\n",
    "'Pi rounded to {0} decimal places is {1:.3f}.'.format(3, my_pi)"
   ]
  },
  {
   "cell_type": "code",
   "execution_count": 23,
   "metadata": {},
   "outputs": [
    {
     "data": {
      "text/plain": [
       "'Pi rounded to 3 decimal places is 3.142.'"
      ]
     },
     "execution_count": 23,
     "metadata": {},
     "output_type": "execute_result"
    }
   ],
   "source": [
    "# use new f-string format\n",
    "my_pi  =  3.14159\n",
    "# 'Pi rounded to 3 decimal places is 3.142.'\n",
    "# 'Pi rounded to {0} decimal places is {1:.3f}.'.format(3, my_pi)\n",
    "f'Pi rounded to {3} decimal places is {my_pi:.3f}.'"
   ]
  },
  {
   "cell_type": "code",
   "execution_count": 39,
   "metadata": {},
   "outputs": [
    {
     "data": {
      "text/plain": [
       "'Pi rounded to 3 decimal places is 3.142.'"
      ]
     },
     "execution_count": 39,
     "metadata": {},
     "output_type": "execute_result"
    }
   ],
   "source": [
    "# use new f-string format\n",
    "my_pi = 3.14159\n",
    "# 'Pi rounded to 3 decimal places is 3.142.'\n",
    "'Pi rounded to {0} decimal places is {1:.3f}.'.format(3, my_pi)\n",
    "\n",
    "f'Pi rounded to {3} decimal places is {my_pi:.3f}.'"
   ]
  },
  {
   "cell_type": "code",
   "execution_count": 41,
   "metadata": {},
   "outputs": [
    {
     "data": {
      "text/plain": [
       "'For only 49.00 dollars!'"
      ]
     },
     "execution_count": 41,
     "metadata": {},
     "output_type": "execute_result"
    }
   ],
   "source": [
    "# old string format\n",
    "txt = \"For only {price:.2f} dollars!\"\n",
    "txt.format(price = 49)"
   ]
  },
  {
   "cell_type": "code",
   "execution_count": 37,
   "metadata": {},
   "outputs": [
    {
     "data": {
      "text/plain": [
       "'I have 25.4 in my pocket.'"
      ]
     },
     "execution_count": 37,
     "metadata": {},
     "output_type": "execute_result"
    }
   ],
   "source": [
    "# New f-string format\n",
    "price = 25.45\n",
    "txt = f\"I have {price:.1f} in my pocket.\"\n",
    "txt"
   ]
  },
  {
   "cell_type": "code",
   "execution_count": 42,
   "metadata": {},
   "outputs": [
    {
     "data": {
      "text/plain": [
       "\"My name is John, I'am 36.\""
      ]
     },
     "execution_count": 42,
     "metadata": {},
     "output_type": "execute_result"
    }
   ],
   "source": [
    "# Old string format() method \n",
    "txt1 = \"My name is {fname}, I'am {age}.\".format(fname = \"John\", age = 36)\n",
    "txt2 = \"My name is {0}, I'am {1}.\".format(\"John\", 36)\n",
    "txt3 = \"My name is {}, I'am {}.\".format(\"John\", 36)\n",
    "txt1\n",
    "txt2\n",
    "txt3"
   ]
  },
  {
   "cell_type": "code",
   "execution_count": 44,
   "metadata": {},
   "outputs": [
    {
     "data": {
      "text/plain": [
       "\"My name is John, I'am 36.\""
      ]
     },
     "execution_count": 44,
     "metadata": {},
     "output_type": "execute_result"
    }
   ],
   "source": [
    "# New f-string format() \n",
    "name = 'John'\n",
    "age = 36\n",
    "txt1 = f\"My name is {name}, I'am {age}.\"\n",
    "txt1"
   ]
  },
  {
   "cell_type": "markdown",
   "metadata": {},
   "source": [
    "###### Omitting the position numbers\n",
    "+ It’s possible to omit the position numbers. If that’s done, then the arguments passed to format replace each placeholder field in order from left to right:"
   ]
  },
  {
   "cell_type": "code",
   "execution_count": 16,
   "metadata": {},
   "outputs": [
    {
     "data": {
      "text/plain": [
       "'Pi rounded to 3 decimal places is 3.142.'"
      ]
     },
     "execution_count": 16,
     "metadata": {},
     "output_type": "execute_result"
    }
   ],
   "source": [
    "my_pi = 3.14159\n",
    "# 'Pi rounded to 3 decimal places is 3.142.'\n",
    "'Pi rounded to {} decimal places is {:.3f}.'.format(3, my_pi)"
   ]
  },
  {
   "cell_type": "code",
   "execution_count": 17,
   "metadata": {},
   "outputs": [
    {
     "data": {
      "text/plain": [
       "'Pi rounded to 3 decimal places is 3.142.'"
      ]
     },
     "execution_count": 17,
     "metadata": {},
     "output_type": "execute_result"
    }
   ],
   "source": [
    "# use new f-string format\n",
    "my_pi = 3.14159\n",
    "# 'Pi rounded to 3 decimal places is 3.142.'\n",
    "'Pi rounded to {} decimal places is {:.3f}.'.format(3, my_pi)\n",
    "?????"
   ]
  },
  {
   "cell_type": "code",
   "execution_count": 64,
   "metadata": {},
   "outputs": [
    {
     "data": {
      "text/plain": [
       "'Pi rounded to 3 decimal places is 3.142.'"
      ]
     },
     "execution_count": 64,
     "metadata": {},
     "output_type": "execute_result"
    }
   ],
   "source": [
    "# use new f-string format\n",
    "my_pi = 3.14159\n",
    "# 'Pi rounded to 3 decimal places is 3.142.'\n",
    "'Pi rounded to {} decimal places is {:.3f}.'.format(3, my_pi)\n",
    "\n",
    "f'Pi rounded to {3} decimal places is {my_pi:.3f}.'"
   ]
  },
  {
   "cell_type": "markdown",
   "metadata": {},
   "source": [
    "###### Calling chained methods"
   ]
  },
  {
   "cell_type": "code",
   "execution_count": 19,
   "metadata": {},
   "outputs": [
    {
     "data": {
      "text/plain": [
       "'cOMPUTER   sCIENCE'"
      ]
     },
     "execution_count": 19,
     "metadata": {},
     "output_type": "execute_result"
    }
   ],
   "source": [
    "'Computer   Science'.swapcase()"
   ]
  },
  {
   "cell_type": "code",
   "execution_count": 45,
   "metadata": {},
   "outputs": [
    {
     "data": {
      "text/plain": [
       "True"
      ]
     },
     "execution_count": 45,
     "metadata": {},
     "output_type": "execute_result"
    }
   ],
   "source": [
    "'Computer   Science'.swapcase().endswith('ENCE')"
   ]
  },
  {
   "cell_type": "markdown",
   "metadata": {},
   "source": [
    "###### Data types are actually classes and variables are instance (object) of these classes.\n",
    "###### Data types: int, float, complex, bool, str, list, tuple, set, dict\n",
    "+ https://www.tutorialsteacher.com/python/python-data-types"
   ]
  },
  {
   "cell_type": "code",
   "execution_count": 12,
   "metadata": {},
   "outputs": [
    {
     "name": "stdout",
     "output_type": "stream",
     "text": [
      "1234     : <class 'int'>\n",
      "55.50    : <class 'float'>\n",
      "6+4j     : <class 'complex'>\n",
      "True     : <class 'bool'>\n",
      "hello    : <class 'str'>\n",
      "[1,2,3,4]: <class 'list'>\n",
      "(1,2,3,4): <class 'tuple'>\n",
      "{1, \"Bill\", 75.50}           : <class 'set'>\n",
      "{1:\"one\", 2:\"two\", 3:\"three\"}: <class 'dict'>\n"
     ]
    }
   ],
   "source": [
    "# Data types are classes:\n",
    "# int, float, complex, bool, str, list, tuple, set, dict\n",
    "\n",
    "print('1234     :', type(1234))        # <class 'int'> \n",
    "print('55.50    :', type(55.50))       # <class 'float'> \n",
    "print('6+4j     :', type(6+4j))        # <class 'complex'> \n",
    "print('True     :', type(True))        # <class 'bool'>\n",
    "print('hello    :', type(\"hello\"))     # <class 'str'> \n",
    "print('[1,2,3,4]:', type([1,2,3,4]))   # <class 'list'> \n",
    "print('(1,2,3,4):', type((1,2,3,4)))   # <class 'tuple'> \n",
    "print('{1, \"Bill\", 75.50}           :', \\\n",
    "      type({1,2,3,4}))                      # <class 'set'>\n",
    "print('{1:\"one\", 2:\"two\", 3:\"three\"}:', \\\n",
    "      type({1:\"one\", 2:\"two\", 3:\"three\"}))  # <class 'dict'>"
   ]
  },
  {
   "cell_type": "markdown",
   "metadata": {},
   "source": [
    "dictionary is in key-value pairs"
   ]
  },
  {
   "cell_type": "code",
   "execution_count": 1,
   "metadata": {},
   "outputs": [
    {
     "name": "stdout",
     "output_type": "stream",
     "text": [
      "{1:\"one\", 2:\"two\", 3:\"three\"}: <class 'dict'>\n",
      "{1:\"one\", 2:\"two\", 3:\"three\"}: <class 'dict'>\n",
      "{1:\"one\", 2:\"two\", 3:\"three\"}: <class 'dict'>\n"
     ]
    }
   ],
   "source": [
    "# continuation symbol (no space after \\)\n",
    "print('{1:\"one\", 2:\"two\", 3:\"three\"}:', type({1:\"one\", 2:\"two\", 3:\"three\"}))\n",
    "print('{1:\"one\", 2:\"two\", 3:\"three\"}:',      type({1:\"one\", 2:\"two\", 3:\"three\"}))\n",
    "print('{1:\"one\", 2:\"two\", 3:\"three\"}:', \\\n",
    "      type({1:\"one\", 2:\"two\", 3:\"three\"}))"
   ]
  },
  {
   "cell_type": "markdown",
   "metadata": {},
   "source": [
    "###### Two ways to access the documentation of classes, for example: (pp. 122-123)\n",
    "1. calling help on the the **class**: \n",
    "    + help(int)\n",
    "2. calling help on an **object** of the class:\n",
    "    + help(2)"
   ]
  },
  {
   "cell_type": "code",
   "execution_count": 26,
   "metadata": {},
   "outputs": [],
   "source": [
    "# To access the documentation of classes\n",
    "# Method 1. help(int)\n",
    "# help(int)"
   ]
  },
  {
   "cell_type": "code",
   "execution_count": 28,
   "metadata": {},
   "outputs": [],
   "source": [
    "# To access the documentation of classes\n",
    "# Method 2. calling help on an object of the class\n",
    "# help(1)"
   ]
  },
  {
   "cell_type": "markdown",
   "metadata": {},
   "source": [
    "## What Are Those Underscores? p. 123"
   ]
  },
  {
   "cell_type": "markdown",
   "metadata": {},
   "source": [
    "Any method (or other name) beginning and ending with two underscores is considered special by Python."
   ]
  },
  {
   "cell_type": "code",
   "execution_count": 32,
   "metadata": {},
   "outputs": [
    {
     "data": {
      "text/plain": [
       "['ArithmeticError',\n",
       " 'AssertionError',\n",
       " 'AttributeError',\n",
       " 'BaseException',\n",
       " 'BlockingIOError',\n",
       " 'BrokenPipeError',\n",
       " 'BufferError',\n",
       " 'BytesWarning',\n",
       " 'ChildProcessError',\n",
       " 'ConnectionAbortedError',\n",
       " 'ConnectionError',\n",
       " 'ConnectionRefusedError',\n",
       " 'ConnectionResetError',\n",
       " 'DeprecationWarning',\n",
       " 'EOFError',\n",
       " 'Ellipsis',\n",
       " 'EnvironmentError',\n",
       " 'Exception',\n",
       " 'False',\n",
       " 'FileExistsError',\n",
       " 'FileNotFoundError',\n",
       " 'FloatingPointError',\n",
       " 'FutureWarning',\n",
       " 'GeneratorExit',\n",
       " 'IOError',\n",
       " 'ImportError',\n",
       " 'ImportWarning',\n",
       " 'IndentationError',\n",
       " 'IndexError',\n",
       " 'InterruptedError',\n",
       " 'IsADirectoryError',\n",
       " 'KeyError',\n",
       " 'KeyboardInterrupt',\n",
       " 'LookupError',\n",
       " 'MemoryError',\n",
       " 'ModuleNotFoundError',\n",
       " 'NameError',\n",
       " 'None',\n",
       " 'NotADirectoryError',\n",
       " 'NotImplemented',\n",
       " 'NotImplementedError',\n",
       " 'OSError',\n",
       " 'OverflowError',\n",
       " 'PendingDeprecationWarning',\n",
       " 'PermissionError',\n",
       " 'ProcessLookupError',\n",
       " 'RecursionError',\n",
       " 'ReferenceError',\n",
       " 'ResourceWarning',\n",
       " 'RuntimeError',\n",
       " 'RuntimeWarning',\n",
       " 'StopAsyncIteration',\n",
       " 'StopIteration',\n",
       " 'SyntaxError',\n",
       " 'SyntaxWarning',\n",
       " 'SystemError',\n",
       " 'SystemExit',\n",
       " 'TabError',\n",
       " 'TimeoutError',\n",
       " 'True',\n",
       " 'TypeError',\n",
       " 'UnboundLocalError',\n",
       " 'UnicodeDecodeError',\n",
       " 'UnicodeEncodeError',\n",
       " 'UnicodeError',\n",
       " 'UnicodeTranslateError',\n",
       " 'UnicodeWarning',\n",
       " 'UserWarning',\n",
       " 'ValueError',\n",
       " 'Warning',\n",
       " 'WindowsError',\n",
       " 'ZeroDivisionError',\n",
       " '__IPYTHON__',\n",
       " '__build_class__',\n",
       " '__debug__',\n",
       " '__doc__',\n",
       " '__import__',\n",
       " '__loader__',\n",
       " '__name__',\n",
       " '__package__',\n",
       " '__spec__',\n",
       " 'abs',\n",
       " 'all',\n",
       " 'any',\n",
       " 'ascii',\n",
       " 'bin',\n",
       " 'bool',\n",
       " 'bytearray',\n",
       " 'bytes',\n",
       " 'callable',\n",
       " 'chr',\n",
       " 'classmethod',\n",
       " 'compile',\n",
       " 'complex',\n",
       " 'copyright',\n",
       " 'credits',\n",
       " 'delattr',\n",
       " 'dict',\n",
       " 'dir',\n",
       " 'display',\n",
       " 'divmod',\n",
       " 'enumerate',\n",
       " 'eval',\n",
       " 'exec',\n",
       " 'filter',\n",
       " 'float',\n",
       " 'format',\n",
       " 'frozenset',\n",
       " 'get_ipython',\n",
       " 'getattr',\n",
       " 'globals',\n",
       " 'hasattr',\n",
       " 'hash',\n",
       " 'help',\n",
       " 'hex',\n",
       " 'id',\n",
       " 'input',\n",
       " 'int',\n",
       " 'isinstance',\n",
       " 'issubclass',\n",
       " 'iter',\n",
       " 'len',\n",
       " 'license',\n",
       " 'list',\n",
       " 'locals',\n",
       " 'map',\n",
       " 'max',\n",
       " 'memoryview',\n",
       " 'min',\n",
       " 'next',\n",
       " 'object',\n",
       " 'oct',\n",
       " 'open',\n",
       " 'ord',\n",
       " 'pow',\n",
       " 'print',\n",
       " 'property',\n",
       " 'range',\n",
       " 'repr',\n",
       " 'reversed',\n",
       " 'round',\n",
       " 'set',\n",
       " 'setattr',\n",
       " 'slice',\n",
       " 'sorted',\n",
       " 'staticmethod',\n",
       " 'str',\n",
       " 'sum',\n",
       " 'super',\n",
       " 'tuple',\n",
       " 'type',\n",
       " 'vars',\n",
       " 'zip']"
      ]
     },
     "execution_count": 32,
     "metadata": {},
     "output_type": "execute_result"
    }
   ],
   "source": [
    "import builtins\n",
    "dir(builtins)"
   ]
  },
  {
   "cell_type": "code",
   "execution_count": 31,
   "metadata": {},
   "outputs": [],
   "source": [
    "# help(str)"
   ]
  },
  {
   "cell_type": "markdown",
   "metadata": {},
   "source": [
    "###### Special method: with two underscores\n",
    "+ Any method (or other name) beginning and ending with two underscores is considered special in Python"
   ]
  },
  {
   "cell_type": "markdown",
   "metadata": {},
   "source": [
    "###### Programmers almost never call these underscore (special) methods directly "
   ]
  },
  {
   "cell_type": "code",
   "execution_count": 44,
   "metadata": {},
   "outputs": [
    {
     "name": "stdout",
     "output_type": "stream",
     "text": [
      "Help on wrapper_descriptor:\n",
      "\n",
      "__add__(self, value, /)\n",
      "    Return self+value.\n",
      "\n"
     ]
    }
   ],
   "source": [
    "help(str.__add__)"
   ]
  },
  {
   "cell_type": "code",
   "execution_count": 45,
   "metadata": {},
   "outputs": [
    {
     "name": "stdout",
     "output_type": "stream",
     "text": [
      "TTAGGG\n"
     ]
    }
   ],
   "source": [
    "print('TTA' + 'GGG')             # 'TTAGGG'"
   ]
  },
  {
   "cell_type": "code",
   "execution_count": 46,
   "metadata": {},
   "outputs": [
    {
     "name": "stdout",
     "output_type": "stream",
     "text": [
      "TTAGGG\n"
     ]
    }
   ],
   "source": [
    "# same\n",
    "print('TTA' .__add__  ('GGG'))   # 'TTAGGG'"
   ]
  },
  {
   "cell_type": "code",
   "execution_count": 6,
   "metadata": {},
   "outputs": [
    {
     "name": "stdout",
     "output_type": "stream",
     "text": [
      "TTAGGG\n"
     ]
    }
   ],
   "source": [
    "# same\n",
    "print('TTA'.__add__  ('GGG'))   # 'TTAGGG'"
   ]
  },
  {
   "cell_type": "code",
   "execution_count": 33,
   "metadata": {},
   "outputs": [],
   "source": [
    "# Integers and floating-point numbers have similar features\n",
    "# help(int)"
   ]
  },
  {
   "cell_type": "code",
   "execution_count": 2,
   "metadata": {},
   "outputs": [
    {
     "name": "stdout",
     "output_type": "stream",
     "text": [
      "3\n",
      "3\n"
     ]
    }
   ],
   "source": [
    "# Both versions of getting the absolute value of a number:\n",
    "print(abs(-3))          # 3\n",
    "print((-3).__abs__())   # 3"
   ]
  },
  {
   "cell_type": "markdown",
   "metadata": {},
   "source": [
    "###### Two functionally equivalent cases"
   ]
  },
  {
   "cell_type": "code",
   "execution_count": 35,
   "metadata": {},
   "outputs": [
    {
     "name": "stdout",
     "output_type": "stream",
     "text": [
      "-3\n",
      "-3\n"
     ]
    }
   ],
   "source": [
    "# Two functionally equivalent cases:\n",
    "\n",
    "# Note: We need to put a space after 3 so that Python doesn’t \n",
    "# think we’re making a floating-point number 3.\n",
    "\n",
    "print(-3 .__abs__())         # -3\n",
    "print(-(3 .__abs__()))       # -3"
   ]
  },
  {
   "cell_type": "code",
   "execution_count": 10,
   "metadata": {},
   "outputs": [
    {
     "ename": "SyntaxError",
     "evalue": "invalid syntax (<ipython-input-10-91629bc4511b>, line 3)",
     "output_type": "error",
     "traceback": [
      "\u001b[1;36m  File \u001b[1;32m\"<ipython-input-10-91629bc4511b>\"\u001b[1;36m, line \u001b[1;32m3\u001b[0m\n\u001b[1;33m    print(-(3.__abs__()))\u001b[0m\n\u001b[1;37m                    ^\u001b[0m\n\u001b[1;31mSyntaxError\u001b[0m\u001b[1;31m:\u001b[0m invalid syntax\n"
     ]
    }
   ],
   "source": [
    "# Error: It needs a space betwee 3 and __abs__, otherwise it will be confused \n",
    "#        with floating-point number 3.\n",
    "print(-(3.__abs__()))"
   ]
  },
  {
   "cell_type": "code",
   "execution_count": 50,
   "metadata": {},
   "outputs": [
    {
     "name": "stdout",
     "output_type": "stream",
     "text": [
      "8\n",
      "8\n",
      "8.0\n",
      "8.0\n"
     ]
    }
   ],
   "source": [
    "print(3 + 5)           # 8\n",
    "# Adding two integers using this trick that we should put \n",
    "# a space after 3 to avoid confusion with float.\n",
    "print(3 .__add__(5))   # 8\n",
    "print(3.0.__add__(5))  # 8.0\n",
    "print(3.0 .__add__(5)) # 8.0"
   ]
  },
  {
   "cell_type": "code",
   "execution_count": 49,
   "metadata": {},
   "outputs": [
    {
     "data": {
      "text/plain": [
       "False"
      ]
     },
     "execution_count": 49,
     "metadata": {},
     "output_type": "execute_result"
    }
   ],
   "source": [
    "3 > 5"
   ]
  },
  {
   "cell_type": "markdown",
   "metadata": {},
   "source": [
    "# Problem?"
   ]
  },
  {
   "cell_type": "code",
   "execution_count": 13,
   "metadata": {},
   "outputs": [
    {
     "name": "stdout",
     "output_type": "stream",
     "text": [
      "False\n",
      "False\n"
     ]
    }
   ],
   "source": [
    "# To check if one is bigger than the other:\n",
    "print(3 > 5)          # False\n",
    "print(3 .__gt__(5))   # False"
   ]
  },
  {
   "cell_type": "code",
   "execution_count": 14,
   "metadata": {},
   "outputs": [
    {
     "name": "stdout",
     "output_type": "stream",
     "text": [
      "True\n",
      "True\n"
     ]
    }
   ],
   "source": [
    "print(5 > 3)          # True\n",
    "print(5 .__gt__(3))   # True"
   ]
  },
  {
   "cell_type": "markdown",
   "metadata": {},
   "source": [
    "###### Again, programmers don’t typically call on the underscore methods directly, but it’s worth knowing that Python uses methods to handle all of these operators. p. 125"
   ]
  },
  {
   "cell_type": "raw",
   "metadata": {},
   "source": [
    "Function objects, like other objects, contain double-underscore variables. For example, the documentation for each function is stored in a variable called\n",
    "__doc__:"
   ]
  },
  {
   "cell_type": "raw",
   "metadata": {},
   "source": [
    "Every function object keeps track of its docstring in a special variable called\n",
    "__doc__."
   ]
  },
  {
   "cell_type": "code",
   "execution_count": 15,
   "metadata": {},
   "outputs": [
    {
     "name": "stdout",
     "output_type": "stream",
     "text": [
      "Return the square root of x.\n"
     ]
    }
   ],
   "source": [
    "import math\n",
    "print(math.sqrt.__doc__)"
   ]
  },
  {
   "cell_type": "code",
   "execution_count": 53,
   "metadata": {},
   "outputs": [
    {
     "name": "stdout",
     "output_type": "stream",
     "text": [
      "Help on built-in function sqrt in module math:\n",
      "\n",
      "sqrt(x, /)\n",
      "    Return the square root of x.\n",
      "\n"
     ]
    }
   ],
   "source": [
    "help(math.sqrt)"
   ]
  },
  {
   "cell_type": "code",
   "execution_count": 17,
   "metadata": {},
   "outputs": [],
   "source": [
    "# math.sqrt.__doc__\n",
    "# dir(math.sqrt)"
   ]
  },
  {
   "cell_type": "markdown",
   "metadata": {},
   "source": [
    "## A Methodical Review, p. 125\n",
    "1. Class and module:\n",
    "    1. 9 Class represents 9 data types:\n",
    "        1. int\n",
    "        2. float\n",
    "        3. complex\n",
    "        4. bool\n",
    "        5. str\n",
    "        6. list\n",
    "        7. tuple\n",
    "        8. set\n",
    "        9. dict (dictionary)\n",
    "    2. **Module**: a module is a kind of object which **contain functions and variables**.\n",
    "3. Classes are like modules, except that **classes contain methods** and **modules contain functions and variables**.\n",
    "4. Methods are like functions, except that the first argument must be an object of the class in which the method is defined.\n",
    "5. Method calls in this form—'browning'.capitalize()—are shorthand for this:\n",
    "str.capitalize('browning').\n",
    "6. Methods beginning and ending with two underscores are considered special by Python, and they are triggered by particular syntax. For example, ('TTA' **+** 'GGG') triggers ('TTA' .__add__('GGG'))"
   ]
  },
  {
   "cell_type": "code",
   "execution_count": 56,
   "metadata": {},
   "outputs": [
    {
     "data": {
      "text/plain": [
       "'TTAGGG'"
      ]
     },
     "execution_count": 56,
     "metadata": {},
     "output_type": "execute_result"
    }
   ],
   "source": [
    "'TTA' + 'GGG'"
   ]
  },
  {
   "cell_type": "code",
   "execution_count": 57,
   "metadata": {},
   "outputs": [
    {
     "data": {
      "text/plain": [
       "'TTAGGG'"
      ]
     },
     "execution_count": 57,
     "metadata": {},
     "output_type": "execute_result"
    }
   ],
   "source": [
    "'TTA'.__add__('GGG')"
   ]
  },
  {
   "cell_type": "code",
   "execution_count": 58,
   "metadata": {},
   "outputs": [
    {
     "data": {
      "text/plain": [
       "'TTAGGG'"
      ]
     },
     "execution_count": 58,
     "metadata": {},
     "output_type": "execute_result"
    }
   ],
   "source": [
    "'TTA' .__add__('GGG')"
   ]
  },
  {
   "cell_type": "code",
   "execution_count": 59,
   "metadata": {},
   "outputs": [
    {
     "data": {
      "text/plain": [
       "3"
      ]
     },
     "execution_count": 59,
     "metadata": {},
     "output_type": "execute_result"
    }
   ],
   "source": [
    "abs(-3)"
   ]
  },
  {
   "cell_type": "code",
   "execution_count": 60,
   "metadata": {},
   "outputs": [
    {
     "data": {
      "text/plain": [
       "3"
      ]
     },
     "execution_count": 60,
     "metadata": {},
     "output_type": "execute_result"
    }
   ],
   "source": [
    "(-3) .__abs__()"
   ]
  },
  {
   "cell_type": "code",
   "execution_count": 61,
   "metadata": {},
   "outputs": [
    {
     "data": {
      "text/plain": [
       "3"
      ]
     },
     "execution_count": 61,
     "metadata": {},
     "output_type": "execute_result"
    }
   ],
   "source": [
    "(-3).__abs__()"
   ]
  },
  {
   "cell_type": "code",
   "execution_count": 62,
   "metadata": {},
   "outputs": [
    {
     "data": {
      "text/plain": [
       "8"
      ]
     },
     "execution_count": 62,
     "metadata": {},
     "output_type": "execute_result"
    }
   ],
   "source": [
    "3 + 5"
   ]
  },
  {
   "cell_type": "code",
   "execution_count": 63,
   "metadata": {},
   "outputs": [
    {
     "data": {
      "text/plain": [
       "8"
      ]
     },
     "execution_count": 63,
     "metadata": {},
     "output_type": "execute_result"
    }
   ],
   "source": [
    "3 .__add__(5)"
   ]
  },
  {
   "cell_type": "markdown",
   "metadata": {},
   "source": [
    "## The End!"
   ]
  },
  {
   "cell_type": "code",
   "execution_count": null,
   "metadata": {},
   "outputs": [],
   "source": []
  },
  {
   "cell_type": "code",
   "execution_count": null,
   "metadata": {},
   "outputs": [],
   "source": []
  }
 ],
 "metadata": {
  "kernelspec": {
   "display_name": "Python 3",
   "language": "python",
   "name": "python3"
  },
  "language_info": {
   "codemirror_mode": {
    "name": "ipython",
    "version": 3
   },
   "file_extension": ".py",
   "mimetype": "text/x-python",
   "name": "python",
   "nbconvert_exporter": "python",
   "pygments_lexer": "ipython3",
   "version": "3.7.4"
  }
 },
 "nbformat": 4,
 "nbformat_minor": 2
}
