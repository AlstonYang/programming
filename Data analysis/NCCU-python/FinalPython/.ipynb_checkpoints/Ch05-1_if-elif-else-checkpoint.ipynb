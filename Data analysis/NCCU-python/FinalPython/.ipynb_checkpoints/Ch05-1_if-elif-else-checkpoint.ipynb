{
 "cells": [
  {
   "cell_type": "markdown",
   "metadata": {},
   "source": [
    "# if-elif-else\n",
    "\n",
    "+ Source: https://www.datacamp.com/community/tutorials/python-if-elif-else"
   ]
  },
  {
   "cell_type": "raw",
   "metadata": {},
   "source": [
    "The syntax is:\n",
    "if(condition): \n",
    "      indented Statement Block"
   ]
  },
  {
   "cell_type": "code",
   "execution_count": 2,
   "metadata": {},
   "outputs": [],
   "source": [
    "score_theory = 40\n",
    "score_practical = 45\n",
    "if (score_theory + score_practical > 100):\n",
    "    print(\"Invalid score. Please check the input.\")"
   ]
  },
  {
   "cell_type": "code",
   "execution_count": 1,
   "metadata": {},
   "outputs": [],
   "source": [
    "# The bracket ( ) may not be used in a single statement. \n",
    "score_theory = 40\n",
    "score_practical = 45\n",
    "if score_theory + score_practical > 100: # End of condition\n",
    "    print(\"Invalid score. Please check the input.\")"
   ]
  },
  {
   "cell_type": "code",
   "execution_count": 9,
   "metadata": {},
   "outputs": [
    {
     "name": "stdout",
     "output_type": "stream",
     "text": [
      "Invalid score. Please check the input.\n"
     ]
    }
   ],
   "source": [
    "# Invalid score\n",
    "score_theory = 50\n",
    "score_practical = 55\n",
    "if (score_theory + score_practical >= 100):\n",
    "    print(\"Invalid score. Please check the input.\")"
   ]
  },
  {
   "cell_type": "raw",
   "metadata": {},
   "source": [
    "# Single test: if-else Statement\n",
    "if(condition):\n",
    "      Indented statement block for when condition is TRUE \n",
    "else:\n",
    "      Indented statement block for when condition is FALSE"
   ]
  },
  {
   "cell_type": "code",
   "execution_count": 6,
   "metadata": {},
   "outputs": [
    {
     "name": "stdout",
     "output_type": "stream",
     "text": [
      "Score validated. Your total is:  85\n"
     ]
    }
   ],
   "source": [
    "# Score validated. Your total is:  85\n",
    "score_theory = 40\n",
    "score_practical = 45\n",
    "if (score_theory + score_practical > 100):\n",
    "    print(\"Please check the input. Score exceeds total possible score.\")\n",
    "else:\n",
    "    print(\"Score validated. Your total is: \", score_theory + score_practical)"
   ]
  },
  {
   "cell_type": "code",
   "execution_count": 7,
   "metadata": {},
   "outputs": [
    {
     "name": "stdout",
     "output_type": "stream",
     "text": [
      "Score validated. Your total is:  85\n"
     ]
    }
   ],
   "source": [
    "# Score validated. Your total is:  85\n",
    "score_theory = 40\n",
    "score_practical = 45\n",
    "# Single statement: if(condition): Statement for when condition is true\n",
    "if (score_theory + score_practical > 100): \n",
    "    print(\"Please check the input. Score exceeds total possible score.\")\n",
    "# Single statement: if(condition): Statement for when condition is false\n",
    "else: \n",
    "    print(\"Score validated. Your total is: \", score_theory + score_practical)"
   ]
  },
  {
   "cell_type": "code",
   "execution_count": 8,
   "metadata": {},
   "outputs": [
    {
     "name": "stdout",
     "output_type": "stream",
     "text": [
      "Score validated. Your total is:  100\n"
     ]
    }
   ],
   "source": [
    "# Score validated. Your total is:  100\n",
    "score_theory = 60\n",
    "score_practical = 40\n",
    "if (score_theory + score_practical > 100):\n",
    "    print(\"Please check the input. Score exceeds total possible score.\")\n",
    "else:\n",
    "    print(\"Score validated. Your total is: \", score_theory + score_practical)"
   ]
  },
  {
   "cell_type": "code",
   "execution_count": 5,
   "metadata": {},
   "outputs": [
    {
     "name": "stdout",
     "output_type": "stream",
     "text": [
      "Please check the input score for 'Theory'.\n",
      "Score validated. Your total is:  80\n"
     ]
    }
   ],
   "source": [
    "# Multiple tests: if-elif-else Statement\n",
    "score_theory = 60\n",
    "score_practical = 20\n",
    "\n",
    "if (score_theory > 50):\n",
    "    print(\"Please check the input score for 'Theory'.\") # Step 2.1\n",
    "if (score_practical > 50):\n",
    "    print(\"Please check the input score for 'Practical'.\")  # Step 2.2\n",
    "else:\n",
    "    print(\"Score validated. Your total is: \",score_theory + score_practical) # Step 3"
   ]
  },
  {
   "cell_type": "raw",
   "metadata": {},
   "source": [
    "# The if-elif=else statement\n",
    "if (Condition1):\n",
    "      Indented statement block for Condition1\n",
    "elif (Condition2):\n",
    "       Indented statement block for Condition2\n",
    "else:\n",
    "    Alternate statement block if all condition check above fails"
   ]
  },
  {
   "cell_type": "code",
   "execution_count": 11,
   "metadata": {},
   "outputs": [
    {
     "name": "stdout",
     "output_type": "stream",
     "text": [
      "Please check the input score for 'Theory'.\n"
     ]
    }
   ],
   "source": [
    "score_theory = 60\n",
    "score_practical = 20\n",
    "if (score_theory > 50):\n",
    "    print(\"Please check the input score for 'Theory'.\")\n",
    "else:\n",
    "    if (score_practical > 50):\n",
    "        print(\"Please check the input score for 'Practical'.\")  \n",
    "    else:\n",
    "        print(\"Score validated. Your total is: \",score_theory + score_practical)"
   ]
  },
  {
   "cell_type": "code",
   "execution_count": 10,
   "metadata": {},
   "outputs": [
    {
     "name": "stdout",
     "output_type": "stream",
     "text": [
      "Score validated for English. Your total is:  88\n"
     ]
    }
   ],
   "source": [
    "# Score validated for English. Your total is:  88\n",
    "coursework = \"English\"\n",
    "score_theory = 53\n",
    "score_practical = 35\n",
    "if (coursework == \"Science\" or coursework == \"science\"):\n",
    "    if (score_theory > 50):\n",
    "        print(\"Please check the input score for 'Science: Theory'.\")\n",
    "    elif (score_practical > 50):\n",
    "            print(\"Please check the input score for 'Science: Practical'.\")  \n",
    "    else:\n",
    "        print(\"Score validated for Science. Your total is: \",score_theory + score_practical)             \n",
    "elif (coursework == \"English\" or coursework == \"english\"):\n",
    "    if (score_theory > 60):\n",
    "        print(\"Please check the input score for 'English: Theory'.\")\n",
    "    elif (score_practical > 40):\n",
    "            print(\"Please check the input score for 'English: Practical'.\")  \n",
    "    else:\n",
    "        print(\"Score validated for English. Your total is: \",score_theory + score_practical)\n",
    "else: \n",
    "    print(\"Coursework not recognised. Please enter score for either Science or English.\")"
   ]
  },
  {
   "cell_type": "code",
   "execution_count": 11,
   "metadata": {},
   "outputs": [
    {
     "name": "stdout",
     "output_type": "stream",
     "text": [
      "Please check the input score for English.\n"
     ]
    }
   ],
   "source": [
    "coursework = \"English\"\n",
    "score_theory = 53\n",
    "score_practical = 78\n",
    "\n",
    "if (coursework == \"Science\" or coursework == \"science\"):\n",
    "    if(score_theory > 50 or score_practical > 50):\n",
    "        # Can't distinguish the error in Science: theory or Science: Practical\n",
    "        print(\"Please check the input score for Science.\")\n",
    "    else: print(\"Score validated for Science. Your total is: \",score_theory + score_practical)             \n",
    "elif (coursework == \"English\" or coursework == \"english\"):\n",
    "    if(score_theory > 60 or score_practical > 40):\n",
    "        # Can't distinguish the error in English: theory or English: Practical\n",
    "        print(\"Please check the input score for English.\")\n",
    "    else: print(\"Score validated for English. Your total is: \",score_theory + score_practical)\n",
    "else: \n",
    "    print(\"Coursework not recognised. Please enter score for either Science or English.\")"
   ]
  },
  {
   "cell_type": "markdown",
   "metadata": {},
   "source": [
    "# The End!"
   ]
  },
  {
   "cell_type": "code",
   "execution_count": null,
   "metadata": {},
   "outputs": [],
   "source": []
  }
 ],
 "metadata": {
  "kernelspec": {
   "display_name": "Python 3",
   "language": "python",
   "name": "python3"
  },
  "language_info": {
   "codemirror_mode": {
    "name": "ipython",
    "version": 3
   },
   "file_extension": ".py",
   "mimetype": "text/x-python",
   "name": "python",
   "nbconvert_exporter": "python",
   "pygments_lexer": "ipython3",
   "version": "3.7.4"
  }
 },
 "nbformat": 4,
 "nbformat_minor": 2
}
