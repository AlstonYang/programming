{
 "cells": [
  {
   "cell_type": "markdown",
   "metadata": {},
   "source": [
    "<!--BOOK_INFORMATION-->\n",
    "<img align=\"left\" style=\"padding-right:10px;\" src=\"figures/PDSH-cover-small.png\">\n",
    "\n",
    "*This notebook contains an excerpt from the [Python Data Science Handbook](http://shop.oreilly.com/product/0636920034919.do) by Jake VanderPlas; the content is available [on GitHub](https://github.com/jakevdp/PythonDataScienceHandbook).*\n",
    "\n",
    "*The text is released under the [CC-BY-NC-ND license](https://creativecommons.org/licenses/by-nc-nd/3.0/us/legalcode), and code is released under the [MIT license](https://opensource.org/licenses/MIT). If you find this content useful, please consider supporting the work by [buying the book](http://shop.oreilly.com/product/0636920034919.do)!*"
   ]
  },
  {
   "cell_type": "markdown",
   "metadata": {},
   "source": [
    "<!--NAVIGATION-->\n",
    "< [Understanding Data Types in Python](02.01-Understanding-Data-Types.ipynb) | [Contents](Index.ipynb) | [Computation on NumPy Arrays: Universal Functions](02.03-Computation-on-arrays-ufuncs.ipynb) >\n",
    "\n",
    "<a href=\"https://colab.research.google.com/github/jakevdp/PythonDataScienceHandbook/blob/master/notebooks/02.02-The-Basics-Of-NumPy-Arrays.ipynb\"><img align=\"left\" src=\"https://colab.research.google.com/assets/colab-badge.svg\" alt=\"Open in Colab\" title=\"Open and Execute in Google Colaboratory\"></a>\n"
   ]
  },
  {
   "cell_type": "markdown",
   "metadata": {},
   "source": [
    "# The Basics of NumPy Arrays"
   ]
  },
  {
   "cell_type": "markdown",
   "metadata": {},
   "source": [
    "**Data manipulation in Python is nearly synonymous with NumPy array manipulation: even newer tools like Pandas ([Chapter 3](03.00-Introduction-to-Pandas.ipynb)) are built around the NumPy array.**\n",
    "\n",
    "This section will present several **examples of using NumPy array manipulation to access data and subarrays, and to split, reshape, and join the arrays.**\n",
    "\n",
    "While the types of operations shown here may seem a bit dry and pedantic, they comprise the building blocks of many other examples used throughout the book. Get to know them well!\n",
    "\n",
    "We'll cover a few **categories of basic array manipulations here:**\n",
    "\n",
    "- ***Attributes of arrays***: Determining the **size, shape, memory consumption, and data types of arrays**\n",
    "- ***Indexing of arrays***: Getting and setting the value of individual array elements\n",
    "- ***Slicing of arrays***: Getting and setting smaller subarrays within a larger array\n",
    "- ***Reshaping of arrays***: Changing the shape of a given array\n",
    "- ***Joining and splitting of arrays***: Combining multiple arrays into one, and splitting one array into many"
   ]
  },
  {
   "cell_type": "markdown",
   "metadata": {},
   "source": [
    "## NumPy Array Attributes"
   ]
  },
  {
   "cell_type": "markdown",
   "metadata": {},
   "source": [
    "First let's discuss some useful **array attributes**.\n",
    "We'll start by defining **three random arrays, a one-dimensional, two-dimensional, and three-dimensional array.**\n",
    "We'll use **NumPy's random number generator**, which we will ***seed*** with a set value in order to ensure that the same random arrays are generated each time this code is run:"
   ]
  },
  {
   "cell_type": "markdown",
   "metadata": {},
   "source": [
    "###### Ndarray Axes\n",
    "+ [axis=0](https://vrzkj25a871bpq7t1ugcgmn9-wpengine.netdna-ssl.com/wp-content/uploads/2018/12/numpy-axes-np-sum-axis-0.png)\n",
    "+ [axis=1](https://vrzkj25a871bpq7t1ugcgmn9-wpengine.netdna-ssl.com/wp-content/uploads/2018/11/numpy-axes-np-sum-axis-1.png)\n",
    "+ [Picture: How is axis indexed in numpy's array?](https://i.stack.imgur.com/h1alT.jpg)\n",
    "+ [NumPy Axes Explained](https://www.sharpsightlabs.com/blog/numpy-axes-explained/)\n",
    "+ [How is axis indexed in numpy's array?](https://stackoverflow.com/questions/17079279/how-is-axis-indexed-in-numpys-array)"
   ]
  },
  {
   "cell_type": "code",
   "execution_count": 3,
   "metadata": {},
   "outputs": [],
   "source": [
    "import numpy as np"
   ]
  },
  {
   "cell_type": "code",
   "execution_count": 4,
   "metadata": {},
   "outputs": [
    {
     "name": "stdout",
     "output_type": "stream",
     "text": [
      "[[[ 0  1  2  3]\n",
      "  [ 4  5  6  7]\n",
      "  [ 8  9 10 11]]\n",
      "\n",
      " [[12 13 14 15]\n",
      "  [16 17 18 19]\n",
      "  [20 21 22 23]]]\n"
     ]
    }
   ],
   "source": [
    "# Axes of an ndarray\n",
    "\n",
    "# The first axis of the ndarray x is 2.\n",
    "# axis = 0 index the first dimension of shape (2, 3, 4). \n",
    "# It refers to the arrays in the first []. \n",
    "# There are 2 elements in it, so its shape is 2.\n",
    "\n",
    "# axis = 1 index the second dimension in shape(2, 3, 4). \n",
    "# There are 3 elements in each array of the layer: axis = 0.\n",
    "\n",
    "# And the third shape value means there are 3 elements in each array element \n",
    "# of layer: axis = 2. \n",
    "# There are 4 elements in array[ 0  1  2  3]. That is explicit.\n",
    "\n",
    "# You can also tell the axis/dimensions from the number of [] at the beginning \n",
    "# or in the end. In this case, the number is 3([[[), so you can choose axis \n",
    "# from axis = 0, axis = 1 and axis = 2.\n",
    "                                                                                                                                  \n",
    "x = np.arange(24).reshape(2, 3, 4)\n",
    "print(x)\n",
    "\n",
    "# [[[ 0  1  2  3]\n",
    "#   [ 4  5  6  7]\n",
    "#   [ 8  9 10 11]]\n",
    "# \n",
    "#  [[12 13 14 15]\n",
    "#   [16 17 18 19]\n",
    "#   [20 21 22 23]]]"
   ]
  },
  {
   "cell_type": "markdown",
   "metadata": {},
   "source": [
    "###### 1. np.random.randint()"
   ]
  },
  {
   "cell_type": "code",
   "execution_count": 4,
   "metadata": {},
   "outputs": [],
   "source": [
    "import numpy as np\n",
    "np.random.seed(0)  # seed for reproducibility\n",
    "# np.random.randint(low, high=None, size=None, dtype='l')\n",
    "# Return random integers in the \"half-open\" interval [`low`, `high`).\n",
    "# If 'high' is None (the default), then results are from [0, `low`).\n",
    "# size : int or tuple of ints, optional. \n",
    "#        (m, n, k) indicates 'm * n * k' samples are drawn.  \n",
    "#        Default is None, in which case a single value is returned.\n",
    "x1 = np.random.randint(10, size=6)  # One-dimensional array\n",
    "x2 = np.random.randint(10, size=(3, 4))  # Two-dimensional array\n",
    "x3 = np.random.randint(10, size=(3, 4, 5))  # Three-dimensional array"
   ]
  },
  {
   "cell_type": "code",
   "execution_count": 106,
   "metadata": {},
   "outputs": [
    {
     "name": "stdout",
     "output_type": "stream",
     "text": [
      "[9 3 4 0 9 1]\n"
     ]
    }
   ],
   "source": [
    "np.random.seed(6)\n",
    "# randint(low, high=None, size=None, dtype=int)\n",
    "# If`high` is None (the default), then results are from [0, `low`).\n",
    "x1 = np.random.randint(10, size=6)  # One-dimensional array\n",
    "print(x1)"
   ]
  },
  {
   "cell_type": "code",
   "execution_count": 107,
   "metadata": {},
   "outputs": [
    {
     "name": "stdout",
     "output_type": "stream",
     "text": [
      "[[5 0 3 3]\n",
      " [7 9 3 5]\n",
      " [2 4 7 6]]\n"
     ]
    }
   ],
   "source": [
    "np.random.seed(0)\n",
    "x2 = np.random.randint(10, size=(3, 4))  # Two-dimensional array\n",
    "print(x2)"
   ]
  },
  {
   "cell_type": "code",
   "execution_count": 100,
   "metadata": {},
   "outputs": [
    {
     "name": "stdout",
     "output_type": "stream",
     "text": [
      "[[[5 0 3 3 7]\n",
      "  [9 3 5 2 4]\n",
      "  [7 6 8 8 1]\n",
      "  [6 7 7 8 1]]\n",
      "\n",
      " [[5 9 8 9 4]\n",
      "  [3 0 3 5 0]\n",
      "  [2 3 8 1 3]\n",
      "  [3 3 7 0 1]]\n",
      "\n",
      " [[9 9 0 4 7]\n",
      "  [3 2 7 2 0]\n",
      "  [0 4 5 5 6]\n",
      "  [8 4 1 4 9]]]\n"
     ]
    }
   ],
   "source": [
    "np.random.seed(0)\n",
    "x3 = np.random.randint(10, size=(3, 4, 5))  # Three-dimensional array\n",
    "print(x3)"
   ]
  },
  {
   "cell_type": "code",
   "execution_count": 12,
   "metadata": {},
   "outputs": [],
   "source": [
    "# print(help(np.random.randint))"
   ]
  },
  {
   "cell_type": "code",
   "execution_count": 108,
   "metadata": {},
   "outputs": [
    {
     "name": "stdout",
     "output_type": "stream",
     "text": [
      "[0 0 0 0 1 0 1 1 0 0]\n"
     ]
    }
   ],
   "source": [
    "# np.random.randint(low, high=None, size=None, dtype='l')\n",
    "# Return random integers in the \"half-open\" interval [`low`, `high`).\n",
    "# If 'high' is None (the default), then results are from [0, `low`).\n",
    "# size : int or tuple of ints, optional. \n",
    "#        (m, n, k) indicates 'm * n * k' samples are drawn.  \n",
    "#        Default is None, in which case a single value is returned.\n",
    "print(np.random.randint(2, size=10))"
   ]
  },
  {
   "cell_type": "code",
   "execution_count": 109,
   "metadata": {},
   "outputs": [
    {
     "name": "stdout",
     "output_type": "stream",
     "text": [
      "[[1 1 0 1]\n",
      " [4 3 0 3]]\n"
     ]
    }
   ],
   "source": [
    "# Generate a 2 x 4 array of ints between 0 and 4, inclusive:\n",
    "print(np.random.randint(5, size=(2, 4)))"
   ]
  },
  {
   "cell_type": "code",
   "execution_count": 19,
   "metadata": {},
   "outputs": [
    {
     "name": "stdout",
     "output_type": "stream",
     "text": [
      "[2 4 1]\n"
     ]
    }
   ],
   "source": [
    "# Generate a 1 x 3 array with 3 different upper bounds\n",
    "print(np.random.randint(1, [3, 5, 10]))"
   ]
  },
  {
   "cell_type": "code",
   "execution_count": 11,
   "metadata": {},
   "outputs": [
    {
     "name": "stdout",
     "output_type": "stream",
     "text": [
      "[1 3 6]\n"
     ]
    }
   ],
   "source": [
    "print(np.random.randint(1, [3, 5, 10]))"
   ]
  },
  {
   "cell_type": "code",
   "execution_count": 112,
   "metadata": {},
   "outputs": [
    {
     "name": "stdout",
     "output_type": "stream",
     "text": [
      "[2 8 8]\n"
     ]
    }
   ],
   "source": [
    "# Generate a 1 by 3 array with 3 different lower bounds\n",
    "print(np.random.randint([1, 5, 7], 10))"
   ]
  },
  {
   "cell_type": "code",
   "execution_count": 20,
   "metadata": {},
   "outputs": [
    {
     "name": "stdout",
     "output_type": "stream",
     "text": [
      "[[ 5  5  7  8]\n",
      " [ 9 18 18  9]]\n"
     ]
    }
   ],
   "source": [
    "# Generate a 2 by 4 array using broadcasting with dtype of uint8\n",
    "print(np.random.randint([1, 3, 5, 7], [[10], [20]], dtype=np.uint8))"
   ]
  },
  {
   "cell_type": "markdown",
   "metadata": {},
   "source": [
    "###### 2. Attributes of an Array"
   ]
  },
  {
   "cell_type": "markdown",
   "metadata": {},
   "source": [
    "Each **array has** attributes **``ndim``** (the number of dimensions), **``shape``** (the size of each dimension), and **``size``** (the total size of the array):"
   ]
  },
  {
   "cell_type": "code",
   "execution_count": 6,
   "metadata": {},
   "outputs": [],
   "source": [
    "x1 = np.random.randint(10, size=6)  # One-dimensional array\n",
    "x2 = np.random.randint(10, size=(3, 4))  # Two-dimensional array\n",
    "x3 = np.random.randint(10, size=(3, 4, 5))  # Three-dimensional array"
   ]
  },
  {
   "cell_type": "code",
   "execution_count": 114,
   "metadata": {},
   "outputs": [
    {
     "name": "stdout",
     "output_type": "stream",
     "text": [
      "[[[5 0 3 3 7]\n",
      "  [9 3 5 2 4]\n",
      "  [7 6 8 8 1]\n",
      "  [6 7 7 8 1]]\n",
      "\n",
      " [[5 9 8 9 4]\n",
      "  [3 0 3 5 0]\n",
      "  [2 3 8 1 3]\n",
      "  [3 3 7 0 1]]\n",
      "\n",
      " [[9 9 0 4 7]\n",
      "  [3 2 7 2 0]\n",
      "  [0 4 5 5 6]\n",
      "  [8 4 1 4 9]]]\n"
     ]
    }
   ],
   "source": [
    "print(x3)"
   ]
  },
  {
   "cell_type": "code",
   "execution_count": 7,
   "metadata": {},
   "outputs": [
    {
     "name": "stdout",
     "output_type": "stream",
     "text": [
      "x3 ndim:  3\n",
      "x3 shape: (3, 4, 5)\n",
      "x3 size:  60\n"
     ]
    }
   ],
   "source": [
    "print(\"x3 ndim: \", x3.ndim)\n",
    "print(\"x3 shape:\", x3.shape)\n",
    "print(\"x3 size: \", x3.size)"
   ]
  },
  {
   "cell_type": "markdown",
   "metadata": {},
   "source": [
    "Another useful attribute is the **``dtype``**, the data type of the array (which we discussed previously in [Understanding Data Types in Python](02.01-Understanding-Data-Types.ipynb)):"
   ]
  },
  {
   "cell_type": "code",
   "execution_count": 23,
   "metadata": {},
   "outputs": [
    {
     "name": "stdout",
     "output_type": "stream",
     "text": [
      "dtype: int32\n"
     ]
    }
   ],
   "source": [
    "print(\"dtype:\", x3.dtype)"
   ]
  },
  {
   "cell_type": "markdown",
   "metadata": {},
   "source": [
    "Other attributes include **``itemsize``**, which lists the **size (in bytes) of each array element**, and **``nbytes``**, which lists the **total size (in bytes) of the array**:"
   ]
  },
  {
   "cell_type": "code",
   "execution_count": 8,
   "metadata": {},
   "outputs": [
    {
     "name": "stdout",
     "output_type": "stream",
     "text": [
      "[[[6 5 5 4 7]\n",
      "  [8 3 3 1 9]\n",
      "  [8 8 5 4 4]\n",
      "  [8 1 6 5 6]]\n",
      "\n",
      " [[5 3 2 4 9]\n",
      "  [4 7 0 9 1]\n",
      "  [7 8 6 1 3]\n",
      "  [4 8 9 5 9]]\n",
      "\n",
      " [[8 1 2 2 4]\n",
      "  [2 9 2 2 1]\n",
      "  [1 3 6 2 5]\n",
      "  [3 7 1 9 0]]]\n",
      "\n",
      "itemsize: 4 bytes\n",
      "nbytes: 240 bytes\n"
     ]
    }
   ],
   "source": [
    "print(x3)\n",
    "print()\n",
    "print(\"itemsize:\", x3.itemsize, \"bytes\")\n",
    "print(\"nbytes:\", x3.nbytes, \"bytes\")"
   ]
  },
  {
   "cell_type": "markdown",
   "metadata": {},
   "source": [
    "In general, we expect that **``nbytes``** is equal to **``itemsize`` times ``size``**."
   ]
  },
  {
   "cell_type": "markdown",
   "metadata": {},
   "source": [
    "## Array Indexing: Accessing Single Elements"
   ]
  },
  {
   "cell_type": "markdown",
   "metadata": {},
   "source": [
    "**Array indexing is similar to Python list indexing and starting from 0.** \n",
    "\n",
    "**In a one-dimensional array**, the $i^{th}$ value (counting from zero) can be accessed by specifying the desired **index in square brackets, just as with Python lists:**"
   ]
  },
  {
   "cell_type": "code",
   "execution_count": 115,
   "metadata": {},
   "outputs": [
    {
     "name": "stdout",
     "output_type": "stream",
     "text": [
      "[9 3 4 0 9 1]\n"
     ]
    }
   ],
   "source": [
    "print(x1)"
   ]
  },
  {
   "cell_type": "code",
   "execution_count": 116,
   "metadata": {},
   "outputs": [
    {
     "name": "stdout",
     "output_type": "stream",
     "text": [
      "9\n"
     ]
    }
   ],
   "source": [
    "print(x1[0])"
   ]
  },
  {
   "cell_type": "code",
   "execution_count": 117,
   "metadata": {},
   "outputs": [
    {
     "name": "stdout",
     "output_type": "stream",
     "text": [
      "9\n"
     ]
    }
   ],
   "source": [
    "print(x1[4])"
   ]
  },
  {
   "cell_type": "markdown",
   "metadata": {},
   "source": [
    "To index from the end of the array, you can use negative indices:"
   ]
  },
  {
   "cell_type": "code",
   "execution_count": 118,
   "metadata": {},
   "outputs": [
    {
     "name": "stdout",
     "output_type": "stream",
     "text": [
      "[9 3 4 0 9 1]\n",
      "1\n"
     ]
    }
   ],
   "source": [
    "print(x1)\n",
    "print(x1[-1])"
   ]
  },
  {
   "cell_type": "code",
   "execution_count": 119,
   "metadata": {},
   "outputs": [
    {
     "name": "stdout",
     "output_type": "stream",
     "text": [
      "9\n"
     ]
    }
   ],
   "source": [
    "print(x1[-2])"
   ]
  },
  {
   "cell_type": "markdown",
   "metadata": {},
   "source": [
    "In a multi-dimensional array, items can be accessed using a comma-separated tuple of indices:"
   ]
  },
  {
   "cell_type": "code",
   "execution_count": 120,
   "metadata": {},
   "outputs": [
    {
     "name": "stdout",
     "output_type": "stream",
     "text": [
      "[[5 0 3 3]\n",
      " [7 9 3 5]\n",
      " [2 4 7 6]]\n",
      "5\n"
     ]
    }
   ],
   "source": [
    "print(x2)\n",
    "print(x2[0, 0])"
   ]
  },
  {
   "cell_type": "code",
   "execution_count": 121,
   "metadata": {},
   "outputs": [
    {
     "name": "stdout",
     "output_type": "stream",
     "text": [
      "[[5 0 3 3]\n",
      " [7 9 3 5]\n",
      " [2 4 7 6]]\n",
      "2\n"
     ]
    }
   ],
   "source": [
    "print(x2)\n",
    "print(x2[2, 0])"
   ]
  },
  {
   "cell_type": "code",
   "execution_count": 122,
   "metadata": {},
   "outputs": [
    {
     "name": "stdout",
     "output_type": "stream",
     "text": [
      "[[5 0 3 3]\n",
      " [7 9 3 5]\n",
      " [2 4 7 6]]\n",
      "6\n"
     ]
    }
   ],
   "source": [
    "print(x2)\n",
    "print(x2[2, -1])"
   ]
  },
  {
   "cell_type": "markdown",
   "metadata": {},
   "source": [
    "**Values can also be modified** using any of the above index notation:"
   ]
  },
  {
   "cell_type": "code",
   "execution_count": 123,
   "metadata": {},
   "outputs": [
    {
     "name": "stdout",
     "output_type": "stream",
     "text": [
      "[[5 0 3 3]\n",
      " [7 9 3 5]\n",
      " [2 4 7 6]]\n"
     ]
    }
   ],
   "source": [
    "import numpy as np\n",
    "np.random.seed(0)  # seed for reproducibility\n",
    "x2 = np.random.randint(10, size=(3, 4))  # Two-dimensional array\n",
    "print(x2)"
   ]
  },
  {
   "cell_type": "code",
   "execution_count": 125,
   "metadata": {},
   "outputs": [
    {
     "name": "stdout",
     "output_type": "stream",
     "text": [
      "[[12  0  3  3]\n",
      " [ 7  9  3  5]\n",
      " [ 2  4  7  6]]\n",
      "12\n",
      "[[12  0  3  3]\n",
      " [ 7  9  3  5]\n",
      " [ 2  4  7  6]]\n"
     ]
    }
   ],
   "source": [
    "print(x2)\n",
    "print(x2[0, 0])\n",
    "x2[0, 0] = 12\n",
    "print(x2)"
   ]
  },
  {
   "cell_type": "markdown",
   "metadata": {},
   "source": [
    "Keep in mind that, **unlike Python lists, NumPy arrays have a fixed type.**\n",
    "This means, for example, that if you attempt to **insert a floating-point value to an integer array, the value will be silently truncated.** Don't be caught unaware by this behavior!"
   ]
  },
  {
   "cell_type": "code",
   "execution_count": 126,
   "metadata": {},
   "outputs": [
    {
     "name": "stdout",
     "output_type": "stream",
     "text": [
      "[5 0 3 3 7 9]\n"
     ]
    }
   ],
   "source": [
    "import numpy as np\n",
    "np.random.seed(0)  # seed for reproducibility\n",
    "x1 = np.random.randint(10, size=6)  # One-dimensional array\n",
    "print(x1)"
   ]
  },
  {
   "cell_type": "code",
   "execution_count": 127,
   "metadata": {},
   "outputs": [
    {
     "name": "stdout",
     "output_type": "stream",
     "text": [
      "[5 0 3 3 7 9]\n",
      "[3 0 3 3 7 9]\n"
     ]
    }
   ],
   "source": [
    "print(x1)\n",
    "x1[0] = 3.84159  # this will be truncated!\n",
    "print(x1)"
   ]
  },
  {
   "cell_type": "markdown",
   "metadata": {},
   "source": [
    "### [NumPy arange(): How to Use np.arange()](https://realpython.com/how-to-use-numpy-arange/)\n",
    "+ NumPy **arange()** is one of the **array creation** routines based on numerical ranges.\n",
    "+ **numpy.arange([start, ]stop, [step, ], dtype=None) -> numpy.ndarray**\n",
    "+ **If dtype is omitted**, arange() will try to deduce the type of the array elements from the types of start, stop, and step."
   ]
  },
  {
   "cell_type": "code",
   "execution_count": 128,
   "metadata": {},
   "outputs": [
    {
     "name": "stdout",
     "output_type": "stream",
     "text": [
      "[0 1 2 3 4 5 6 7 8 9]\n"
     ]
    }
   ],
   "source": [
    "print(np.arange(10))  # starting from 0 if start value is not proivded"
   ]
  },
  {
   "cell_type": "code",
   "execution_count": 132,
   "metadata": {},
   "outputs": [
    {
     "name": "stdout",
     "output_type": "stream",
     "text": [
      "[1 4 7]\n"
     ]
    }
   ],
   "source": [
    "print(np.arange(start=1, stop=10, step=3))"
   ]
  },
  {
   "cell_type": "code",
   "execution_count": 131,
   "metadata": {},
   "outputs": [
    {
     "name": "stdout",
     "output_type": "stream",
     "text": [
      "[1 4 7]\n"
     ]
    }
   ],
   "source": [
    "print(np.arange(1, 10, 3))"
   ]
  },
  {
   "cell_type": "code",
   "execution_count": 130,
   "metadata": {},
   "outputs": [
    {
     "name": "stdout",
     "output_type": "stream",
     "text": [
      "[1 4 7]\n"
     ]
    }
   ],
   "source": [
    "print(np.arange(1, 8, 3))"
   ]
  },
  {
   "cell_type": "code",
   "execution_count": 129,
   "metadata": {},
   "outputs": [
    {
     "name": "stdout",
     "output_type": "stream",
     "text": [
      "[ 1.  4.  7. 10.]\n"
     ]
    }
   ],
   "source": [
    "print(np.arange(1, 10.1, 3))"
   ]
  },
  {
   "cell_type": "code",
   "execution_count": 201,
   "metadata": {},
   "outputs": [
    {
     "ename": "TypeError",
     "evalue": "arange() missing required argument 'start' (pos 1)",
     "output_type": "error",
     "traceback": [
      "\u001b[1;31m---------------------------------------------------------------------------\u001b[0m",
      "\u001b[1;31mTypeError\u001b[0m                                 Traceback (most recent call last)",
      "\u001b[1;32m<ipython-input-201-74012ca127db>\u001b[0m in \u001b[0;36m<module>\u001b[1;34m\u001b[0m\n\u001b[1;32m----> 1\u001b[1;33m \u001b[0mnp\u001b[0m\u001b[1;33m.\u001b[0m\u001b[0marange\u001b[0m\u001b[1;33m(\u001b[0m\u001b[0mstop\u001b[0m\u001b[1;33m=\u001b[0m\u001b[1;36m10\u001b[0m\u001b[1;33m)\u001b[0m\u001b[1;33m\u001b[0m\u001b[1;33m\u001b[0m\u001b[0m\n\u001b[0m",
      "\u001b[1;31mTypeError\u001b[0m: arange() missing required argument 'start' (pos 1)"
     ]
    }
   ],
   "source": [
    "# If you explicitly provide stop without start, \n",
    "# then you’ll get a TypeError:\n",
    "np.arange(stop=10)  "
   ]
  },
  {
   "cell_type": "code",
   "execution_count": 134,
   "metadata": {},
   "outputs": [
    {
     "name": "stdout",
     "output_type": "stream",
     "text": [
      "[1 2 3 4]\n"
     ]
    }
   ],
   "source": [
    "print(np.arange(1, 5))"
   ]
  },
  {
   "cell_type": "code",
   "execution_count": 135,
   "metadata": {},
   "outputs": [
    {
     "name": "stdout",
     "output_type": "stream",
     "text": [
      "[-5 -4 -3 -2]\n"
     ]
    }
   ],
   "source": [
    "print(np.arange(-5, -1))"
   ]
  },
  {
   "cell_type": "code",
   "execution_count": 136,
   "metadata": {},
   "outputs": [
    {
     "name": "stdout",
     "output_type": "stream",
     "text": [
      "[-8 -6 -4]\n"
     ]
    }
   ],
   "source": [
    "print(np.arange(-8, -2, 2))"
   ]
  },
  {
   "cell_type": "code",
   "execution_count": 137,
   "metadata": {},
   "outputs": [
    {
     "name": "stdout",
     "output_type": "stream",
     "text": [
      "[-5 -1  3]\n"
     ]
    }
   ],
   "source": [
    "print(np.arange(-5, 6, 4))"
   ]
  },
  {
   "cell_type": "code",
   "execution_count": 138,
   "metadata": {},
   "outputs": [
    {
     "name": "stdout",
     "output_type": "stream",
     "text": [
      "[5 4 3 2]\n"
     ]
    }
   ],
   "source": [
    "print(np.arange(5, 1, -1))"
   ]
  },
  {
   "cell_type": "code",
   "execution_count": 139,
   "metadata": {},
   "outputs": [
    {
     "name": "stdout",
     "output_type": "stream",
     "text": [
      "[7 4 1]\n"
     ]
    }
   ],
   "source": [
    "print(np.arange(7, 0, -3))"
   ]
  },
  {
   "cell_type": "code",
   "execution_count": 140,
   "metadata": {},
   "outputs": [
    {
     "name": "stdout",
     "output_type": "stream",
     "text": [
      "[]\n"
     ]
    }
   ],
   "source": [
    "print(np.arange(7, 0, 3))"
   ]
  },
  {
   "cell_type": "code",
   "execution_count": 142,
   "metadata": {},
   "outputs": [
    {
     "name": "stdout",
     "output_type": "stream",
     "text": [
      "[1 4 7]\n"
     ]
    }
   ],
   "source": [
    "print(np.arange(1, 8, 3))"
   ]
  },
  {
   "cell_type": "code",
   "execution_count": 143,
   "metadata": {},
   "outputs": [
    {
     "name": "stdout",
     "output_type": "stream",
     "text": [
      "[1 4 7]\n",
      "[7 4 1]\n"
     ]
    }
   ],
   "source": [
    "# Reversing\n",
    "# [::-1] reverses np.arange(1, 8, 3)\n",
    "print(np.arange(1, 8, 3))\n",
    "print(np.arange(1, 8, 3)[::-1])  # reverse"
   ]
  },
  {
   "cell_type": "code",
   "execution_count": 12,
   "metadata": {},
   "outputs": [],
   "source": [
    "import numpy as np"
   ]
  },
  {
   "cell_type": "code",
   "execution_count": 45,
   "metadata": {},
   "outputs": [
    {
     "name": "stdout",
     "output_type": "stream",
     "text": [
      "[1 4 7]\n",
      "[7 4 1]\n"
     ]
    }
   ],
   "source": [
    "# np.flip(): reverse np.arange(1, 8, 3)\n",
    "print(np.arange(1, 8, 3))\n",
    "print(np.flip(np.arange(1, 8, 3)))"
   ]
  },
  {
   "cell_type": "code",
   "execution_count": 144,
   "metadata": {},
   "outputs": [
    {
     "name": "stdout",
     "output_type": "stream",
     "text": [
      "[]\n"
     ]
    }
   ],
   "source": [
    "# Empty ndarray\n",
    "print(np.arange(1, 8, -3))"
   ]
  },
  {
   "cell_type": "code",
   "execution_count": 145,
   "metadata": {},
   "outputs": [
    {
     "name": "stdout",
     "output_type": "stream",
     "text": [
      "[]\n"
     ]
    }
   ],
   "source": [
    "# Empty ndarray\n",
    "print(np.arange(2, 2))   # excluding index 2"
   ]
  },
  {
   "cell_type": "code",
   "execution_count": 146,
   "metadata": {},
   "outputs": [
    {
     "name": "stdout",
     "output_type": "stream",
     "text": [
      "[]\n"
     ]
    }
   ],
   "source": [
    "# Empty ndarray\n",
    "print(np.arange(8, 2, 1))  "
   ]
  },
  {
   "cell_type": "code",
   "execution_count": 147,
   "metadata": {},
   "outputs": [
    {
     "name": "stdout",
     "output_type": "stream",
     "text": [
      "[8 7 6 5 4 3]\n"
     ]
    }
   ],
   "source": [
    "print(np.arange(8, 2, -1))    "
   ]
  },
  {
   "cell_type": "code",
   "execution_count": 9,
   "metadata": {},
   "outputs": [
    {
     "data": {
      "text/plain": [
       "array([], dtype=int32)"
      ]
     },
     "execution_count": 9,
     "metadata": {},
     "output_type": "execute_result"
    }
   ],
   "source": [
    "# Empty ndarray\n",
    "print(np.arange(2, 8, -1))"
   ]
  },
  {
   "cell_type": "code",
   "execution_count": 148,
   "metadata": {},
   "outputs": [
    {
     "name": "stdout",
     "output_type": "stream",
     "text": [
      "[2 3 4 5 6 7]\n"
     ]
    }
   ],
   "source": [
    "print(np.arange(2, 8, 1))"
   ]
  },
  {
   "cell_type": "code",
   "execution_count": 149,
   "metadata": {},
   "outputs": [
    {
     "name": "stdout",
     "output_type": "stream",
     "text": [
      "[0 1 2 3 4]\n"
     ]
    }
   ],
   "source": [
    "x = np.arange(5)\n",
    "print(x)"
   ]
  },
  {
   "cell_type": "code",
   "execution_count": 150,
   "metadata": {},
   "outputs": [
    {
     "name": "stdout",
     "output_type": "stream",
     "text": [
      "int32\n"
     ]
    }
   ],
   "source": [
    "print(x.dtype)"
   ]
  },
  {
   "cell_type": "code",
   "execution_count": 151,
   "metadata": {},
   "outputs": [
    {
     "name": "stdout",
     "output_type": "stream",
     "text": [
      "4\n"
     ]
    }
   ],
   "source": [
    "print(x.itemsize)  # In bytes"
   ]
  },
  {
   "cell_type": "code",
   "execution_count": 152,
   "metadata": {},
   "outputs": [
    {
     "name": "stdout",
     "output_type": "stream",
     "text": [
      "(5,)\n"
     ]
    }
   ],
   "source": [
    "print(x.shape)"
   ]
  },
  {
   "cell_type": "code",
   "execution_count": 153,
   "metadata": {},
   "outputs": [
    {
     "name": "stdout",
     "output_type": "stream",
     "text": [
      "[0 1 2 3 4]\n",
      "int32\n"
     ]
    }
   ],
   "source": [
    "# The argument dtype=int doesn’t refer to Python int. \n",
    "# It translates to NumPy int32 or simply np.int.\n",
    "x = np.arange(5, dtype=int)\n",
    "print(x)\n",
    "print(x.dtype)"
   ]
  },
  {
   "cell_type": "raw",
   "metadata": {},
   "source": [
    "NumPy offers you several integer fixed-sized dtypes that differ in memory and limits:\n",
    "\n",
    "np.int8: 8-bit signed integer (from -128 to 127)\n",
    "np.uint8: 8-bit unsigned integer (from 0 to 255)\n",
    "np.int16: 16-bit signed integer (from -32768 to 32767)\n",
    "np.uint16: 16-bit unsigned integer (from 0 to 65535)\n",
    "np.int32: 32-bit signed integer (from -2**31 to 2**31-1)\n",
    "np.uint32: 32-bit unsigned integer (from 0 to 2**32-1)\n",
    "np.int64: 64-bit signed integer (from -2**63 to 2**63-1)\n",
    "np.uint64: 64-bit unsigned integer (from 0 to 2**64-1)"
   ]
  },
  {
   "cell_type": "code",
   "execution_count": 154,
   "metadata": {},
   "outputs": [
    {
     "name": "stdout",
     "output_type": "stream",
     "text": [
      "[0. 1. 2. 3. 4.]\n",
      "float64\n"
     ]
    }
   ],
   "source": [
    "y = np.arange(5.0)\n",
    "print(y)\n",
    "print(y.dtype)"
   ]
  },
  {
   "cell_type": "code",
   "execution_count": 155,
   "metadata": {},
   "outputs": [
    {
     "name": "stdout",
     "output_type": "stream",
     "text": [
      "[1. 2. 3. 4. 5.]\n",
      "float64\n"
     ]
    }
   ],
   "source": [
    "print(np.arange(1, 5.1))\n",
    "print(np.arange(1, 5.1).dtype)"
   ]
  },
  {
   "cell_type": "code",
   "execution_count": 156,
   "metadata": {},
   "outputs": [
    {
     "name": "stdout",
     "output_type": "stream",
     "text": [
      "[0.  1.5 3.  4.5 6.  7.5]\n",
      "float64\n"
     ]
    }
   ],
   "source": [
    "print(np.arange(0, 9, 1.5))\n",
    "print(np.arange(0, 9, 1.5).dtype)"
   ]
  },
  {
   "cell_type": "code",
   "execution_count": 157,
   "metadata": {},
   "outputs": [
    {
     "name": "stdout",
     "output_type": "stream",
     "text": [
      "[0. 1. 2. 3. 4.]\n",
      "float64\n"
     ]
    }
   ],
   "source": [
    "y = np.arange(5, dtype=float)\n",
    "print(y)\n",
    "print(y.dtype)"
   ]
  },
  {
   "cell_type": "code",
   "execution_count": 56,
   "metadata": {},
   "outputs": [
    {
     "name": "stdout",
     "output_type": "stream",
     "text": [
      "[0. 1. 2. 3. 4.]\n",
      "float32\n",
      "4\n"
     ]
    }
   ],
   "source": [
    "z = np.arange(5, dtype=np.float32)\n",
    "print(z)\n",
    "print(z.dtype)\n",
    "print(z.itemsize)"
   ]
  },
  {
   "cell_type": "code",
   "execution_count": 57,
   "metadata": {},
   "outputs": [
    {
     "name": "stdout",
     "output_type": "stream",
     "text": [
      "8\n",
      "4\n"
     ]
    }
   ],
   "source": [
    "print(y.itemsize)  # In bytes\n",
    "print(z.itemsize)  # In bytes"
   ]
  },
  {
   "cell_type": "code",
   "execution_count": 162,
   "metadata": {},
   "outputs": [
    {
     "name": "stdout",
     "output_type": "stream",
     "text": [
      "[0 1 2 3 4]\n",
      "[ 1  2  4  8 16]\n",
      "[-1.  -0.5  0.   0.5  1. ]\n",
      "[1.  0.5 0.  0.5 1. ]\n",
      "[ 0.          0.84147098  0.90929743  0.14112001 -0.7568025  -0.95892427\n",
      " -0.2794155   0.6569866   0.98935825  0.41211849]\n"
     ]
    }
   ],
   "source": [
    "x = np.arange(5)\n",
    "print(x)\n",
    "print(2**x)\n",
    "y = np.arange(-1, 1.1, 0.5)\n",
    "print(y)\n",
    "print(np.abs(y))\n",
    "z = np.arange(10)\n",
    "print(np.sin(z))"
   ]
  },
  {
   "cell_type": "code",
   "execution_count": 85,
   "metadata": {},
   "outputs": [],
   "source": [
    "# print(help(plt.subplots))"
   ]
  },
  {
   "cell_type": "code",
   "execution_count": 163,
   "metadata": {},
   "outputs": [
    {
     "data": {
      "image/png": "[encoded data removed]",
      "text/plain": [
       "<Figure size 432x288 with 1 Axes>"
      ]
     },
     "metadata": {
      "needs_background": "light"
     },
     "output_type": "display_data"
    }
   ],
   "source": [
    "import matplotlib\n",
    "import matplotlib.pyplot as plt\n",
    "import numpy as np\n",
    "\n",
    "# The case below:\n",
    "# Create just a figure object and only one subplot\n",
    "fig, ax = plt.subplots() \n",
    "ax.plot(z, np.sin(z))\n",
    "ax.set_title('Simple plot')\n",
    "plt.show()"
   ]
  },
  {
   "cell_type": "code",
   "execution_count": 164,
   "metadata": {},
   "outputs": [
    {
     "name": "stdout",
     "output_type": "stream",
     "text": [
      "[0 1 2 3 4]\n",
      "[-1.  -0.5  0.   0.5  1. ]\n"
     ]
    },
    {
     "data": {
      "text/plain": [
       "<matplotlib.collections.PathCollection at 0x1b4850e2bc8>"
      ]
     },
     "execution_count": 164,
     "metadata": {},
     "output_type": "execute_result"
    },
    {
     "data": {
      "image/png": "[encoded data removed]",
      "text/plain": [
       "<Figure size 432x288 with 2 Axes>"
      ]
     },
     "metadata": {
      "needs_background": "light"
     },
     "output_type": "display_data"
    }
   ],
   "source": [
    "# Create a figure object and a set of subplots.\n",
    "# subplots(nrows=1, ncols=1, sharex=False, sharey=False, squeeze=True, subplot_kw=None, gridspec_kw=None, **fig_kw)\n",
    "# nrows, ncols : int, optional, default: 1\n",
    "#     Number of rows/columns of the subplot grid.\n",
    "\n",
    "# Create two subplots and unpack the output array immediately\n",
    "print(x); print(y)\n",
    "f, (ax1, ax2) = plt.subplots(1, 2, sharey=True) # rows=1, ncols=2\n",
    "ax1.plot(x, y)\n",
    "ax1.set_title('Sharing Y axis')\n",
    "ax2.scatter(x, y)"
   ]
  },
  {
   "cell_type": "code",
   "execution_count": 89,
   "metadata": {},
   "outputs": [
    {
     "name": "stdout",
     "output_type": "stream",
     "text": [
      "[0 1 2 3 4 5]\n",
      "\n",
      "[[0 1 2]\n",
      " [3 4 5]]\n"
     ]
    }
   ],
   "source": [
    "print(np.arange(6))\n",
    "print()\n",
    "print(np.arange(6).reshape((2, 3)))"
   ]
  },
  {
   "cell_type": "code",
   "execution_count": 165,
   "metadata": {},
   "outputs": [
    {
     "name": "stdout",
     "output_type": "stream",
     "text": [
      "[[0 1 2]\n",
      " [3 4 5]]\n",
      "---------------\n",
      "(2, 3)\n",
      "---------------\n",
      "2\n"
     ]
    }
   ],
   "source": [
    "a = np.arange(6).reshape((2, 3))\n",
    "print(a); print('-'*15)\n",
    "print(a.shape); print('-'*15)\n",
    "print(a.ndim)"
   ]
  },
  {
   "cell_type": "markdown",
   "metadata": {},
   "source": [
    "###### Other Routines Based on Numerical Ranges"
   ]
  },
  {
   "cell_type": "markdown",
   "metadata": {},
   "source": [
    "Other Routines Based on Numerical Ranges\n",
    "In addition to arange(), you can apply **other NumPy array creation routines** based on numerical ranges:\n",
    "\n",
    "**[linspace()](https://numpy.org/doc/stable/reference/generated/numpy.linspace.html)** is similar to arange() in that it returns evenly spaced numbers. But you can specify the number of values to generate as well as whether to include the endpoint and whether to create multiple arrays at once.\n",
    "\n",
    "[logspace()](https://docs.scipy.org/doc/numpy/reference/generated/numpy.logspace.html) and [geomspace()](https://docs.scipy.org/doc/numpy/reference/generated/numpy.geomspace.html) are similar to linspace(), except the returned numbers are spaced evenly on the logarithmic scale.\n",
    "\n",
    "[meshgrid()](https://docs.scipy.org/doc/numpy/reference/generated/numpy.meshgrid.html), [ogrid()](https://docs.scipy.org/doc/numpy/reference/generated/numpy.ogrid.html), and [mgrid()](https://docs.scipy.org/doc/numpy/reference/generated/numpy.mgrid.html) return grids of points represented as arrays.\n",
    "\n",
    "All these functions have their specifics and use cases. You can choose the appropriate one according to your needs.\n",
    "\n",
    "As you already saw, NumPy contains [more routines to create instances of ndarray](https://docs.scipy.org/doc/numpy/reference/routines.array-creation.html)."
   ]
  },
  {
   "cell_type": "markdown",
   "metadata": {},
   "source": [
    "## Array Slicing: Accessing Subarrays"
   ]
  },
  {
   "cell_type": "markdown",
   "metadata": {},
   "source": [
    "Just as we can use square brackets to access individual array elements, we can also use them to access subarrays with the ***slice*** notation, marked by the colon **(``:``)** character.\n",
    "The NumPy slicing syntax follows that of the standard Python list; **to access a slice of an array ``x``**, use this:\n",
    " \n",
    "**``x[start:stop:step]``**\n",
    "\n",
    "**Default values: ``start=0``, ``stop=``*``size of dimension``*, ``step=1``.**\n",
    "We'll take a look at **accessing sub-arrays** in one dimension and in multiple dimensions."
   ]
  },
  {
   "cell_type": "markdown",
   "metadata": {},
   "source": [
    "### One-dimensional subarrays"
   ]
  },
  {
   "cell_type": "code",
   "execution_count": 91,
   "metadata": {},
   "outputs": [
    {
     "name": "stdout",
     "output_type": "stream",
     "text": [
      "[0 1 2 3 4 5 6 7 8 9]\n",
      "[0 1 2 3 4]\n"
     ]
    }
   ],
   "source": [
    "x = np.arange(10)\n",
    "print(x)\n",
    "print(x[:5])  # first five elements"
   ]
  },
  {
   "cell_type": "code",
   "execution_count": 93,
   "metadata": {},
   "outputs": [
    {
     "name": "stdout",
     "output_type": "stream",
     "text": [
      "[0 1 2 3 4 5 6 7 8 9]\n",
      "[5 6 7 8 9]\n"
     ]
    }
   ],
   "source": [
    "print(x)\n",
    "print(x[5:])  # elements after index 5"
   ]
  },
  {
   "cell_type": "code",
   "execution_count": 94,
   "metadata": {},
   "outputs": [
    {
     "name": "stdout",
     "output_type": "stream",
     "text": [
      "[0 1 2 3 4 5 6 7 8 9]\n",
      "[4 5 6]\n"
     ]
    }
   ],
   "source": [
    "print(x)\n",
    "print(x[4:7])  # middle sub-array"
   ]
  },
  {
   "cell_type": "code",
   "execution_count": 96,
   "metadata": {},
   "outputs": [
    {
     "name": "stdout",
     "output_type": "stream",
     "text": [
      "[0 1 2 3 4 5 6 7 8 9]\n",
      "[0 2 4 6 8]\n"
     ]
    }
   ],
   "source": [
    "print(x)\n",
    "print(x[::2])  # every other element"
   ]
  },
  {
   "cell_type": "code",
   "execution_count": 97,
   "metadata": {},
   "outputs": [
    {
     "name": "stdout",
     "output_type": "stream",
     "text": [
      "[0 1 2 3 4 5 6 7 8 9]\n",
      "[1 3 5 7 9]\n"
     ]
    }
   ],
   "source": [
    "print(x)\n",
    "print(x[1::2])  # every other element, starting at index 1"
   ]
  },
  {
   "cell_type": "markdown",
   "metadata": {},
   "source": [
    "A potentially confusing case is when the ``step`` value is negative.\n",
    "In this case, the defaults for ``start`` and ``stop`` are swapped.\n",
    "This becomes a convenient way to reverse an array:"
   ]
  },
  {
   "cell_type": "code",
   "execution_count": 99,
   "metadata": {},
   "outputs": [
    {
     "name": "stdout",
     "output_type": "stream",
     "text": [
      "[0 1 2 3 4 5 6 7 8 9]\n",
      "[9 8 7 6 5 4 3 2 1 0]\n"
     ]
    }
   ],
   "source": [
    "# start and stop are swapped: reversing all elements\n",
    "print(x)\n",
    "print(x[::-1])  # reversing all elements"
   ]
  },
  {
   "cell_type": "code",
   "execution_count": 100,
   "metadata": {},
   "outputs": [
    {
     "name": "stdout",
     "output_type": "stream",
     "text": [
      "[0 1 2 3 4 5 6 7 8 9]\n",
      "[5 3 1]\n"
     ]
    }
   ],
   "source": [
    "# start and stop are swapped: reversing all elements\n",
    "print(x)\n",
    "print(x[5::-2])  # reversed every other from index 5"
   ]
  },
  {
   "cell_type": "markdown",
   "metadata": {},
   "source": [
    "### Multi-dimensional subarrays\n",
    "\n",
    "Multi-dimensional slices work in the same way, with multiple slices separated by commas.\n",
    "For example:"
   ]
  },
  {
   "cell_type": "code",
   "execution_count": 16,
   "metadata": {},
   "outputs": [
    {
     "name": "stdout",
     "output_type": "stream",
     "text": [
      "[[5 0 3 3]\n",
      " [7 9 3 5]\n",
      " [2 4 7 6]]\n"
     ]
    }
   ],
   "source": [
    "import numpy as np\n",
    "np.random.seed(0)  # seed for reproducibility\n",
    "# np.random.randint(low, high=None, size=None, dtype='l')\n",
    "# If 'high' is None (the default), then results are from [0, `low`).\n",
    "x2 = np.random.randint(10, size=(3, 4))  # Two-dimensional array\n",
    "print(x2)"
   ]
  },
  {
   "cell_type": "code",
   "execution_count": 17,
   "metadata": {},
   "outputs": [
    {
     "name": "stdout",
     "output_type": "stream",
     "text": [
      "[[5 0 3 3]\n",
      " [7 9 3 5]\n",
      " [2 4 7 6]]\n",
      "\n",
      "[[5 0 3]\n",
      " [7 9 3]]\n"
     ]
    }
   ],
   "source": [
    "print(x2)\n",
    "print()\n",
    "print(x2[:2, :3])  # two rows, three columns"
   ]
  },
  {
   "cell_type": "code",
   "execution_count": 42,
   "metadata": {},
   "outputs": [
    {
     "name": "stdout",
     "output_type": "stream",
     "text": [
      "[[5 0 3 3]\n",
      " [7 9 3 5]\n",
      " [2 4 7 6]]\n",
      "\n",
      "[[5 3]\n",
      " [7 3]\n",
      " [2 7]]\n"
     ]
    }
   ],
   "source": [
    "print(x2)\n",
    "print()\n",
    "print(x2[:3, ::2])  # all rows, every other column"
   ]
  },
  {
   "cell_type": "markdown",
   "metadata": {},
   "source": [
    "###### Finally, subarray dimensions can even be reversed together:"
   ]
  },
  {
   "cell_type": "code",
   "execution_count": 43,
   "metadata": {},
   "outputs": [
    {
     "name": "stdout",
     "output_type": "stream",
     "text": [
      "[[5 0 3 3]\n",
      " [7 9 3 5]\n",
      " [2 4 7 6]]\n",
      "\n",
      "[[2 4 7 6]\n",
      " [7 9 3 5]\n",
      " [5 0 3 3]]\n",
      "\n",
      "[[2 4 7 6]\n",
      " [7 9 3 5]\n",
      " [5 0 3 3]]\n",
      "\n",
      "[[2 4 7 6]\n",
      " [7 9 3 5]\n",
      " [5 0 3 3]]\n"
     ]
    }
   ],
   "source": [
    "# Below are alll equivalent: reversing rows\n",
    "print(x2)\n",
    "print()\n",
    "print(x2[::-1, ::1])  # same (1)\n",
    "print()\n",
    "print(x2[::-1, ::])   # same (2)\n",
    "print()\n",
    "print(x2[::-1, :])    # same (3)"
   ]
  },
  {
   "cell_type": "code",
   "execution_count": 44,
   "metadata": {},
   "outputs": [
    {
     "name": "stdout",
     "output_type": "stream",
     "text": [
      "[[5 0 3 3]\n",
      " [7 9 3 5]\n",
      " [2 4 7 6]]\n",
      "\n",
      "[[6 7 4 2]\n",
      " [5 3 9 7]\n",
      " [3 3 0 5]]\n"
     ]
    }
   ],
   "source": [
    "# Reversing rows and columns:\n",
    "print(x2)\n",
    "print()\n",
    "print(x2[::-1, ::-1])"
   ]
  },
  {
   "cell_type": "markdown",
   "metadata": {},
   "source": [
    "#### Accessing array rows and columns\n",
    "\n",
    "One commonly needed routine is **accessing of single rows or columns of an array**.\n",
    "This can be done **by combining indexing and slicing**, using an empty slice marked by a single colon (**:**):"
   ]
  },
  {
   "cell_type": "code",
   "execution_count": 45,
   "metadata": {},
   "outputs": [
    {
     "name": "stdout",
     "output_type": "stream",
     "text": [
      "[[5 0 3 3]\n",
      " [7 9 3 5]\n",
      " [2 4 7 6]]\n",
      "\n",
      "[5 7 2]\n"
     ]
    }
   ],
   "source": [
    "print(x2)\n",
    "print()\n",
    "print(x2[:, 0])  # first column of x2"
   ]
  },
  {
   "cell_type": "code",
   "execution_count": 46,
   "metadata": {},
   "outputs": [
    {
     "name": "stdout",
     "output_type": "stream",
     "text": [
      "[[5 0 3 3]\n",
      " [7 9 3 5]\n",
      " [2 4 7 6]]\n",
      "\n",
      "[5 0 3 3]\n"
     ]
    }
   ],
   "source": [
    "print(x2)\n",
    "print()\n",
    "print(x2[0, :])  # first row of x2"
   ]
  },
  {
   "cell_type": "markdown",
   "metadata": {},
   "source": [
    "In the case of **row access**, the **empty slice can be omitted** for a more compact syntax:"
   ]
  },
  {
   "cell_type": "code",
   "execution_count": 47,
   "metadata": {},
   "outputs": [
    {
     "name": "stdout",
     "output_type": "stream",
     "text": [
      "[[5 0 3 3]\n",
      " [7 9 3 5]\n",
      " [2 4 7 6]]\n",
      "\n",
      "[5 0 3 3]\n"
     ]
    }
   ],
   "source": [
    "print(x2)\n",
    "print()\n",
    "print(x2[0])  # equivalent to x2[0, :]"
   ]
  },
  {
   "cell_type": "markdown",
   "metadata": {},
   "source": [
    "### Subarrays as no-copy views\n",
    "\n",
    "One important–and extremely useful–thing to know about array slices is that they **return *views* rather than *copies* of the array data**.\n",
    "This is one area **in which NumPy array slicing differs from Python list slicing: in lists, slices will be copies**.\n",
    "Consider our two-dimensional array from before:"
   ]
  },
  {
   "cell_type": "markdown",
   "metadata": {},
   "source": [
    "Let's extract a $2 \\times 2$ subarray from this:"
   ]
  },
  {
   "cell_type": "code",
   "execution_count": 49,
   "metadata": {},
   "outputs": [
    {
     "name": "stdout",
     "output_type": "stream",
     "text": [
      "[[5 0 3 3]\n",
      " [7 9 3 5]\n",
      " [2 4 7 6]]\n",
      "\n",
      "[[5 0]\n",
      " [7 9]]\n"
     ]
    }
   ],
   "source": [
    "# Extract a 2×2 subarray\n",
    "print(x2)\n",
    "print()\n",
    "x2_sub = x2[:2, :2]\n",
    "print(x2_sub)"
   ]
  },
  {
   "cell_type": "markdown",
   "metadata": {},
   "source": [
    "Now if we **modify this subarray**, we'll see that **the original array is changed!** Observe:"
   ]
  },
  {
   "cell_type": "code",
   "execution_count": 50,
   "metadata": {},
   "outputs": [
    {
     "name": "stdout",
     "output_type": "stream",
     "text": [
      "[[5 0]\n",
      " [7 9]]\n",
      "\n",
      "[[99  0]\n",
      " [ 7  9]]\n",
      "\n",
      "[[99  0  3  3]\n",
      " [ 7  9  3  5]\n",
      " [ 2  4  7  6]]\n"
     ]
    }
   ],
   "source": [
    "# modify the subarray x2_sub:\n",
    "print(x2_sub)\n",
    "print()\n",
    "# Both x2_sub and x2 are modified:\n",
    "x2_sub[0, 0] = 99\n",
    "print(x2_sub)\n",
    "print()\n",
    "print(x2)"
   ]
  },
  {
   "cell_type": "markdown",
   "metadata": {},
   "source": [
    "This default behavior is actually **quite useful:** it means that **when we work with large datasets, we can access and process pieces of these datasets without the need to copy the underlying data buffer**."
   ]
  },
  {
   "cell_type": "markdown",
   "metadata": {},
   "source": [
    "### Creating copies of arrays\n",
    "\n",
    "Despite the nice features of array views, it is sometimes useful to instead **explicitly copy the data within an array or a subarray**. This can be most easily done with the **``copy()`` method**:"
   ]
  },
  {
   "cell_type": "code",
   "execution_count": 56,
   "metadata": {},
   "outputs": [
    {
     "name": "stdout",
     "output_type": "stream",
     "text": [
      "[[99  0  3  3]\n",
      " [ 7  9  3  5]\n",
      " [ 2  4  7  6]]\n",
      "\n",
      "[[99  0]\n",
      " [ 7  9]]\n"
     ]
    }
   ],
   "source": [
    "print(x2)\n",
    "print()\n",
    "print(x2[:2, :2])"
   ]
  },
  {
   "cell_type": "markdown",
   "metadata": {},
   "source": [
    "If we **explicitly copy** the data within an array or a subarray **with the copy() method, and then modify this subarray, the original array is not touched:**"
   ]
  },
  {
   "cell_type": "code",
   "execution_count": 60,
   "metadata": {},
   "outputs": [
    {
     "name": "stdout",
     "output_type": "stream",
     "text": [
      "[[99  0]\n",
      " [ 7  9]]\n",
      "\n",
      "[[42  0]\n",
      " [ 7  9]]\n",
      "\n",
      "[[99  0  3  3]\n",
      " [ 7  9  3  5]\n",
      " [ 2  4  7  6]]\n"
     ]
    }
   ],
   "source": [
    "# We explicitly copy the data within an array or a subarray \n",
    "# with the copy() method:\n",
    "x2_sub_copy = x2[:2, :2].copy()\n",
    "print(x2_sub_copy)\n",
    "print()\n",
    "# we then modify this subarray:\n",
    "x2_sub_copy[0, 0] = 42\n",
    "print(x2_sub_copy)\n",
    "print()\n",
    "# the original array is not touched:\n",
    "print(x2)"
   ]
  },
  {
   "cell_type": "markdown",
   "metadata": {},
   "source": [
    "## Reshaping of Arrays\n",
    "\n",
    "Another useful type of operation is reshaping of arrays.\n",
    "The most flexible way of doing this is with the **``reshape`` method**.\n",
    "For example, if you want to **put the numbers 1 through 9 in a $3 \\times 3$ grid**, you can do the following: "
   ]
  },
  {
   "cell_type": "code",
   "execution_count": 62,
   "metadata": {},
   "outputs": [],
   "source": [
    "import numpy as np"
   ]
  },
  {
   "cell_type": "code",
   "execution_count": 65,
   "metadata": {},
   "outputs": [
    {
     "name": "stdout",
     "output_type": "stream",
     "text": [
      "[1 2 3 4 5 6 7 8 9]\n",
      "\n",
      "[[1 2 3]\n",
      " [4 5 6]\n",
      " [7 8 9]]\n"
     ]
    }
   ],
   "source": [
    "print(np.arange(1, 10))\n",
    "print()\n",
    "grid = np.arange(1, 10).reshape((3, 3))\n",
    "print(grid)"
   ]
  },
  {
   "cell_type": "markdown",
   "metadata": {},
   "source": [
    "Note that for this to work, the size of the initial array must match the size of the reshaped array. \n",
    "Where possible, the **``reshape`` method will use a no-copy view** of the initial array, **but** with non-contiguous memory buffers **this is not always the case**.\n",
    "\n",
    "Another common reshaping pattern is the **conversion of a one-dimensional array into a two-dimensional row or column matrix.**\n",
    "This can be done  with the **``reshape`` method, or** more easily done by making use of **the ``newaxis`` keyword within a slice operation:**"
   ]
  },
  {
   "cell_type": "markdown",
   "metadata": {},
   "source": [
    "###### Two methods for expanding dimensions \n",
    "1. **np.reshape()**\n",
    "2. **newaxis** keyword within a slice operation"
   ]
  },
  {
   "cell_type": "markdown",
   "metadata": {},
   "source": [
    "###### np.newaxis keyword within a slice operation inserts/adds a new dimension with 1"
   ]
  },
  {
   "cell_type": "code",
   "execution_count": 9,
   "metadata": {},
   "outputs": [
    {
     "name": "stdout",
     "output_type": "stream",
     "text": [
      "[1 2 3]\n",
      "[[1 2 3]]\n",
      "[[1 2 3]]\n"
     ]
    }
   ],
   "source": [
    "x = np.array([1, 2, 3])\n",
    "print(x)                  # x.shape: (3,)\n",
    "# 1. row vector via reshape\n",
    "print(x.reshape(1, 3))    # x.reshape(1, 3).shape: (1, 3)\n",
    "# 2. row vector via newaxis\n",
    "print(x[np.newaxis, :])   # x[np.newaxis, :].shape: (1, 3)"
   ]
  },
  {
   "cell_type": "code",
   "execution_count": 8,
   "metadata": {},
   "outputs": [
    {
     "name": "stdout",
     "output_type": "stream",
     "text": [
      "(3,)\n",
      "(1, 3)\n",
      "(1, 3)\n"
     ]
    }
   ],
   "source": [
    "print(x.shape)                # (3,)\n",
    "print(x.reshape(1, 3).shape)    # (1, 3)\n",
    "print(x[np.newaxis, :].shape)   # (1, 3)"
   ]
  },
  {
   "cell_type": "code",
   "execution_count": 12,
   "metadata": {},
   "outputs": [
    {
     "name": "stdout",
     "output_type": "stream",
     "text": [
      "[1 2 3]\n",
      "\n",
      "[[1 2 3]]\n",
      "\n",
      "[[1]\n",
      " [2]\n",
      " [3]]\n"
     ]
    }
   ],
   "source": [
    "# np.newaxis keyword inserts/adds a new dimension with 1\n",
    "\n",
    "# column vector via newaxis\n",
    "x = np.array([1, 2, 3])\n",
    "print(x); print()        # x.shape: (3,)\n",
    "print(x[np.newaxis, :])  # x[np.newaxis, :].shape: (1, 3)\n",
    "print()\n",
    "print(x[:, np.newaxis])  # x[:, np.newaxis].shape: (3, 1)"
   ]
  },
  {
   "cell_type": "markdown",
   "metadata": {},
   "source": [
    "[numpy.newaxis](https://stackoverflow.com/questions/29241056/how-does-numpy-newaxis-work-and-when-to-use-it)"
   ]
  },
  {
   "cell_type": "code",
   "execution_count": 13,
   "metadata": {},
   "outputs": [
    {
     "name": "stdout",
     "output_type": "stream",
     "text": [
      "(3, 2, 1)\n",
      "---------------\n",
      "[[[1]\n",
      "  [2]]\n",
      "\n",
      " [[3]\n",
      "  [4]]\n",
      "\n",
      " [[5]\n",
      "  [6]]]\n",
      "---------------\n",
      "[[[3]\n",
      "  [4]]]\n"
     ]
    }
   ],
   "source": [
    "x = np.array([[[1],[2]], [[3],[4]], [[5],[6]]])\n",
    "print(x.shape)\n",
    "print(\"-\"*15)\n",
    "print(x)\n",
    "print(\"-\"*15)\n",
    "print(x[1:2])  # get row 1"
   ]
  },
  {
   "cell_type": "code",
   "execution_count": 20,
   "metadata": {},
   "outputs": [
    {
     "name": "stdout",
     "output_type": "stream",
     "text": [
      "[[[1]\n",
      "  [2]]\n",
      "\n",
      " [[3]\n",
      "  [4]]\n",
      "\n",
      " [[5]\n",
      "  [6]]]\n",
      "---------------\n",
      "(3, 2, 1)\n",
      "(3, 1, 2, 1)\n",
      "---------------\n",
      "[[[[1]\n",
      "   [2]]]\n",
      "\n",
      "\n",
      " [[[3]\n",
      "   [4]]]\n",
      "\n",
      "\n",
      " [[[5]\n",
      "   [6]]]]\n"
     ]
    }
   ],
   "source": [
    "# Each newaxis object in the selection tuple serves to \n",
    "# expand the dimensions of the resulting selection by \n",
    "# one unit-length dimension. \n",
    "# The added dimension is the position of the newaxis \n",
    "# object in the selection tuple.\n",
    "x = np.array([[[1],[2]], [[3],[4]], [[5],[6]]])\n",
    "print(x); print(\"-\"*15)\n",
    "print(x.shape)\n",
    "print(x[:,np.newaxis,:,:].shape); print(\"-\"*15)\n",
    "print(x[:,np.newaxis,:,:])"
   ]
  },
  {
   "cell_type": "code",
   "execution_count": 128,
   "metadata": {},
   "outputs": [
    {
     "name": "stdout",
     "output_type": "stream",
     "text": [
      "[[[1]\n",
      "  [2]]\n",
      "\n",
      " [[3]\n",
      "  [4]]\n",
      "\n",
      " [[5]\n",
      "  [6]]]\n",
      "---------------\n",
      "(3, 2, 1)\n",
      "=======================================================\n",
      "[[1 2]\n",
      " [3 4]\n",
      " [5 6]]\n",
      "=======================================================\n",
      "(3, 1, 2, 1)\n",
      "---------------\n",
      "(3, 1, 2, 1)\n",
      "---------------\n",
      "(3, 2, 1, 1)\n",
      "---------------\n",
      "(1, 3, 2, 1)\n",
      "=======================================================\n",
      "[[[[1]\n",
      "   [2]]]\n",
      "\n",
      "\n",
      " [[[3]\n",
      "   [4]]]\n",
      "\n",
      "\n",
      " [[[5]\n",
      "   [6]]]]\n",
      "---------------\n",
      "(3, 1, 2, 1)\n",
      "---------------\n",
      "[[[[1]\n",
      "   [2]]\n",
      "\n",
      "  [[3]\n",
      "   [4]]\n",
      "\n",
      "  [[5]\n",
      "   [6]]]]\n",
      "---------------\n",
      "(1, 3, 2, 1)\n"
     ]
    }
   ],
   "source": [
    "# 2 methods for reshaping column vector via reshape() and\n",
    "# np.newaxis\n",
    "x = np.array([[[1],[2]], [[3],[4]], [[5],[6]]])\n",
    "print(x)\n",
    "print(\"-\"*15)\n",
    "print(x.shape)                    # (3, 2, 1)\n",
    "print(\"=\"*55)\n",
    "\n",
    "# Method 1: reshape() function\n",
    "print(x.reshape((3, 2)))          \n",
    "print(\"=\"*55)\n",
    "\n",
    "# Method 2: np.newaxis keyword\n",
    "print(x[:, np.newaxis].shape)      # same  (3, 1, 2, 1)\n",
    "print(\"-\"*15)\n",
    "print(x[:, np.newaxis,:,:].shape)  # same  (3, 1, 2, 1)\n",
    "print(\"-\"*15)\n",
    "print(x[:,:,:, np.newaxis].shape)  # (3, 2, 1, 1)\n",
    "print(\"-\"*15)\n",
    "print(x[np.newaxis, :].shape)      # (1, 3, 2, 1)\n",
    "print(\"=\"*55)\n",
    "\n",
    "print(x[:, np.newaxis])\n",
    "print(\"-\"*15)\n",
    "print(x[:, np.newaxis].shape)      # (3, 1, 2, 1)\n",
    "print(\"-\"*15)\n",
    "print(x[np.newaxis, :])\n",
    "print(\"-\"*15)\n",
    "print(x[np.newaxis, :].shape)      # (1, 3, 2, 1)"
   ]
  },
  {
   "cell_type": "code",
   "execution_count": 24,
   "metadata": {},
   "outputs": [
    {
     "name": "stdout",
     "output_type": "stream",
     "text": [
      "[1 2 3]\n",
      "---------------\n",
      "(3,)\n",
      "---------------\n",
      "[[1]\n",
      " [2]\n",
      " [3]]\n"
     ]
    }
   ],
   "source": [
    "# 2 methods for reshaping column vector via reshape() and\n",
    "# np.newaxis\n",
    "x = np.arange(1, 4)\n",
    "print(x); print(\"-\"*15)\n",
    "print(x.shape); print(\"-\"*15)\n",
    "\n",
    "# Method 1\n",
    "print(x.reshape((3, 1)))"
   ]
  },
  {
   "cell_type": "code",
   "execution_count": 26,
   "metadata": {},
   "outputs": [
    {
     "name": "stdout",
     "output_type": "stream",
     "text": [
      "[1 2 3]\n",
      "---------------\n",
      "[[1]\n",
      " [2]\n",
      " [3]]\n",
      "---------------\n",
      "(3, 1)\n",
      "---------------\n",
      "[[1 2 3]]\n",
      "---------------\n",
      "(1, 3)\n"
     ]
    }
   ],
   "source": [
    "# Method 2\n",
    "x = np.arange(1, 4); print(x); print(\"-\"*15)\n",
    "print(x[:, np.newaxis]);       print(\"-\"*15)\n",
    "print(x[:, np.newaxis].shape); print(\"-\"*15)\n",
    "print(x[np.newaxis, :]);       print(\"-\"*15)\n",
    "print(x[np.newaxis, :].shape)"
   ]
  },
  {
   "cell_type": "markdown",
   "metadata": {},
   "source": [
    "We will see this type of transformation often throughout the remainder of the book."
   ]
  },
  {
   "cell_type": "markdown",
   "metadata": {},
   "source": [
    "###### 1. reshape() creates a shallow copy\n",
    "###### 2. reshape().copy() creates a deep copy"
   ]
  },
  {
   "cell_type": "code",
   "execution_count": 23,
   "metadata": {},
   "outputs": [
    {
     "name": "stdout",
     "output_type": "stream",
     "text": [
      "[1 2 3 4 5 6]\n",
      "\n",
      "[100   2   3   4   5   6]\n",
      "\n",
      "[[100   2   3]\n",
      " [  4   5   6]]\n"
     ]
    }
   ],
   "source": [
    "# reshape() method creates a shallow copy\n",
    "x = np.array([1, 2, 3, 4, 5, 6])\n",
    "print(x); print() \n",
    "y = x.reshape(2, 3)   # reshape() method creates a shallow copy\n",
    "y[0, 0] = 100         # if we change y, x will also be changed.\n",
    "print(x); print()     # same\n",
    "print(y)              # same"
   ]
  },
  {
   "cell_type": "code",
   "execution_count": 27,
   "metadata": {},
   "outputs": [
    {
     "name": "stdout",
     "output_type": "stream",
     "text": [
      "[1 2 3 4 5 6]\n",
      "\n",
      "[1 2 3 4 5 6]\n",
      "\n",
      "[[100   2   3]\n",
      " [  4   5   6]]\n"
     ]
    }
   ],
   "source": [
    "# reshape().copy creates deep copy\n",
    "x = np.array([1, 2, 3, 4, 5, 6])\n",
    "print(x); print() \n",
    "y = x.reshape(2, 3).copy()   # reshape().copy() creates a deep copy \n",
    "y[0, 0] = 100                # if we change y, x won't be changed.\n",
    "print(x); print()            # same\n",
    "print(y)                     # same"
   ]
  },
  {
   "cell_type": "markdown",
   "metadata": {},
   "source": [
    "## Array Concatenation and Splitting\n",
    "\n",
    "**All** of the preceding routines **worked on single arrays**. It's **also** possible to **combine multiple arrays into one**, and to ****conversely split a single array into multiple arrays**. We'll take a look at those operations here."
   ]
  },
  {
   "cell_type": "markdown",
   "metadata": {},
   "source": [
    "### Concatenation of arrays\n",
    "\n",
    "1. **Concatenation, or joining of two arrays in NumPy**, is primarily accomplished using the routines:\n",
    "    1. **``np.concatenate``**\n",
    "    2. **``np.vstack``**\n",
    "    3. **``np.hstack``**\n",
    "\n",
    "2. **``np.concatenate`` takes a tuple or list of arrays as its first argument**, as we can see here:"
   ]
  },
  {
   "cell_type": "code",
   "execution_count": 28,
   "metadata": {},
   "outputs": [
    {
     "name": "stdout",
     "output_type": "stream",
     "text": [
      "[1 2 3 3 2 1]\n"
     ]
    }
   ],
   "source": [
    "# np.concatenate takes a tuple or list of arrays as its first argument:\n",
    "x = np.array([1, 2, 3])\n",
    "y = np.array([3, 2, 1])\n",
    "print(np.concatenate([x, y]))  "
   ]
  },
  {
   "cell_type": "markdown",
   "metadata": {},
   "source": [
    "You can also **concatenate more than two arrays at once:**"
   ]
  },
  {
   "cell_type": "code",
   "execution_count": 29,
   "metadata": {},
   "outputs": [
    {
     "name": "stdout",
     "output_type": "stream",
     "text": [
      "[ 1  2  3  3  2  1 99 99 99]\n"
     ]
    }
   ],
   "source": [
    "z = [99, 99, 99]\n",
    "print(np.concatenate([x, y, z]))"
   ]
  },
  {
   "cell_type": "markdown",
   "metadata": {},
   "source": [
    "**It can also be used for two-dimensional arrays:**"
   ]
  },
  {
   "cell_type": "code",
   "execution_count": 31,
   "metadata": {},
   "outputs": [],
   "source": [
    "grid = np.array([[1, 2, 3],\n",
    "                 [4, 5, 6]])"
   ]
  },
  {
   "cell_type": "code",
   "execution_count": 32,
   "metadata": {},
   "outputs": [
    {
     "name": "stdout",
     "output_type": "stream",
     "text": [
      "[[1 2 3]\n",
      " [4 5 6]]\n",
      "---------------\n",
      "[[1 2 3]\n",
      " [4 5 6]\n",
      " [1 2 3]\n",
      " [4 5 6]]\n"
     ]
    }
   ],
   "source": [
    "# concatenate 2 whole arrays along the first axis\n",
    "print(grid); print('-'*15)\n",
    "print(np.concatenate([grid, grid], axis=0))"
   ]
  },
  {
   "cell_type": "code",
   "execution_count": 33,
   "metadata": {},
   "outputs": [
    {
     "name": "stdout",
     "output_type": "stream",
     "text": [
      "[[1 2 3]\n",
      " [4 5 6]]\n",
      "---------------\n",
      "[[1 2 3 1 2 3]\n",
      " [4 5 6 4 5 6]]\n"
     ]
    }
   ],
   "source": [
    "# concatenate along the second axis (zero-indexed)\n",
    "print(grid); print('-'*15)\n",
    "print(np.concatenate([grid, grid], axis=1))"
   ]
  },
  {
   "cell_type": "markdown",
   "metadata": {},
   "source": [
    "**For working with arrays of mixed dimensions**, it can be clearer to use:\n",
    "1. **``np.vstack`` (vertical stack)** and \n",
    "2. **``np.hstack`` (horizontal stack) functions:**"
   ]
  },
  {
   "cell_type": "raw",
   "metadata": {},
   "source": [
    "## np.hstack(a, b)\n",
    "\n",
    "# print(a)   |    # print(b)\n",
    "[[0  3]      |    [[ 6  9]\n",
    " [1  4]      |     [ 7 10]\n",
    " [2  5]]     |     [ 8 11]]\n",
    "---------------------------------------------\n",
    "# print(np.hstack((a, b)))\n",
    "[[0 3  6  9]\n",
    " [1 4  7 10]\n",
    " [2 5  8 11]]"
   ]
  },
  {
   "cell_type": "code",
   "execution_count": 199,
   "metadata": {},
   "outputs": [
    {
     "name": "stdout",
     "output_type": "stream",
     "text": [
      "[[0 3]\n",
      " [1 4]\n",
      " [2 5]]\n",
      "---------------\n",
      "[[ 6  9]\n",
      " [ 7 10]\n",
      " [ 8 11]]\n",
      "---------------\n",
      "[[ 0  3  6  9]\n",
      " [ 1  4  7 10]\n",
      " [ 2  5  8 11]]\n"
     ]
    }
   ],
   "source": [
    "# horizontally stack the arrays\n",
    "a = np.array([[0, 3], [1, 4], [2, 5]])\n",
    "print(a); print('-'*15)\n",
    "b = np.array([[ 6,  9], [ 7, 10], [ 8, 11]])\n",
    "print(b); print('-'*15)\n",
    "print(np.hstack([a, b]))"
   ]
  },
  {
   "cell_type": "raw",
   "metadata": {},
   "source": [
    "## np.vstack(a, b)\n",
    "\n",
    "# print(a)   |    # print(b)\n",
    "[[0  3]      |    [[ 6  9]\n",
    " [1  4]      |     [ 7 10]\n",
    " [2  5]]     |     [ 8 11]]\n",
    "---------------------------------------------\n",
    "# print(np.vstack((a, b)))\n",
    "[[ 6  9]\n",
    " [ 7 10]\n",
    " [ 8 11]\n",
    " [ 6  9]\n",
    " [ 7 10]\n",
    " [ 8 11]]"
   ]
  },
  {
   "cell_type": "code",
   "execution_count": 200,
   "metadata": {},
   "outputs": [
    {
     "name": "stdout",
     "output_type": "stream",
     "text": [
      "[[0 3]\n",
      " [1 4]\n",
      " [2 5]]\n",
      "---------------\n",
      "[[ 6  9]\n",
      " [ 7 10]\n",
      " [ 8 11]]\n",
      "---------------\n",
      "[[ 0  3]\n",
      " [ 1  4]\n",
      " [ 2  5]\n",
      " [ 6  9]\n",
      " [ 7 10]\n",
      " [ 8 11]]\n"
     ]
    }
   ],
   "source": [
    "# vertically stack the arrays\n",
    "a = np.array([[0, 3], [1, 4], [2, 5]])\n",
    "print(a); print('-'*15)\n",
    "b = np.array([[ 6,  9], [ 7, 10], [ 8, 11]])\n",
    "print(b); print('-'*15)\n",
    "print(np.vstack([a, b]))"
   ]
  },
  {
   "cell_type": "markdown",
   "metadata": {},
   "source": [
    "# Skip: Starts "
   ]
  },
  {
   "cell_type": "markdown",
   "metadata": {},
   "source": [
    "###### np.dstack(a, b)"
   ]
  },
  {
   "cell_type": "markdown",
   "metadata": {},
   "source": [
    "Similary, **``np.dstack`` will stack arrays in sequence depth wise (along third axis)**."
   ]
  },
  {
   "cell_type": "markdown",
   "metadata": {},
   "source": [
    "[numpy.dstack (see the 3rd answer)](https://stackoverflow.com/questions/25116595/understanding-numpys-dstack-function)\n",
    "+ Stack arrays in sequence **depth wise (along 3rd axis)**"
   ]
  },
  {
   "cell_type": "raw",
   "metadata": {},
   "source": [
    "## np.dstack(a, b)\n",
    "\n",
    "# print(a)   |    # print(b)\n",
    "[[0  3]      |    [[ 6  9]\n",
    " [1  4]      |     [ 7 10]\n",
    " [2  5]]     |     [ 8 11]]\n",
    "---------------------------------------------\n",
    "# print(np.dstack((a, b)))\n",
    "[[[ 0  6]\n",
    "  [ 3  9]]\n",
    "\n",
    " [[ 1  7]\n",
    "  [ 4 10]]\n",
    "\n",
    " [[ 2  8]\n",
    "  [ 5 11]]]"
   ]
  },
  {
   "cell_type": "code",
   "execution_count": 202,
   "metadata": {},
   "outputs": [
    {
     "name": "stdout",
     "output_type": "stream",
     "text": [
      "[[0 3]\n",
      " [1 4]\n",
      " [2 5]]\n",
      "---------------\n",
      "[[ 6  9]\n",
      " [ 7 10]\n",
      " [ 8 11]]\n",
      "---------------\n",
      "[[[ 0  6]\n",
      "  [ 3  9]]\n",
      "\n",
      " [[ 1  7]\n",
      "  [ 4 10]]\n",
      "\n",
      " [[ 2  8]\n",
      "  [ 5 11]]]\n"
     ]
    }
   ],
   "source": [
    "# Stack arrays in sequence depth wise (along 3rd axis)\n",
    "a = np.array([[0, 3], [1, 4], [2, 5]])\n",
    "print(a); print('-'*15)\n",
    "b = np.array([[ 6,  9], [ 7, 10], [ 8, 11]])\n",
    "print(b); print('-'*15)\n",
    "print(np.dstack([a,b]))"
   ]
  },
  {
   "cell_type": "markdown",
   "metadata": {},
   "source": [
    "###### Summary \n",
    "1. **np.hastack(a, b)**\n",
    "2. **np.vstack(a, b)**\n",
    "3. **np.dstack(a, b)**"
   ]
  },
  {
   "cell_type": "raw",
   "metadata": {},
   "source": [
    "## np.hstack(a, b)\n",
    "\n",
    "# print(a)   |    # print(b)\n",
    "[[0  3]      |    [[ 6  9]\n",
    " [1  4]      |     [ 7 10]\n",
    " [2  5]]     |     [ 8 11]]\n",
    "---------------------------------------------\n",
    "# print(np.hstack((a, b)))\n",
    "[[0 3  6  9]\n",
    " [1 4  7 10]\n",
    " [2 5  8 11]]"
   ]
  },
  {
   "cell_type": "raw",
   "metadata": {},
   "source": [
    "## np.vstack(a, b)\n",
    "\n",
    "# print(a)   |    # print(b)\n",
    "[[0  3]      |    [[ 6  9]\n",
    " [1  4]      |     [ 7 10]\n",
    " [2  5]]     |     [ 8 11]]\n",
    "---------------------------------------------\n",
    "# print(np.vstack((a, b)))\n",
    "[[ 6  9]\n",
    " [ 7 10]\n",
    " [ 8 11]\n",
    " [ 6  9]\n",
    " [ 7 10]\n",
    " [ 8 11]]"
   ]
  },
  {
   "cell_type": "raw",
   "metadata": {},
   "source": [
    "## np.dstack(a, b)\n",
    "\n",
    "# print(a)   |    # print(b)\n",
    "[[0  3]      |    [[ 6  9]\n",
    " [1  4]      |     [ 7 10]\n",
    " [2  5]]     |     [ 8 11]]\n",
    "---------------------------------------------\n",
    "# print(np.dstack((a, b)))\n",
    "[[[ 0  6]\n",
    "  [ 3  9]]\n",
    "\n",
    " [[ 1  7]\n",
    "  [ 4 10]]\n",
    "\n",
    " [[ 2  8]\n",
    "  [ 5 11]]]"
   ]
  },
  {
   "cell_type": "code",
   "execution_count": 180,
   "metadata": {},
   "outputs": [
    {
     "name": "stdout",
     "output_type": "stream",
     "text": [
      "(3, 2) (3, 2)\n"
     ]
    }
   ],
   "source": [
    "# It's easier to understand what np.vstack, np.hstack and np.dstack* do \n",
    "# by looking at the .shape attribute of the output array.\n",
    "# Using your two example arrays:\n",
    "\n",
    "print(a.shape, b.shape)\n",
    "# (3, 2) (3, 2)"
   ]
  },
  {
   "cell_type": "code",
   "execution_count": 188,
   "metadata": {},
   "outputs": [
    {
     "name": "stdout",
     "output_type": "stream",
     "text": [
      "(3, 2) (3, 2)\n",
      "(6, 2)\n",
      "(3, 4)\n",
      "(3, 2, 2)\n"
     ]
    }
   ],
   "source": [
    "# np.vstack concatenates along the first dimension...\n",
    "\n",
    "print(a.shape, b.shape)\n",
    "# (3, 2) (3, 2)\n",
    "\n",
    "print(np.vstack((a, b)).shape)\n",
    "# (6, 2)\n",
    "\n",
    "# np.hstack concatenates along the second dimension...\n",
    "print(np.hstack((a, b)).shape)\n",
    "# (3, 4)\n",
    "\n",
    "# and np.dstack concatenates along the third dimension.\n",
    "\n",
    "print(np.dstack((a, b)).shape)\n",
    "# (3, 2, 2)"
   ]
  },
  {
   "cell_type": "code",
   "execution_count": 211,
   "metadata": {},
   "outputs": [
    {
     "name": "stdout",
     "output_type": "stream",
     "text": [
      "[[0 3]\n",
      " [1 4]\n",
      " [2 5]]\n",
      "---------------\n",
      "[[[0]\n",
      "  [3]]\n",
      "\n",
      " [[1]\n",
      "  [4]]\n",
      "\n",
      " [[2]\n",
      "  [5]]]\n",
      "---------------\n",
      "(3, 2, 1)\n"
     ]
    }
   ],
   "source": [
    "# Since a and b are both two dimensional, np.dstack expands them \n",
    "# by inserting a third dimension of size 1. \n",
    "# This is equivalent to indexing them in the third \n",
    "# dimension with np.newaxis (or alternatively, None) like this:\n",
    "print(a); print('-'*15)\n",
    "print(a[:, :, np.newaxis]); print('-'*15)\n",
    "print(a[:, :, np.newaxis].shape) # (3, 2, 1): 3 arrays of 2X1"
   ]
  },
  {
   "cell_type": "markdown",
   "metadata": {},
   "source": [
    "[numpy.newaxis](https://stackoverflow.com/questions/29241056/how-does-numpy-newaxis-work-and-when-to-use-it)"
   ]
  },
  {
   "cell_type": "code",
   "execution_count": 62,
   "metadata": {},
   "outputs": [
    {
     "name": "stdout",
     "output_type": "stream",
     "text": [
      "x1:  [1 2 3 4 5]\n",
      "x2:  [5 4 3]\n",
      "\n",
      "x1_new: \n",
      " [[1]\n",
      " [2]\n",
      " [3]\n",
      " [4]\n",
      " [5]]\n",
      "\n",
      "### Broadcasting\n",
      "x1_new + x2: \n",
      " [[ 6  5  4]\n",
      " [ 7  6  5]\n",
      " [ 8  7  6]\n",
      " [ 9  8  7]\n",
      " [10  9  8]]\n"
     ]
    }
   ],
   "source": [
    "x1 = np.array([1, 2, 3, 4, 5])\n",
    "x2 = np.array([5, 4, 3])\n",
    "print(\"x1: \", x1)\n",
    "print(\"x2: \", x2)\n",
    "print()\n",
    "x1_new = x1[:, np.newaxis]    # x1[:, None]\n",
    "print(\"x1_new: \\n\", x1_new)\n",
    "print()\n",
    "print(\"### Broadcasting\")\n",
    "print(\"x1_new + x2: \\n\", x1_new + x2)"
   ]
  },
  {
   "cell_type": "code",
   "execution_count": 226,
   "metadata": {},
   "outputs": [
    {
     "name": "stdout",
     "output_type": "stream",
     "text": [
      "[0 1 2 3]\n",
      "\n",
      "[[0 1 2 3]]    (1, 4)\n",
      "\n",
      "[[0]\n",
      " [1]\n",
      " [2]\n",
      " [3]]    (4, 1)\n"
     ]
    }
   ],
   "source": [
    "# https://stackoverflow.com/questions/29241056/how-does-numpy-newaxis-work-and-when-to-use-it\n",
    "# numpy.newaxis is used to increase the dimension of the \n",
    "# existing array by one more dimension, when used once. Thus,\n",
    "# 1D array will become 2D array\n",
    "# 2D array will become 3D array\n",
    "# 3D array will become 4D array\n",
    "# and so on\n",
    "\n",
    "a = np.array([0, 1, 2, 3])\n",
    "print(a); print()\n",
    "print(a[np.newaxis, :], end='    '); print(a[np.newaxis, :].shape) \n",
    "print()\n",
    "print(a[:, np.newaxis], end='    '); print(a[:, np.newaxis].shape) "
   ]
  },
  {
   "cell_type": "code",
   "execution_count": 216,
   "metadata": {},
   "outputs": [
    {
     "name": "stdout",
     "output_type": "stream",
     "text": [
      "[[0 3]\n",
      " [1 4]\n",
      " [2 5]]\n",
      "---------------\n",
      "[[ 6  9]\n",
      " [ 7 10]\n",
      " [ 8 11]]\n",
      "---------------\n",
      "[[[ 0  6]\n",
      "  [ 3  9]]\n",
      "\n",
      " [[ 1  7]\n",
      "  [ 4 10]]\n",
      "\n",
      " [[ 2  8]\n",
      "  [ 5 11]]]\n",
      "---------------\n",
      "[[[ 0  6]\n",
      "  [ 3  9]]\n",
      "\n",
      " [[ 1  7]\n",
      "  [ 4 10]]\n",
      "\n",
      " [[ 2  8]\n",
      "  [ 5 11]]]\n"
     ]
    }
   ],
   "source": [
    "print(a); print('-'*15)\n",
    "print(b); print('-'*15)\n",
    "\n",
    "# If c = np.dstack((a, b)), then c[:, :, 0] == a and c[:, :, 1] == b.\n",
    "\n",
    "# You could do the same operation more explicitly \n",
    "# using np.concatenate like this:\n",
    "\n",
    "# Both are equivalent\n",
    "print(np.dstack((a, b))); print('-'*15)\n",
    "print(np.concatenate((a[..., None], b[..., None]), axis=2))\n",
    "# print(np.concatenate((a[..., None], b[..., None]), axis=2).shape)\n",
    "# (3, 2, 2): 3 arrays of 2X2"
   ]
  },
  {
   "cell_type": "raw",
   "metadata": {},
   "source": [
    "More clearly, the third array index now gives me the level of the plane my original 2D index is located. I still index the same way as the 2D array, but now add the level 0 or 1 in your example. So: dstack([a,b]) ; index[0][0][0] = 0; index[0][0][1] = 6. or in plane english \"get index 0,0 from level 1\" "
   ]
  },
  {
   "cell_type": "code",
   "execution_count": 99,
   "metadata": {},
   "outputs": [],
   "source": [
    "# help(np.dstack)"
   ]
  },
  {
   "cell_type": "code",
   "execution_count": 95,
   "metadata": {},
   "outputs": [
    {
     "name": "stdout",
     "output_type": "stream",
     "text": [
      "[1 2 3]\n",
      "---------------\n",
      "[2 3 4]\n",
      "---------------\n",
      "[[[1 2]\n",
      "  [2 3]\n",
      "  [3 4]]]\n"
     ]
    }
   ],
   "source": [
    "a = np.array((1,2,3))\n",
    "b = np.array((2,3,4))\n",
    "print(a); print('-'*15)\n",
    "print(b); print('-'*15)\n",
    "print(np.dstack((a,b)))"
   ]
  },
  {
   "cell_type": "code",
   "execution_count": 94,
   "metadata": {},
   "outputs": [
    {
     "name": "stdout",
     "output_type": "stream",
     "text": [
      "[[1]\n",
      " [2]\n",
      " [3]]\n",
      "---------------\n",
      "[[2]\n",
      " [3]\n",
      " [4]]\n",
      "---------------\n",
      "[[[1 2]]\n",
      "\n",
      " [[2 3]]\n",
      "\n",
      " [[3 4]]]\n"
     ]
    }
   ],
   "source": [
    "a = np.array([[1],[2],[3]])\n",
    "b = np.array([[2],[3],[4]])\n",
    "print(a); print('-'*15)\n",
    "print(b); print('-'*15)\n",
    "print(np.dstack((a,b)))"
   ]
  },
  {
   "cell_type": "markdown",
   "metadata": {},
   "source": [
    "# Skip: The End!"
   ]
  },
  {
   "cell_type": "markdown",
   "metadata": {},
   "source": [
    "### Splitting of arrays\n",
    "\n",
    "The opposite of concatenation is splitting, which is implemented by the functions **``np.split``, ``np.hsplit``, and ``np.vsplit``**.  For each of these, we can **pass a list of indices giving the split points:**"
   ]
  },
  {
   "cell_type": "code",
   "execution_count": 8,
   "metadata": {},
   "outputs": [
    {
     "name": "stdout",
     "output_type": "stream",
     "text": [
      "[1 2 3] [99 99] [3 2 1]\n"
     ]
    }
   ],
   "source": [
    "x = [1, 2, 3, 99, 99, 3, 2, 1]\n",
    "x1, x2, x3 = np.split(x, [3, 5])  # [3, 5]: indices\n",
    "print(x1, x2, x3)"
   ]
  },
  {
   "cell_type": "code",
   "execution_count": 184,
   "metadata": {},
   "outputs": [
    {
     "name": "stdout",
     "output_type": "stream",
     "text": [
      "[[0 3]\n",
      " [1 4]\n",
      " [2 5]]\n",
      "---------------\n",
      "[[[0]\n",
      "  [3]]\n",
      "\n",
      " [[1]\n",
      "  [4]]\n",
      "\n",
      " [[2]\n",
      "  [5]]]\n"
     ]
    }
   ],
   "source": [
    "print(a); print('-'*15)     # shape = (3, 2)\n",
    "print(a[:, :, np.newaxis])  # shape = (3, 2, 1), # of dim is increased"
   ]
  },
  {
   "cell_type": "markdown",
   "metadata": {},
   "source": [
    "Notice that *N* split-points, leads to *N + 1* subarrays.\n",
    "The related functions **``np.hsplit`` and ``np.vsplit``** are similar:"
   ]
  },
  {
   "cell_type": "code",
   "execution_count": 231,
   "metadata": {},
   "outputs": [
    {
     "name": "stdout",
     "output_type": "stream",
     "text": [
      "[[ 0  1  2  3]\n",
      " [ 4  5  6  7]\n",
      " [ 8  9 10 11]\n",
      " [12 13 14 15]]\n",
      "\n",
      "[[0 1 2 3]\n",
      " [4 5 6 7]]\n",
      "\n",
      "[[ 8  9 10 11]\n",
      " [12 13 14 15]]\n"
     ]
    }
   ],
   "source": [
    "grid = np.arange(16).reshape((4, 4))\n",
    "print(grid); print()\n",
    "upper, lower = np.vsplit(grid, [2])  # [2]: index\n",
    "print(upper); print()\n",
    "print(lower)"
   ]
  },
  {
   "cell_type": "code",
   "execution_count": 234,
   "metadata": {},
   "outputs": [
    {
     "name": "stdout",
     "output_type": "stream",
     "text": [
      "[[ 0  1  2  3]\n",
      " [ 4  5  6  7]\n",
      " [ 8  9 10 11]\n",
      " [12 13 14 15]]\n",
      "\n",
      "[[ 0  1]\n",
      " [ 4  5]\n",
      " [ 8  9]\n",
      " [12 13]]\n",
      "\n",
      "[[ 2  3]\n",
      " [ 6  7]\n",
      " [10 11]\n",
      " [14 15]]\n"
     ]
    }
   ],
   "source": [
    "left, right = np.hsplit(grid, [2])  # [2]: index\n",
    "print(grid); print()\n",
    "print(left); print()\n",
    "print(right)"
   ]
  },
  {
   "cell_type": "markdown",
   "metadata": {},
   "source": [
    "Similarly, **``np.dsplit``** will split arrays along the third axis."
   ]
  },
  {
   "cell_type": "markdown",
   "metadata": {},
   "source": [
    "# Skip: Starts"
   ]
  },
  {
   "cell_type": "code",
   "execution_count": 167,
   "metadata": {},
   "outputs": [],
   "source": [
    "np.dsplit?"
   ]
  },
  {
   "cell_type": "code",
   "execution_count": 244,
   "metadata": {},
   "outputs": [
    {
     "name": "stdout",
     "output_type": "stream",
     "text": [
      "[[[ 0.  1.  2.  3.]\n",
      "  [ 4.  5.  6.  7.]]\n",
      "\n",
      " [[ 8.  9. 10. 11.]\n",
      "  [12. 13. 14. 15.]]]\n"
     ]
    }
   ],
   "source": [
    "x = np.arange(16.0).reshape(2, 2, 4)  # 2 2x4\n",
    "print(x)"
   ]
  },
  {
   "cell_type": "code",
   "execution_count": 245,
   "metadata": {},
   "outputs": [
    {
     "name": "stdout",
     "output_type": "stream",
     "text": [
      "[array([[[ 0.,  1.],\n",
      "        [ 4.,  5.]],\n",
      "\n",
      "       [[ 8.,  9.],\n",
      "        [12., 13.]]]), array([[[ 2.,  3.],\n",
      "        [ 6.,  7.]],\n",
      "\n",
      "       [[10., 11.],\n",
      "        [14., 15.]]])]\n"
     ]
    }
   ],
   "source": [
    "print(np.dsplit(x, 2))  # dsplit: split along the 3rd axis"
   ]
  },
  {
   "cell_type": "code",
   "execution_count": 260,
   "metadata": {},
   "outputs": [
    {
     "name": "stdout",
     "output_type": "stream",
     "text": [
      "[array([[[ 0.,  1.,  2.],\n",
      "        [ 4.,  5.,  6.]],\n",
      "\n",
      "       [[ 8.,  9., 10.],\n",
      "        [12., 13., 14.]]]), array([[[ 3.],\n",
      "        [ 7.]],\n",
      "\n",
      "       [[11.],\n",
      "        [15.]]])]\n"
     ]
    }
   ],
   "source": [
    "print(x); print('-'*35)\n",
    "print(np.dsplit(x, np.array([3])))"
   ]
  },
  {
   "cell_type": "code",
   "execution_count": 1,
   "metadata": {},
   "outputs": [],
   "source": [
    "# print(help(np.dsplit))"
   ]
  },
  {
   "cell_type": "code",
   "execution_count": 7,
   "metadata": {},
   "outputs": [
    {
     "name": "stdout",
     "output_type": "stream",
     "text": [
      "[[[ 1  2  3  4]\n",
      "  [ 5  6  7  8]]\n",
      "\n",
      " [[ 9 10 11 12]\n",
      "  [13 14 15 16]]]\n",
      "-----------------------------------\n",
      "[array([[[ 1,  2],\n",
      "        [ 5,  6]],\n",
      "\n",
      "       [[ 9, 10],\n",
      "        [13, 14]]]), array([[[ 3,  4],\n",
      "        [ 7,  8]],\n",
      "\n",
      "       [[11, 12],\n",
      "        [15, 16]]])]\n"
     ]
    }
   ],
   "source": [
    "print(x); print('-'*35)\n",
    "print(np.dsplit(x, np.array([2])))"
   ]
  },
  {
   "cell_type": "raw",
   "metadata": {},
   "source": [
    "If indices_or_sections is a 1-D array of sorted integers, the entries indicate where along axis 2 the array is split. For example, [2, 3] would result in\n",
    "ary[:, :, :2]\n",
    "ary[:, :, 2:3]\n",
    "ary[:, :, 3:]"
   ]
  },
  {
   "cell_type": "code",
   "execution_count": 253,
   "metadata": {},
   "outputs": [
    {
     "name": "stdout",
     "output_type": "stream",
     "text": [
      "[[[ 0.  1.  2.  3.]\n",
      "  [ 4.  5.  6.  7.]]\n",
      "\n",
      " [[ 8.  9. 10. 11.]\n",
      "  [12. 13. 14. 15.]]]\n",
      "-----------------------------------\n",
      "[array([[[ 0.,  1.],\n",
      "        [ 4.,  5.]],\n",
      "\n",
      "       [[ 8.,  9.],\n",
      "        [12., 13.]]]), array([[[ 2.,  3.],\n",
      "        [ 6.,  7.]],\n",
      "\n",
      "       [[10., 11.],\n",
      "        [14., 15.]]]), array([], shape=(2, 2, 0), dtype=float64)]\n"
     ]
    }
   ],
   "source": [
    "print(x); print('-'*35)\n",
    "# np.array([2,5]): for 3rd axix or axis=2, indices 0-1, 2-4, 5:\n",
    "print(np.dsplit(x, np.array([2, 5])))\n",
    "# [:, :, :2]\n",
    "# [:, :, 2:5]\n",
    "# [:, :, 5:]"
   ]
  },
  {
   "cell_type": "code",
   "execution_count": 273,
   "metadata": {},
   "outputs": [
    {
     "name": "stdout",
     "output_type": "stream",
     "text": [
      "[[[ 1  2  3  4]\n",
      "  [ 5  6  7  8]]\n",
      "\n",
      " [[ 9 10 11 12]\n",
      "  [13 14 15 16]]]\n",
      "-----------------------------------\n",
      "[array([[[ 1,  2],\n",
      "        [ 5,  6]],\n",
      "\n",
      "       [[ 9, 10],\n",
      "        [13, 14]]]), array([[[ 3],\n",
      "        [ 7]],\n",
      "\n",
      "       [[11],\n",
      "        [15]]]), array([[[ 4],\n",
      "        [ 8]],\n",
      "\n",
      "       [[12],\n",
      "        [16]]])]\n"
     ]
    }
   ],
   "source": [
    "print(x); print('-'*35)\n",
    "# np.array([2,3]): for 3rd axix or axis=2, indices 0-1, 2, & 3:\n",
    "print(np.dsplit(x, np.array([2, 3])))"
   ]
  },
  {
   "cell_type": "code",
   "execution_count": 6,
   "metadata": {},
   "outputs": [
    {
     "name": "stdout",
     "output_type": "stream",
     "text": [
      "[[[ 1  2  3  4]\n",
      "  [ 5  6  7  8]]\n",
      "\n",
      " [[ 9 10 11 12]\n",
      "  [13 14 15 16]]]\n",
      "-----------------------------------\n",
      "[array([[[ 1],\n",
      "        [ 5]],\n",
      "\n",
      "       [[ 9],\n",
      "        [13]]]), array([[[ 2],\n",
      "        [ 6]],\n",
      "\n",
      "       [[10],\n",
      "        [14]]]), array([[[ 3,  4],\n",
      "        [ 7,  8]],\n",
      "\n",
      "       [[11, 12],\n",
      "        [15, 16]]])]\n"
     ]
    }
   ],
   "source": [
    "x = np.arange(1,17).reshape(2,2,4)\n",
    "print(x); print('-'*35)\n",
    "# np.array([1,2]): for 3rd axix or axis=2, indices 0, 1, & 2:\n",
    "print(np.dsplit(x, np.array([1,2])))  "
   ]
  },
  {
   "cell_type": "markdown",
   "metadata": {},
   "source": [
    "[dsplit() function](https://www.w3resource.com/numpy/manipulation/dsplit.php)"
   ]
  },
  {
   "cell_type": "code",
   "execution_count": 178,
   "metadata": {},
   "outputs": [],
   "source": [
    "# np.dsplit?"
   ]
  },
  {
   "cell_type": "code",
   "execution_count": 9,
   "metadata": {},
   "outputs": [
    {
     "name": "stdout",
     "output_type": "stream",
     "text": [
      "[[[ 1  2  3  4]\n",
      "  [ 5  6  7  8]]\n",
      "\n",
      " [[ 9 10 11 12]\n",
      "  [13 14 15 16]]]\n",
      "-----------------------------------\n",
      "[array([[[ 1,  2,  3],\n",
      "        [ 5,  6,  7]],\n",
      "\n",
      "       [[ 9, 10, 11],\n",
      "        [13, 14, 15]]]), array([[[ 4],\n",
      "        [ 8]],\n",
      "\n",
      "       [[12],\n",
      "        [16]]]), array([], shape=(2, 2, 0), dtype=int32)]\n"
     ]
    }
   ],
   "source": [
    "print(x); print('-'*35)\n",
    "print(np.dsplit(x, np.array([3, 6])))"
   ]
  },
  {
   "cell_type": "code",
   "execution_count": 175,
   "metadata": {},
   "outputs": [
    {
     "name": "stdout",
     "output_type": "stream",
     "text": [
      "[array([[[ 0.,  1.,  2.],\n",
      "        [ 4.,  5.,  6.]],\n",
      "\n",
      "       [[ 8.,  9., 10.],\n",
      "        [12., 13., 14.]]]), array([], shape=(2, 2, 0), dtype=float64), array([[[ 2.,  3.],\n",
      "        [ 6.,  7.]],\n",
      "\n",
      "       [[10., 11.],\n",
      "        [14., 15.]]])]\n"
     ]
    }
   ],
   "source": [
    "print(np.dsplit(x, np.array([3, 2])))"
   ]
  },
  {
   "cell_type": "markdown",
   "metadata": {},
   "source": [
    "# Skip: The End!"
   ]
  },
  {
   "cell_type": "markdown",
   "metadata": {},
   "source": [
    "<!--NAVIGATION-->\n",
    "< [Understanding Data Types in Python](02.01-Understanding-Data-Types.ipynb) | [Contents](Index.ipynb) | [Computation on NumPy Arrays: Universal Functions](02.03-Computation-on-arrays-ufuncs.ipynb) >\n",
    "\n",
    "<a href=\"https://colab.research.google.com/github/jakevdp/PythonDataScienceHandbook/blob/master/notebooks/02.02-The-Basics-Of-NumPy-Arrays.ipynb\"><img align=\"left\" src=\"https://colab.research.google.com/assets/colab-badge.svg\" alt=\"Open in Colab\" title=\"Open and Execute in Google Colaboratory\"></a>\n"
   ]
  }
 ],
 "metadata": {
  "anaconda-cloud": {},
  "kernelspec": {
   "display_name": "Python 3",
   "language": "python",
   "name": "python3"
  },
  "language_info": {
   "codemirror_mode": {
    "name": "ipython",
    "version": 3
   },
   "file_extension": ".py",
   "mimetype": "text/x-python",
   "name": "python",
   "nbconvert_exporter": "python",
   "pygments_lexer": "ipython3",
   "version": "3.7.7"
  }
 },
 "nbformat": 4,
 "nbformat_minor": 1
}
