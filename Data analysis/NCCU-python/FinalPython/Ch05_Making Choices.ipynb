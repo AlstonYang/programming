{
 "cells": [
  {
   "cell_type": "markdown",
   "metadata": {},
   "source": [
    "# Ch05_Making Choices"
   ]
  },
  {
   "cell_type": "code",
   "execution_count": null,
   "metadata": {},
   "outputs": [],
   "source": [
    "Q. CH4第九題:\n",
    "def total_length(s1, s2):\n",
    "    \t\treturn the sum of the lengths of s1 and s2\n",
    " \n",
    "CH4第八題\n",
    "def repeat(str, int):\n",
    "    \t\tif int < 0:\n",
    "return the empty string\n",
    "    \t\telse:\n",
    "return repeat s n times\n",
    "會跑出SyntaxError: invalid syntax，不好意思請問要怎麼定義？"
   ]
  },
  {
   "cell_type": "code",
   "execution_count": 1,
   "metadata": {},
   "outputs": [
    {
     "data": {
      "text/plain": [
       "'ababababab'"
      ]
     },
     "execution_count": 1,
     "metadata": {},
     "output_type": "execute_result"
    }
   ],
   "source": [
    "# Ch 4, Exercise 8\n",
    "def repeat(str, int):\n",
    "    if int < 0:\n",
    "        print('')\n",
    "    else:\n",
    "        return str*int\n",
    "repeat('ab', 5)"
   ]
  },
  {
   "cell_type": "code",
   "execution_count": 2,
   "metadata": {},
   "outputs": [
    {
     "data": {
      "text/plain": [
       "7"
      ]
     },
     "execution_count": 2,
     "metadata": {},
     "output_type": "execute_result"
    }
   ],
   "source": [
    "# Ch 4, Exercise 9\n",
    "def total_length(s1, s2):\n",
    "    return len(s1)+len(s2)\n",
    "total_length('abc', 'defg')"
   ]
  },
  {
   "cell_type": "markdown",
   "metadata": {},
   "source": [
    "## A Boolean Type, p. 77\n",
    "1. The bool type is named after George Boole, a mathematician in 19th century \n",
    "2. **bool type** has only **two values and three operators**\n",
    "3. bool has **two values: True and False**. True and False are values\n",
    "4. **three** basic Boolean **operators: and, or, and not**\n",
    "5. precedence: **not >> and >> or**\n",
    "6. [**and**](https://en.wikipedia.org/wiki/Logical_conjunction)\n",
    "7. [**or**](https://en.wikipedia.org/wiki/Logical_disjunction)\n",
    "8. [**Exclusive OR**](https://en.wikipedia.org/wiki/Exclusive_or)"
   ]
  },
  {
   "cell_type": "markdown",
   "metadata": {},
   "source": [
    "### Boolean Operators, p. 78\n",
    "1. **three basic Boolean operators: not, and, and or** \n",
    "2. **precedence: not >> and >> or**"
   ]
  },
  {
   "cell_type": "raw",
   "metadata": {},
   "source": [
    "Truth Tables for 3 operator (not, and, and or) \n",
    "http://pages.mtu.edu/~shene/COURSES/cs201/NOTES/chap03/logical.html\n",
    "\n",
    "(A) Truth table of not operator: \n",
    "    Operand        Result\n",
    "    not True       False\n",
    "    not False      True\n",
    "\n",
    "(B) Truth table of and operator: \n",
    "\tand    True\t  False\n",
    "    True   True   False\n",
    "    False  False  False\n",
    "\n",
    "(C) Truth table of or operator: \n",
    "    or     True   False\n",
    "    True   True   True \n",
    "    False  True\t  False"
   ]
  },
  {
   "cell_type": "markdown",
   "metadata": {},
   "source": [
    "###### not is a unary operator: it is applied to just one value, p. 78"
   ]
  },
  {
   "cell_type": "code",
   "execution_count": 1,
   "metadata": {
    "scrolled": true
   },
   "outputs": [
    {
     "data": {
      "text/plain": [
       "False"
      ]
     },
     "execution_count": 1,
     "metadata": {},
     "output_type": "execute_result"
    }
   ],
   "source": [
    "not True"
   ]
  },
  {
   "cell_type": "code",
   "execution_count": 2,
   "metadata": {},
   "outputs": [
    {
     "data": {
      "text/plain": [
       "True"
      ]
     },
     "execution_count": 2,
     "metadata": {},
     "output_type": "execute_result"
    }
   ],
   "source": [
    "not False"
   ]
  },
  {
   "cell_type": "markdown",
   "metadata": {},
   "source": [
    "###### and is a binary operator, p. 78"
   ]
  },
  {
   "cell_type": "code",
   "execution_count": 3,
   "metadata": {},
   "outputs": [
    {
     "data": {
      "text/plain": [
       "True"
      ]
     },
     "execution_count": 3,
     "metadata": {},
     "output_type": "execute_result"
    }
   ],
   "source": [
    "True and True"
   ]
  },
  {
   "cell_type": "code",
   "execution_count": 3,
   "metadata": {},
   "outputs": [
    {
     "data": {
      "text/plain": [
       "False"
      ]
     },
     "execution_count": 3,
     "metadata": {},
     "output_type": "execute_result"
    }
   ],
   "source": [
    "False and False"
   ]
  },
  {
   "cell_type": "code",
   "execution_count": 5,
   "metadata": {},
   "outputs": [
    {
     "data": {
      "text/plain": [
       "False"
      ]
     },
     "execution_count": 5,
     "metadata": {},
     "output_type": "execute_result"
    }
   ],
   "source": [
    "True and False"
   ]
  },
  {
   "cell_type": "code",
   "execution_count": 6,
   "metadata": {},
   "outputs": [
    {
     "data": {
      "text/plain": [
       "False"
      ]
     },
     "execution_count": 6,
     "metadata": {},
     "output_type": "execute_result"
    }
   ],
   "source": [
    "False and True"
   ]
  },
  {
   "cell_type": "markdown",
   "metadata": {},
   "source": [
    "###### or is also a binary operator, p. 78\n",
    "1. It produces True if either operand is True, and it produces False only if both are False\n",
    "2. This definition is called inclusive or, since it allows both possibilities as well as either."
   ]
  },
  {
   "cell_type": "code",
   "execution_count": 7,
   "metadata": {},
   "outputs": [
    {
     "data": {
      "text/plain": [
       "True"
      ]
     },
     "execution_count": 7,
     "metadata": {},
     "output_type": "execute_result"
    }
   ],
   "source": [
    "True or True"
   ]
  },
  {
   "cell_type": "code",
   "execution_count": 8,
   "metadata": {},
   "outputs": [
    {
     "data": {
      "text/plain": [
       "False"
      ]
     },
     "execution_count": 8,
     "metadata": {},
     "output_type": "execute_result"
    }
   ],
   "source": [
    "False or False"
   ]
  },
  {
   "cell_type": "code",
   "execution_count": 9,
   "metadata": {},
   "outputs": [
    {
     "data": {
      "text/plain": [
       "True"
      ]
     },
     "execution_count": 9,
     "metadata": {},
     "output_type": "execute_result"
    }
   ],
   "source": [
    "True or False"
   ]
  },
  {
   "cell_type": "code",
   "execution_count": 10,
   "metadata": {},
   "outputs": [
    {
     "data": {
      "text/plain": [
       "True"
      ]
     },
     "execution_count": 10,
     "metadata": {},
     "output_type": "execute_result"
    }
   ],
   "source": [
    "False or True"
   ]
  },
  {
   "cell_type": "code",
   "execution_count": 2,
   "metadata": {},
   "outputs": [
    {
     "name": "stdout",
     "output_type": "stream",
     "text": [
      "0\n",
      "False\n"
     ]
    }
   ],
   "source": [
    "x = []\n",
    "print(len(x))\n",
    "print(bool(x))"
   ]
  },
  {
   "cell_type": "code",
   "execution_count": 3,
   "metadata": {},
   "outputs": [
    {
     "name": "stdout",
     "output_type": "stream",
     "text": [
      "0\n",
      "False\n"
     ]
    }
   ],
   "source": [
    "x = ''\n",
    "print(len(x))\n",
    "print(bool(x))"
   ]
  },
  {
   "cell_type": "code",
   "execution_count": 8,
   "metadata": {},
   "outputs": [
    {
     "name": "stdout",
     "output_type": "stream",
     "text": [
      "bool([]):           False\n",
      "bool([\"a value\"]):  True\n",
      "bool(\"\"):           False\n",
      "bool(\"A string\"):   True\n",
      "bool(True):         True\n",
      "bool(False):        False\n",
      "bool(0):            False\n",
      "bool(None):         False\n",
      "bool(0.0):          False\n",
      "bool(0):            False\n",
      "bool(1):            True\n",
      "bool(1.02):         True\n"
     ]
    }
   ],
   "source": [
    "# Python bool(): How bool() works?\n",
    "# The bool() method converts a value to Boolean (True or False).\n",
    "# https://stackoverflow.com/questions/1748641/how-do-i-use-a-boolean-in-python\n",
    "# https://www.programiz.com/python-programming/methods/built-in/bool\n",
    "print('bool([]):          ', bool([]))\n",
    "print('bool([\"a value\"]): ', bool(['a value']))\n",
    "print('bool(\"\"):          ', bool(''))\n",
    "print('bool(\"A string\"):  ', bool('A string'))\n",
    "print('bool(True):        ', bool(True))  \n",
    "print('bool(False):       ', bool(False))\n",
    "print('bool(0):           ', bool(0))\n",
    "print('bool(None):        ', bool(None))\n",
    "print('bool(0.0):         ', bool(0.0))\n",
    "print('bool(0):           ', bool(0.0))\n",
    "print('bool(1):           ', bool(1))\n",
    "print('bool(1.02):        ', bool(1.02))"
   ]
  },
  {
   "cell_type": "markdown",
   "metadata": {},
   "source": [
    "### Building an 'Exclusive or' Expression, p. 79\n",
    "+ Suppose you have two Boolean variables, b1 and b2.\n",
    "+ [Exclusive OR](https://en.wikipedia.org/wiki/Exclusive_or): both below are the same\n",
    "    1. **(b1 or b2) and not (b1 and b2)**\n",
    "    2. **(b1 and not b2) or (b2 and not b1)**"
   ]
  },
  {
   "cell_type": "code",
   "execution_count": null,
   "metadata": {},
   "outputs": [],
   "source": [
    "# Exclusive or: method 1\n",
    "A = False\n",
    "B = False\n",
    "(A or B) and not (A and B)"
   ]
  },
  {
   "cell_type": "code",
   "execution_count": null,
   "metadata": {},
   "outputs": [],
   "source": [
    "# Exclusive or: method 2\n",
    "A = False\n",
    "B = False\n",
    "(A and not B) or (B and not A)"
   ]
  },
  {
   "cell_type": "code",
   "execution_count": 10,
   "metadata": {},
   "outputs": [
    {
     "data": {
      "text/plain": [
       "True"
      ]
     },
     "execution_count": 10,
     "metadata": {},
     "output_type": "execute_result"
    }
   ],
   "source": [
    "# Exclusive or: method 3\n",
    "# Exclusive or can simply be written as: b1 != b2\n",
    "A = True\n",
    "B = False\n",
    "A != B"
   ]
  },
  {
   "cell_type": "code",
   "execution_count": 66,
   "metadata": {
    "scrolled": true
   },
   "outputs": [
    {
     "data": {
      "text/plain": [
       "False"
      ]
     },
     "execution_count": 66,
     "metadata": {},
     "output_type": "execute_result"
    }
   ],
   "source": [
    "# 1. Exclusive OR: (b1 and b2) and not (b1 and b2)\n",
    "b1  =  False\n",
    "b2  =  False\n",
    "(b1 or b2) and not (b1 and b2)"
   ]
  },
  {
   "cell_type": "code",
   "execution_count": 62,
   "metadata": {
    "scrolled": true
   },
   "outputs": [
    {
     "data": {
      "text/plain": [
       "False"
      ]
     },
     "execution_count": 62,
     "metadata": {},
     "output_type": "execute_result"
    }
   ],
   "source": [
    "# 2. Exclusive OR: (b1 and not b2) or (b2 and not b1)\n",
    "b1  =  False\n",
    "b2  =  False\n",
    "(b1 and not b2) or (b2 and not b1)"
   ]
  },
  {
   "cell_type": "code",
   "execution_count": 65,
   "metadata": {},
   "outputs": [
    {
     "data": {
      "text/plain": [
       "True"
      ]
     },
     "execution_count": 65,
     "metadata": {},
     "output_type": "execute_result"
    }
   ],
   "source": [
    "# 1. Exclusive OR: (b1 or b2) and not (b1 and b2)\n",
    "b1  =  False\n",
    "b2  =  True\n",
    "(b1 or b2) and not (b1 and b2)"
   ]
  },
  {
   "cell_type": "code",
   "execution_count": 64,
   "metadata": {},
   "outputs": [
    {
     "data": {
      "text/plain": [
       "True"
      ]
     },
     "execution_count": 64,
     "metadata": {},
     "output_type": "execute_result"
    }
   ],
   "source": [
    "# 2. Exclusive OR: (b1 and not b2) or (b2 and not b1)\n",
    "b1  =  False\n",
    "b2  =  True\n",
    "(b1 and not b2) or (b2 and not b1)"
   ]
  },
  {
   "cell_type": "code",
   "execution_count": 67,
   "metadata": {},
   "outputs": [
    {
     "data": {
      "text/plain": [
       "True"
      ]
     },
     "execution_count": 67,
     "metadata": {},
     "output_type": "execute_result"
    }
   ],
   "source": [
    "# 1. Exclusive OR: (b1 or b2) and not (b1 and b2)\n",
    "b1  =  True\n",
    "b2  =  False\n",
    "(b1 or b2) and not (b1 and b2)"
   ]
  },
  {
   "cell_type": "code",
   "execution_count": 68,
   "metadata": {},
   "outputs": [
    {
     "data": {
      "text/plain": [
       "True"
      ]
     },
     "execution_count": 68,
     "metadata": {},
     "output_type": "execute_result"
    }
   ],
   "source": [
    "# 2. Exclusive OR: (b1 and not b2) or (b2 and not b1)\n",
    "b1  =  True\n",
    "b2  =  False\n",
    "(b1 and not b2) or (b2 and not b1)"
   ]
  },
  {
   "cell_type": "code",
   "execution_count": 70,
   "metadata": {},
   "outputs": [
    {
     "data": {
      "text/plain": [
       "False"
      ]
     },
     "execution_count": 70,
     "metadata": {},
     "output_type": "execute_result"
    }
   ],
   "source": [
    "# 1. Exclusive OR: (b1 or b2) and not (b1 and b2)\n",
    "b1  =  True\n",
    "b2  =  True\n",
    "(b1 or b2) and not (b1 and b2)"
   ]
  },
  {
   "cell_type": "code",
   "execution_count": 71,
   "metadata": {},
   "outputs": [
    {
     "data": {
      "text/plain": [
       "False"
      ]
     },
     "execution_count": 71,
     "metadata": {},
     "output_type": "execute_result"
    }
   ],
   "source": [
    "# 2. Exclusive OR: (b1 and not b2) or (b2 and not b1)\n",
    "b1  =  True\n",
    "b2  =  True\n",
    "(b1 and not b2) or (b2 and not b1)"
   ]
  },
  {
   "cell_type": "raw",
   "metadata": {},
   "source": [
    "To express “It is not cold and windy” using two variables, cold and windy, we have to decide what it means: is it not cold but at the same time windy, or is it both not cold and not windy?"
   ]
  },
  {
   "cell_type": "code",
   "execution_count": 15,
   "metadata": {},
   "outputs": [
    {
     "data": {
      "text/plain": [
       "False"
      ]
     },
     "execution_count": 15,
     "metadata": {},
     "output_type": "execute_result"
    }
   ],
   "source": [
    "cold = True\n",
    "windy = False\n",
    "(not cold) and windy"
   ]
  },
  {
   "cell_type": "code",
   "execution_count": 16,
   "metadata": {},
   "outputs": [
    {
     "data": {
      "text/plain": [
       "True"
      ]
     },
     "execution_count": 16,
     "metadata": {},
     "output_type": "execute_result"
    }
   ],
   "source": [
    "not (cold and windy)"
   ]
  },
  {
   "cell_type": "raw",
   "metadata": {},
   "source": [
    "Table 5—Boolean Operators, p. 80\n",
    "\n",
    "cold    windy   cold and   cold or    (not cold)    not \n",
    "                windy      windy      and windy     (cold and windy)\n",
    "True    True    True       True       False         False\n",
    "True    False   False      True       False         True\n",
    "False   True    False      True       True          True\n",
    "False   False   False      False      False         True"
   ]
  },
  {
   "cell_type": "markdown",
   "metadata": {},
   "source": [
    "### Boolean Operators in Other Languages, p. 80\n",
    "+ For C or Java:\n",
    "    1. &&: and\n",
    "    2. ||: or\n",
    "    3. ! : not"
   ]
  },
  {
   "cell_type": "markdown",
   "metadata": {},
   "source": [
    "### Relational Operators, p. 80"
   ]
  },
  {
   "cell_type": "raw",
   "metadata": {},
   "source": [
    "Table 6—Relational and Equality Operators\n",
    "\n",
    "Symbol    Operation\n",
    "--------------------------------------------\n",
    "  >       Greater than\n",
    "\n",
    "  <       Less than\n",
    "\n",
    "  >=      Greater than or equal to\n",
    "  \n",
    "  <=      Less than or equal to\n",
    "  \n",
    "  ==      Equal to\n",
    "  \n",
    "  !=      Not equal to"
   ]
  },
  {
   "cell_type": "code",
   "execution_count": 17,
   "metadata": {},
   "outputs": [
    {
     "data": {
      "text/plain": [
       "True"
      ]
     },
     "execution_count": 17,
     "metadata": {},
     "output_type": "execute_result"
    }
   ],
   "source": [
    "45 > 34"
   ]
  },
  {
   "cell_type": "code",
   "execution_count": 18,
   "metadata": {},
   "outputs": [
    {
     "data": {
      "text/plain": [
       "False"
      ]
     },
     "execution_count": 18,
     "metadata": {},
     "output_type": "execute_result"
    }
   ],
   "source": [
    "23.1 <= 23"
   ]
  },
  {
   "cell_type": "code",
   "execution_count": 19,
   "metadata": {},
   "outputs": [
    {
     "data": {
      "text/plain": [
       "False"
      ]
     },
     "execution_count": 19,
     "metadata": {},
     "output_type": "execute_result"
    }
   ],
   "source": [
    "67.3 == 87"
   ]
  },
  {
   "cell_type": "markdown",
   "metadata": {},
   "source": [
    "###### Relational operators almost always involve variables"
   ]
  },
  {
   "cell_type": "code",
   "execution_count": 4,
   "metadata": {},
   "outputs": [],
   "source": [
    "def is_positive(x: float) -> bool:\n",
    "    \"\"\"Return True iff x is positive.    # “iff” stands for “if and only if”\n",
    "\n",
    "    >>> is_positive(3)\n",
    "    True\n",
    "    >>> is_positive(-4.6)\n",
    "    False\n",
    "    \"\"\"\n",
    "    return x > 0"
   ]
  },
  {
   "cell_type": "code",
   "execution_count": 5,
   "metadata": {},
   "outputs": [
    {
     "data": {
      "text/plain": [
       "True"
      ]
     },
     "execution_count": 5,
     "metadata": {},
     "output_type": "execute_result"
    }
   ],
   "source": [
    "is_positive(3)"
   ]
  },
  {
   "cell_type": "code",
   "execution_count": 6,
   "metadata": {},
   "outputs": [],
   "source": [
    "def is_positive(x):\n",
    "    return x > 0"
   ]
  },
  {
   "cell_type": "code",
   "execution_count": 7,
   "metadata": {},
   "outputs": [
    {
     "data": {
      "text/plain": [
       "False"
      ]
     },
     "execution_count": 7,
     "metadata": {},
     "output_type": "execute_result"
    }
   ],
   "source": [
    "is_positive(0)"
   ]
  },
  {
   "cell_type": "markdown",
   "metadata": {},
   "source": [
    "###### \"Exclusive or\" expression\n",
    "1. [Exclusive OR](https://en.wikipedia.org/wiki/Exclusive_or)\n",
    "1. **Exclusive or** means that exactly one of b1 and b2 has to be True. If b1 is True, b2 can’t be, and vice versa.\n",
    "2. **Exclusive or** can simply be written as: **b1 != b2**"
   ]
  },
  {
   "cell_type": "markdown",
   "metadata": {},
   "source": [
    "### Combining Comparisons, p. 82\n",
    "+ We have seen three types of operators: \n",
    "    1. arithmetic: +, -, and so on\n",
    "    2. relational: <, ==, and so on\n",
    "    3. Boolean: not, and, and or"
   ]
  },
  {
   "cell_type": "markdown",
   "metadata": {},
   "source": [
    "###### Rules for combining arithmetic, Boolean, and relational operators, p. 82\n",
    "+ __Arithmetic operators >> Relational operators >> Boolean operators__\n",
    "    1. Arithmetic operators have higher precedence than relational operators. For example, + and / are evaluated before < or >.\n",
    "    2. Relational operators have higher precedence than Boolean operators. For example, comparisons are evaluated before not, and, and or.\n",
    "    3. All relational operators have the same precedence."
   ]
  },
  {
   "cell_type": "code",
   "execution_count": 20,
   "metadata": {},
   "outputs": [
    {
     "data": {
      "text/plain": [
       "True"
      ]
     },
     "execution_count": 20,
     "metadata": {},
     "output_type": "execute_result"
    }
   ],
   "source": [
    "x = 2\n",
    "y = 5\n",
    "z = 7\n",
    "x < y and y < z"
   ]
  },
  {
   "cell_type": "code",
   "execution_count": 21,
   "metadata": {},
   "outputs": [
    {
     "data": {
      "text/plain": [
       "True"
      ]
     },
     "execution_count": 21,
     "metadata": {},
     "output_type": "execute_result"
    }
   ],
   "source": [
    "# Equivalently,\n",
    "(x < y) and (y < z)"
   ]
  },
  {
   "cell_type": "markdown",
   "metadata": {},
   "source": [
    "###### Python lets you chain the comparisons"
   ]
  },
  {
   "cell_type": "code",
   "execution_count": 24,
   "metadata": {},
   "outputs": [
    {
     "data": {
      "text/plain": [
       "True"
      ]
     },
     "execution_count": 24,
     "metadata": {},
     "output_type": "execute_result"
    }
   ],
   "source": [
    "# Without chaining comparisons\n",
    "x = 3\n",
    "(1 < x) and (x <= 5)"
   ]
  },
  {
   "cell_type": "code",
   "execution_count": 22,
   "metadata": {},
   "outputs": [
    {
     "data": {
      "text/plain": [
       "True"
      ]
     },
     "execution_count": 22,
     "metadata": {},
     "output_type": "execute_result"
    }
   ],
   "source": [
    "# Chaining comparisons\n",
    "x = 3\n",
    "1 < x <= 5"
   ]
  },
  {
   "cell_type": "markdown",
   "metadata": {},
   "source": [
    "###### Bad comparison expressions, p. 83\n",
    "###### Keep your code readable (Avoid case 1 and case 2 expressions)"
   ]
  },
  {
   "cell_type": "code",
   "execution_count": 3,
   "metadata": {},
   "outputs": [
    {
     "name": "stdout",
     "output_type": "stream",
     "text": [
      "True\n",
      "True\n"
     ]
    }
   ],
   "source": [
    "# Chain comparison\n",
    "# Why they are the same? See cells below for clarification!\n",
    "#  (confusing, avoid it!)\n",
    "\n",
    "print(3 < 5 != True)    # case 1\n",
    "print(3 < 5 != False)   # case 2"
   ]
  },
  {
   "cell_type": "code",
   "execution_count": 10,
   "metadata": {},
   "outputs": [
    {
     "data": {
      "text/plain": [
       "True"
      ]
     },
     "execution_count": 10,
     "metadata": {},
     "output_type": "execute_result"
    }
   ],
   "source": [
    "# Case 1: legal but not readable (confusing, avoid it!)\n",
    "3 < 5 != True"
   ]
  },
  {
   "cell_type": "code",
   "execution_count": 4,
   "metadata": {},
   "outputs": [
    {
     "data": {
      "text/plain": [
       "True"
      ]
     },
     "execution_count": 4,
     "metadata": {},
     "output_type": "execute_result"
    }
   ],
   "source": [
    "# Case 1 Equivalent & Reaable\n",
    "(3 < 5) and (5 != True)"
   ]
  },
  {
   "cell_type": "code",
   "execution_count": 1,
   "metadata": {},
   "outputs": [
    {
     "data": {
      "text/plain": [
       "True"
      ]
     },
     "execution_count": 1,
     "metadata": {},
     "output_type": "execute_result"
    }
   ],
   "source": [
    "# Case 2: legal but not readable (confusing, avoid it!)\n",
    "3 < 5 != False"
   ]
  },
  {
   "cell_type": "code",
   "execution_count": 26,
   "metadata": {},
   "outputs": [
    {
     "data": {
      "text/plain": [
       "True"
      ]
     },
     "execution_count": 26,
     "metadata": {},
     "output_type": "execute_result"
    }
   ],
   "source": [
    "# Case 2 Equivalent & Reaable\n",
    "(3 < 5) and (5 != False)"
   ]
  },
  {
   "cell_type": "code",
   "execution_count": 8,
   "metadata": {},
   "outputs": [
    {
     "data": {
      "text/plain": [
       "False"
      ]
     },
     "execution_count": 8,
     "metadata": {},
     "output_type": "execute_result"
    }
   ],
   "source": [
    "4 != 4.0"
   ]
  },
  {
   "cell_type": "code",
   "execution_count": 6,
   "metadata": {},
   "outputs": [
    {
     "data": {
      "text/plain": [
       "True"
      ]
     },
     "execution_count": 6,
     "metadata": {},
     "output_type": "execute_result"
    }
   ],
   "source": [
    "5 != True"
   ]
  },
  {
   "cell_type": "code",
   "execution_count": 8,
   "metadata": {},
   "outputs": [
    {
     "data": {
      "text/plain": [
       "False"
      ]
     },
     "execution_count": 8,
     "metadata": {},
     "output_type": "execute_result"
    }
   ],
   "source": [
    "bool(5) != True"
   ]
  },
  {
   "cell_type": "markdown",
   "metadata": {},
   "source": [
    "### Using Numbers and Strings with Boolean Operators, p. 84"
   ]
  },
  {
   "cell_type": "markdown",
   "metadata": {},
   "source": [
    "###### Python treats 0 and 0.0 as False and treats all other numbers as True, p. 84"
   ]
  },
  {
   "cell_type": "code",
   "execution_count": 30,
   "metadata": {},
   "outputs": [
    {
     "data": {
      "text/plain": [
       "True"
      ]
     },
     "execution_count": 30,
     "metadata": {},
     "output_type": "execute_result"
    }
   ],
   "source": [
    "# Python treats 0 and 0.0 as False \n",
    "not 0"
   ]
  },
  {
   "cell_type": "code",
   "execution_count": 9,
   "metadata": {},
   "outputs": [
    {
     "data": {
      "text/plain": [
       "False"
      ]
     },
     "execution_count": 9,
     "metadata": {},
     "output_type": "execute_result"
    }
   ],
   "source": [
    "# Python treats all numbers other than 0 or 0.0 as True\n",
    "not -1"
   ]
  },
  {
   "cell_type": "code",
   "execution_count": 32,
   "metadata": {},
   "outputs": [
    {
     "data": {
      "text/plain": [
       "False"
      ]
     },
     "execution_count": 32,
     "metadata": {},
     "output_type": "execute_result"
    }
   ],
   "source": [
    "not 34.2"
   ]
  },
  {
   "cell_type": "code",
   "execution_count": 33,
   "metadata": {},
   "outputs": [
    {
     "data": {
      "text/plain": [
       "False"
      ]
     },
     "execution_count": 33,
     "metadata": {},
     "output_type": "execute_result"
    }
   ],
   "source": [
    "not -87"
   ]
  },
  {
   "cell_type": "markdown",
   "metadata": {},
   "source": [
    "###### The empty string is treated as False and all other strings are treated as True, p. 84"
   ]
  },
  {
   "cell_type": "code",
   "execution_count": 11,
   "metadata": {},
   "outputs": [
    {
     "data": {
      "text/plain": [
       "True"
      ]
     },
     "execution_count": 11,
     "metadata": {},
     "output_type": "execute_result"
    }
   ],
   "source": [
    "# Python treats empty string as False\n",
    "not ''"
   ]
  },
  {
   "cell_type": "code",
   "execution_count": 10,
   "metadata": {},
   "outputs": [
    {
     "data": {
      "text/plain": [
       "False"
      ]
     },
     "execution_count": 10,
     "metadata": {},
     "output_type": "execute_result"
    }
   ],
   "source": [
    "# Python treats any strings other than empty string as True\n",
    "not 'bad'"
   ]
  },
  {
   "cell_type": "code",
   "execution_count": 16,
   "metadata": {},
   "outputs": [
    {
     "data": {
      "text/plain": [
       "False"
      ]
     },
     "execution_count": 16,
     "metadata": {},
     "output_type": "execute_result"
    }
   ],
   "source": [
    "# Python treats empty list as False\n",
    "bool([])"
   ]
  },
  {
   "cell_type": "code",
   "execution_count": 18,
   "metadata": {},
   "outputs": [
    {
     "data": {
      "text/plain": [
       "True"
      ]
     },
     "execution_count": 18,
     "metadata": {},
     "output_type": "execute_result"
    }
   ],
   "source": [
    "# Python treats any non-empty lists as True\n",
    "bool([8])"
   ]
  },
  {
   "cell_type": "code",
   "execution_count": 17,
   "metadata": {},
   "outputs": [
    {
     "data": {
      "text/plain": [
       "False"
      ]
     },
     "execution_count": 17,
     "metadata": {},
     "output_type": "execute_result"
    }
   ],
   "source": [
    "# Python treats empty string as False\n",
    "bool('')"
   ]
  },
  {
   "cell_type": "code",
   "execution_count": 12,
   "metadata": {},
   "outputs": [
    {
     "data": {
      "text/plain": [
       "True"
      ]
     },
     "execution_count": 12,
     "metadata": {},
     "output_type": "execute_result"
    }
   ],
   "source": [
    "# Python treats any non-empty strings as True\n",
    "bool('8')"
   ]
  },
  {
   "cell_type": "markdown",
   "metadata": {},
   "source": [
    "### Short-Circuit Evaluation, p. 84\n",
    "+ When Python evaluates an expression containing and or or, it does so from left to right. As soon as it knows enough to stop evaluating, it stops, even if some operands haven’t been looked at yet. This is called **short-circuit evaluation**.\n",
    "\n",
    "+ In an **or** expression, **if the first operand is True, the expression is True**. Python won’t evaluate the second operand. Similarly, in an **and** expression, **if the first operand is False, the expression is False**. Python won't evaluate the second operand."
   ]
  },
  {
   "cell_type": "code",
   "execution_count": 1,
   "metadata": {},
   "outputs": [
    {
     "ename": "ZeroDivisionError",
     "evalue": "division by zero",
     "output_type": "error",
     "traceback": [
      "\u001b[1;31m---------------------------------------------------------------------------\u001b[0m",
      "\u001b[1;31mZeroDivisionError\u001b[0m                         Traceback (most recent call last)",
      "\u001b[1;32m<ipython-input-1-9e1622b385b6>\u001b[0m in \u001b[0;36m<module>\u001b[1;34m\u001b[0m\n\u001b[1;32m----> 1\u001b[1;33m \u001b[1;36m1\u001b[0m\u001b[1;33m/\u001b[0m\u001b[1;36m0\u001b[0m\u001b[1;33m\u001b[0m\u001b[1;33m\u001b[0m\u001b[0m\n\u001b[0m",
      "\u001b[1;31mZeroDivisionError\u001b[0m: division by zero"
     ]
    }
   ],
   "source": [
    "1/0"
   ]
  },
  {
   "cell_type": "code",
   "execution_count": 27,
   "metadata": {},
   "outputs": [
    {
     "data": {
      "text/plain": [
       "True"
      ]
     },
     "execution_count": 27,
     "metadata": {},
     "output_type": "execute_result"
    }
   ],
   "source": [
    "# But this expression gets True, not Error\n",
    "# Since (2 < 3) is True, Python won't evaluate the 2nd operand, (1 / 0)\n",
    "(2 < 3) or (1 / 0)   "
   ]
  },
  {
   "cell_type": "markdown",
   "metadata": {},
   "source": [
    "### Comparing Strings, p. 85\n",
    "1. Dictionary ordering or lexicographic ordering: Comparing two strings to decide which one comes first alphabetically.\n",
    "2. In ASCII (American Standard Code for Information Interchange) code, characters in strings are represented by integers: \n",
    "    + A: 65\n",
    "    + a space: 32\n",
    "    + z: 122\n",
    "3. Z < a: All the uppercase letters come before all the lowercase letters, so a capital Z is less than a small a.\n",
    "4. ASCII: https://en.wikipedia.org/wiki/ASCII"
   ]
  },
  {
   "cell_type": "code",
   "execution_count": 12,
   "metadata": {},
   "outputs": [
    {
     "data": {
      "text/plain": [
       "True"
      ]
     },
     "execution_count": 12,
     "metadata": {},
     "output_type": "execute_result"
    }
   ],
   "source": [
    "'A' < 'a'"
   ]
  },
  {
   "cell_type": "code",
   "execution_count": 38,
   "metadata": {},
   "outputs": [
    {
     "data": {
      "text/plain": [
       "False"
      ]
     },
     "execution_count": 38,
     "metadata": {},
     "output_type": "execute_result"
    }
   ],
   "source": [
    "'A' > 'z'"
   ]
  },
  {
   "cell_type": "code",
   "execution_count": 28,
   "metadata": {},
   "outputs": [
    {
     "data": {
      "text/plain": [
       "True"
      ]
     },
     "execution_count": 28,
     "metadata": {},
     "output_type": "execute_result"
    }
   ],
   "source": [
    "'abc' < 'abd'"
   ]
  },
  {
   "cell_type": "code",
   "execution_count": 40,
   "metadata": {},
   "outputs": [
    {
     "data": {
      "text/plain": [
       "True"
      ]
     },
     "execution_count": 40,
     "metadata": {},
     "output_type": "execute_result"
    }
   ],
   "source": [
    "'abc' <  'abcd'"
   ]
  },
  {
   "cell_type": "markdown",
   "metadata": {},
   "source": [
    "###### \"in\" operator checks whether one string appears inside another one"
   ]
  },
  {
   "cell_type": "code",
   "execution_count": 13,
   "metadata": {},
   "outputs": [
    {
     "data": {
      "text/plain": [
       "True"
      ]
     },
     "execution_count": 13,
     "metadata": {},
     "output_type": "execute_result"
    }
   ],
   "source": [
    "'Jan' in '01 Jan 1838'"
   ]
  },
  {
   "cell_type": "code",
   "execution_count": 14,
   "metadata": {},
   "outputs": [
    {
     "data": {
      "text/plain": [
       "False"
      ]
     },
     "execution_count": 14,
     "metadata": {},
     "output_type": "execute_result"
    }
   ],
   "source": [
    "'Feb' in '01 Jan 1838'"
   ]
  },
  {
   "cell_type": "code",
   "execution_count": 15,
   "metadata": {
    "scrolled": true
   },
   "outputs": [
    {
     "name": "stdout",
     "output_type": "stream",
     "text": [
      "7\n",
      "7\n"
     ]
    }
   ],
   "source": [
    "x = input()\n",
    "print(x)"
   ]
  },
  {
   "cell_type": "code",
   "execution_count": 1,
   "metadata": {},
   "outputs": [
    {
     "name": "stdout",
     "output_type": "stream",
     "text": [
      "Enter a date in the format DD MTH YYYY: 14 Dec 1987\n"
     ]
    }
   ],
   "source": [
    "date = input('Enter a date in the format DD MTH YYYY: ')"
   ]
  },
  {
   "cell_type": "code",
   "execution_count": 2,
   "metadata": {},
   "outputs": [
    {
     "data": {
      "text/plain": [
       "False"
      ]
     },
     "execution_count": 2,
     "metadata": {},
     "output_type": "execute_result"
    }
   ],
   "source": [
    "'Jan' in date"
   ]
  },
  {
   "cell_type": "code",
   "execution_count": 3,
   "metadata": {},
   "outputs": [
    {
     "data": {
      "text/plain": [
       "True"
      ]
     },
     "execution_count": 3,
     "metadata": {},
     "output_type": "execute_result"
    }
   ],
   "source": [
    "# case sensitive\n",
    "'a' in 'abc'"
   ]
  },
  {
   "cell_type": "code",
   "execution_count": 4,
   "metadata": {},
   "outputs": [
    {
     "data": {
      "text/plain": [
       "False"
      ]
     },
     "execution_count": 4,
     "metadata": {},
     "output_type": "execute_result"
    }
   ],
   "source": [
    "# case sensitive\n",
    "'A' in 'abc'"
   ]
  },
  {
   "cell_type": "markdown",
   "metadata": {},
   "source": [
    "###### The empty string is always a substring of every string, p. 86"
   ]
  },
  {
   "cell_type": "code",
   "execution_count": 20,
   "metadata": {},
   "outputs": [
    {
     "data": {
      "text/plain": [
       "True"
      ]
     },
     "execution_count": 20,
     "metadata": {},
     "output_type": "execute_result"
    }
   ],
   "source": [
    "'' in 'abc'"
   ]
  },
  {
   "cell_type": "code",
   "execution_count": 21,
   "metadata": {},
   "outputs": [
    {
     "data": {
      "text/plain": [
       "True"
      ]
     },
     "execution_count": 21,
     "metadata": {},
     "output_type": "execute_result"
    }
   ],
   "source": [
    "'' in ''"
   ]
  },
  {
   "cell_type": "markdown",
   "metadata": {},
   "source": [
    "### Choosing Which Statements to Execute, p. 86"
   ]
  },
  {
   "cell_type": "code",
   "execution_count": 43,
   "metadata": {},
   "outputs": [
    {
     "name": "stdout",
     "output_type": "stream",
     "text": [
      "You should be careful with that!\n"
     ]
    }
   ],
   "source": [
    "ph = 8.0\n",
    "if ph < 7.0:\n",
    "    print(ph, \"is acidic.\")\n",
    "print(\"You should be careful with that!\")"
   ]
  },
  {
   "cell_type": "markdown",
   "metadata": {},
   "source": [
    "###### Multiple criteria, p. 86\n",
    "1. elif keyword stands for “else if”\n",
    "2. each condition/block pair is called **a clause**"
   ]
  },
  {
   "cell_type": "markdown",
   "metadata": {},
   "source": [
    "###### What's the difference between the two examples below?, pp. 89-90\n",
    "1. Case 1 (two if statements): The program will go through all 2 if statements.\n",
    "2. Case 2 (if-elif): If the first if statement is True, then it won't run the 2nd if statement."
   ]
  },
  {
   "cell_type": "code",
   "execution_count": 34,
   "metadata": {},
   "outputs": [
    {
     "name": "stdout",
     "output_type": "stream",
     "text": [
      "Enter the pH level: 9\n",
      "9.0 is basic.\n"
     ]
    }
   ],
   "source": [
    "# Case 1 (two if statements)\n",
    "ph = float(input('Enter the pH level: '))\n",
    "if ph < 7.0:\n",
    "    print(ph, \"is acidic.\")\n",
    "if ph > 7.0:\n",
    "    print(ph, \"is basic.\")"
   ]
  },
  {
   "cell_type": "code",
   "execution_count": 37,
   "metadata": {},
   "outputs": [
    {
     "name": "stdout",
     "output_type": "stream",
     "text": [
      "Enter the pH level: 8\n",
      "8.0 is basic.\n"
     ]
    }
   ],
   "source": [
    "# Case 2 (if-elif)\n",
    "ph = float(input('Enter the pH level: '))\n",
    "if ph < 7.0:\n",
    "    print(ph, \"is acidic.\")\n",
    "elif ph > 7.0:\n",
    "    print(ph, \"is basic.\")"
   ]
  },
  {
   "cell_type": "markdown",
   "metadata": {},
   "source": [
    "###### If the pH is exactly 7.0, neither clause matches, so nothing is printed"
   ]
  },
  {
   "cell_type": "code",
   "execution_count": 22,
   "metadata": {},
   "outputs": [
    {
     "name": "stdout",
     "output_type": "stream",
     "text": [
      "Enter the pH level: 7.0\n"
     ]
    }
   ],
   "source": [
    "# If the pH is exactly 7.0, neither clause matches, so nothing is printed:\n",
    "\n",
    "ph = float(input('Enter the pH level: '))\n",
    "if ph < 7.0:\n",
    "    print(ph, \"is acidic.\")\n",
    "elif ph > 7.0:\n",
    "    print(ph, \"is basic.\")"
   ]
  },
  {
   "cell_type": "markdown",
   "metadata": {},
   "source": [
    "###### Different results: Two if statements vs. if-elif"
   ]
  },
  {
   "cell_type": "code",
   "execution_count": 40,
   "metadata": {},
   "outputs": [
    {
     "name": "stdout",
     "output_type": "stream",
     "text": [
      "Enter the pH level: 6\n",
      "8.0 is acidic.\n"
     ]
    }
   ],
   "source": [
    "# 1. Case 1: two if statements & input 6\n",
    "ph = float(input('Enter the pH level: '))\n",
    "if ph < 7.0:\n",
    "    ph = 8.0\n",
    "if ph > 7.0:\n",
    "    print(ph, \"is acidic.\")"
   ]
  },
  {
   "cell_type": "code",
   "execution_count": 41,
   "metadata": {},
   "outputs": [
    {
     "name": "stdout",
     "output_type": "stream",
     "text": [
      "Enter the pH level: 6\n"
     ]
    }
   ],
   "source": [
    "# 2. Case 2: if-elif & input 6\n",
    "ph = float(input('Enter the pH level: '))\n",
    "if ph < 7.0:\n",
    "    ph = 8.0\n",
    "elif ph > 7.0:\n",
    "    print(ph, \"is acidic.\")"
   ]
  },
  {
   "cell_type": "markdown",
   "metadata": {},
   "source": [
    "### As shown above: As a rule of thumb, if two conditions are related, use if/elif instead of two ifs, p. 91"
   ]
  },
  {
   "cell_type": "markdown",
   "metadata": {},
   "source": [
    "###### An if statement can be followed by multiple elif clauses, p. 91"
   ]
  },
  {
   "cell_type": "code",
   "execution_count": 43,
   "metadata": {},
   "outputs": [
    {
     "name": "stdout",
     "output_type": "stream",
     "text": [
      "Enter the compound: CH4\n",
      "Methane\n"
     ]
    }
   ],
   "source": [
    "# input: CH4\n",
    "compound = input('Enter the compound: ')\n",
    "if compound == \"H2O\":\n",
    "    print(\"Water\")\n",
    "elif compound == \"NH3\":\n",
    "    print(\"Ammonia\")\n",
    "elif compound == \"CH4\":\n",
    "    print(\"Methane\")"
   ]
  },
  {
   "cell_type": "markdown",
   "metadata": {},
   "source": [
    "######  If none of the conditions in a chain of if/elif statements are satisfied, Python does not execute any of the associated blocks. We add an else clause at the end of the chain."
   ]
  },
  {
   "cell_type": "code",
   "execution_count": 44,
   "metadata": {},
   "outputs": [
    {
     "name": "stdout",
     "output_type": "stream",
     "text": [
      "Enter the compound: dog\n",
      "Unknown compound\n"
     ]
    }
   ],
   "source": [
    "# input: CO2\n",
    "compound = input('Enter the compound: ')\n",
    "if compound == \"H2O\":\n",
    "   print(\"Water\")\n",
    "elif compound == \"NH3\":\n",
    "  print(\"Ammonia\")\n",
    "elif compound == \"CH4\":\n",
    "  print(\"Methane\")\n",
    "else:\n",
    "  print(\"Unknown compound\")"
   ]
  },
  {
   "cell_type": "markdown",
   "metadata": {},
   "source": [
    "###### An if statement can have at most one else clause, and it has to be the final clause in the statement, p. 91"
   ]
  },
  {
   "cell_type": "markdown",
   "metadata": {},
   "source": [
    "### Nested if Statements, p. 92\n",
    "+ **An if statement inside another** is called a **nested if** statement."
   ]
  },
  {
   "cell_type": "code",
   "execution_count": 45,
   "metadata": {},
   "outputs": [
    {
     "name": "stdout",
     "output_type": "stream",
     "text": [
      "Enter the pH level: 6\n",
      "6.0 is acidic.\n"
     ]
    }
   ],
   "source": [
    "# Nested if statemetns:\n",
    "value = input('Enter the pH level: ')  # we receive it as a string\n",
    "if len(value) > 0:\n",
    "    ph = float(value)\n",
    "    if ph < 7.0:\n",
    "        print(ph, \"is acidic.\")\n",
    "    elif ph > 7.0:\n",
    "        print(ph, \"is basic.\")\n",
    "    else:\n",
    "        print(ph, \"is neutral.\")\n",
    "else:\n",
    "    print(\"No pH value was given!\")"
   ]
  },
  {
   "cell_type": "markdown",
   "metadata": {},
   "source": [
    "### Remembering Results of a Boolean Expression Evaluation, p. 92"
   ]
  },
  {
   "cell_type": "raw",
   "metadata": {},
   "source": [
    "Calculation of one’s risk of heart disease using the following rules based on age and body mass index (BMI):\n",
    "\n",
    "                        Age\n",
    "                  <45        ≥45\n",
    "BMI   <22.0       Low        Medium\n",
    "      ≥22.0       Medium     High"
   ]
  },
  {
   "cell_type": "markdown",
   "metadata": {},
   "source": [
    "## For code cell below, the variables age and bmi should be definde first."
   ]
  },
  {
   "cell_type": "code",
   "execution_count": 48,
   "metadata": {},
   "outputs": [
    {
     "name": "stdout",
     "output_type": "stream",
     "text": [
      "Enter your age: 45\n",
      "Enter your bmi: 20\n",
      "medium\n"
     ]
    }
   ],
   "source": [
    "# Method 1: nested if statements, p. 93\n",
    "age = float(input('Enter your age: ', ))\n",
    "bmi = float(input('Enter your bmi: ', ))\n",
    "\n",
    "if age < 45:\n",
    "    if bmi < 22.0: \n",
    "        risk = 'low'\n",
    "    else:\n",
    "        risk = 'medium'\n",
    "else:\n",
    "    if bmi < 22.0:\n",
    "        risk = 'medium'\n",
    "    else:\n",
    "        risk = 'high'\n",
    "\n",
    "print(risk)"
   ]
  },
  {
   "cell_type": "markdown",
   "metadata": {},
   "source": [
    "###### Guess what value is assigned to x\n",
    "+ **x =  15 > 5**\n",
    "+ same as **x =  (15 > 5)**\n",
    "+ 15 is greater than 5, so the comparison produces True, and since that’s a value like any other, it can be assigned to a variable."
   ]
  },
  {
   "cell_type": "code",
   "execution_count": 23,
   "metadata": {},
   "outputs": [
    {
     "name": "stdout",
     "output_type": "stream",
     "text": [
      "True\n"
     ]
    }
   ],
   "source": [
    "x = 15 > 5\n",
    "print(x)"
   ]
  },
  {
   "cell_type": "code",
   "execution_count": 52,
   "metadata": {},
   "outputs": [
    {
     "name": "stdout",
     "output_type": "stream",
     "text": [
      "medium\n"
     ]
    }
   ],
   "source": [
    "# Method 2: simplified nestd if statements, p. 93\n",
    "age = 44 \n",
    "bmi = 23\n",
    "\n",
    "young = age < 45 \n",
    "slim = bmi < 22.0 \n",
    "if young:\n",
    "    if slim:\n",
    "        risk = 'low'\n",
    "    else:\n",
    "        risk = 'medium'\n",
    "else:\n",
    "    if slim:\n",
    "        risk = 'medium'\n",
    "    else:\n",
    "        risk = 'high'\n",
    "\n",
    "print(risk)"
   ]
  },
  {
   "cell_type": "code",
   "execution_count": 56,
   "metadata": {},
   "outputs": [
    {
     "name": "stdout",
     "output_type": "stream",
     "text": [
      "medium\n"
     ]
    }
   ],
   "source": [
    "# Method 2: without nested if statements, p. 94\n",
    "age = 45\n",
    "bmi = 20\n",
    "\n",
    "young = age < 45 \n",
    "slim = bmi < 22.0 \n",
    "if young and slim:\n",
    "    risk = 'low'\n",
    "elif young and not slim: \n",
    "    risk = 'medium'\n",
    "elif not young and slim: \n",
    "    risk = 'medium'\n",
    "elif not young and not slim: \n",
    "    risk =  'high'\n",
    "\n",
    "print(risk)"
   ]
  },
  {
   "cell_type": "markdown",
   "metadata": {},
   "source": [
    "### You Learned about Booleans: True or False?, p. 94"
   ]
  },
  {
   "cell_type": "markdown",
   "metadata": {},
   "source": [
    "###### Boolean:\n",
    "1. two values: True and False\n",
    "2. three operators: not, and, and or\n",
    "3. False:\n",
    "    1. bool(0)\n",
    "    2. bool(0.0)\n",
    "    3. bool('')   # empty string\n",
    "    4. bool(None)"
   ]
  },
  {
   "cell_type": "code",
   "execution_count": 58,
   "metadata": {},
   "outputs": [
    {
     "name": "stdout",
     "output_type": "stream",
     "text": [
      "False\n",
      "False\n",
      "False\n",
      "False\n"
     ]
    }
   ],
   "source": [
    "# All are False:\n",
    "print(bool(0))\n",
    "print(bool(0.0))\n",
    "print(bool(''))    # empty string\n",
    "print(bool(None))  "
   ]
  },
  {
   "cell_type": "markdown",
   "metadata": {},
   "source": [
    "## The End!"
   ]
  },
  {
   "cell_type": "code",
   "execution_count": null,
   "metadata": {},
   "outputs": [],
   "source": []
  }
 ],
 "metadata": {
  "kernelspec": {
   "display_name": "Python 3",
   "language": "python",
   "name": "python3"
  },
  "language_info": {
   "codemirror_mode": {
    "name": "ipython",
    "version": 3
   },
   "file_extension": ".py",
   "mimetype": "text/x-python",
   "name": "python",
   "nbconvert_exporter": "python",
   "pygments_lexer": "ipython3",
   "version": "3.7.7"
  }
 },
 "nbformat": 4,
 "nbformat_minor": 2
}
