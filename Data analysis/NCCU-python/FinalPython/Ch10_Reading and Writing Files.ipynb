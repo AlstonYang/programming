{
 "cells": [
  {
   "cell_type": "markdown",
   "metadata": {},
   "source": [
    "## Ch10. Reading and Writing Files"
   ]
  },
  {
   "cell_type": "markdown",
   "metadata": {},
   "source": [
    "###### Files used in ch. 10\n",
    "01. ch1001_file_read.py\n",
    "02. ch1001_file_read.txt\n",
    "03. ch1002_file_read_with.py\n",
    "04. ch1002_file_read_with.txt\n",
    "05. ch1003_file_read_with_10.py\n",
    "06. ch1003_file_read_with_10.txt\n",
    "07. ch1004_file_readlines.py\n",
    "08. ch1004_file_readlines.txt\n",
    "09. ch1005_file_readlines_with_reversed.py\n",
    "10. ch1005_file_readlines_with_reversed.txt\n",
    "11. ch1006_file_readlines_with_sorted.py\n",
    "12. ch1006_file_readlines_with_sorted.txt\n",
    "13. ch1007_file_read_with_for_line_in_file.py\n",
    "14. ch1007_file_read_with_for_line_in_file.txt\n",
    "15. ch1008_file_read_readline.py\n",
    "16. ch1008_file_read_readline.txt\n",
    "17. coordinates.txt\n",
    "18. hebron.txt\n",
    "19. hopedale.txt\n",
    "21. lynx.txt\n",
    "22. multimol.pdb\n",
    "23. multimol_1.pdb\n",
    "24. number_pairs.txt\n",
    "25. read_smallest.py\n",
    "26. read_smallest1.py\n",
    "27. time_series.py\n",
    "28. topics.txt"
   ]
  },
  {
   "cell_type": "markdown",
   "metadata": {},
   "source": [
    "### Summary\n",
    "+ Reading files\n",
    "    1. file = open('filename.txt', 'r') \n",
    "        + [using read(), readline(), or readlines() to do something on the file.] \n",
    "        + file.close()\n",
    "    2. with open('filename.txt', 'r') as data_file:\n",
    "        1. **read()**: read the whole file in as a sting; not suitable for big file. The **file cursor** is moved to the **end of the file**.\n",
    "        2. **readline()**: read one line each time and the **cursor** pauses at the **head of the next line**. \n",
    "        3. **readlines()**: read the whole file in as a list. The **file cursor** is moved to the **end of the file**.\n",
    "        4. **for line in file**: do loop on the file. On each iteration, the **file cursor** is moved to the **beginning of the next line**."
   ]
  },
  {
   "cell_type": "markdown",
   "metadata": {},
   "source": [
    "### Recap the type of output generated from the above 4 methods:\n",
    "1. read()\n",
    "2. readline()\n",
    "3. readlines()\n",
    "4. for in in input_file: "
   ]
  },
  {
   "cell_type": "markdown",
   "metadata": {},
   "source": [
    "###### [Python File Methods](https://www.w3schools.com/python/python_ref_file.asp)"
   ]
  },
  {
   "cell_type": "code",
   "execution_count": null,
   "metadata": {},
   "outputs": [],
   "source": [
    "# List of Files used in ch. 10 Reading and Writing Files \n",
    "ch1001_file_read.txt\n",
    "ch1001_file_read.py\n",
    "ch1002_file_read_with.txt\n",
    "ch1002_file_read_with.py\n",
    "ch1003_file_read_with_10.txt\n",
    "ch1003_file_read_with_10.py\n",
    "ch1004_file_readlines.txt\n",
    "ch1004_file_readlines.py\n",
    "ch1005_file_readlines_with_reversed.txt\n",
    "ch1005_file_readlines_with_reversed.py\n",
    "ch1006_file_readlines_with_sorted.txt\n",
    "ch1006_file_readlines_with_sorted.py\n",
    "ch1007_file_read_with_for_line_in_file.txt\n",
    "ch1007_file_read_with_for_line_in_file.py\n",
    "ch1008_file_read_readline.txt\n",
    "ch1008_file_read_readline.py\n",
    "coordinates.txt\n",
    "hebron.txt\n",
    "hopedale.txt\n",
    "lynx.txt\n",
    "multimol.pdb\n",
    "multimol_1.pdb\n",
    "number_pairs.txt\n",
    "read_smallest.py\n",
    "read_smallest1.py\n",
    "time_series.py\n",
    "topics.txt"
   ]
  },
  {
   "cell_type": "markdown",
   "metadata": {},
   "source": [
    "###### Python File Methods \n",
    "+ [Python File Methods](https://www.w3schools.com/python/python_ref_file.asp)"
   ]
  },
  {
   "cell_type": "code",
   "execution_count": 2,
   "metadata": {},
   "outputs": [],
   "source": [
    "import os\n",
    "os.chdir(r'D:\\Python\\Class\\ch10')"
   ]
  },
  {
   "cell_type": "markdown",
   "metadata": {},
   "source": [
    "### print(..., end='\\n')"
   ]
  },
  {
   "cell_type": "code",
   "execution_count": null,
   "metadata": {},
   "outputs": [],
   "source": [
    "# Notice the default setting: print(..., end='\\n')\n",
    "help(print)"
   ]
  },
  {
   "cell_type": "code",
   "execution_count": 80,
   "metadata": {},
   "outputs": [
    {
     "name": "stdout",
     "output_type": "stream",
     "text": [
      "Test1\n",
      "Test2\n"
     ]
    }
   ],
   "source": [
    "# by default\n",
    "print(\"Test1\", end='\\n')    # end='\\n': end with a new line\n",
    "print(\"Test2\")"
   ]
  },
  {
   "cell_type": "code",
   "execution_count": 81,
   "metadata": {},
   "outputs": [
    {
     "name": "stdout",
     "output_type": "stream",
     "text": [
      "Test1\tTest2\n"
     ]
    }
   ],
   "source": [
    "print(\"Test1\", end='\\t')    # end='\\t': end with a tab\n",
    "print(\"Test2\")"
   ]
  },
  {
   "cell_type": "code",
   "execution_count": 82,
   "metadata": {},
   "outputs": [
    {
     "name": "stdout",
     "output_type": "stream",
     "text": [
      "Test1Test2\n"
     ]
    }
   ],
   "source": [
    "print(\"Test1\", end='')    # end='': end with no space\n",
    "print(\"Test2\")"
   ]
  },
  {
   "cell_type": "markdown",
   "metadata": {},
   "source": [
    "### The Differences among .read(), .readlines(), .readline(), and 'for line in file:'\n",
    "1. **.read(): read a file in as a string**\n",
    "2. **.readline(): read file in one line at a time and then cursor pauses at the start of the next line**\n",
    "3. **.readlines(): read a file in as a list**\n",
    "4. **with open() as input_file:**\n",
    "    + **for line in input_file:**"
   ]
  },
  {
   "cell_type": "markdown",
   "metadata": {},
   "source": [
    "###### 1. .read(): read a file in as a string"
   ]
  },
  {
   "cell_type": "code",
   "execution_count": 1,
   "metadata": {},
   "outputs": [
    {
     "ename": "FileNotFoundError",
     "evalue": "[Errno 2] No such file or directory: 'D:/Python/Class/Data/hopedale.txt'",
     "output_type": "error",
     "traceback": [
      "\u001b[0;31m---------------------------------------------------------------------------\u001b[0m",
      "\u001b[0;31mFileNotFoundError\u001b[0m                         Traceback (most recent call last)",
      "\u001b[0;32m<ipython-input-1-990a1d61e4dc>\u001b[0m in \u001b[0;36m<module>\u001b[0;34m\u001b[0m\n\u001b[0;32m----> 1\u001b[0;31m \u001b[0;32mwith\u001b[0m \u001b[0mopen\u001b[0m\u001b[0;34m(\u001b[0m\u001b[0;34m'D:/Python/Class/Data/hopedale.txt'\u001b[0m\u001b[0;34m,\u001b[0m \u001b[0;34m'r'\u001b[0m\u001b[0;34m)\u001b[0m \u001b[0;32mas\u001b[0m \u001b[0minput_file\u001b[0m\u001b[0;34m:\u001b[0m\u001b[0;34m\u001b[0m\u001b[0;34m\u001b[0m\u001b[0m\n\u001b[0m\u001b[1;32m      2\u001b[0m     \u001b[0minput\u001b[0m \u001b[0;34m=\u001b[0m \u001b[0minput_file\u001b[0m\u001b[0;34m.\u001b[0m\u001b[0mreadline\u001b[0m\u001b[0;34m(\u001b[0m\u001b[0;34m)\u001b[0m\u001b[0;34m\u001b[0m\u001b[0;34m\u001b[0m\u001b[0m\n\u001b[1;32m      3\u001b[0m \u001b[0mprint\u001b[0m\u001b[0;34m(\u001b[0m\u001b[0minput\u001b[0m\u001b[0;34m)\u001b[0m\u001b[0;34m\u001b[0m\u001b[0;34m\u001b[0m\u001b[0m\n\u001b[1;32m      4\u001b[0m \u001b[0mprint\u001b[0m\u001b[0;34m(\u001b[0m\u001b[0mtype\u001b[0m\u001b[0;34m(\u001b[0m\u001b[0minput\u001b[0m\u001b[0;34m)\u001b[0m\u001b[0;34m)\u001b[0m\u001b[0;34m\u001b[0m\u001b[0;34m\u001b[0m\u001b[0m\n",
      "\u001b[0;31mFileNotFoundError\u001b[0m: [Errno 2] No such file or directory: 'D:/Python/Class/Data/hopedale.txt'"
     ]
    }
   ],
   "source": [
    "with open('D:/Python/Class/Data/hopedale.txt', 'r') as input_file: \n",
    "    input = input_file.readline()\n",
    "print(input)\n",
    "print(type(input))"
   ]
  },
  {
   "cell_type": "markdown",
   "metadata": {},
   "source": [
    "###### 2. .readlines(): read file in as a list"
   ]
  },
  {
   "cell_type": "code",
   "execution_count": 38,
   "metadata": {},
   "outputs": [
    {
     "name": "stdout",
     "output_type": "stream",
     "text": [
      "[1, 2, 3]\n"
     ]
    },
    {
     "data": {
      "text/plain": [
       "list"
      ]
     },
     "execution_count": 38,
     "metadata": {},
     "output_type": "execute_result"
    }
   ],
   "source": [
    "# creating a list\n",
    "list1 = [1, 2, 3]\n",
    "print(list1)\n",
    "type(list1)"
   ]
  },
  {
   "cell_type": "code",
   "execution_count": 11,
   "metadata": {},
   "outputs": [
    {
     "name": "stdout",
     "output_type": "stream",
     "text": [
      "['Coloured fox fur production, HOPEDALE, Labrador, 1834-1842\\n', '#Source: C. Elton (1942) \"Voles, Mice and Lemmings\", Oxford Univ. Press\\n', '#Table 17, p.265--266\\n', '       22\\n', '       29\\n', '        2\\n', '       16\\n', '       12\\n', '       35\\n', '        8\\n', '       83\\n', '      166']\n"
     ]
    },
    {
     "data": {
      "text/plain": [
       "list"
      ]
     },
     "execution_count": 11,
     "metadata": {},
     "output_type": "execute_result"
    }
   ],
   "source": [
    "with open('D:/Python/Class/Data/hopedale.txt', 'r') as input_file: \n",
    "    input = input_file.readlines()\n",
    "print(input)\n",
    "type(input)"
   ]
  },
  {
   "cell_type": "markdown",
   "metadata": {},
   "source": [
    "###### 3. .readline(): read file in one line at a time and then cursor pauses at the start of the next line"
   ]
  },
  {
   "cell_type": "code",
   "execution_count": 11,
   "metadata": {},
   "outputs": [
    {
     "name": "stdout",
     "output_type": "stream",
     "text": [
      "Coloured fox fur production, HOPEDALE, Labrador, 1834-1842\n",
      "\n"
     ]
    },
    {
     "data": {
      "text/plain": [
       "str"
      ]
     },
     "execution_count": 11,
     "metadata": {},
     "output_type": "execute_result"
    }
   ],
   "source": [
    "with open('D:/Python/Class/Data/hopedale.txt', 'r') as input_file: \n",
    "    input = input_file.readline()\n",
    "print(input)\n",
    "type(input)"
   ]
  },
  {
   "cell_type": "markdown",
   "metadata": {},
   "source": [
    "###### 4. for line in file:"
   ]
  },
  {
   "cell_type": "code",
   "execution_count": 15,
   "metadata": {},
   "outputs": [
    {
     "name": "stdout",
     "output_type": "stream",
     "text": [
      "Coloured fox fur production, HOPEDALE, Labrador, 1834-1842\n",
      "#Source: C. Elton (1942) \"Voles, Mice and Lemmings\", Oxford Univ. Press\n",
      "#Table 17, p.265--266\n",
      "       22\n",
      "       29\n",
      "        2\n",
      "       16\n",
      "       12\n",
      "       35\n",
      "        8\n",
      "       83\n",
      "      166"
     ]
    }
   ],
   "source": [
    "with open('D:/Python/Class/Data/hopedale.txt', 'r') as input_file: \n",
    "    for line in input_file:\n",
    "        print(line, end='')"
   ]
  },
  {
   "cell_type": "code",
   "execution_count": 169,
   "metadata": {},
   "outputs": [],
   "source": [
    "# help(str)"
   ]
  },
  {
   "cell_type": "markdown",
   "metadata": {},
   "source": [
    "###### 5. print() function: \n",
    "######     print(value, ..., sep=' ', end='\\n', file=sys.stdout, flush=False)"
   ]
  },
  {
   "cell_type": "code",
   "execution_count": 13,
   "metadata": {},
   "outputs": [
    {
     "name": "stdout",
     "output_type": "stream",
     "text": [
      "Help on built-in function print in module builtins:\n",
      "\n",
      "print(...)\n",
      "    print(value, ..., sep=' ', end='\\n', file=sys.stdout, flush=False)\n",
      "    \n",
      "    Prints the values to a stream, or to sys.stdout by default.\n",
      "    Optional keyword arguments:\n",
      "    file:  a file-like object (stream); defaults to the current sys.stdout.\n",
      "    sep:   string inserted between values, default a space.\n",
      "    end:   string appended after the last value, default a newline.\n",
      "    flush: whether to forcibly flush the stream.\n",
      "\n"
     ]
    }
   ],
   "source": [
    "help(print)"
   ]
  },
  {
   "cell_type": "code",
   "execution_count": 19,
   "metadata": {},
   "outputs": [
    {
     "name": "stdout",
     "output_type": "stream",
     "text": [
      "Coloured fox fur production, HOPEDALE, Labrador, 1834-1842\n",
      "\n",
      "#Source: C. Elton (1942) \"Voles, Mice and Lemmings\", Oxford Univ. Press\n",
      "\n",
      "#Table 17, p.265--266\n",
      "\n",
      "       22\n",
      "\n",
      "       29\n",
      "\n",
      "        2\n",
      "\n",
      "       16\n",
      "\n",
      "       12\n",
      "\n",
      "       35\n",
      "\n",
      "        8\n",
      "\n",
      "       83\n",
      "\n",
      "      166\n"
     ]
    }
   ],
   "source": [
    "with open('D:/Python/Class/Data/hopedale.txt', 'r') as input_file:\n",
    "    for line in input_file:\n",
    "        print(line)   # end='\\n', by default"
   ]
  },
  {
   "cell_type": "code",
   "execution_count": 15,
   "metadata": {},
   "outputs": [
    {
     "name": "stdout",
     "output_type": "stream",
     "text": [
      "Coloured fox fur production, HOPEDALE, Labrador, 1834-1842\n",
      "#Source: C. Elton (1942) \"Voles, Mice and Lemmings\", Oxford Univ. Press\n",
      "#Table 17, p.265--266\n",
      "       22\n",
      "       29\n",
      "        2\n",
      "       16\n",
      "       12\n",
      "       35\n",
      "        8\n",
      "       83\n",
      "      166"
     ]
    }
   ],
   "source": [
    "with open('D:/Python/Class/Data/hopedale.txt', 'r') as input_file:\n",
    "    for line in input_file:\n",
    "        print(line, end='')"
   ]
  },
  {
   "cell_type": "markdown",
   "metadata": {},
   "source": [
    "###### 6. Read a file while skipping the first line\n",
    "+ https://stackoverflow.com/questions/4796764/read-file-from-line-2-or-skip-header-row"
   ]
  },
  {
   "cell_type": "code",
   "execution_count": 23,
   "metadata": {},
   "outputs": [
    {
     "name": "stdout",
     "output_type": "stream",
     "text": [
      "Coloured fox fur production, HOPEDALE, Labrador, 1834-1842\n",
      "#Source: C. Elton (1942) \"Voles, Mice and Lemmings\", Oxford Univ. Press\n",
      "#Table 17, p.265--266\n",
      "       22\n",
      "       29\n",
      "        2\n",
      "       16\n",
      "       12\n",
      "       35\n",
      "        8\n",
      "       83\n",
      "      166\n",
      "----------------------------------------------------------------------\n",
      "#Table 17, p.265--266\n",
      "       22\n",
      "       29\n",
      "        2\n",
      "       16\n",
      "       12\n",
      "       35\n",
      "        8\n",
      "       83\n",
      "      166"
     ]
    }
   ],
   "source": [
    "# Read a file while skipping the first line\n",
    "with open('D:/Python/Class/Data/hopedale.txt', 'r') as input_file:\n",
    "    for line in input_file:\n",
    "        print(line, end='')\n",
    "print('')\n",
    "print('-'*70)\n",
    "with open('D:/Python/Class/Data/hopedale.txt', 'r') as input_file:\n",
    "    next(input_file)    # skipping one line\n",
    "    next(input_file)    # skipping one line\n",
    "    for line in input_file:\n",
    "        print(line, end='')"
   ]
  },
  {
   "cell_type": "code",
   "execution_count": 181,
   "metadata": {},
   "outputs": [
    {
     "name": "stdout",
     "output_type": "stream",
     "text": [
      "['#Source: C. Elton (1942) \"Voles, Mice and Lemmings\", Oxford Univ. Press\\n', '#Table 17, p.265--266\\n', '       22\\n', '       29\\n', '        2\\n', '       16\\n', '       12\\n', '       35\\n', '        8\\n', '       83\\n', '      166']\n"
     ]
    }
   ],
   "source": [
    "# Read a file while skipping the first line\n",
    "f = open('D:/Python/Class/Data/hopedale.txt', 'r')\n",
    "lines = f.readlines()[1:]  # skipping the first line\n",
    "print(lines)\n",
    "f.close()"
   ]
  },
  {
   "cell_type": "code",
   "execution_count": 24,
   "metadata": {},
   "outputs": [
    {
     "name": "stdout",
     "output_type": "stream",
     "text": [
      "#Source: C. Elton (1942) \"Voles, Mice and Lemmings\", Oxford Univ. Press\n",
      "#Table 17, p.265--266\n",
      "       22\n",
      "       29\n",
      "        2\n",
      "       16\n",
      "       12\n",
      "       35\n",
      "        8\n",
      "       83\n",
      "      166"
     ]
    }
   ],
   "source": [
    "# Read a file while skipping the first line\n",
    "with open('D:/Python/Class/Data/hopedale.txt', 'r') as f:\n",
    "    # f.readline()\n",
    "    first_line = f.readline()\n",
    "    for line in f:\n",
    "        print(line, end='')"
   ]
  },
  {
   "cell_type": "code",
   "execution_count": 97,
   "metadata": {},
   "outputs": [
    {
     "name": "stdout",
     "output_type": "stream",
     "text": [
      "#Source: C. Elton (1942) \"Voles, Mice and Lemmings\", Oxford Univ. Press\n",
      "#Table 17, p.265--266\n",
      "       22\n",
      "       29\n",
      "        2\n",
      "       16\n",
      "       12\n",
      "       35\n",
      "        8\n",
      "       83\n",
      "      166"
     ]
    }
   ],
   "source": [
    "# Read a file while skipping the first line\n",
    "# If slicing could work on iterators...\n",
    "from itertools import islice\n",
    "# islice syntax:\n",
    "# 1. islice(iterable, stop) --> islice object\n",
    "# 2. islice(iterable, start, stop[, step]) --> islice object\n",
    "with open('D:/Python/Class/Data/hopedale.txt', 'r') as f:\n",
    "    for line in islice(f, 1):  # skip the first line in f\n",
    "        pass          \n",
    "    for line in f:\n",
    "        print(line, end='')"
   ]
  },
  {
   "cell_type": "code",
   "execution_count": 99,
   "metadata": {},
   "outputs": [
    {
     "name": "stdout",
     "output_type": "stream",
     "text": [
      "['__doc__', '__loader__', '__name__', '__package__', '__spec__', '_grouper', '_tee', '_tee_dataobject', 'accumulate', 'chain', 'combinations', 'combinations_with_replacement', 'compress', 'count', 'cycle', 'dropwhile', 'filterfalse', 'groupby', 'islice', 'permutations', 'product', 'repeat', 'starmap', 'takewhile', 'tee', 'zip_longest']\n"
     ]
    }
   ],
   "source": [
    "import itertools\n",
    "print(dir(itertools))"
   ]
  },
  {
   "cell_type": "code",
   "execution_count": 100,
   "metadata": {},
   "outputs": [
    {
     "name": "stdout",
     "output_type": "stream",
     "text": [
      "Help on class islice in module itertools:\n",
      "\n",
      "class islice(builtins.object)\n",
      " |  islice(iterable, stop) --> islice object\n",
      " |  islice(iterable, start, stop[, step]) --> islice object\n",
      " |  \n",
      " |  Return an iterator whose next() method returns selected values from an\n",
      " |  iterable.  If start is specified, will skip all preceding elements;\n",
      " |  otherwise, start defaults to zero.  Step defaults to one.  If\n",
      " |  specified as another value, step determines how many values are \n",
      " |  skipped between successive calls.  Works like a slice() on a list\n",
      " |  but returns an iterator.\n",
      " |  \n",
      " |  Methods defined here:\n",
      " |  \n",
      " |  __getattribute__(self, name, /)\n",
      " |      Return getattr(self, name).\n",
      " |  \n",
      " |  __iter__(self, /)\n",
      " |      Implement iter(self).\n",
      " |  \n",
      " |  __next__(self, /)\n",
      " |      Implement next(self).\n",
      " |  \n",
      " |  __reduce__(...)\n",
      " |      Return state information for pickling.\n",
      " |  \n",
      " |  __setstate__(...)\n",
      " |      Set state information for unpickling.\n",
      " |  \n",
      " |  ----------------------------------------------------------------------\n",
      " |  Static methods defined here:\n",
      " |  \n",
      " |  __new__(*args, **kwargs) from builtins.type\n",
      " |      Create and return a new object.  See help(type) for accurate signature.\n",
      "\n"
     ]
    }
   ],
   "source": [
    "help(itertools.islice)"
   ]
  },
  {
   "cell_type": "code",
   "execution_count": 25,
   "metadata": {},
   "outputs": [
    {
     "data": {
      "text/plain": [
       "['Coloured fox fur production, HOPEDALE, Labrador, 1834-1842\\n',\n",
       " '#Source: C. Elton (1942) \"Voles, Mice and Lemmings\", Oxford Univ. Press\\n',\n",
       " '#Table 17, p.265--266\\n',\n",
       " '       22\\n',\n",
       " '       29\\n',\n",
       " '        2\\n',\n",
       " '       16\\n',\n",
       " '       12\\n',\n",
       " '       35\\n',\n",
       " '        8\\n',\n",
       " '       83\\n',\n",
       " '      166']"
      ]
     },
     "execution_count": 25,
     "metadata": {},
     "output_type": "execute_result"
    }
   ],
   "source": [
    "f = open('E:/Python/Class/Data/hopedale.txt', 'r').readlines()   # f: a list\n",
    "f"
   ]
  },
  {
   "cell_type": "code",
   "execution_count": 24,
   "metadata": {},
   "outputs": [
    {
     "name": "stdout",
     "output_type": "stream",
     "text": [
      "#Source: C. Elton (1942) \"Voles, Mice and Lemmings\", Oxford Univ. Press\n",
      "#Table 17, p.265--266\n",
      "       22\n",
      "       29\n",
      "        2\n",
      "       16\n",
      "       12\n",
      "       35\n",
      "        8\n",
      "       83\n",
      "      166"
     ]
    }
   ],
   "source": [
    "# Read a file as a list while skipping the first line \n",
    "f = open('D:/Python/Class/Data/hopedale.txt', 'r').readlines()\n",
    "f.pop(0) # removes the first line\n",
    "for line in f:     # looping over each element from the list f\n",
    "    print(line, end='')"
   ]
  },
  {
   "cell_type": "markdown",
   "metadata": {},
   "source": [
    "###### Reading all CSV files from a folder"
   ]
  },
  {
   "cell_type": "code",
   "execution_count": null,
   "metadata": {},
   "outputs": [],
   "source": [
    "# For reading multiple CSV files starting from line 2:\n",
    "\n",
    "for files in csv_file_list:\n",
    "        with open(files, 'r') as r: \n",
    "            next(r)                  #skip headers             \n",
    "            rr = csv.reader(r)\n",
    "            for row in rr:\n",
    "                #do something   "
   ]
  },
  {
   "cell_type": "markdown",
   "metadata": {},
   "source": [
    "###### Output Formats"
   ]
  },
  {
   "cell_type": "code",
   "execution_count": 3,
   "metadata": {},
   "outputs": [],
   "source": [
    "import os\n",
    "os.chdir(\"D:/Python/Class/ch10\")"
   ]
  },
  {
   "cell_type": "code",
   "execution_count": null,
   "metadata": {},
   "outputs": [],
   "source": [
    "# %load ch1001_file_read.txt\n",
    "First line of text \n",
    "Second line of text \n",
    "Third line of text\n",
    "\n",
    "\n"
   ]
  },
  {
   "cell_type": "raw",
   "metadata": {},
   "source": [
    "# input data file: ch1001_file_read.txt\n",
    "First line of text \n",
    "Second line of text \n",
    "Third line of text\n",
    "\n",
    "\n"
   ]
  },
  {
   "cell_type": "raw",
   "metadata": {},
   "source": [
    "# Which output format do you want?\n",
    "(1)\n",
    "First line of text \n",
    "Second line of text \n",
    "Third line of text\n",
    "\n",
    "(2)\n",
    "The  first 10  characters: First line\n",
    "The  rest  of  the  file:  of text \n",
    "Second line of text \n",
    "Third line of text\n",
    "\n",
    "(3) \n",
    "['First line of text \\n', 'Second line of text \\n', 'Third line of text\\n', '\\n', '\\n']\n",
    "\n",
    "(5) .strip()\n",
    "First line of text\n",
    "Second line of text\n",
    "Third line of text\n",
    "\n",
    "(4) .reversed()\n",
    "Third line of text\n",
    "Second line of text\n",
    "First line of text"
   ]
  },
  {
   "cell_type": "markdown",
   "metadata": {},
   "source": [
    "### The \"*.read()\" Technique"
   ]
  },
  {
   "cell_type": "code",
   "execution_count": 33,
   "metadata": {},
   "outputs": [],
   "source": [
    "import os\n",
    "os.chdir('D:/Python/Class/ch10')"
   ]
  },
  {
   "cell_type": "code",
   "execution_count": null,
   "metadata": {},
   "outputs": [],
   "source": [
    "# %load ch1001_file_read.py\n",
    "file = open('ch1001_file_read.txt', 'r') \n",
    "contents = file.read() \n",
    "print(contents)\n",
    "file.close()\n",
    "\n"
   ]
  },
  {
   "cell_type": "code",
   "execution_count": 6,
   "metadata": {},
   "outputs": [
    {
     "name": "stdout",
     "output_type": "stream",
     "text": [
      "First line of text \n",
      "Second line of text \n",
      "Third line of text\n",
      "\n",
      "\n",
      "\n"
     ]
    }
   ],
   "source": [
    "# open() & .read(): \n",
    "\n",
    "# The output shows that each line ends in \\n characters. \n",
    "# Python does not remove any characters from what is read; \n",
    "# it only splits them into separate strings.\n",
    "\n",
    "file = open('D:/Python/Class/ch10/ch1001_file_read.txt', 'r') \n",
    "contents = file.read()   # read() method with file object\n",
    "print(contents)\n",
    "file.close()"
   ]
  },
  {
   "cell_type": "code",
   "execution_count": 38,
   "metadata": {},
   "outputs": [],
   "source": [
    "import os\n",
    "os.chdir(\"D:/Python/Class/ch10\")\n",
    "os.getcwd()     # get current working directory"
   ]
  },
  {
   "cell_type": "code",
   "execution_count": 29,
   "metadata": {},
   "outputs": [
    {
     "name": "stdout",
     "output_type": "stream",
     "text": [
      "First line of text \n",
      "Second line of text \n",
      "Third line of text\n",
      "\n",
      "\n",
      "\n"
     ]
    }
   ],
   "source": [
    "# import & read(): import a module to run\n",
    "import ch1001_file_read    # import \"ch1001_file_read.py\" module"
   ]
  },
  {
   "cell_type": "code",
   "execution_count": 12,
   "metadata": {},
   "outputs": [
    {
     "name": "stdout",
     "output_type": "stream",
     "text": [
      "First line of text \n",
      "Second line of text \n",
      "Third line of text\n",
      "\n",
      "\n",
      "\n"
     ]
    },
    {
     "data": {
      "text/plain": [
       "<module 'ch1001_file_read' from 'D:\\\\Python\\\\Class\\\\ch10\\\\ch1001_file_read.py'>"
      ]
     },
     "execution_count": 12,
     "metadata": {},
     "output_type": "execute_result"
    }
   ],
   "source": [
    "# Ch. 6\n",
    "# import importlib\n",
    "# importlib.reload(ch1001_file_read)\n",
    "import imp\n",
    "imp.reload(ch1001_file_read)"
   ]
  },
  {
   "cell_type": "code",
   "execution_count": 7,
   "metadata": {},
   "outputs": [
    {
     "name": "stdout",
     "output_type": "stream",
     "text": [
      "First line of text \n",
      "Second line of text \n",
      "Third line of text\n",
      "\n",
      "\n",
      "\n",
      "<class 'str'>\n"
     ]
    }
   ],
   "source": [
    "# ch1001_file_read.py\" module\n",
    "file = open('D:/Python/Class/ch10/ch1001_file_read.txt', 'r') \n",
    "contents = file.read() \n",
    "print(contents)\n",
    "print(type(contents))\n",
    "file.close()"
   ]
  },
  {
   "cell_type": "code",
   "execution_count": 19,
   "metadata": {},
   "outputs": [
    {
     "name": "stdout",
     "output_type": "stream",
     "text": [
      "First line of text \n",
      "Second line of text \n",
      "Third line of text\n",
      "\n",
      "\n",
      "\n"
     ]
    }
   ],
   "source": [
    "# with open(), read(): \n",
    "\n",
    "# Every call on function open should have a corresponding call on method close,\n",
    "# Python provides the following syntax that automatically closes a file \n",
    "# when the end of the block is reached. \n",
    "\n",
    "# Syntax:\n",
    "# with open(«filename»,  «mode») as «variable»:\n",
    "#     «block»\n",
    "\n",
    "# with opent() as variable: automatically close the block.\n",
    "with open('D:/Python/Class/ch10/ch1002_file_read_with.txt', 'r') as file: \n",
    "    contents  =  file.read()\n",
    "\n",
    "print(contents)"
   ]
  },
  {
   "cell_type": "code",
   "execution_count": 14,
   "metadata": {},
   "outputs": [],
   "source": [
    "# import, with open(), & read(): import a module to run\n",
    "import os\n",
    "os.chdir(\"D:/Python/Class/ch10\")\n",
    "os.getcwd()\n",
    "\n",
    "import ch1002_file_read_with    # import \"ch1002_file_read_with.py\" module"
   ]
  },
  {
   "cell_type": "code",
   "execution_count": 15,
   "metadata": {},
   "outputs": [
    {
     "name": "stdout",
     "output_type": "stream",
     "text": [
      "First line of text \n",
      "Second line of text \n",
      "Third line of text\n",
      "\n",
      "\n",
      "\n"
     ]
    },
    {
     "data": {
      "text/plain": [
       "<module 'ch1002_file_read_with' from 'D:\\\\Python\\\\Class\\\\ch10\\\\ch1002_file_read_with.py'>"
      ]
     },
     "execution_count": 15,
     "metadata": {},
     "output_type": "execute_result"
    }
   ],
   "source": [
    "import imp\n",
    "imp.reload(ch1002_file_read_with)"
   ]
  },
  {
   "cell_type": "raw",
   "metadata": {},
   "source": [
    "# data file: \"ch1003_file_read_with_10.txt\"\n",
    "First line of text \n",
    "Second line of text \n",
    "Third line of text\n",
    "\n",
    "\n"
   ]
  },
  {
   "cell_type": "code",
   "execution_count": 60,
   "metadata": {},
   "outputs": [
    {
     "name": "stdout",
     "output_type": "stream",
     "text": [
      "The  first 10  characters: First line \n",
      "\n",
      "The  first 10  characters: First line\n",
      "The  rest  of  the  file:  of text \n",
      "Second line of text \n",
      "Third line of text\n",
      "\n",
      "\n",
      "\n"
     ]
    }
   ],
   "source": [
    "# with, open(), .read(10) \n",
    "\n",
    "with open('D:/Python/Class/ch10/ch1003_file_read_with_10.txt',  'r') as  example_file: \n",
    "    first_ten_chars  =  example_file.read(10)  # The first 10 characters\n",
    "    the_rest  =  example_file.read()\n",
    "\n",
    "print(\"The  first 10  characters:\",  first_ten_chars, \"\\n\")  # one more newline\n",
    "print(\"The  first 10  characters:\",  first_ten_chars) \n",
    "print(\"The  rest  of  the  file:\", the_rest)"
   ]
  },
  {
   "cell_type": "code",
   "execution_count": 62,
   "metadata": {},
   "outputs": [
    {
     "name": "stdout",
     "output_type": "stream",
     "text": [
      "The  first 10  characters: First line \n",
      "\n",
      "The  first 10  characters: First line\n",
      "The  rest  of  the  file: of text \n",
      "Second line of text \n",
      "Third line of text\n"
     ]
    }
   ],
   "source": [
    "# Adding the line: the_rest  =  the_rest.strip()\n",
    "with  open('D:/Python/Class/ch10/ch1003_file_read_with_10.txt',  'r') as example_file: \n",
    "    first_ten_chars  =  example_file.read(10)\n",
    "    the_rest  =  example_file.read()\n",
    "    the_rest  =  the_rest.strip()  # adding this line to remove tab, newline, or spaces\n",
    "\n",
    "print(\"The  first 10  characters:\",  first_ten_chars, \"\\n\")  # one more newline\n",
    "print(\"The  first 10  characters:\",  first_ten_chars) \n",
    "print(\"The  rest  of  the  file:\", the_rest)"
   ]
  },
  {
   "cell_type": "code",
   "execution_count": 22,
   "metadata": {},
   "outputs": [
    {
     "name": "stdout",
     "output_type": "stream",
     "text": [
      "The  first 10  characters: First line \n",
      "\n",
      "The  first 10  characters: First line\n",
      "The  rest  of  the  file:  of text \n",
      "Second line of text \n",
      "Third line of text\n",
      "\n",
      "\n",
      "\n"
     ]
    }
   ],
   "source": [
    "# import module: with, open(), .read(10)\n",
    "import os\n",
    "os.chdir(\"D:/Python/Class/ch10\")\n",
    "os.getcwd()\n",
    "\n",
    "import ch1003_file_read_with_10    # call \"ch1003_file_read_with_10.py\" module"
   ]
  },
  {
   "cell_type": "markdown",
   "metadata": {},
   "source": [
    "### Both \"*.readlines()\" and \"for line in file:\" techniques: \n",
    "* Each of the lines we read from the file has a newline character at the end. \n",
    "* We can use *.strip() to remove them. "
   ]
  },
  {
   "cell_type": "markdown",
   "metadata": {},
   "source": [
    "### The \"*.readlines()\" Technique"
   ]
  },
  {
   "cell_type": "code",
   "execution_count": 31,
   "metadata": {},
   "outputs": [
    {
     "name": "stdout",
     "output_type": "stream",
     "text": [
      "['First line of text \\n', 'Second line of text \\n', 'Third line of text\\n', '\\n', '\\n']\n"
     ]
    }
   ],
   "source": [
    "# with, open(), readlines: \n",
    "\n",
    "# Function readlines() does not remove any characters from what is read; \n",
    "# it only splits them into separate strings.\n",
    "# As with read(), the file cursor is moved to the end of the file.\n",
    "\n",
    "with open('D:/Python/Class/ch10/ch1004_file_readlines.txt',  'r') as example_file: \n",
    "    lines  =  example_file.readlines()\n",
    "print(lines)"
   ]
  },
  {
   "cell_type": "code",
   "execution_count": 40,
   "metadata": {},
   "outputs": [
    {
     "name": "stdout",
     "output_type": "stream",
     "text": [
      "['First line of text', 'Second line of text', 'Third line of tex']\n",
      "\n",
      "First line of text \n",
      "Second line of text \n",
      "Third line of text\n",
      "\n",
      "\n"
     ]
    }
   ],
   "source": [
    "with open('E:/Python/Class/ch10/ch1004_file_readlines.txt',  'r') as example_file: \n",
    "    lines  =  example_file.readlines()\n",
    "list1 = []\n",
    "for line in lines:\n",
    "    list1.append(line[:-2])    # do not append the last 2 elements of the list\n",
    "print(list1[:-2])              # don't print the last two elements of the list\n",
    "\n",
    "print()\n",
    "for line in lines:\n",
    "    print(line, end='')"
   ]
  },
  {
   "cell_type": "code",
   "execution_count": 1,
   "metadata": {},
   "outputs": [
    {
     "name": "stdout",
     "output_type": "stream",
     "text": [
      "['First line of text', 'Second line of text', 'Third line of text']\n",
      "\n",
      "First line of text \n",
      "Second line of text \n",
      "Third line of text\n",
      "\n",
      "\n"
     ]
    }
   ],
   "source": [
    "with open('D:/Python/Class/ch10/ch1004_file_readlines.txt',  'r') as example_file: \n",
    "    lines  =  example_file.readlines()\n",
    "list1 = []\n",
    "for line in lines:\n",
    "    list1.append(line.strip())\n",
    "print(list1[:-2])\n",
    "\n",
    "print()\n",
    "for line in lines:\n",
    "    print(line, end='')"
   ]
  },
  {
   "cell_type": "code",
   "execution_count": 23,
   "metadata": {},
   "outputs": [
    {
     "name": "stdout",
     "output_type": "stream",
     "text": [
      "['First line of text \\n', 'Second line of text \\n', 'Third line of text\\n', '\\n', '\\n']\n"
     ]
    }
   ],
   "source": [
    "# with, open(), readlines: import module to run\n",
    "\n",
    "import os\n",
    "os.chdir(\"D:/Python/Class/ch10\")\n",
    "os.getcwd()\n",
    "\n",
    "import ch1004_file_readlines    # call \"ch1004_file_readlines.py\" module"
   ]
  },
  {
   "cell_type": "code",
   "execution_count": null,
   "metadata": {},
   "outputs": [],
   "source": [
    "# %load ch1005_file_readlines_with_reversed.txt\n",
    "Earth \n",
    "Venus \n",
    "Mercury \n",
    "Mars \n",
    "\n",
    "\n"
   ]
  },
  {
   "cell_type": "code",
   "execution_count": 50,
   "metadata": {},
   "outputs": [
    {
     "name": "stdout",
     "output_type": "stream",
     "text": [
      "['Earth \\n', 'Venus \\n', 'Mercury \\n', 'Mars \\n', '\\n', '\\n']\n",
      "\n",
      "\n",
      "\n",
      "\n",
      "Mars \n",
      "\n",
      "Mercury \n",
      "\n",
      "Venus \n",
      "\n",
      "Earth \n",
      "\n",
      "\n",
      "\n",
      "Mars\n",
      "Mercury\n",
      "Venus\n",
      "Earth\n"
     ]
    }
   ],
   "source": [
    "# with, open(), .readlines(), reversed(), .strip(): \n",
    "\n",
    "with open('D:/Python/Class/ch10/ch1005_file_readlines_with_reversed.txt',  'r') as planets_file:\n",
    "    planets = planets_file.readlines()\n",
    "\n",
    "print(planets)\n",
    "\n",
    "for planet in reversed(planets):\n",
    "    print(planet)\n",
    "    \n",
    "for planet in reversed(planets):\n",
    "    print(planet.strip())\n"
   ]
  },
  {
   "cell_type": "raw",
   "metadata": {},
   "source": [
    "mode parameter of open() function:\n",
    "    'r'       open for reading (default)\n",
    "    'w'       open for writing, truncating the file first\n",
    "    'x'       create a new file and open it for writing\n",
    "    'a'       open for writing, appending to the end of the file if it exists\n",
    "    'b'       binary mode\n",
    "    't'       text mode (default)\n",
    "    '+'       open a disk file for updating (reading and writing)\n",
    "    'U'       universal newline mode (deprecated)"
   ]
  },
  {
   "cell_type": "code",
   "execution_count": null,
   "metadata": {},
   "outputs": [],
   "source": [
    "# help(open)"
   ]
  },
  {
   "cell_type": "code",
   "execution_count": 25,
   "metadata": {},
   "outputs": [
    {
     "name": "stdout",
     "output_type": "stream",
     "text": [
      "['Earth \\n', 'Venus \\n', 'Mercury \\n', 'Mars \\n', '\\n', '\\n']\n",
      "\n",
      "\n",
      "\n",
      "\n",
      "Mars \n",
      "\n",
      "Mercury \n",
      "\n",
      "Venus \n",
      "\n",
      "Earth \n",
      "\n",
      "\n",
      "\n",
      "Mars\n",
      "Mercury\n",
      "Venus\n",
      "Earth\n"
     ]
    }
   ],
   "source": [
    "# with, open(), .readlines(), reversed(), .strip(): call module to run\n",
    "\n",
    "import os\n",
    "os.chdir(\"D:/Python/Class/ch10\")\n",
    "os.getcwd()\n",
    "\n",
    "import ch1005_file_readlines_with_reversed    # call \"ch1005_file_readlines_with_reversed.py\" module"
   ]
  },
  {
   "cell_type": "code",
   "execution_count": 9,
   "metadata": {},
   "outputs": [
    {
     "name": "stdout",
     "output_type": "stream",
     "text": [
      "['Earth \\n', 'Mercury \\n', 'Mars \\n', 'Venus \\n', '\\n']\n",
      "\n",
      "\n",
      "Earth \n",
      "\n",
      "Mars \n",
      "\n",
      "Mercury \n",
      "\n",
      "Venus \n",
      "\n",
      "\n",
      "Earth\n",
      "Mars\n",
      "Mercury\n",
      "Venus\n"
     ]
    }
   ],
   "source": [
    "# with, open(), .readlines(), .sorted(), .strip(): \n",
    "\n",
    "with  open('D:/Python/Class/ch10/ch1006_file_readlines_with_sorted.txt',  'r') as  planets_file:\n",
    "    planets = planets_file.readlines()\n",
    "\n",
    "print(planets)\n",
    "\n",
    "for planet in sorted(planets):\n",
    "    print(planet)       # file.readlines(): Each of the lines has newline char. at the end of the line\n",
    "    \n",
    "for planet in sorted(planets):\n",
    "    print(planet.strip())    # we use *.strip() to remove the newline char. at the end of each line."
   ]
  },
  {
   "cell_type": "code",
   "execution_count": 27,
   "metadata": {},
   "outputs": [
    {
     "name": "stdout",
     "output_type": "stream",
     "text": [
      "\n",
      "\n",
      "Earth \n",
      "\n",
      "Mars \n",
      "\n",
      "Mercury \n",
      "\n",
      "Venus \n",
      "\n",
      "\n",
      "Earth\n",
      "Mars\n",
      "Mercury\n",
      "Venus\n"
     ]
    }
   ],
   "source": [
    "# with, open(), .readlines(), .sorted(), .strip(): call module to run\n",
    "\n",
    "import os\n",
    "os.chdir(\"D:/Python/Class/ch10\")\n",
    "os.getcwd()\n",
    "\n",
    "import ch1006_file_readlines_with_sorted    # call \"ch1006_file_readlines_with_sorted.py\" module"
   ]
  },
  {
   "cell_type": "markdown",
   "metadata": {},
   "source": [
    "### The \"for line in file:\" Technique"
   ]
  },
  {
   "cell_type": "code",
   "execution_count": 9,
   "metadata": {},
   "outputs": [
    {
     "name": "stdout",
     "output_type": "stream",
     "text": [
      "14 # skip 1 line\n",
      "\n",
      "6 Earth\n",
      "\n",
      "8 Mercury\n",
      "\n",
      "5 Mars\n",
      "\n",
      "5 Venus\n"
     ]
    }
   ],
   "source": [
    "# with, open(), \"for line in file:\": \n",
    "\n",
    "# Use this technique when you want to do the same thing to every line from the \n",
    "# file cursor to the end of a file. \n",
    "# On each iteration, the file cursor is moved to the beginning of the next line.\n",
    "\n",
    "with open('E:/Python/Class/ch10/ch1007_file_read_with_for_line_in_file.txt',  'r') as data_file:\n",
    "    for line in data_file:\n",
    "        print(len(line), line)    "
   ]
  },
  {
   "cell_type": "code",
   "execution_count": 17,
   "metadata": {},
   "outputs": [
    {
     "name": "stdout",
     "output_type": "stream",
     "text": [
      "14 # skip 1 line\n",
      "6 Earth\n",
      "8 Mercury\n",
      "5 Mars\n",
      "5 Venus"
     ]
    }
   ],
   "source": [
    "# Method 1 to remove newline: using end=''\n",
    "\n",
    "# Replacing default end='\\n' with end='' to remove newline \n",
    "with  open('D:/Python/Class/ch10/ch1007_file_read_with_for_line_in_file.txt',  'r') as data_file:\n",
    "    for line in data_file:\n",
    "        print(len(line), line, end='')  # end='' removes newline char. at the end of lines"
   ]
  },
  {
   "cell_type": "code",
   "execution_count": 21,
   "metadata": {
    "scrolled": true
   },
   "outputs": [
    {
     "name": "stdout",
     "output_type": "stream",
     "text": [
      "14 # skip 1 line\n",
      "6 Earth\n",
      "8 Mercury\n",
      "5 Mars\n",
      "5 Venus\n"
     ]
    }
   ],
   "source": [
    "# Method 2 to remove newline: using str.strip()\n",
    "\n",
    "# str.strip(): string method strip returns a copy of a string that has leading and trailing whitespace \n",
    "#    characters (spaces, tabs, and newlines) stripped away:\n",
    "\n",
    "with  open('D:/Python/Class/ch10/ch1007_file_read_with_for_line_in_file.txt',  'r') as  data_file:\n",
    "    for line in data_file:\n",
    "        print(len(line), line.strip()) # str.strip() removes the newline char. at the end of lines"
   ]
  },
  {
   "cell_type": "code",
   "execution_count": 65,
   "metadata": {},
   "outputs": [
    {
     "name": "stdout",
     "output_type": "stream",
     "text": [
      "14 # skip 1 line\n",
      "6 Earth\n",
      "8 Mercury\n",
      "5 Mars\n",
      "5 Venus\n"
     ]
    }
   ],
   "source": [
    "# with, opn(), \"for line in file:\": call module to run\n",
    "\n",
    "import os\n",
    "os.chdir(\"D:/Python/Class/ch10\")\n",
    "os.getcwd()\n",
    "\n",
    "import ch1007_file_read_with_for_line_in_file    # call \"ch1007_file_read_with_for_line_in_file.py\""
   ]
  },
  {
   "cell_type": "markdown",
   "metadata": {},
   "source": [
    "### The \"*.readline()\" Technique"
   ]
  },
  {
   "cell_type": "code",
   "execution_count": 31,
   "metadata": {},
   "outputs": [],
   "source": [
    "# This technique reads one line at a time, unlike the Readlines technique. \n",
    "# Use this technique when you want to read only part of a file.\n",
    "\n",
    "# Each call on the function readline moves the file cursor\n",
    "# to the beginning of the next line.\n",
    "\n",
    "# For example, you might want to treat lines differently depending on context; \n",
    "#     perhaps you want to process a file that has a header section followed by \n",
    "#     a series of records, either one record per line or with multiline records."
   ]
  },
  {
   "cell_type": "markdown",
   "metadata": {},
   "source": [
    "#### Using \"*.readline()\" and Then \"for line in file():\" Techniques to Read a Table"
   ]
  },
  {
   "cell_type": "raw",
   "metadata": {},
   "source": [
    "# Suppose we have a table below to read: (Gries, Campbell, and Montojo 2013, p.179)\n",
    "\n",
    "Coloured fox fur production, HOPEDALE, Labrador, 1834-1842\n",
    "#Source: C. Elton (1942) \"Voles, Mice and Lemmings\", Oxford Univ. Press\n",
    "#Table 17, p.265--266\n",
    "      22\n",
    "      29\n",
    "       2\n",
    "      16\n",
    "      12\n",
    "      35\n",
    "       8\n",
    "      83\n",
    "     166\n",
    "\n",
    "# The first line contains a description of the data. \n",
    "# The next two lines contain comments about the data, each of which begins with a # character. \n",
    "# Each piece of actual data appears on a single line.\n",
    "\n",
    "# We’ll use the Readline technique to skip the header, and then we’ll use the \n",
    "#    For Line in File technique to process the data in the file, counting how\n",
    "#    many fox fur pelts were produced."
   ]
  },
  {
   "cell_type": "code",
   "execution_count": 14,
   "metadata": {},
   "outputs": [],
   "source": [
    "import itertools\n",
    "# help(itertools.islice)"
   ]
  },
  {
   "cell_type": "code",
   "execution_count": null,
   "metadata": {},
   "outputs": [],
   "source": [
    "# %load hopedale.txt\n",
    "Coloured fox fur production, HOPEDALE, Labrador, 1834-1842\n",
    "#Source: C. Elton (1942) \"Voles, Mice and Lemmings\", Oxford Univ. Press\n",
    "#Table 17, p.265--266\n",
    "       22\n",
    "       29\n",
    "        2\n",
    "       16\n",
    "       12\n",
    "       35\n",
    "        8\n",
    "       83\n",
    "      166"
   ]
  },
  {
   "cell_type": "markdown",
   "metadata": {},
   "source": [
    "### AAAA"
   ]
  },
  {
   "cell_type": "code",
   "execution_count": 54,
   "metadata": {},
   "outputs": [
    {
     "name": "stdout",
     "output_type": "stream",
     "text": [
      "Total number of pelts: 373\n"
     ]
    }
   ],
   "source": [
    "# p. 182\n",
    "# This readline() technique reads one line at a time, \n",
    "# unlike the Readlines technique.\n",
    "\n",
    "# Each call on the function readline moves the file cursor to the beginning of \n",
    "# the next line.\n",
    "\n",
    "# str.strip(): string method strip returns a copy of a string that has leading \n",
    "# and trailing whitespace characters (spaces, tabs, and newlines) stripped away:\n",
    "\n",
    "import os\n",
    "os.chdir('D:/Python/Class/ch10/')\n",
    "with open('ch1008_file_read_readline.txt', 'r') as hopedale_file:\n",
    "    # Read and skip the description line.\n",
    "    hopedale_file.readline()   # cursor moves to the beginning of the 2nd line\n",
    "    \n",
    "    # Keep reading and skipping comment lines until we read the first piece\n",
    "    # of data.\n",
    "    data = hopedale_file.readline().strip()\n",
    "    while data.startswith('#'):\n",
    "        # Each call on the function readline moves the file cursor to the \n",
    "        # beginning of the next line.\n",
    "        data = hopedale_file.readline().strip()\n",
    "        \n",
    "    # Now we have the first piece of data.  Accumulate the total number of\n",
    "    #  pelts.\n",
    "    total_pelts = int(data)\n",
    "    \n",
    "    # Read the rest of the data.\n",
    "    for k in hopedale_file:\n",
    "        total_pelts = total_pelts + int(k.strip())\n",
    "\n",
    "print(\"Total number of pelts:\", total_pelts)"
   ]
  },
  {
   "cell_type": "code",
   "execution_count": 21,
   "metadata": {},
   "outputs": [
    {
     "name": "stdout",
     "output_type": "stream",
     "text": [
      "#Source: C. Elton (1942) \"Voles, Mice and Lemmings\", Oxford Univ. Press\n",
      "------------------------------------------------------------\n",
      "#Table 17, p.265--266\n",
      "------------------------------------------------------------\n",
      "22\n",
      "------------------------------------------------------------\n"
     ]
    }
   ],
   "source": [
    "# p. 182\n",
    "\n",
    "import os\n",
    "os.chdir('E:/Python/Class/ch10/')\n",
    "with open('ch1008_file_read_readline.txt', 'r') as hopedale_file:\n",
    "    # Read and skip the description line.\n",
    "    hopedale_file.readline()\n",
    "    # Keep reading and skipping comment lines until we read the first piece\n",
    "    # of data.\n",
    "    data = hopedale_file.readline().strip()\n",
    "    print(data);   print('-'*60)\n",
    "    while data.startswith('#'):\n",
    "        # Each call on the function readline moves the file cursor to the \n",
    "        # beginning of the next line.\n",
    "        data = hopedale_file.readline().strip()\n",
    "        print(data);   print('-'*60)"
   ]
  },
  {
   "cell_type": "code",
   "execution_count": 57,
   "metadata": {},
   "outputs": [
    {
     "name": "stdout",
     "output_type": "stream",
     "text": [
      "Total number of pelts: 373\n"
     ]
    }
   ],
   "source": [
    "# Call \"ch1008_file_read_readline.py\" module\n",
    "\n",
    "import os\n",
    "os.chdir(\"D:/Python/Class/ch10\")\n",
    "os.getcwd()\n",
    "\n",
    "import ch1008_file_read_readline    # import \"ch1008_file_read_readline.py\" module"
   ]
  },
  {
   "cell_type": "markdown",
   "metadata": {},
   "source": [
    "###### The Readline Technique, p. 183\n",
    "* Reads One Line at a Time\n",
    "* Each call on the function readline moves the file cursor to the beginning of the next line."
   ]
  },
  {
   "cell_type": "code",
   "execution_count": 58,
   "metadata": {
    "scrolled": true
   },
   "outputs": [
    {
     "name": "stdout",
     "output_type": "stream",
     "text": [
      "Coloured fox fur production, HOPEDALE, Labrador, 1834-1842\n",
      "\n"
     ]
    }
   ],
   "source": [
    "import os\n",
    "os.chdir('D:/Python/Class/ch10/')\n",
    "\n",
    "with open('ch1008_file_read_readline.txt', 'r') as hopedale_file:\n",
    "    # Read and skip the description line.\n",
    "    print(hopedale_file.readline())"
   ]
  },
  {
   "cell_type": "code",
   "execution_count": 22,
   "metadata": {},
   "outputs": [
    {
     "name": "stdout",
     "output_type": "stream",
     "text": [
      "#Source: C. Elton (1942) \"Voles, Mice and Lemmings\", Oxford Univ. Press\n"
     ]
    }
   ],
   "source": [
    "import os\n",
    "os.chdir('D:/Python/Class/ch10/')\n",
    "\n",
    "with open('ch1008_file_read_readline.txt', 'r') as hopedale_file:\n",
    "    # Read and skip the description line.\n",
    "    hopedale_file.readline()\n",
    "    \n",
    "    # Keep reading and skipping comment lines until we read the first piece\n",
    "    # of data.\n",
    "    data = hopedale_file.readline().strip()\n",
    "print(data)"
   ]
  },
  {
   "cell_type": "code",
   "execution_count": 23,
   "metadata": {},
   "outputs": [
    {
     "name": "stdout",
     "output_type": "stream",
     "text": [
      "#Source: C. Elton (1942) \"Voles, Mice and Lemmings\", Oxford Univ. Press\n"
     ]
    }
   ],
   "source": [
    "import os\n",
    "os.chdir('E:/Python/Class/ch10/')\n",
    "\n",
    "with open('ch1008_file_read_readline.txt', 'r') as hopedale_file:\n",
    "    # Read and skip the description line.\n",
    "    hopedale_file.readline()\n",
    "    \n",
    "    # Keep reading and skipping comment lines until we read the first piece\n",
    "    # of data.\n",
    "    data = hopedale_file.readline().strip()\n",
    "    print(data)"
   ]
  },
  {
   "cell_type": "code",
   "execution_count": null,
   "metadata": {},
   "outputs": [],
   "source": [
    "# %load ch1008_file_read_readline.txt\n",
    "Coloured fox fur production, HOPEDALE, Labrador, 1834-1842\n",
    "#Source: C. Elton (1942) \"Voles, Mice and Lemmings\", Oxford Univ. Press\n",
    "#Table 17, p.265--266\n",
    "       22\n",
    "       29\n",
    "        2\n",
    "       16\n",
    "       12\n",
    "       35\n",
    "        8\n",
    "       83\n",
    "      166"
   ]
  },
  {
   "cell_type": "code",
   "execution_count": 62,
   "metadata": {
    "scrolled": true
   },
   "outputs": [
    {
     "name": "stdout",
     "output_type": "stream",
     "text": [
      "22\n",
      "       29\n",
      "        2\n",
      "       16\n",
      "       12\n",
      "       35\n",
      "        8\n",
      "       83\n",
      "      166\n"
     ]
    }
   ],
   "source": [
    "# p. 182\n",
    "import os\n",
    "os.chdir('D:/Python/Class/ch10/')\n",
    "\n",
    "with open('ch1008_file_read_readline.txt', 'r') as hopedale_file:\n",
    "    # Read and skip the description line.\n",
    "    hopedale_file.readline()\n",
    "    \n",
    "    # Keep reading and skipping comment lines until we read the first piece\n",
    "    # of data.\n",
    "    data = hopedale_file.readline().strip()\n",
    "    while data.startswith('#'):\n",
    "        data = hopedale_file.readline().strip()\n",
    "    # Now we have the first piece of data.\n",
    "    print(data)\n",
    "    # Read the rest of the data.\n",
    "    for data in hopedale_file:\n",
    "        print(data.rstrip())"
   ]
  },
  {
   "cell_type": "code",
   "execution_count": 27,
   "metadata": {},
   "outputs": [
    {
     "name": "stdout",
     "output_type": "stream",
     "text": [
      "#Table 17, p.265--266\n",
      "22\n"
     ]
    }
   ],
   "source": [
    "# p. 182\n",
    "import os\n",
    "os.chdir('D:/Python/Class/ch10/')\n",
    "with open('ch1008_file_read_readline.txt', 'r') as hopedale_file:\n",
    "    # Read and skip the description line.\n",
    "    hopedale_file.readline()\n",
    "    \n",
    "    # Keep reading and skipping comment lines until we read the first piece\n",
    "    # of data.\n",
    "    data = hopedale_file.readline().strip()\n",
    "    while data.startswith('#'):\n",
    "        data = hopedale_file.readline().strip()\n",
    "        print(data)"
   ]
  },
  {
   "cell_type": "markdown",
   "metadata": {},
   "source": [
    "###### Files over the Internet, p. 183\n",
    "+ data file: http://robjhyndman.com/tsdldata/ecology1/hopedale.dat "
   ]
  },
  {
   "cell_type": "markdown",
   "metadata": {},
   "source": [
    "**Module urllib.request** contains a function called **urlopen** that opens a web page for reading. urlopen returns a file-like object that you can use much as if you were reading a local file."
   ]
  },
  {
   "cell_type": "raw",
   "metadata": {},
   "source": [
    "The urlopen of urllib.request returns a file-like object. This file-like object’s read and readline methods both return a type: bytes."
   ]
  },
  {
   "cell_type": "markdown",
   "metadata": {},
   "source": [
    "###### Bytes:  (p. 184)\n",
    "1. Bits: 0s and 1s. \n",
    "2. All data such as characters, sounds, and pixels are represented as sequences of bits\n",
    "3. Each group of eight bits is called a byte\n",
    "4. Programming languages interpret these bytes as integers, strings, functions, and documents for us"
   ]
  },
  {
   "cell_type": "markdown",
   "metadata": {},
   "source": [
    "Information in bits => bytes => encoding => decoding"
   ]
  },
  {
   "cell_type": "markdown",
   "metadata": {},
   "source": [
    "###### Encoding\n",
    "1. Standard encoding: https://docs.python.org/3/library/codecs.html#standard-encodings\n",
    "2. Unicode HOWTO:\n",
    "    + One of the most common encodings is **UTF-8**, an encoding created to represent Unicode:  https://docs.python.org/3/howto/unicode.html"
   ]
  },
  {
   "cell_type": "markdown",
   "metadata": {},
   "source": [
    "**Encoding**: The rules for translating a Unicode string into a sequence of bytes are called a character encoding, or just an encoding."
   ]
  },
  {
   "cell_type": "raw",
   "metadata": {},
   "source": [
    "UTF-8: UTF-8 is one of the most commonly used encodings, and Python often defaults to using it. UTF stands for “Unicode Transformation Format”, and the ‘8’ means that 8-bit values are used in the encoding. (There are also UTF-16 and UTF-32 encodings, but they are less frequently used than UTF-8.) "
   ]
  },
  {
   "cell_type": "markdown",
   "metadata": {},
   "source": [
    "The Hopedale data on the web is encoded using UTF-8. This program reads that web page and uses string method decode in order to decode the bytes object:"
   ]
  },
  {
   "cell_type": "markdown",
   "metadata": {},
   "source": [
    "# Pause (End of Spring 2020)"
   ]
  },
  {
   "cell_type": "code",
   "execution_count": 24,
   "metadata": {},
   "outputs": [
    {
     "name": "stdout",
     "output_type": "stream",
     "text": [
      "Coloured fox fur production, HOPEDALE, Labrador,, 1834-1925\n",
      "#Source: C. Elton (1942) \"Voles, Mice and Lemmings\", Oxford Univ. Press\n",
      "#Table 17, p.265--266\n",
      "22\n",
      "29\n",
      "2\n",
      "16\n",
      "12\n",
      "35\n",
      "8\n",
      "83\n",
      "166\n",
      "62\n",
      "77\n",
      "42\n",
      "54\n",
      "56\n",
      "5\n",
      "9\n",
      "78\n",
      "151\n",
      "27\n",
      "14\n",
      "71\n",
      "261\n",
      "22\n",
      "3\n",
      "16\n",
      "70\n",
      "7\n",
      "2\n",
      "26\n",
      "27\n",
      "35\n",
      "9\n",
      "11\n",
      "73\n",
      "39\n",
      "22\n",
      "41\n",
      "31\n",
      "60\n",
      "7\n",
      "28\n",
      "43\n",
      "17\n",
      "26\n",
      "35\n",
      "60\n",
      "75\n",
      "18\n",
      "58\n",
      "38\n",
      "28\n",
      "26\n",
      "29\n",
      "43\n",
      "16\n",
      "40\n",
      "25\n",
      "28\n",
      "12\n",
      "22\n",
      "13\n",
      "52\n",
      "90\n",
      "103\n",
      "15\n",
      "26\n",
      "29\n",
      "102\n",
      "31\n",
      "9\n",
      "33\n",
      "90\n",
      "95\n",
      "17\n",
      "35\n",
      "59\n",
      "115\n",
      "12\n",
      "26\n",
      "38\n",
      "202\n",
      "25\n",
      "83\n",
      "92\n",
      "58\n",
      "0\n",
      "19\n",
      "63\n",
      "108\n",
      "25\n",
      "38\n",
      "231\n"
     ]
    }
   ],
   "source": [
    "import urllib.request\n",
    "url = 'https://robjhyndman.com/tsdldata/ecology1/hopedale.dat'\n",
    "with urllib.request.urlopen(url) as webpage:\n",
    "    for line in webpage: \n",
    "        line  =  line.strip()\n",
    "        line  =  line.decode('utf-8')\n",
    "        print(line)"
   ]
  },
  {
   "cell_type": "markdown",
   "metadata": {},
   "source": [
    "# Writing Files, p. 185"
   ]
  },
  {
   "cell_type": "markdown",
   "metadata": {},
   "source": [
    "### Writing Files"
   ]
  },
  {
   "cell_type": "code",
   "execution_count": 34,
   "metadata": {},
   "outputs": [],
   "source": [
    "import os\n",
    "os.chdir('D:/Python/class/data')\n",
    "\n",
    "# Writing the string 'Computer Science' to the file 'topics.txt'\n",
    "with open('topics.txt', 'w') as output_file: \n",
    "    output_file.write('Computer Science')"
   ]
  },
  {
   "cell_type": "markdown",
   "metadata": {},
   "source": [
    "### Adding Files"
   ]
  },
  {
   "cell_type": "code",
   "execution_count": 32,
   "metadata": {},
   "outputs": [],
   "source": [
    "import os\n",
    "os.chdir('D:/Python/class/data')\n",
    "\n",
    "with open('topics.txt',  'a') as  output_file: \n",
    "    output_file.write('Software Engineering')"
   ]
  },
  {
   "cell_type": "markdown",
   "metadata": {},
   "source": [
    "Notice that the code snippet below uses typing.TextIO as the type annotation for an open file.                        "
   ]
  },
  {
   "cell_type": "code",
   "execution_count": 63,
   "metadata": {},
   "outputs": [],
   "source": [
    "# total.py\n",
    "import os\n",
    "os.chdir('D:/Python/class/data')\n",
    "\n",
    "# Assume that in the directory 'D:/Python/class/data' \n",
    "# a file called number_pairs.txt exists with these contents:\n",
    "# \n",
    "# 1.3 3.4\n",
    "# 2 4.2\n",
    "# -1 1\n",
    "\n",
    "from typing import TextIO\n",
    "from io import StringIO\n",
    "\n",
    "# Notice below that parameters are open files. That is why we don’t need to call \n",
    "# function open inside the function. Instead, that happens in the main program.\n",
    "\n",
    "def sum_number_pairs(input_file: TextIO, output_file: TextIO) -> None: \n",
    "    \"\"\"Read the data from input_file, which contains two floats per line \n",
    "    separated by a space. output_file for writing and, for each line in \n",
    "    input_file, write a line to output_file that contains the two floats from \n",
    "    the corresponding line of input_file plus a space and the sum of the two \n",
    "    floats.\n",
    "    \"\"\"\n",
    "    for number_pair in input_file: \n",
    "        # print(number_pair, end='')\n",
    "        number_pair = number_pair.strip()   # string\n",
    "        operands = number_pair.split()      # split string into a list\n",
    "        total = float(operands[0]) + float(operands[1]) \n",
    "        new_line = f'{number_pair} {total}\\n' \n",
    "        # new_line = '{0} {1}\\n'.format(number_pair, total) \n",
    "        output_file.write(new_line)\n",
    "\n",
    "if __name__ == '__main__':\n",
    "    with open('number_pairs.txt', 'r') as input_file, \\\n",
    "            open('number_pair_sums.txt', 'w') as output_file:\n",
    "        sum_number_pairs(input_file, output_file)"
   ]
  },
  {
   "cell_type": "code",
   "execution_count": 44,
   "metadata": {},
   "outputs": [
    {
     "name": "stdout",
     "output_type": "stream",
     "text": [
      "['__class__', '__class_getitem__', '__delattr__', '__dir__', '__doc__', '__enter__', '__eq__', '__exit__', '__format__', '__ge__', '__getattribute__', '__gt__', '__hash__', '__init__', '__init_subclass__', '__le__', '__lt__', '__module__', '__ne__', '__new__', '__orig_bases__', '__parameters__', '__reduce__', '__reduce_ex__', '__repr__', '__setattr__', '__sizeof__', '__slots__', '__str__', '__subclasshook__', 'buffer', 'close', 'closed', 'encoding', 'errors', 'fileno', 'flush', 'isatty', 'line_buffering', 'mode', 'name', 'newlines', 'read', 'readable', 'readline', 'readlines', 'seek', 'seekable', 'tell', 'truncate', 'writable', 'write', 'writelines']\n"
     ]
    }
   ],
   "source": [
    "import typing\n",
    "print(dir(TextIO))  # it has read(), readline(), and readlines()"
   ]
  },
  {
   "cell_type": "code",
   "execution_count": null,
   "metadata": {},
   "outputs": [],
   "source": [
    "# %load number_pairs.txt\n",
    "1.3 3.4\n",
    "2 4.2\n",
    "-1 1"
   ]
  },
  {
   "cell_type": "markdown",
   "metadata": {},
   "source": [
    "### Writing Example Calls Using StringIO, (p. 186)"
   ]
  },
  {
   "cell_type": "markdown",
   "metadata": {},
   "source": [
    "Following the function design recipe, we need to write example calls. Writing these calls using real files would involve creating test files for each of the situations you want to demonstrate. This is fragile:\n",
    "1. for others to test the code, you need send them the test files,\n",
    "2. for understanding the function, one needs to open the input and output files.\n",
    "\n",
    "**Python provides a class, StringIO, in module io, that can be used as a mock open file.** That means that **you can read from it using the regular file-reading techniques as if it were a real file. StringIO objects can be used anywhere TextIO are expected.**\n",
    "\n",
    "**Here, we create a StringIO object containing the same information as file number_pairs.txt, and read the first line:**"
   ]
  },
  {
   "cell_type": "markdown",
   "metadata": {},
   "source": [
    "###### StringIO.readline()"
   ]
  },
  {
   "cell_type": "code",
   "execution_count": 66,
   "metadata": {},
   "outputs": [
    {
     "data": {
      "text/plain": [
       "'1.3 3.4\\n'"
      ]
     },
     "execution_count": 66,
     "metadata": {},
     "output_type": "execute_result"
    }
   ],
   "source": [
    "# Assume that in the directory 'D:/Python/class/data' \n",
    "# a file called number_pairs.txt exists with these contents:\n",
    "# \n",
    "# 1.3 3.4\n",
    "# 2 4.2\n",
    "# -1 1\n",
    "\n",
    "from io import StringIO\n",
    "input_string = '1.3 3.4\\n2 4.2\\n-1 1\\n'\n",
    "infile = StringIO(input_string)\n",
    "infile.readline()   # '1.3 3.4\\n' "
   ]
  },
  {
   "cell_type": "code",
   "execution_count": 67,
   "metadata": {},
   "outputs": [
    {
     "data": {
      "text/plain": [
       "'2 4.2\\n'"
      ]
     },
     "execution_count": 67,
     "metadata": {},
     "output_type": "execute_result"
    }
   ],
   "source": [
    "infile.readline()   # '2 4.2\\n'"
   ]
  },
  {
   "cell_type": "markdown",
   "metadata": {},
   "source": [
    "### StringIO.write(), p. 187"
   ]
  },
  {
   "cell_type": "code",
   "execution_count": 1,
   "metadata": {},
   "outputs": [
    {
     "data": {
      "text/plain": [
       "12"
      ]
     },
     "execution_count": 1,
     "metadata": {},
     "output_type": "execute_result"
    }
   ],
   "source": [
    "from io import StringIO\n",
    "outfile  =  StringIO()\n",
    "\n",
    "# outfile.write() returns the length of the string\n",
    "outfile.write('1.3 3.4 4.7\\n')"
   ]
  },
  {
   "cell_type": "code",
   "execution_count": 69,
   "metadata": {},
   "outputs": [
    {
     "data": {
      "text/plain": [
       "'1.3 3.4 4.7\\n2 4.2 6.2\\n-1 1 0.0\\n'"
      ]
     },
     "execution_count": 69,
     "metadata": {},
     "output_type": "execute_result"
    }
   ],
   "source": [
    "# We can also write to StringIO objects as if they were files, \n",
    "# and retrieve their contents as a string using method getvalue:\n",
    "\n",
    "from io import StringIO\n",
    "outfile  =  StringIO()\n",
    "\n",
    "# outfile.write() returns the length of the string\n",
    "outfile.write('1.3 3.4 4.7\\n') # 12 characters \n",
    "outfile.write('2 4.2 6.2\\n')   # 10 characters\n",
    "outfile.write('-1 1 0.0\\n')    # 9 characters\n",
    "\n",
    "# Retrieve the entire contents of the object\n",
    "outfile.getvalue()             # '1.3 3.4 4.7\\n2 4.2 6.2\\n-1 1 0.0\\n'"
   ]
  },
  {
   "cell_type": "code",
   "execution_count": 3,
   "metadata": {},
   "outputs": [],
   "source": [
    "# Retrieve the entire contents of the object\n",
    "help(outfile.getvalue)"
   ]
  },
  {
   "cell_type": "code",
   "execution_count": 71,
   "metadata": {},
   "outputs": [
    {
     "name": "stdout",
     "output_type": "stream",
     "text": [
      "Help on built-in function write:\n",
      "\n",
      "write(s, /) method of _io.StringIO instance\n",
      "    Write string to file.\n",
      "    \n",
      "    Returns the number of characters written, which is always equal to\n",
      "    the length of the string.\n",
      "\n"
     ]
    }
   ],
   "source": [
    "# Returns the number of characters written, which is always equal to\n",
    "# the length of the string.\n",
    "help(outfile.write)  "
   ]
  },
  {
   "cell_type": "code",
   "execution_count": 58,
   "metadata": {},
   "outputs": [
    {
     "data": {
      "text/plain": [
       "10"
      ]
     },
     "execution_count": 58,
     "metadata": {},
     "output_type": "execute_result"
    }
   ],
   "source": [
    "outfile.write('2 4.2 6.2\\n') # 10 characters"
   ]
  },
  {
   "cell_type": "code",
   "execution_count": 5,
   "metadata": {},
   "outputs": [
    {
     "data": {
      "text/plain": [
       "9"
      ]
     },
     "execution_count": 5,
     "metadata": {},
     "output_type": "execute_result"
    }
   ],
   "source": [
    "outfile.write('-1 1 0.0\\n') # 9 characters      "
   ]
  },
  {
   "cell_type": "code",
   "execution_count": 6,
   "metadata": {},
   "outputs": [
    {
     "data": {
      "text/plain": [
       "'1.3 3.4 4.7\\n-1 1 0.0\\n-1 1 0.0\\n'"
      ]
     },
     "execution_count": 6,
     "metadata": {},
     "output_type": "execute_result"
    }
   ],
   "source": [
    "outfile.getvalue()          # '1.3 3.4 4.7\\n2 4.2 6.2\\n-1 1 0.0\\n'"
   ]
  },
  {
   "cell_type": "code",
   "execution_count": 8,
   "metadata": {},
   "outputs": [],
   "source": [
    "from typing import TextIO\n",
    "from io import StringIO\n",
    "\n",
    "def sum_number_pairs(input_file: TextIO, output_file: TextIO) -> None: \n",
    "    \"\"\"Read the data from input_file, which contains two floats per line \n",
    "    separated by a space. output_file for writing and, for each line in \n",
    "    input_file, write a line to output_file that contains the two floats from \n",
    "    the corresponding line of input_file plus a space and the sum of the two \n",
    "    floats.\n",
    "\n",
    "    >>> infile = StringIO('1.3 3.4\\n2 4.2\\n-1 1\\n')\n",
    "    >>> outfile = StringIO()\n",
    "    >>> sum_number_pairs(infile, outfile)\n",
    "    >>> outfile.getvalue()\n",
    "    '1.3 3.4 4.7\\n2 4.2 6.2\\n-1 1 0.0\\n' \n",
    "    \"\"\"\n",
    "\n",
    "    for number_pair in input_file: \n",
    "        number_pair = number_pair.strip() \n",
    "        operands = number_pair.split()\n",
    "        total = float(operands[0]) + float(operands[1]) \n",
    "        new_line = f'{number_pair} {total}\\n'\n",
    "        # new_line = '{0} {1}\\n'.format(number_pair, total)\n",
    "        output_file.write(new_line)\n",
    "\n",
    "if __name__ == '__main__':\n",
    "    import os\n",
    "    os.chdir('D:/Python/class/data')\n",
    "    with open('number_pairs.txt', 'r') as input_file, \\\n",
    "            open('number_pair_sums.txt', 'w') as output_file:\n",
    "        sum_number_pairs(input_file, output_file)"
   ]
  },
  {
   "cell_type": "code",
   "execution_count": null,
   "metadata": {},
   "outputs": [],
   "source": [
    "%load number_pair_sums.txt"
   ]
  },
  {
   "cell_type": "code",
   "execution_count": 9,
   "metadata": {},
   "outputs": [
    {
     "data": {
      "text/plain": [
       "'1.3 3.4 4.7\\n2 4.2 6.2\\n-1 1 0.0\\n'"
      ]
     },
     "execution_count": 9,
     "metadata": {},
     "output_type": "execute_result"
    }
   ],
   "source": [
    "from typing import TextIO\n",
    "from io import StringIO\n",
    "\n",
    "infile = StringIO('1.3 3.4\\n2 4.2\\n-1 1\\n')\n",
    "outfile = StringIO()\n",
    "sum_number_pairs(infile, outfile)\n",
    "outfile.getvalue()"
   ]
  },
  {
   "cell_type": "markdown",
   "metadata": {},
   "source": [
    "### Writing Algorithms That Use the File-Reading Techniques, p. 188\n",
    "+ Use various file-reading techniques to organize information in files"
   ]
  },
  {
   "cell_type": "markdown",
   "metadata": {},
   "source": [
    "#### 1. Skipping the Header, p. 188"
   ]
  },
  {
   "cell_type": "markdown",
   "metadata": {},
   "source": [
    "###### Readline technique (p. 181, bottom) can be used to skip the header\n",
    "1. The readline technique reads one line at a time and ends at the start of next line. \n",
    "2. As the example on page 182 shows, the technique ends when we read the first real piece of data, which will be the first line after the description that doesn’t start with a #.\n",
    "3. Disadvantage: The problem with this approach is that we can’t tell whether a line is a comment line until we’ve read it, but we can read a line from a file only once—there’s no simple way to “back up” in the file."
   ]
  },
  {
   "cell_type": "raw",
   "metadata": {},
   "source": [
    "Coloured fox fur production, HOPEDALE, Labrador, 1834-1842\n",
    "#Source: C. Elton (1942) \"Voles, Mice and Lemmings\", Oxford Univ. Press\n",
    "#Table 17, p.265--266\n",
    "       22\n",
    "       29\n",
    "        2\n",
    "       16\n",
    "       12\n",
    "       35\n",
    "        8\n",
    "       83\n",
    "      166"
   ]
  },
  {
   "cell_type": "markdown",
   "metadata": {},
   "source": [
    "###### Demo: The readline technique reads one line at a time and ends at the start of next line."
   ]
  },
  {
   "cell_type": "code",
   "execution_count": 12,
   "metadata": {},
   "outputs": [
    {
     "name": "stdout",
     "output_type": "stream",
     "text": [
      "       22\n",
      "\n"
     ]
    }
   ],
   "source": [
    "# Demo: The readline technique reads one line at a time \n",
    "#       and ends at the start of next line.\n",
    "\n",
    "from typing import TextIO\n",
    "from io import StringIO\n",
    "\n",
    "def skip_header(reader: TextIO) -> str:\n",
    "    \"\"\"Skip the header in reader and return the first real piece of data.\n",
    "\n",
    "    >>> infile = StringIO('Example\\\\n# Comment\\\\n# Comment\\\\nData line\\\\n')\n",
    "    >>> skip_header(infile) \n",
    "    'Data  line\\\\n'\n",
    "    \"\"\"\n",
    "\n",
    "    # Read the description line\n",
    "    line = reader.readline()\n",
    "\n",
    "    # Find the first non-comment line\n",
    "    line = reader.readline()\n",
    "    while line.startswith('#'): \n",
    "        line = reader.readline()\n",
    "\n",
    "    # Now line contains the first real piece of data\n",
    "    # return line\n",
    "    print(line) \n",
    "    \n",
    "with open('D:/Python/Class/Data/hopedale.txt', 'r') as input_file: \n",
    "    skip_header(input_file)"
   ]
  },
  {
   "cell_type": "markdown",
   "metadata": {},
   "source": [
    "###### pp. 188-189"
   ]
  },
  {
   "cell_type": "code",
   "execution_count": null,
   "metadata": {},
   "outputs": [],
   "source": [
    "%load hopedale.txt"
   ]
  },
  {
   "cell_type": "code",
   "execution_count": 205,
   "metadata": {},
   "outputs": [
    {
     "name": "stdout",
     "output_type": "stream",
     "text": [
      "22\n",
      "29\n",
      "2\n",
      "16\n",
      "12\n",
      "35\n",
      "8\n",
      "83\n",
      "166\n"
     ]
    }
   ],
   "source": [
    "# time_series.py ('D:/Python/Class/Data/time_series.py')\n",
    "# p. 188, bottom\n",
    "\n",
    "# Readline technique can be used to skip the header\n",
    "from typing import TextIO\n",
    "from io import StringIO\n",
    "\n",
    "def skip_header(reader: TextIO) -> str:\n",
    "    \"\"\"Skip the header in reader and return the first real piece of data.\n",
    "\n",
    "    >>> infile = StringIO('Example\\\\n# Comment\\\\n# Comment\\\\nData line\\\\n')\n",
    "    >>> skip_header(infile) \n",
    "    'Data  line\\\\n'\n",
    "    \"\"\"\n",
    "        \n",
    "    # Read the description line\n",
    "    line = reader.readline()\n",
    "\n",
    "    # Find the first non-comment line\n",
    "    line = reader.readline()\n",
    "    while line.startswith('#'): \n",
    "        line = reader.readline()\n",
    "\n",
    "    # Now line contains the first real piece of data\n",
    "    return line  \n",
    "\n",
    "def process_file(reader: TextIO) -> None:\n",
    "    \"\"\"Read and print the data from reader, which must start with a single \n",
    "    description line, then a sequence of lines beginning with '#', then a \n",
    "    sequence of data.\n",
    "\n",
    "    >>> infile = StringIO('Example\\\\n# Comment\\\\nLine 1\\\\nLine 2\\\\n')\n",
    "    >>> process_file(infile) \n",
    "    Line 1\n",
    "    Line 2 \n",
    "    \"\"\"\n",
    "\n",
    "    # Find and print the first piece of data \n",
    "    line = skip_header(reader).strip() \n",
    "    print(line)\n",
    "\n",
    "    # Read the rest of the data\n",
    "    for line in reader:\n",
    "        line = line.strip()\n",
    "        print(line)\n",
    "\n",
    "if __name__  ==  '__main__':\n",
    "    with open('D:/Python/Class/Data/hopedale.txt', 'r') as input_file: \n",
    "        process_file(input_file)"
   ]
  },
  {
   "cell_type": "code",
   "execution_count": 52,
   "metadata": {},
   "outputs": [
    {
     "name": "stdout",
     "output_type": "stream",
     "text": [
      "Coloured fox fur production, HOPEDALE, Labrador, 1834-1842\n",
      "#Source: C. Elton (1942) \"Voles, Mice and Lemmings\", Oxford Univ. Press\n",
      "#Table 17, p.265--266\n",
      "       22\n",
      "       29\n",
      "        2\n",
      "       16\n",
      "       12\n",
      "       35\n",
      "        8\n",
      "       83\n",
      "      166\n"
     ]
    },
    {
     "data": {
      "text/plain": [
       "str"
      ]
     },
     "execution_count": 52,
     "metadata": {},
     "output_type": "execute_result"
    }
   ],
   "source": [
    "with open('D:/Python/Class/Data/hopedale.txt', 'r') as input_file: \n",
    "    input = input_file.read()\n",
    "print(input)\n",
    "type(input)"
   ]
  },
  {
   "cell_type": "code",
   "execution_count": 53,
   "metadata": {},
   "outputs": [
    {
     "name": "stdout",
     "output_type": "stream",
     "text": [
      "['Coloured fox fur production, HOPEDALE, Labrador, 1834-1842\\n', '#Source: C. Elton (1942) \"Voles, Mice and Lemmings\", Oxford Univ. Press\\n', '#Table 17, p.265--266\\n', '       22\\n', '       29\\n', '        2\\n', '       16\\n', '       12\\n', '       35\\n', '        8\\n', '       83\\n', '      166']\n"
     ]
    },
    {
     "data": {
      "text/plain": [
       "list"
      ]
     },
     "execution_count": 53,
     "metadata": {},
     "output_type": "execute_result"
    }
   ],
   "source": [
    "with open('D:/Python/Class/Data/hopedale.txt', 'r') as input_file: \n",
    "    input = input_file.readlines()\n",
    "print(input)\n",
    "type(input)"
   ]
  },
  {
   "cell_type": "code",
   "execution_count": 54,
   "metadata": {},
   "outputs": [
    {
     "name": "stdout",
     "output_type": "stream",
     "text": [
      "Coloured fox fur production, HOPEDALE, Labrador, 1834-1842\n",
      "\n"
     ]
    },
    {
     "data": {
      "text/plain": [
       "str"
      ]
     },
     "execution_count": 54,
     "metadata": {},
     "output_type": "execute_result"
    }
   ],
   "source": [
    "with open('D:/Python/Class/Data/hopedale.txt', 'r') as input_file: \n",
    "    input = input_file.readline()\n",
    "print(input)\n",
    "type(input)"
   ]
  },
  {
   "cell_type": "markdown",
   "metadata": {},
   "source": [
    "This program processes the Hopedale data set to find the smallest number of fox pelts produced in any year. As we progress through the file, **we keep the smallest value seen so far in a variable called smallest.** That variable is initially set to the value on the first line, since it’s the smallest (and only) value seen so far:"
   ]
  },
  {
   "cell_type": "code",
   "execution_count": 17,
   "metadata": {},
   "outputs": [
    {
     "name": "stdout",
     "output_type": "stream",
     "text": [
      "2\n"
     ]
    }
   ],
   "source": [
    "# read_smallest.py: this program calls time_series.py module \n",
    "\n",
    "# Two methods for the same result\n",
    "# Method 1:  \n",
    "# if value  <  smallest: \n",
    "#     smallest = value\n",
    "# Method 2:\n",
    "# smallest = min(smallest,  value)\n",
    "        \n",
    "import os\n",
    "os.chdir('D:/Python/Class/Data/')\n",
    "\n",
    "from typing import TextIO\n",
    "import time_series         # time_series.py module resides in the directory 'D:/Python/Class/Data/'\n",
    "\n",
    "def smallest_value(reader: TextIO) -> int:\n",
    "    \"\"\"Read and process reader and return the smallest value after the \n",
    "    time_series header.\n",
    "\n",
    "    >>> infile = StringIO('Example\\\\n1\\\\n2\\\\n3\\\\n')\n",
    "    >>> smallest_value(infile) \n",
    "    1\n",
    "    >>> infile = StringIO('Example\\\\n3\\\\n1\\\\n2\\\\n')\n",
    "    >>> smallest_value(infile) \n",
    "    1\n",
    "    \"\"\"\n",
    "\n",
    "    line = time_series.skip_header(reader).strip()\n",
    "\n",
    "    # Now line contains the first data value; this is also the smallest value\n",
    "    # found so far, because it is the only one we have seen.\n",
    "    smallest = int(line)\n",
    "\n",
    "    for line in reader:\n",
    "        value = int(line.strip())\n",
    "\n",
    "        # If we find a smaller value, remember it.\n",
    "        if value  <  smallest: \n",
    "            smallest = value \n",
    "        # Same as:\n",
    "        # smallest = min(smallest,  value)\n",
    "\n",
    "    return  smallest\n",
    "\n",
    "if __name__ == '__main__':\n",
    "    with open('D:/Python/Class/Data/hopedale.txt', 'r') as input_file:\n",
    "        print(smallest_value(input_file))"
   ]
  },
  {
   "cell_type": "markdown",
   "metadata": {},
   "source": [
    "#### 2. Dealing with Missing Values in Data, p. 190"
   ]
  },
  {
   "cell_type": "raw",
   "metadata": {},
   "source": [
    "We also have data for colored fox fur production in Hebron, Labrador: \n",
    "(\"D:/Python/Class/Data/hebron.txt\")\n",
    "\n",
    "Coloured fox fur production, Hebron, Labrador, 1834-1839\n",
    "#Source: C. Elton (1942) \"Voles, Mice and Lemmings\", Oxford Univ. Press\n",
    "#Table 17, p.265--266\n",
    "#remark: missing value for 1836 \n",
    "    55\n",
    "   262\n",
    "   - \n",
    "   102\n",
    "   178\n",
    "   227\n",
    "   \n",
    "The hyphen indicates that data for the year 1836 is missing. Unfortunately, calling read_smallest on the Hebron data produces this error:"
   ]
  },
  {
   "cell_type": "markdown",
   "metadata": {},
   "source": [
    "###### Calling read_smallest on the Hebron data (hebron.txt) produces this error, p. 190, bottom\n",
    "+ The problem is that '-' isn’t an integer, so calling int('-') fails. \n",
    "+ In this part, we will deal with the issue of skipping blank lines, comments, or lines containing other “nonvalues” in our data.\n",
    "+ To fix the code, we must add a check inside the loop that processes a line only if it contains a real value.\n",
    "+ We just need to check for hyphen before trying to convert the string we have read to an integer."
   ]
  },
  {
   "cell_type": "code",
   "execution_count": 25,
   "metadata": {},
   "outputs": [
    {
     "ename": "ValueError",
     "evalue": "invalid literal for int() with base 10: '-'",
     "output_type": "error",
     "traceback": [
      "\u001b[1;31m---------------------------------------------------------------------------\u001b[0m",
      "\u001b[1;31mValueError\u001b[0m                                Traceback (most recent call last)",
      "\u001b[1;32m<ipython-input-25-41aac231dd3e>\u001b[0m in \u001b[0;36m<module>\u001b[1;34m\u001b[0m\n\u001b[0;32m      8\u001b[0m \u001b[1;31m# read_smallest.py module resides in the directory 'D:/Python/Class/Data/'\u001b[0m\u001b[1;33m\u001b[0m\u001b[1;33m\u001b[0m\u001b[1;33m\u001b[0m\u001b[0m\n\u001b[0;32m      9\u001b[0m \u001b[1;32mimport\u001b[0m \u001b[0mread_smallest\u001b[0m\u001b[1;33m\u001b[0m\u001b[1;33m\u001b[0m\u001b[0m\n\u001b[1;32m---> 10\u001b[1;33m \u001b[0mread_smallest\u001b[0m\u001b[1;33m.\u001b[0m\u001b[0msmallest_value\u001b[0m\u001b[1;33m(\u001b[0m\u001b[0mopen\u001b[0m\u001b[1;33m(\u001b[0m\u001b[1;34m'D:/Python/Class/Data/hebron.txt'\u001b[0m\u001b[1;33m,\u001b[0m \u001b[1;34m'r'\u001b[0m\u001b[1;33m)\u001b[0m\u001b[1;33m)\u001b[0m\u001b[1;33m\u001b[0m\u001b[1;33m\u001b[0m\u001b[0m\n\u001b[0m",
      "\u001b[1;32mD:\\Python\\Class\\Data\\read_smallest.py\u001b[0m in \u001b[0;36msmallest_value\u001b[1;34m(reader)\u001b[0m\n\u001b[0;32m     24\u001b[0m \u001b[1;33m\u001b[0m\u001b[0m\n\u001b[0;32m     25\u001b[0m     \u001b[1;32mfor\u001b[0m \u001b[0mline\u001b[0m \u001b[1;32min\u001b[0m \u001b[0mreader\u001b[0m\u001b[1;33m:\u001b[0m\u001b[1;33m\u001b[0m\u001b[1;33m\u001b[0m\u001b[0m\n\u001b[1;32m---> 26\u001b[1;33m         \u001b[0mvalue\u001b[0m \u001b[1;33m=\u001b[0m \u001b[0mint\u001b[0m\u001b[1;33m(\u001b[0m\u001b[0mline\u001b[0m\u001b[1;33m.\u001b[0m\u001b[0mstrip\u001b[0m\u001b[1;33m(\u001b[0m\u001b[1;33m)\u001b[0m\u001b[1;33m)\u001b[0m\u001b[1;33m\u001b[0m\u001b[1;33m\u001b[0m\u001b[0m\n\u001b[0m\u001b[0;32m     27\u001b[0m \u001b[1;33m\u001b[0m\u001b[0m\n\u001b[0;32m     28\u001b[0m         \u001b[1;31m# If we find a smaller value, remember it.\u001b[0m\u001b[1;33m\u001b[0m\u001b[1;33m\u001b[0m\u001b[1;33m\u001b[0m\u001b[0m\n",
      "\u001b[1;31mValueError\u001b[0m: invalid literal for int() with base 10: '-'"
     ]
    }
   ],
   "source": [
    "# This code snippet is an incorrect version.\n",
    "# The correct version is in the next two cells, which call read_smallest1.py \n",
    "# module\n",
    "\n",
    "import os\n",
    "os.chdir('D:/Python/Class/Data/')\n",
    "\n",
    "# read_smallest.py module resides in the directory 'D:/Python/Class/Data/'\n",
    "import read_smallest    \n",
    "read_smallest.smallest_value(open('D:/Python/Class/Data/hebron.txt', 'r'))"
   ]
  },
  {
   "cell_type": "code",
   "execution_count": 2,
   "metadata": {},
   "outputs": [
    {
     "name": "stdout",
     "output_type": "stream",
     "text": [
      "55\n"
     ]
    }
   ],
   "source": [
    "# read_smallest1.py module\n",
    "# This module resides in the directory 'D:/Python/Class/Data/'\n",
    "# Notice that the update to smallest is nested inside the check for hyphens.\n",
    "# Gries et al. (2017), p. 191, bottom\n",
    "\n",
    "import os\n",
    "os.chdir('D:/Python/Class/Data/')  # time_series.py module resides in 'D:/Python/Class/Data/'\n",
    "\n",
    "from typing import TextIO \n",
    "from io import StringIO \n",
    "import time_series         # time_series.py module resides in the directory 'D:/Python/Class/Data/'\n",
    "\n",
    "def smallest_value_skip(reader: TextIO) -> int:\n",
    "    \"\"\"Read and process reader, which must start with a time_series header.\n",
    "    Return the smallest value after the header. Skip missing values, which \n",
    "    are indicated with a hyphen.\n",
    "\n",
    "    >>> infile = StringIO('Example\\\\n1\\\\n-\\\\n3\\\\n')\n",
    "    >>> smallest_value_skip(infile) \n",
    "    1\n",
    "    \"\"\"\n",
    "\n",
    "    line = time_series.skip_header(reader).strip()\n",
    "    # Now line contains the first data value; this is also the smallest value\n",
    "    # found so far, because it is the only one we have seen.\n",
    "    smallest  =  int(line)\n",
    "            \n",
    "    for line in reader:\n",
    "        line =  line.strip()      \n",
    "        if line != '-':                       # This part for checking '-'\n",
    "            value = int(line)\n",
    "            smallest = min(smallest, value)\n",
    "    return smallest\n",
    "\n",
    "if __name__ == '__main__':\n",
    "    with open('hebron.txt', 'r') as input_file:\n",
    "        print(smallest_value_skip(input_file))"
   ]
  },
  {
   "cell_type": "code",
   "execution_count": 27,
   "metadata": {},
   "outputs": [
    {
     "data": {
      "text/plain": [
       "55"
      ]
     },
     "execution_count": 27,
     "metadata": {},
     "output_type": "execute_result"
    }
   ],
   "source": [
    "import os\n",
    "os.chdir('D:/Python/Class/Data/')\n",
    "\n",
    "import read_smallest1    # read_smallest1.py module resides in the directory 'D:/Python/Class/Data/'\n",
    "read_smallest1.smallest_value_skip(open('D:/Python/Class/Data/hebron.txt', 'r'))"
   ]
  },
  {
   "cell_type": "markdown",
   "metadata": {},
   "source": [
    "#### 3. Processing Whitespace-Delimited Data, p. 192\n",
    "1. Purpose: we’ll develop a program to find the largest value.\n",
    "2. Algorithm: Find and process the first line of data in the file, and then process each of the subsequent lines.\n",
    "3. Coding: Uses nested loops to handle the notion of “for each line and for each value on that line”\n",
    "4. The file posted in next cell contains information about lynx pelts in the years 1821–1934.\n",
    "5. All data values are integers, each line contains many values, the values are separated by whitespace, and for reasons best known to the file’s author, each value ends with a period.\n",
    "6. Source: http://robjhyndman.com/tsdldata/ecology1/lynx.dat "
   ]
  },
  {
   "cell_type": "raw",
   "metadata": {},
   "source": [
    "Annual Number of Lynx Trapped, MacKenzie River, 1821-1934\n",
    "#Original Source: Elton, C. and Nicholson, M. (1942)\n",
    "#\"The ten year cycle in numbers of Canadian lynx\",\n",
    "#J. Animal Ecology, Vol. 11, 215--244.\n",
    "#This is the famous data set which has been listed before in\n",
    "#various publications:\n",
    "#Cambell, M.J. and Walker, A.M. (1977) \"A survey of statistical work on\n",
    "#the MacKenzie River series of annual Canadian lynx trappings for the years\n",
    "#1821-1934 with a new analysis\", J.Roy.Statistical Soc. A 140, 432--436.\n",
    "  269.  321.  585.  871. 1475. 2821. 3928. 5943. 4950. 2577.  523.   98.        \n",
    "  184.  279.  409. 2285. 2685. 3409. 1824.  409.  151.   45.   68.  213.        \n",
    "  546. 1033. 2129. 2536.  957.  361.  377.  225.  360.  731. 1638. 2725.        \n",
    " 2871. 2119.  684.  299.  236.  245.  552. 1623. 3311. 6721. 4245.  687.        \n",
    "  255.  473.  358.  784. 1594. 1676. 2251. 1426.  756.  299.  201.  229.        \n",
    "  469.  736. 2042. 2811. 4431. 2511.  389.   73.   39.   49.   59.  188.        \n",
    "  377. 1292. 4031. 3495.  587.  105.  153.  387.  758. 1307. 3465. 6991.        \n",
    " 6313. 3794. 1836.  345.  382.  808. 1388. 2713. 3800. 3091. 2985. 3790.        \n",
    "  674.   81.   80.  108.  229.  399. 1132. 2432. 3574. 2935. 1537.  529.        \n",
    "  485.  662. 1000. 1590. 2657. 3396.        "
   ]
  },
  {
   "cell_type": "raw",
   "metadata": {},
   "source": [
    "Algorithem: Uses nested loops to handle the notion of “for each line and for each value on that line”\n",
    "\n",
    "Find the first line of real data after the header \n",
    "Find the largest value in that line\n",
    "\n",
    "For each of the remaining lines of data: \n",
    "    Find the largest value in that line\n",
    "    If that value is larger than the previous largest, remember it"
   ]
  },
  {
   "cell_type": "raw",
   "metadata": {},
   "source": [
    "The helper function required is one that finds the largest value in a line, and it must split up the line. String method split will split around the whitespace, but we still have to remove the periods at the ends of the values."
   ]
  },
  {
   "cell_type": "code",
   "execution_count": 29,
   "metadata": {},
   "outputs": [
    {
     "name": "stdout",
     "output_type": "stream",
     "text": [
      "['1.', '3.', '2.', '5.', '2.']\n",
      "1\n",
      "3\n",
      "2\n",
      "5\n",
      "2\n"
     ]
    }
   ],
   "source": [
    "# remove the period at the end of each element of the list:\n",
    "line = '1. 3. 2. 5. 2.'\n",
    "print(line.split())\n",
    "for value in line.split():\n",
    "    print(int(value[:-1]))"
   ]
  },
  {
   "cell_type": "code",
   "execution_count": 28,
   "metadata": {},
   "outputs": [
    {
     "data": {
      "text/plain": [
       "5"
      ]
     },
     "execution_count": 28,
     "metadata": {},
     "output_type": "execute_result"
    }
   ],
   "source": [
    "# Gries et al. (2017), p. 193\n",
    "# Part I. Using find_largest as helper function\n",
    "# Purpose: find_largest() function to find the largest value \n",
    "\n",
    "import os\n",
    "os.chdir('D:/Python/Class/Data/')\n",
    "\n",
    "from typing import TextIO \n",
    "from io import StringIO \n",
    "import time_series          # os.chdir('D:/Python/Class/Data/') for calling time_series.py module \n",
    "\n",
    "def find_largest(line: str) -> int:\n",
    "    \"\"\"Return the largest value in line, which is a whitespace-delimited string \n",
    "    of integers that each end with a '.'.\n",
    "\n",
    "    >>> find_largest('1. 3. 2. 5. 2.')\n",
    "    5 \n",
    "    \"\"\"\n",
    "    # The largest value seen so far.\n",
    "    # We set initial value as -1 so that any (positive) values in input file \n",
    "    # is larger than it.\n",
    "    # That way, no matter what the first real value is, it’ll be larger than \n",
    "    # the “previous” value (our -1) and replace it.\n",
    "    largest = -1 \n",
    "    for value in line.split():\n",
    "        # Remove the trailing period.\n",
    "        v  =  int(value[:-1])\n",
    "        # If we find a larger value, remember it.\n",
    "        if v > largest: \n",
    "            largest = v\n",
    "    \n",
    "    return largest\n",
    "\n",
    "find_largest('1. 3. 2. 5. 2.')"
   ]
  },
  {
   "cell_type": "code",
   "execution_count": 62,
   "metadata": {},
   "outputs": [
    {
     "name": "stdout",
     "output_type": "stream",
     "text": [
      "Help on method_descriptor:\n",
      "\n",
      "split(...)\n",
      "    S.split(sep=None, maxsplit=-1) -> list of strings\n",
      "    \n",
      "    Return a list of the words in S, using sep as the\n",
      "    delimiter string.  If maxsplit is given, at most maxsplit\n",
      "    splits are done. If sep is not specified or is None, any\n",
      "    whitespace string is a separator and empty strings are\n",
      "    removed from the result.\n",
      "\n"
     ]
    }
   ],
   "source": [
    "help(str.split)"
   ]
  },
  {
   "cell_type": "code",
   "execution_count": 4,
   "metadata": {},
   "outputs": [
    {
     "name": "stdout",
     "output_type": "stream",
     "text": [
      "6991\n"
     ]
    }
   ],
   "source": [
    "# Gries et al. (2017), pp. 193-194\n",
    "# Part II. Using time_series.skip_header and find_largest as helper functions.\n",
    "# Purpose: \n",
    "# 1. find_largest() function finds the largest value \n",
    "# 2. process_file() function cleans up the input file\n",
    "\n",
    "import os\n",
    "os.chdir('D:/Python/Class/Data/')\n",
    "\n",
    "from typing import TextIO \n",
    "from io import StringIO \n",
    "import time_series        # time_series.py module resides in 'D:/Python/Class/Data/'\n",
    "\n",
    "def find_largest(line: str) -> int:\n",
    "    \"\"\"Return the largest value in line, which is a whitespace-delimited string \n",
    "    of integers that each end with a '.'.\n",
    "\n",
    "    >>> find_largest('1. 3. 2. 5. 2.')\n",
    "    5 \n",
    "    \"\"\"\n",
    "    # The largest value seen so far.\n",
    "    # We set initial value as -1 so that any (positive) values in input file is larger than it.\n",
    "    # That way, no matter what the first real value is, it’ll be larger than the “previous” value \n",
    "    # (our -1) and replace it.    \n",
    "    largest = -1\n",
    "    for value in line.split():\n",
    "        # Remove the trailing period.\n",
    "        v  =  int(value[:-1])\n",
    "        # If we find a larger value, remember it.\n",
    "        if v >  largest: \n",
    "            largest = v\n",
    "    \n",
    "    return largest\n",
    "\n",
    "def process_file(reader: TextIO) -> int:\n",
    "    \"\"\"Read and process reader, which must start with a time_series header. \n",
    "    Return the largest value after the header.   There may be multiple pieces \n",
    "    of data on each line.\n",
    "\n",
    "    >>> infile = StringIO('Example\\\\n 20. 3.\\\\n 100. 17. 15.\\\\n')\n",
    "    >>> process_file(infile) \n",
    "    100\n",
    "    \"\"\"\n",
    "    \n",
    "    line = time_series.skip_header(reader).strip()\n",
    "    # The largest value so far is the largest on this first line of data.\n",
    "    largest = find_largest(line)\n",
    "    \n",
    "    # Check the rest of the lines for larger values.\n",
    "    for line in reader:\n",
    "        large = find_largest(line)\n",
    "        if large > largest: \n",
    "            largest = large\n",
    "    return largest\n",
    "\n",
    "if __name__ == '__main__':\n",
    "    with open('lynx.txt', 'r') as input_file:\n",
    "        print(process_file(input_file))"
   ]
  },
  {
   "cell_type": "code",
   "execution_count": 64,
   "metadata": {},
   "outputs": [
    {
     "name": "stdout",
     "output_type": "stream",
     "text": [
      "6991\n"
     ]
    }
   ],
   "source": [
    "# Gries et al. (2017), pp. 194-195\n",
    "# Part III. Code without using time_series.skip_header and find_largest as \n",
    "# helper functions.\n",
    "# Purpose: process_file() processes the input data file and find the largest \n",
    "# value together. \n",
    "\n",
    "import os\n",
    "os.chdir('D:/Python/Class/Data/')\n",
    "\n",
    "from typing import TextIO \n",
    "from io import StringIO \n",
    "\n",
    "def process_file(reader: TextIO) -> int:\n",
    "    \"\"\"Read and process reader, which must start with a time_series header. \n",
    "    Return the largest value after the header.   There may be multiple pieces \n",
    "    of data on each line.\n",
    "\n",
    "    >>> infile = StringIO('Example\\\\n 20. 3.\\\\n')\n",
    "    >>> process_file(infile) \n",
    "    20\n",
    "    >>> infile = StringIO('Example\\\\n 20. 3.\\\\n 100. 17. 15.\\\\n')\n",
    "    >>> process_file(infile) \n",
    "    100\n",
    "    \"\"\"\n",
    "    \n",
    "    # Read the description line\n",
    "    line = reader.readline()\n",
    "\n",
    "    # Find the first non-comment line\n",
    "    line = reader.readline()\n",
    "    while line.startswith('#'): \n",
    "        line = reader.readline()\n",
    "\n",
    "    # Now line contains the first real piece of data\n",
    "    \n",
    "    # The largest value seen so far in the current line\n",
    "    # We set initial value as -1 so that any (positive) values in input file is larger than it.\n",
    "    # That way, no matter what the first real value is, it’ll be larger than the “previous” value \n",
    "    # (our -1) and replace it.\n",
    "    largest = -1\n",
    "    \n",
    "    for value in line.split():\n",
    "    \n",
    "        #  Remove  the  trailing period\n",
    "        v  =  int(value[:-1])\n",
    "        # If we find a larger value, remember it\n",
    "        if v >  largest: \n",
    "            largest = v\n",
    "    \n",
    "    # Check the rest of the lines for larger values\n",
    "    for line in reader:\n",
    "    \n",
    "        # The largest value seen so far in the current line\n",
    "        largest_in_line =  -1\n",
    "        \n",
    "        for value in line.split():\n",
    "        \n",
    "            # Remove the trailing period\n",
    "            v = int(value[:-1])\n",
    "            # If we find a larger value, remember it\n",
    "            if v > largest_in_line: \n",
    "                largest_in_line = v\n",
    "        \n",
    "        if largest_in_line > largest: \n",
    "            largest = largest_in_line\n",
    "    return largest\n",
    "\n",
    "if __name__ == '__main__':\n",
    "    with open('lynx.txt', 'r') as input_file:\n",
    "        print(process_file(input_file))"
   ]
  },
  {
   "cell_type": "markdown",
   "metadata": {},
   "source": [
    "### Multiline Records, p. 195"
   ]
  },
  {
   "cell_type": "code",
   "execution_count": 1,
   "metadata": {},
   "outputs": [],
   "source": [
    "import os\n",
    "os.chdir('D:/Python/Class/Data')"
   ]
  },
  {
   "cell_type": "code",
   "execution_count": null,
   "metadata": {},
   "outputs": [],
   "source": [
    "# %load multimol.pdb   \n",
    "COMPND     AMMONIA\n",
    "ATOM    1   N   0.257   -0.363    0.000\n",
    "ATOM    2   H   0.257    0.727    0.000\n",
    "ATOM    3   H   0.771   -0.727    0.890\n",
    "ATOM    4   H   0.771   -0.727   -0.890\n",
    "END\n",
    "COMPND     METHANOL\n",
    "ATOM    1   C  -0.748   -0.015    0.024\n",
    "ATOM    2   O   0.558    0.420   -0.278\n",
    "ATOM    3   H  -1.293   -0.202   -0.901\n",
    "ATOM    4   H  -1.263    0.754    0.600\n",
    "ATOM    5   H  -0.699   -0.934    0.609\n",
    "ATOM    6   H   0.716    1.404    0.137\n",
    "END     "
   ]
  },
  {
   "cell_type": "code",
   "execution_count": 7,
   "metadata": {},
   "outputs": [
    {
     "name": "stdout",
     "output_type": "stream",
     "text": [
      "['AMMONIA', ['N', '0.257', '-0.363', '0.000'], ['H', '0.257', '0.727', '0.000'], ['H', '0.771', '-0.727', '0.890'], ['H', '0.771', '-0.727', '-0.890']]\n"
     ]
    }
   ],
   "source": [
    "# pp. 196~197\n",
    "# Read only the first part of multimol.pdb:   \n",
    "# COMPND     AMMONIA\n",
    "# ATOM    1   N   0.257   -0.363    0.000\n",
    "# ATOM    2   H   0.257    0.727    0.000\n",
    "# ATOM    3   H   0.771   -0.727    0.890\n",
    "# ATOM    4   H   0.771   -0.727   -0.890\n",
    "# END\n",
    "\n",
    "import os\n",
    "os.chdir('D:/Python/Class/Data') # reading 'multimol.pdb' with multiple records\n",
    "\n",
    "def read_molecule(reader):\n",
    "    \"\"\"Read a single molecule from reader and return it, or return None to \n",
    "    signal end of file. The first item in the result is the name of the \n",
    "    compound; each list contains an atom type and the X, Y, and Z  \n",
    "    coordinates of that atom.\n",
    "    >>>  instring = 'COMPND TEST\\\\nATOM 1 N 0.1 0.2 0.3\\\\nATOM 2 N 0.2 0.1 0.0\\\\nEND\\\\n'\n",
    "    >>>  infile = StringIO(instring)\n",
    "    >>>  read_molecule(infile)\n",
    "    ['TEST', ['N', '0.1', '0.2', '0.3'], ['N', '0.2', '0.1', '0.0']] \n",
    "    \"\"\"\n",
    "\n",
    "    # If there isn't another line, we're at the end of the file.\n",
    "    line = reader.readline()\n",
    "    if not line:\n",
    "        return None\n",
    "\n",
    "    # Name of the molecule: \"COMPND name\"\n",
    "    parts = line.split() \n",
    "    name = parts[1]\n",
    "\n",
    "    # Other lines are either \"END\" or \"ATOM num atom_type x y z\"\n",
    "    molecule = [name]\n",
    "\n",
    "    reading = True\n",
    "    while reading:\n",
    "        line = reader.readline()\n",
    "        if line.startswith('END'): \n",
    "            reading = False\n",
    "        else:\n",
    "            parts = line.split() \n",
    "            molecule.append(parts[2:])\n",
    "    \n",
    "    print(molecule)\n",
    "\n",
    "with open('multimol.pdb', 'r') as f:\n",
    "    read_molecule(f)"
   ]
  },
  {
   "cell_type": "code",
   "execution_count": 1,
   "metadata": {},
   "outputs": [
    {
     "name": "stdout",
     "output_type": "stream",
     "text": [
      "[['AMMONIA', ['N', '0.257', '-0.363', '0.000'], ['H', '0.257', '0.727', '0.000'], ['H', '0.771', '-0.727', '0.890'], ['H', '0.771', '-0.727', '-0.890']], ['METHANOL', ['C', '-0.748', '-0.015', '0.024'], ['O', '0.558', '0.420', '-0.278'], ['H', '-1.293', '-0.202', '-0.901'], ['H', '-1.263', '0.754', '0.600'], ['H', '-0.699', '-0.934', '0.609'], ['H', '0.716', '1.404', '0.137']]]\n"
     ]
    }
   ],
   "source": [
    "# pp. 196~198\n",
    "import os\n",
    "os.chdir('D:/Python/Class/Data') # reading 'multimol.pdb' with multiple records\n",
    "\n",
    "from typing import TextIO\n",
    "from io import StringIO\n",
    "\n",
    "def read_molecule(reader: TextIO) -> list:\n",
    "    \"\"\"Read a single molecule from reader and return it, or return None to \n",
    "    signal end of file. The first item in the result is the name of the \n",
    "    compound; each list contains an atom type and the X, Y, and Z  \n",
    "    coordinates of that atom.\n",
    "    >>>  instring = 'COMPND TEST\\\\nATOM 1 N 0.1 0.2 0.3\\\\nATOM 2 N 0.2 0.1 0.0\\\\nEND\\\\n'\n",
    "    >>>  infile = StringIO(instring)\n",
    "    >>>  read_molecule(infile)\n",
    "    ['TEST', ['N', '0.1', '0.2', '0.3'], ['N', '0.2', '0.1', '0.0']] \n",
    "    \"\"\"\n",
    "\n",
    "    # If there isn't another line, we're at the end of the file.\n",
    "    line = reader.readline()\n",
    "    if not line:\n",
    "        return None\n",
    "\n",
    "    # Name of the molecule: \"COMPND name\"\n",
    "    parts = line.split() \n",
    "    name = parts[1]\n",
    "\n",
    "    # Other lines are either \"END\" or \"ATOM num atom_type x y z\"\n",
    "    molecule = [name]\n",
    "\n",
    "    reading = True\n",
    "    while reading:\n",
    "        line = reader.readline()\n",
    "        if line.startswith('END'): \n",
    "            reading = False\n",
    "        else:\n",
    "            parts = line.split() \n",
    "            molecule.append(parts[2:])\n",
    "\n",
    "    return molecule\n",
    "\n",
    "def read_all_molecules(reader: TextIO) -> list:\n",
    "    \"\"\"Read zero or more molecules from reader, returning a list of the \n",
    "    molecule information.\n",
    "\n",
    "    >>> cmpnd1 = 'COMPND T1\\\\nATOM 1 N 0.1 0.2 0.3\\\\nATOM 2 N 0.2 0.1 0.0\\\\nEND\\\\n'\n",
    "    >>> cmpnd2 = 'COMPND T2\\\\nATOM 1 A 0.1 0.2 0.3\\\\nATOM 2 A 0.2 0.1 0.0\\\\nEND\\\\n'\n",
    "    >>> infile = StringIO(cmpnd1 + cmpnd2)\n",
    "    >>> result = read_all_molecules(infile)\n",
    "    >>> result[0]\n",
    "    ['T1', ['N', '0.1', '0.2', '0.3'], ['N', '0.2', '0.1', '0.0']]\n",
    "    >>> result[1]\n",
    "    ['T2', ['A', '0.1', '0.2', '0.3'], ['A', '0.2', '0.1', '0.0']] \n",
    "    \"\"\"\n",
    "\n",
    "    # The list of molecule information.\n",
    "    result = []\n",
    "\n",
    "    reading = True\n",
    "    while reading:\n",
    "        molecule = read_molecule(reader)\n",
    "        if molecule:  # None is treated as False in an if statement\n",
    "            result.append(molecule)\n",
    "        else:\n",
    "            reading = False\n",
    "    return result\n",
    "\n",
    "# method 1\n",
    "if __name__ ==  '__main__':\n",
    "    molecule_file = open('multimol.pdb', 'r') \n",
    "    molecules = read_all_molecules(molecule_file) \n",
    "    molecule_file.close()\n",
    "    print(molecules) \n",
    "\n",
    "# method 2\n",
    "# if __name__ ==  '__main__':\n",
    "#     with open('multimol.pdb', 'r') as f:\n",
    "#         molecules = read_all_molecules(f) \n",
    "#         print(molecules) "
   ]
  },
  {
   "cell_type": "code",
   "execution_count": 8,
   "metadata": {},
   "outputs": [
    {
     "name": "stdout",
     "output_type": "stream",
     "text": [
      "['ATOM', '1', 'N', '0.257', '-0.363', '0.000']\n"
     ]
    },
    {
     "data": {
      "text/plain": [
       "['N', '0.257', '-0.363', '0.000']"
      ]
     },
     "execution_count": 8,
     "metadata": {},
     "output_type": "execute_result"
    }
   ],
   "source": [
    "# For understanding the above read_molecule() function: \n",
    "\n",
    "#  def read_molecule(reader: TextIO) -> list:\n",
    "#   ...\n",
    "#         else:\n",
    "#             parts = line.split() \n",
    "#             molecule.append(parts[2:])\n",
    "\n",
    "line = 'ATOM    1   N   0.257   -0.363    0.000'\n",
    "parts = line.split()\n",
    "print(parts)\n",
    "parts[2:]"
   ]
  },
  {
   "cell_type": "markdown",
   "metadata": {},
   "source": [
    "The above code snippet:\n",
    "\n",
    "1. Stop .readline() if it cannot find another molecue in the file. \n",
    "\n",
    "2. Otherwise, it pulls the name of the molecule out of the first line and then reads the molecule’s atoms one at a time down to the END line.\n",
    "\n",
    "3. read_molecule() and read_all_molecules() functions use the same trick to spot the END."
   ]
  },
  {
   "cell_type": "markdown",
   "metadata": {},
   "source": [
    "### Looking Ahead, p. 198\n",
    "+ Suppose that molecules didn’t have END markers but instead just a COMPND line followed by one or more ATOM lines. How would we read multiple molecules from a single file in that case?"
   ]
  },
  {
   "cell_type": "code",
   "execution_count": 2,
   "metadata": {},
   "outputs": [],
   "source": [
    "import os\n",
    "os.chdir('D:/Python/Class/Data')"
   ]
  },
  {
   "cell_type": "code",
   "execution_count": null,
   "metadata": {},
   "outputs": [],
   "source": [
    "# %load multimol_1.pdb\n",
    "COMPND     AMMONIA\n",
    "ATOM    1   N   0.257   -0.363    0.000\n",
    "ATOM    2   H   0.257    0.727    0.000\n",
    "ATOM    3   H   0.771   -0.727    0.890\n",
    "ATOM    4   H   0.771   -0.727   -0.890\n",
    "COMPND     METHANOL\n",
    "ATOM    1   C  -0.748   -0.015    0.024\n",
    "ATOM    2   O   0.558    0.420   -0.278\n",
    "ATOM    3   H  -1.293   -0.202   -0.901\n",
    "ATOM    4   H  -1.263    0.754    0.600\n",
    "ATOM    5   H  -0.699   -0.934    0.609\n",
    "ATOM    6   H   0.716    1.404    0.137  "
   ]
  },
  {
   "cell_type": "markdown",
   "metadata": {},
   "source": [
    "To solve this problem, our functions must always “look ahead” one line. Let’s start with the function that reads multiple molecules:"
   ]
  },
  {
   "cell_type": "code",
   "execution_count": 2,
   "metadata": {},
   "outputs": [
    {
     "name": "stdout",
     "output_type": "stream",
     "text": [
      "[['AMMONIA', ['N', '0.257', '-0.363', '0.000'], ['H', '0.257', '0.727', '0.000'], ['H', '0.771', '-0.727', '0.890'], ['H', '0.771', '-0.727', '-0.890']], ['METHANOL', ['C', '-0.748', '-0.015', '0.024'], ['O', '0.558', '0.420', '-0.278'], ['H', '-1.293', '-0.202', '-0.901'], ['H', '-1.263', '0.754', '0.600'], ['H', '-0.699', '-0.934', '0.609'], ['H', '0.716', '1.404', '0.137']]]\n"
     ]
    }
   ],
   "source": [
    "# pp. 198~200\n",
    "import os\n",
    "os.chdir('D:/Python/Class/Data') # reading 'multimol.pdb' with multiple records\n",
    "\n",
    "from typing import TextIO\n",
    "\n",
    "def read_molecule(reader: TextIO, line: str) -> list:\n",
    "    \"\"\"Read a molecule from reader, where line refers to the first line of \n",
    "    the molecule to be read. Return the molecule and the first line after \n",
    "    it (or the empty string if the end of file has been reached).\n",
    "    \"\"\"\n",
    "\n",
    "    fields = line.split() \n",
    "    molecule = [fields[1]]\n",
    "\n",
    "    line = reader.readline()\n",
    "    while line and not line.startswith('COMPND'): \n",
    "        fields = line.split()\n",
    "        if fields[0] == 'ATOM':\n",
    "            key, num, atom_type, x, y, z = fields \n",
    "            molecule.append([atom_type, x, y, z])\n",
    "        line = reader.readline()\n",
    "    \n",
    "    return molecule, line\n",
    "\n",
    "def read_all_molecules(reader: TextIO) -> list: \n",
    "    \"\"\"Read zero or more molecules from reader, \n",
    "    returning a list of the molecules read.\n",
    "    \"\"\"\n",
    "\n",
    "    result = []\n",
    "    line = reader.readline()\n",
    "    while line:\n",
    "        molecule, line = read_molecule(reader, line) \n",
    "        result.append(molecule)\n",
    "    \n",
    "    return result\n",
    "\n",
    "if __name__ ==  '__main__':\n",
    "    molecule_file = open('multimol_1.pdb', 'r') \n",
    "    molecules = read_all_molecules(molecule_file) \n",
    "    molecule_file.close()\n",
    "    print(molecules) \n",
    "    \n",
    "# method 2\n",
    "# if __name__ ==  '__main__':\n",
    "#     with open('multimol.pdb_1', 'r') as f:\n",
    "#         molecules = read_all_molecules(f) \n",
    "#         print(molecules) "
   ]
  },
  {
   "cell_type": "markdown",
   "metadata": {},
   "source": [
    "### Notes to File Away, p. 200"
   ]
  },
  {
   "cell_type": "raw",
   "metadata": {},
   "source": [
    "Notes to File Away (p. 200):\n",
    "\n",
    "1. When files are opened and read, their contents are commonly stored in lists of strings.\n",
    "\n",
    "2. Data stored in files is usually formatted in one of a small number of ways, from one value per line to multiline records with explicit end-of-record markers. Each format can be processed in a stereotypical way.\n",
    "\n",
    "3. Data processing programs should be broken into input, processing, and output stages so that each can be reused independently.\n",
    "\n",
    "4. Files can be read (content retrieved), written to (content replaced), and added to (new content appended). When a file is opened in writing mode and it doesn’t exist, a new file is created.\n",
    "\n",
    "5. Data files come in many different formats, so custom code is often required, but we can reuse as much as possible by writing helper functions.\n",
    "\n",
    "6. To make the functions usable by different types of readers, the reader (for a file or web page) is opened outside the function, passed as an argument to the function, and then closed outside the function.\n",
    "\n",
    "7. typing.TextIO is used in type annotations to indicate an open file."
   ]
  },
  {
   "cell_type": "markdown",
   "metadata": {},
   "source": [
    "## The End!"
   ]
  },
  {
   "cell_type": "markdown",
   "metadata": {},
   "source": [
    "### Appendix 1: Read file from line 2 or skip header row\n",
    "+ https://stackoverflow.com/questions/4796764/read-file-from-line-2-or-skip-header-row"
   ]
  },
  {
   "cell_type": "raw",
   "metadata": {},
   "source": [
    "with open(fname) as f:\n",
    "    next(f)\n",
    "    for line in f:\n",
    "        # do something"
   ]
  },
  {
   "cell_type": "raw",
   "metadata": {},
   "source": [
    "# if you need the header later, instead of next(f) use header_line = f.readline() \n",
    "# or header_line = next(f) to store in a variable for later use\n",
    "\n",
    "with open(fname) as f:\n",
    "    # next(f)\n",
    "    header_line = next(f)          # for later use\n",
    "    # header_line = f.readline()   \n",
    "    for line in f:\n",
    "        # do something"
   ]
  },
  {
   "cell_type": "raw",
   "metadata": {},
   "source": [
    "# if you need the header later, instead of next(f) use header_line = f.readline() \n",
    "# or header_line = next(f) to store in a variable for later use\n",
    "\n",
    "with open(fname) as f:\n",
    "    # next(f)\n",
    "    # header_line = next(f) \n",
    "    header_line = f.readline()   # for later use\n",
    "    for line in f:\n",
    "        # do something"
   ]
  },
  {
   "cell_type": "raw",
   "metadata": {},
   "source": [
    "# This will skip 1 line. ['a', 'b', 'c'][1:] => ['b', 'c']\n",
    "# This generalises to any line, so this is a much more powerful solution but limited to small file\n",
    "f = open(fname,'r')\n",
    "lines = f.readlines()[1:]\n",
    "f.close()"
   ]
  },
  {
   "cell_type": "raw",
   "metadata": {},
   "source": [
    "# If you want the first line and then you want to perform some operation on file \n",
    "# this code will be helpful.\n",
    "\n",
    "with open(filename , 'r') as f:\n",
    "    first_line = f.readline()\n",
    "    for line in f:\n",
    "            # Perform some operations"
   ]
  },
  {
   "cell_type": "raw",
   "metadata": {},
   "source": [
    "# removes the first line\n",
    "# This will read the entire file into memory at once, \n",
    "# so it's only practical if you're reading a fairly small file. \n",
    "\n",
    "f = open(fname).readlines()\n",
    "firstLine = f.pop(0) # removes the first line\n",
    "for line in f:\n",
    "    ..."
   ]
  },
  {
   "cell_type": "raw",
   "metadata": {},
   "source": [
    "# This is a really nice and pythonic way of solving the problem and \n",
    "# can be extended to an arbitrary number of header lines. Marvellous solution!\n",
    "\n",
    "# If slicing could work on iterators...\n",
    "from itertools import islice\n",
    "with open(fname) as f:\n",
    "    for line in islice(f, 1, None):\n",
    "        pass"
   ]
  },
  {
   "cell_type": "raw",
   "metadata": {},
   "source": [
    "# Open a connection to the file\n",
    "with open('world_dev_ind.csv') as file:\n",
    "\n",
    "    # Skip the column names\n",
    "    file.readline()\n",
    "\n",
    "    # Initialize an empty dictionary: counts_dict\n",
    "    counts_dict = {}\n",
    "\n",
    "    # Process only the first 1000 rows\n",
    "    for j in range(0, 1000):\n",
    "\n",
    "        # Split the current line into a list: line\n",
    "        line = file.readline().split(',')\n",
    "\n",
    "        # Get the value for the first column: first_col\n",
    "        first_col = line[0]\n",
    "\n",
    "        # If the column value is in the dict, increment its value\n",
    "        if first_col in counts_dict.keys():\n",
    "            counts_dict[first_col] += 1\n",
    "\n",
    "        # Else, add to the dict and set value to 1\n",
    "        else:\n",
    "            counts_dict[first_col] = 1\n",
    "\n",
    "# Print the resulting dictionary\n",
    "print(counts_dict)"
   ]
  },
  {
   "cell_type": "markdown",
   "metadata": {},
   "source": [
    "###### Extraction Method\n",
    "1. To generalize the task of reading multiple header lines and to improve readability I'd use method extraction. Suppose you wanted to tokenize the first three lines of coordinates.txt to use as header information. \n",
    "2. Then method extraction allows you to specify what you want to do with the header information (in this example we simply tokenize the header lines based on the comma and return it as a list but there's room to do much more).\n",
    "3. If coordinates.txt contains another headerline, simply change numberheaderlines. Best of all, it's clear what __readheader(rh, numberheaderlines=2) is doing and we avoid the ambiguity of having to figure out or comment on why author of the the accepted answer uses next() in his code."
   ]
  },
  {
   "cell_type": "raw",
   "metadata": {},
   "source": [
    "# coordinates.txt\n",
    "\n",
    "Name,Longitude,Latitude,Elevation, Comments\n",
    "String, Decimal Deg., Decimal Deg., Meters, String\n",
    "Euler's Town,7.58857,47.559537,0, \"Blah\"\n",
    "Faneuil Hall,-71.054773,42.360217,0\n",
    "Yellowstone National Park,-110.588455,44.427963,0"
   ]
  },
  {
   "cell_type": "code",
   "execution_count": 10,
   "metadata": {},
   "outputs": [
    {
     "name": "stdout",
     "output_type": "stream",
     "text": [
      "['Name', 'Longitude', 'Latitude', 'Elevation', 'Comments']\n",
      "['String', 'Decimal Deg.', 'Decimal Deg.', 'Meters', 'String']\n"
     ]
    }
   ],
   "source": [
    "import os\n",
    "os.chdir('D:/Python/Class/Data')\n",
    "\n",
    "def __readheader(filehandle, numberheaderlines=1):\n",
    "    \"\"\"Reads the specified number of lines and returns the comma-delimited \n",
    "    strings on each line as a list\"\"\"\n",
    "    for _ in range(numberheaderlines):\n",
    "        yield map(str.strip, filehandle.readline().strip().split(','))\n",
    "\n",
    "with open('coordinates.txt', 'r') as rh:    # coordinates.txt resides in 'D:/Python/Class/Data'\n",
    "    # Single header line\n",
    "    # print(tuple(next(__readheader(rh))))  # You have to turn the map object into a list or tuple first.\n",
    "    # print('-'*79)\n",
    "\n",
    "    # Multiple header lines\n",
    "    for headerline in __readheader(rh, numberheaderlines=2):\n",
    "        print(list(headerline))  # Or do other stuff with headerline tokens"
   ]
  },
  {
   "cell_type": "markdown",
   "metadata": {},
   "source": [
    "## The End of Appendix!"
   ]
  },
  {
   "cell_type": "code",
   "execution_count": null,
   "metadata": {},
   "outputs": [],
   "source": []
  }
 ],
 "metadata": {
  "kernelspec": {
   "display_name": "Python 3",
   "language": "python",
   "name": "python3"
  },
  "language_info": {
   "codemirror_mode": {
    "name": "ipython",
    "version": 3
   },
   "file_extension": ".py",
   "mimetype": "text/x-python",
   "name": "python",
   "nbconvert_exporter": "python",
   "pygments_lexer": "ipython3",
   "version": "3.7.4"
  }
 },
 "nbformat": 4,
 "nbformat_minor": 2
}
