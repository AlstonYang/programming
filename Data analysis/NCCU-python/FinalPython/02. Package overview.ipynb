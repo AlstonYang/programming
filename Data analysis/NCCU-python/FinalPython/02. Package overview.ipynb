{
 "cells": [
  {
   "cell_type": "markdown",
   "metadata": {},
   "source": [
    "# [02. Package overview](https://pandas.pydata.org/pandas-docs/stable/getting_started/overview.html)"
   ]
  },
  {
   "cell_type": "markdown",
   "metadata": {},
   "source": [
    "## Package overview"
   ]
  },
  {
   "cell_type": "markdown",
   "metadata": {},
   "source": [
    "**pandas** is well suited for many different kinds of data:\n",
    "\n",
    "1. ****Tabular data** with heterogeneously-typed columns, as in an **SQL table or Excel spreadsheet**\n",
    "\n",
    "2. **Ordered and unordered (not necessarily fixed-frequency) time series data.**\n",
    "\n",
    "3. Arbitrary **matrix data** (homogeneously typed or heterogeneous) with row and column labels\n",
    "\n",
    "4. **Any other form** of observational / statistical data sets. The data actually need not be labeled at all to be placed into a pandas data structure"
   ]
  },
  {
   "cell_type": "markdown",
   "metadata": {},
   "source": [
    "The **two primary data structures of pandas:**\n",
    "1. **Series (1-dimensional)** and \n",
    "2. **DataFrame (2-dimensional)**\n",
    "\n",
    "For R users, DataFrame provides everything that **R’s data.frame** provides and much more. **pandas is built on top of NumPy and** is intended to integrate well within a scientific computing environment with **many other 3rd party libraries**.\n",
    "\n",
    "pandas does well:\n",
    "\n",
    "1. Easy handling of **missing data** (represented as **NaN**) in floating point as well as non-floating point data\n",
    "\n",
    "2. **Size mutability**: columns can be inserted and deleted from DataFrame and higher dimensional objects\n",
    "\n",
    "3. **Automatic and explicit data alignment**: objects can be explicitly aligned to a set of labels, or the user can simply ignore the labels and let Series, DataFrame, etc. automatically align the data for you in computations\n",
    "\n",
    "4. Powerful, flexible group by functionality to perform **split-apply-combine operations** on data sets, **for both aggregating and transforming data**\n",
    "\n",
    "5. Make it **easy to convert ragged, differently-indexed data in other Python and NumPy data structures into DataFrame objects**\n",
    "\n",
    "6. Intelligent label-based **slicing, fancy indexing, and subsetting** of large data sets\n",
    "\n",
    "7. Intuitive **merging and joining data sets**\n",
    "\n",
    "8. Flexible **reshaping and pivoting of data sets**\n",
    "\n",
    "9. **Hierarchical labeling of axes** (possible to have multiple labels per tick)\n",
    "\n",
    "10. **Robust IO tools** for loading data from:\n",
    "    1. **flat files (CSV and delimited), Excel files, databases**, and \n",
    "    2. saving / loading data from the ultrafast **HDF5 format**\n",
    "\n",
    "11. **Time series**-specific functionality: date range generation and frequency conversion, moving window statistics, date shifting and lagging.\n",
    "\n",
    "12. Multiple stages **for data scientists:**\n",
    "    1. **munging and cleaning data**, \n",
    "    2. **analyzing / modeling** it, then \n",
    "    3. **organizing the results** of the analysis into a form suitable for plotting or tabular display. \n",
    "    4. pandas is the ideal tool for all of these tasks.\n",
    "\n",
    "Some other notes\n",
    "\n",
    "**pandas is fast.** Many of the low-level algorithmic bits have been extensively tweaked in **[Cython](https://cython.org/)** code. However, as with anything else generalization usually sacrifices performance. So if you focus on one feature for your application you may be able to create a faster specialized tool.\n",
    "\n",
    "**pandas is a dependency of [statsmodels](https://www.statsmodels.org/stable/index.html), making it an important part of the statistical computing ecosystem in Python.**\n",
    "\n",
    "**pandas has been used extensively in production in financial applications.**"
   ]
  },
  {
   "cell_type": "markdown",
   "metadata": {},
   "source": [
    "## Data structures\n",
    "1. 1-Dimension: **Series**\n",
    "    + 1D labeled homogeneously-typed array\n",
    "2. 2-Dimension: **DataFrame**\n",
    "    + General 2D labeled, size-mutable tabular structure with potentially heterogeneously-typed column"
   ]
  },
  {
   "cell_type": "markdown",
   "metadata": {},
   "source": [
    "## Why more than one data structure?\n",
    "+ **The best way to think about the pandas data structures is as flexible containers for lower dimensional data.** For example, **DataFrame is a container for Series, and Series is a container for scalars**. We would like to be able to **insert and remove objects from these containers in a dictionary-like fashion**."
   ]
  },
  {
   "cell_type": "markdown",
   "metadata": {},
   "source": [
    "For example, with **tabular data (DataFrame)** it is more semantically helpful to think of the **index** (the rows) and the **columns** rather than axis 0 and axis 1. **Iterating through the columns of the DataFrame** thus results in more readable code:"
   ]
  },
  {
   "cell_type": "raw",
   "metadata": {},
   "source": [
    "for col in df.columns:\n",
    "    series = df[col]\n",
    "    # do something with series"
   ]
  },
  {
   "cell_type": "markdown",
   "metadata": {},
   "source": [
    "## Mutability and copying of data\n",
    "+ All pandas data structures are **value-mutable** (the values they contain can be altered) **but not always size-mutable. The length of a Series cannot be changed, but,** for example, **columns can be inserted into a DataFrame.** However, the vast majority of methods produce new objects and leave the input data untouched. In general we like to **favor immutability** where sensible."
   ]
  },
  {
   "cell_type": "code",
   "execution_count": null,
   "metadata": {},
   "outputs": [],
   "source": []
  },
  {
   "cell_type": "code",
   "execution_count": null,
   "metadata": {},
   "outputs": [],
   "source": []
  },
  {
   "cell_type": "code",
   "execution_count": null,
   "metadata": {},
   "outputs": [],
   "source": []
  }
 ],
 "metadata": {
  "kernelspec": {
   "display_name": "Python 3",
   "language": "python",
   "name": "python3"
  },
  "language_info": {
   "codemirror_mode": {
    "name": "ipython",
    "version": 3
   },
   "file_extension": ".py",
   "mimetype": "text/x-python",
   "name": "python",
   "nbconvert_exporter": "python",
   "pygments_lexer": "ipython3",
   "version": "3.8.3"
  }
 },
 "nbformat": 4,
 "nbformat_minor": 2
}
