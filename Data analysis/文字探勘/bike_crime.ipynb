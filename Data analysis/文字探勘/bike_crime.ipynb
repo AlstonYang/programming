{
 "cells": [
  {
   "cell_type": "code",
   "execution_count": null,
   "metadata": {},
   "outputs": [],
   "source": [
    "def GetCrimeData(filename):\n",
    "    data =[]\n",
    "    with open(filename, encoding='big5') as f:\n",
    "        f.readline()\n",
    "        for line in f:\n",
    "            data.append(line.split(','))\n",
    "    return data\n",
    "\n",
    "def GetYear(record):\n",
    "    return(int(record[2][:3]))\n",
    "\n",
    "def GetMonth(record):\n",
    "    return(int(record[2][3:5]))\n",
    "\n",
    "def GetTime(record):\n",
    "    start = int(record[3][:2])\n",
    "    end = int(record[3][3:])\n",
    "    return(start, end)\n",
    "    \n",
    "def GetYearCount(data, year):\n",
    "    count = 0\n",
    "    for record in data:\n",
    "        if GetYear(record) == year:\n",
    "            count+=1\n",
    "    return(count)\n",
    "\n",
    "def GetMonthCount(data, month):\n",
    "    count = 0 \n",
    "    for record in data:\n",
    "        if GetMonth(record)==month:\n",
    "            count+=1\n",
    "    return count\n",
    "\n",
    "def GetTimeCount(data, time):\n",
    "    count=0\n",
    "    for record in data:\n",
    "        start, end = GetTime(record)\n",
    "        if start<= time < end:\n",
    "            count+=1\n",
    "    return count"
   ]
  }
 ],
 "metadata": {
  "kernelspec": {
   "display_name": "Python 3",
   "language": "python",
   "name": "python3"
  },
  "language_info": {
   "codemirror_mode": {
    "name": "ipython",
    "version": 3
   },
   "file_extension": ".py",
   "mimetype": "text/x-python",
   "name": "python",
   "nbconvert_exporter": "python",
   "pygments_lexer": "ipython3",
   "version": "3.7.4"
  }
 },
 "nbformat": 4,
 "nbformat_minor": 2
}
