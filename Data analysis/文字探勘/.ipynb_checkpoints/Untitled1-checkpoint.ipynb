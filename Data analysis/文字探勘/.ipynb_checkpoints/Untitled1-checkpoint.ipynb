{
 "cells": [
  {
   "cell_type": "code",
   "execution_count": 3,
   "metadata": {},
   "outputs": [
    {
     "ename": "UnicodeDecodeError",
     "evalue": "'utf-8' codec can't decode byte 0xbd in position 0: invalid start byte",
     "output_type": "error",
     "traceback": [
      "\u001b[0;31m---------------------------------------------------------------------------\u001b[0m",
      "\u001b[0;31mUnicodeDecodeError\u001b[0m                        Traceback (most recent call last)",
      "\u001b[0;32m<ipython-input-3-126393b4bb7c>\u001b[0m in \u001b[0;36m<module>\u001b[0;34m\u001b[0m\n\u001b[1;32m      2\u001b[0m   \u001b[0mdata\u001b[0m \u001b[0;34m=\u001b[0m \u001b[0mGetCrimeData\u001b[0m\u001b[0;34m(\u001b[0m\u001b[0;34m\"/Users/alston/Desktop/數據分析/bike.csv\"\u001b[0m\u001b[0;34m)\u001b[0m\u001b[0;34m\u001b[0m\u001b[0;34m\u001b[0m\u001b[0m\n\u001b[1;32m      3\u001b[0m \u001b[0;34m\u001b[0m\u001b[0m\n\u001b[0;32m----> 4\u001b[0;31m \u001b[0mmain\u001b[0m\u001b[0;34m(\u001b[0m\u001b[0;34m)\u001b[0m\u001b[0;34m\u001b[0m\u001b[0;34m\u001b[0m\u001b[0m\n\u001b[0m",
      "\u001b[0;32m<ipython-input-3-126393b4bb7c>\u001b[0m in \u001b[0;36mmain\u001b[0;34m()\u001b[0m\n\u001b[1;32m      1\u001b[0m \u001b[0;32mdef\u001b[0m \u001b[0mmain\u001b[0m\u001b[0;34m(\u001b[0m\u001b[0;34m)\u001b[0m\u001b[0;34m:\u001b[0m\u001b[0;34m\u001b[0m\u001b[0;34m\u001b[0m\u001b[0m\n\u001b[0;32m----> 2\u001b[0;31m   \u001b[0mdata\u001b[0m \u001b[0;34m=\u001b[0m \u001b[0mGetCrimeData\u001b[0m\u001b[0;34m(\u001b[0m\u001b[0;34m\"/Users/alston/Desktop/數據分析/bike.csv\"\u001b[0m\u001b[0;34m)\u001b[0m\u001b[0;34m\u001b[0m\u001b[0;34m\u001b[0m\u001b[0m\n\u001b[0m\u001b[1;32m      3\u001b[0m \u001b[0;34m\u001b[0m\u001b[0m\n\u001b[1;32m      4\u001b[0m \u001b[0mmain\u001b[0m\u001b[0;34m(\u001b[0m\u001b[0;34m)\u001b[0m\u001b[0;34m\u001b[0m\u001b[0;34m\u001b[0m\u001b[0m\n",
      "\u001b[0;32m<ipython-input-2-f48443aff6d5>\u001b[0m in \u001b[0;36mGetCrimeData\u001b[0;34m(filename)\u001b[0m\n\u001b[1;32m      2\u001b[0m   \u001b[0mdata\u001b[0m \u001b[0;34m=\u001b[0m \u001b[0;34m[\u001b[0m\u001b[0;34m]\u001b[0m\u001b[0;34m\u001b[0m\u001b[0;34m\u001b[0m\u001b[0m\n\u001b[1;32m      3\u001b[0m   \u001b[0;32mwith\u001b[0m \u001b[0mopen\u001b[0m\u001b[0;34m(\u001b[0m\u001b[0mfilename\u001b[0m\u001b[0;34m)\u001b[0m \u001b[0;32mas\u001b[0m \u001b[0mf\u001b[0m\u001b[0;34m:\u001b[0m\u001b[0;34m\u001b[0m\u001b[0;34m\u001b[0m\u001b[0m\n\u001b[0;32m----> 4\u001b[0;31m     \u001b[0mf\u001b[0m\u001b[0;34m.\u001b[0m\u001b[0mreadline\u001b[0m\u001b[0;34m(\u001b[0m\u001b[0;34m)\u001b[0m\u001b[0;34m\u001b[0m\u001b[0;34m\u001b[0m\u001b[0m\n\u001b[0m\u001b[1;32m      5\u001b[0m     \u001b[0;32mfor\u001b[0m \u001b[0mline\u001b[0m \u001b[0;32min\u001b[0m \u001b[0mf\u001b[0m\u001b[0;34m:\u001b[0m\u001b[0;34m\u001b[0m\u001b[0;34m\u001b[0m\u001b[0m\n\u001b[1;32m      6\u001b[0m       \u001b[0mprint\u001b[0m\u001b[0;34m(\u001b[0m\u001b[0mline\u001b[0m\u001b[0;34m)\u001b[0m\u001b[0;34m\u001b[0m\u001b[0;34m\u001b[0m\u001b[0m\n",
      "\u001b[0;32m/opt/anaconda3/lib/python3.7/codecs.py\u001b[0m in \u001b[0;36mdecode\u001b[0;34m(self, input, final)\u001b[0m\n\u001b[1;32m    320\u001b[0m         \u001b[0;31m# decode input (taking the buffer into account)\u001b[0m\u001b[0;34m\u001b[0m\u001b[0;34m\u001b[0m\u001b[0;34m\u001b[0m\u001b[0m\n\u001b[1;32m    321\u001b[0m         \u001b[0mdata\u001b[0m \u001b[0;34m=\u001b[0m \u001b[0mself\u001b[0m\u001b[0;34m.\u001b[0m\u001b[0mbuffer\u001b[0m \u001b[0;34m+\u001b[0m \u001b[0minput\u001b[0m\u001b[0;34m\u001b[0m\u001b[0;34m\u001b[0m\u001b[0m\n\u001b[0;32m--> 322\u001b[0;31m         \u001b[0;34m(\u001b[0m\u001b[0mresult\u001b[0m\u001b[0;34m,\u001b[0m \u001b[0mconsumed\u001b[0m\u001b[0;34m)\u001b[0m \u001b[0;34m=\u001b[0m \u001b[0mself\u001b[0m\u001b[0;34m.\u001b[0m\u001b[0m_buffer_decode\u001b[0m\u001b[0;34m(\u001b[0m\u001b[0mdata\u001b[0m\u001b[0;34m,\u001b[0m \u001b[0mself\u001b[0m\u001b[0;34m.\u001b[0m\u001b[0merrors\u001b[0m\u001b[0;34m,\u001b[0m \u001b[0mfinal\u001b[0m\u001b[0;34m)\u001b[0m\u001b[0;34m\u001b[0m\u001b[0;34m\u001b[0m\u001b[0m\n\u001b[0m\u001b[1;32m    323\u001b[0m         \u001b[0;31m# keep undecoded input until the next call\u001b[0m\u001b[0;34m\u001b[0m\u001b[0;34m\u001b[0m\u001b[0;34m\u001b[0m\u001b[0m\n\u001b[1;32m    324\u001b[0m         \u001b[0mself\u001b[0m\u001b[0;34m.\u001b[0m\u001b[0mbuffer\u001b[0m \u001b[0;34m=\u001b[0m \u001b[0mdata\u001b[0m\u001b[0;34m[\u001b[0m\u001b[0mconsumed\u001b[0m\u001b[0;34m:\u001b[0m\u001b[0;34m]\u001b[0m\u001b[0;34m\u001b[0m\u001b[0;34m\u001b[0m\u001b[0m\n",
      "\u001b[0;31mUnicodeDecodeError\u001b[0m: 'utf-8' codec can't decode byte 0xbd in position 0: invalid start byte"
     ]
    }
   ],
   "source": [
    "def main():\n",
    "  data = GetCrimeData(\"/Users/alston/Desktop/數據分析/bike.csv\")\n",
    "\n",
    "main()\n"
   ]
  },
  {
   "cell_type": "code",
   "execution_count": 69,
   "metadata": {},
   "outputs": [
    {
     "name": "stdout",
     "output_type": "stream",
     "text": [
      "102\n",
      "6\n",
      "30\n",
      "(13, 15)\n",
      "107年總案件數為:22\n",
      "3月總案件數為:84\n",
      "13時間內總案件數為:160\n"
     ]
    }
   ],
   "source": [
    "def GetYear(record):\n",
    "    return int(record[2][:3])\n",
    "\n",
    "def GetMonth(record):\n",
    "    return int(record[2][3:5])\n",
    "\n",
    "def GetDay(record):\n",
    "    return int(record[2][5:])\n",
    "\n",
    "def GetTime(record):\n",
    "    return int(record[3][0:2]),int(record[3][3:5])\n",
    "\n",
    "\n",
    "def GetYearCount(data, year):\n",
    "    count = 0\n",
    "    for i in range(len(data)):\n",
    "        if GetYear(data[i]) == year:\n",
    "            count+=1\n",
    "            \n",
    "    return count\n",
    "\n",
    "def GetMonCount(data, mon):\n",
    "    count = 0\n",
    "    for i in range(len(data)):\n",
    "        if GetMonth(data[i]) == mon:\n",
    "            count+=1\n",
    "            \n",
    "    return count\n",
    "\n",
    "def GetTimeCount(data, time):\n",
    "    count = 0\n",
    "    for i in range(len(data)):\n",
    "        start, end = GetTime(data[i])\n",
    "        if  start<= time <end:\n",
    "            count+=1\n",
    "            \n",
    "    return count\n",
    "\n",
    "\n",
    "def GetCrimeData(filename):\n",
    "    data = []\n",
    "    with open(filename, encoding='Big5') as f:\n",
    "        s = f.readline()\n",
    "        for line in f:\n",
    "            data.append(line.split(','))\n",
    "    return data\n",
    "\n",
    "def main():\n",
    "    data = GetCrimeData(\"/Users/alston/Desktop/數據分析/bike.txt\")\n",
    "\n",
    "    print(GetYear(data[0]))\n",
    "    print(GetMonth(data[0]))\n",
    "    print(GetDay(data[0]))\n",
    "    print(GetTime(data[0]))\n",
    "    \n",
    "    year = 107\n",
    "    print(\"%d年總案件數為:%d\" %(year, GetYearCount(data, year)))\n",
    "    \n",
    "    mon = 3\n",
    "    print(\"%d月總案件數為:%d\" %(mon, GetMonCount(data, mon)))\n",
    "\n",
    "    time = 13\n",
    "    print(\"%d時間內總案件數為:%d\" %(time, GetTimeCount(data, time)))\n",
    "main()"
   ]
  },
  {
   "cell_type": "code",
   "execution_count": 109,
   "metadata": {},
   "outputs": [
    {
     "name": "stdout",
     "output_type": "stream",
     "text": [
      "[['松山區', 62], ['大安區', 206], ['萬華區', 78], ['北投區', 121], ['南港區', 63], ['內湖區', 55], ['中正區', 109], ['信義區', 106], ['文山區', 109], ['中山區', 67], ['大同區', 79], ['士林區', 57]]\n"
     ]
    }
   ],
   "source": [
    "# Way 1\n",
    "def getRegion(data):\n",
    "    results=[]\n",
    "    \n",
    "    \n",
    "    for i in range(len(data)):\n",
    "        found = False\n",
    "        region = data[i][4][3:6]\n",
    "        \n",
    "        for i in results:\n",
    "            if i[0] == region:\n",
    "                i[1] += 1\n",
    "                found = True\n",
    "        \n",
    "        if not found:\n",
    "            results.append([region, 1])\n",
    "                \n",
    "    return results\n",
    "\n",
    "def getCrimeData(filename):\n",
    "    data = []\n",
    "    with open(filename, encoding='Big5') as f:\n",
    "        f.readline()\n",
    "    \n",
    "        for line in f:\n",
    "            data.append(line.split(',')) \n",
    "    return data\n",
    "\n",
    "def main():\n",
    "    data = getCrimeData('/Users/alston/Desktop/數據分析/bike.txt')\n",
    "    \n",
    "    print(getRegion(data))\n",
    "    \n",
    "    \n",
    "main()"
   ]
  },
  {
   "cell_type": "code",
   "execution_count": 129,
   "metadata": {},
   "outputs": [],
   "source": [
    "# Way 2\n",
    "def getRegion(record):\n",
    "    \n",
    "    region = record[4][3:6]\n",
    "    return region\n",
    "\n",
    "def GetTime(record):\n",
    "    return int(record[3][0:2]),int(record[3][3:5])\n",
    "\n",
    "def getCrimeData(filename):\n",
    "    data = []\n",
    "    with open(filename, encoding='Big5') as f:\n",
    "        f.readline()\n",
    "    \n",
    "        for line in f:\n",
    "            data.append(line.split(',')) \n",
    "    return data\n",
    "\n",
    "def getPlaceTimeCounts(data):\n",
    "    results = []\n",
    "    \n",
    "    for record in data:\n",
    "        region = getRegion(record)\n",
    "        s, e = GetTime(record)\n",
    "        \n",
    "        found = False\n",
    "        for i in results:\n",
    "             if region == i[0]:\n",
    "                \n",
    "                for t in range(s, e):\n",
    "                    i[1][t] +=1\n",
    "                \n",
    "                found =True\n",
    "                break\n",
    "        \n",
    "        if not found:\n",
    "            results.append([region,[0]*24])\n",
    "            for t in range(s, e):\n",
    "                results[-1][1][t] +=1\n",
    "    \n",
    "    return results\n",
    "\n",
    "def main():\n",
    "    data = getCrimeData('/Users/alston/Desktop/數據分析/bike.txt')\n",
    "    results =getPlaceTimeCounts(data)\n",
    "main()"
   ]
  },
  {
   "cell_type": "code",
   "execution_count": 115,
   "metadata": {},
   "outputs": [
    {
     "name": "stdout",
     "output_type": "stream",
     "text": [
      "[0, 0, 0, 0, 0, 0, 0, 0, 0, 0, 0, 0, 0, 0, 0, 0, 0, 0, 0, 0, 0, 0, 0, 0]\n"
     ]
    }
   ],
   "source": [
    "print([0]*24)"
   ]
  },
  {
   "cell_type": "code",
   "execution_count": null,
   "metadata": {},
   "outputs": [],
   "source": [
    "def getRegion(record):\n",
    "    \n",
    "    region = record[4][3:6]\n",
    "    return region\n",
    "\n",
    "def getCrimeData(filename):\n",
    "    data = []\n",
    "    with open(filename, encoding='Big5') as f:\n",
    "        f.readline()\n",
    "    \n",
    "        for line in f:\n",
    "            data.append(line.split(',')) \n",
    "    return data\n",
    "\n",
    "def main():\n",
    "    data = getCrimeData('/Users/alston/Desktop/數據分析/bike.txt')\n",
    "    results = []\n",
    "    \n",
    "    for record in data:\n",
    "        region = getRegion(record)\n",
    "        \n",
    "        \n",
    "        found = False\n",
    "    \n",
    "        for i in results:\n",
    "            if i[0] == region:\n",
    "                i[1] += 1\n",
    "                found = True\n",
    "        \n",
    "        if not found:\n",
    "            results.append([region, 1])\n",
    "    \n",
    "    print(results)\n",
    "    \n",
    "    \n",
    "main()"
   ]
  },
  {
   "cell_type": "code",
   "execution_count": 64,
   "metadata": {},
   "outputs": [
    {
     "name": "stdout",
     "output_type": "stream",
     "text": [
      "請輸入成績90\n",
      "> 90\n",
      "> 91\n",
      "> 91\n"
     ]
    }
   ],
   "source": [
    "def f():\n",
    "    score = int(input('請輸入成績'))\n",
    "    score = inc(score)\n",
    "    print('>',score)\n",
    "    \n",
    "def inc(score):\n",
    "    print('>',score)\n",
    "    score += 1\n",
    "    print('>',score)\n",
    "    return score\n",
    "f()"
   ]
  },
  {
   "cell_type": "code",
   "execution_count": 68,
   "metadata": {},
   "outputs": [
    {
     "name": "stdout",
     "output_type": "stream",
     "text": [
      "inv(): [1, 8, 9]\n",
      "inv(): [2, 9, 10]\n",
      "f(): [1, 8, 9]\n",
      "inv(): [1, 8, 9]\n",
      "inv(): [2, 9, 10]\n",
      "f(): [2, 9, 10]\n"
     ]
    }
   ],
   "source": [
    "# 令data指稱另一個值\n",
    "\n",
    "\n",
    "def f():\n",
    "    data = [1, 8, 9]\n",
    "    inv(data)\n",
    "    print('f():',data)\n",
    "\n",
    "def inv(data):\n",
    "    print('inv():',data)\n",
    "    data = [(e+1) for e in data]\n",
    "    print('inv():', data)\n",
    "\n",
    "f()\n",
    "\n",
    "# 令data[i]指稱另一個值\n",
    "def f():\n",
    "    data = [1, 8, 9]\n",
    "    inv(data)\n",
    "    print('f():',data)\n",
    "\n",
    "def inv(data):\n",
    "    print('inv():',data)\n",
    "    \n",
    "    for i in range(len(data)):\n",
    "        data[i] += 1\n",
    "    \n",
    "    print('inv():',data)\n",
    "    \n",
    "f()"
   ]
  },
  {
   "cell_type": "code",
   "execution_count": null,
   "metadata": {},
   "outputs": [],
   "source": []
  }
 ],
 "metadata": {
  "kernelspec": {
   "display_name": "Python 3",
   "language": "python",
   "name": "python3"
  },
  "language_info": {
   "codemirror_mode": {
    "name": "ipython",
    "version": 3
   },
   "file_extension": ".py",
   "mimetype": "text/x-python",
   "name": "python",
   "nbconvert_exporter": "python",
   "pygments_lexer": "ipython3",
   "version": "3.7.4"
  }
 },
 "nbformat": 4,
 "nbformat_minor": 2
}
