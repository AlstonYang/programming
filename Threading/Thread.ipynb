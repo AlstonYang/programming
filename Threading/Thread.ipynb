{
 "cells": [
  {
   "cell_type": "markdown",
   "metadata": {},
   "source": [
    "什麼是執行緒：執行緒就是將所有工作分為N段，利用N個threading來做，同一個時間運行多個程序（在同個腳本）。\n",
    "每一個def()就是一個程序\n",
    "但因為Python具有Global interpreter locker，所以每一個時間其實都只有一個執行緒在執行而已"
   ]
  },
  {
   "cell_type": "markdown",
   "metadata": {},
   "source": [
    "### Part I - 執行緒基本指令與操作"
   ]
  },
  {
   "cell_type": "code",
   "execution_count": 1,
   "metadata": {},
   "outputs": [],
   "source": [
    "import threading"
   ]
  },
  {
   "cell_type": "code",
   "execution_count": 9,
   "metadata": {},
   "outputs": [],
   "source": [
    "# 定義要給其他執行緒（線程）處理的程序\n",
    "def thread_job():\n",
    "    print(\"This is an added thread, number is %s\" %threading.current_thread())"
   ]
  },
  {
   "cell_type": "code",
   "execution_count": 10,
   "metadata": {},
   "outputs": [],
   "source": [
    "def main():\n",
    "    added_thread = threading.Thread(target = thread_job)\n",
    "    added_thread.start()"
   ]
  },
  {
   "cell_type": "code",
   "execution_count": 11,
   "metadata": {},
   "outputs": [
    {
     "name": "stdout",
     "output_type": "stream",
     "text": [
      "This is an added thread, number is <Thread(Thread-5, started 123145341964288)>\n"
     ]
    }
   ],
   "source": [
    "if __name__ == \"__main__\":\n",
    "    main()"
   ]
  },
  {
   "cell_type": "code",
   "execution_count": 12,
   "metadata": {},
   "outputs": [
    {
     "name": "stdout",
     "output_type": "stream",
     "text": [
      "5\n",
      "[<_MainThread(MainThread, started 4485338560)>, <Thread(Thread-2, started daemon 123145319870464)>, <Heartbeat(Thread-3, started daemon 123145325125632)>, <HistorySavingThread(IPythonHistorySavingThread, started 123145331453952)>, <ParentPollerUnix(Thread-1, started daemon 123145336709120)>]\n",
      "<_MainThread(MainThread, started 4485338560)>\n"
     ]
    }
   ],
   "source": [
    "# 目前有幾個執行緒\n",
    "print(threading.active_count())\n",
    "\n",
    "# 這些執行緒名稱\n",
    "print(threading.enumerate())\n",
    "\n",
    "# 目前的程序是由哪些執行緒執行\n",
    "print(threading.current_thread())"
   ]
  },
  {
   "cell_type": "markdown",
   "metadata": {},
   "source": [
    "### Part II - join 功能：等執行緒執行完後，才執行的動作"
   ]
  },
  {
   "cell_type": "code",
   "execution_count": 21,
   "metadata": {},
   "outputs": [],
   "source": [
    "import time"
   ]
  },
  {
   "cell_type": "code",
   "execution_count": 22,
   "metadata": {},
   "outputs": [],
   "source": [
    "def T1_job():\n",
    "    print(\"T1 start\")\n",
    "    for i in range(10):\n",
    "        time.sleep(0.1)\n",
    "    print(\"T1 finish!\")"
   ]
  },
  {
   "cell_type": "code",
   "execution_count": 23,
   "metadata": {},
   "outputs": [],
   "source": [
    "def T2_job():\n",
    "    print(\"T2 start\")\n",
    "    print(\"T2 finish!\")"
   ]
  },
  {
   "cell_type": "code",
   "execution_count": 24,
   "metadata": {},
   "outputs": [],
   "source": [
    "def main():\n",
    "    T1 = threading.Thread(target = T1_job)\n",
    "    T2 = threading.Thread(target = T2_job)\n",
    "    T1.start()\n",
    "    T2.start()\n",
    "    \n",
    "    T1.join()\n",
    "    T2.join()\n",
    "    \n",
    "    print(\"All done\")"
   ]
  },
  {
   "cell_type": "code",
   "execution_count": 25,
   "metadata": {},
   "outputs": [
    {
     "name": "stdout",
     "output_type": "stream",
     "text": [
      "T1 start\n",
      "T2 start\n",
      "T2 finish!\n",
      "T1 finish!\n",
      "All done\n"
     ]
    }
   ],
   "source": [
    "if __name__ == \"__main__\":\n",
    "    main()"
   ]
  },
  {
   "cell_type": "markdown",
   "metadata": {},
   "source": [
    "### Part III - Queue:作為執行緒之返回值"
   ]
  },
  {
   "cell_type": "code",
   "execution_count": 31,
   "metadata": {},
   "outputs": [],
   "source": [
    "from queue import Queue"
   ]
  },
  {
   "cell_type": "code",
   "execution_count": 32,
   "metadata": {},
   "outputs": [],
   "source": [
    "def job(data, q):\n",
    "    \n",
    "    for i in range(len(data)):\n",
    "        data[i] = data[i]**2\n",
    "        \n",
    "    return q.put(data)"
   ]
  },
  {
   "cell_type": "code",
   "execution_count": 33,
   "metadata": {},
   "outputs": [],
   "source": [
    "def main(data):\n",
    "    \n",
    "    q = Queue()\n",
    "    threads = []\n",
    "    \n",
    "    for i in range(4):\n",
    "        thread = threading.Thread(target=job, args=(data[i], q))\n",
    "        thread.start()\n",
    "        threads.append(thread)\n",
    "        \n",
    "    for thread in threads:\n",
    "        thread.join()\n",
    "        \n",
    "    results = []\n",
    "    \n",
    "    for _ in range(4):\n",
    "        results.append(q.get())\n",
    "        \n",
    "    print(results)"
   ]
  },
  {
   "cell_type": "code",
   "execution_count": 34,
   "metadata": {},
   "outputs": [
    {
     "name": "stdout",
     "output_type": "stream",
     "text": [
      "[[1, 4, 9, 16], [4, 9, 16, 25], [16, 25, 36, 49], [9, 16, 25, 36]]\n"
     ]
    }
   ],
   "source": [
    "if __name__ == \"__main__\":\n",
    "    data = [[1,2,3,4], [2,3,4,5], [4,5,6,7], [3,4,5,6]]\n",
    "    main(data)"
   ]
  },
  {
   "cell_type": "markdown",
   "metadata": {},
   "source": [
    "### Part IV - 多執行緒Python並非把所有任務平均交給多執行緒\n",
    "Global Interpreter Lock (GIL): 同步執行緒的一種機制，使得任何時刻僅有一個執行緒在執行"
   ]
  },
  {
   "cell_type": "code",
   "execution_count": 38,
   "metadata": {},
   "outputs": [],
   "source": [
    "import copy"
   ]
  },
  {
   "cell_type": "code",
   "execution_count": 37,
   "metadata": {},
   "outputs": [],
   "source": [
    "def job(data, q):\n",
    "    res = sum(data)\n",
    "    q.put(res)"
   ]
  },
  {
   "cell_type": "code",
   "execution_count": 39,
   "metadata": {},
   "outputs": [],
   "source": [
    "def multiThreading(data):\n",
    "    q = Queue()\n",
    "    threads = []\n",
    "    \n",
    "    for i in range(4):\n",
    "        t = threading.Thread(target=job, args=(copy.copy(data), q), name = \"T%s\"%(i))\n",
    "        t.start()\n",
    "        threads.append(t)\n",
    "        \n",
    "    for thread in threads:\n",
    "        thread.join()\n",
    "        \n",
    "    sum = 0\n",
    "    for _ in range(4):\n",
    "        sum += q.get()\n",
    "    \n",
    "    print(sum)"
   ]
  },
  {
   "cell_type": "code",
   "execution_count": 40,
   "metadata": {},
   "outputs": [],
   "source": [
    "def normal(data):\n",
    "    total = sum(data)\n",
    "    print(total)"
   ]
  },
  {
   "cell_type": "code",
   "execution_count": 43,
   "metadata": {},
   "outputs": [
    {
     "name": "stdout",
     "output_type": "stream",
     "text": [
      "1999998000000\n",
      "Normal: 0.054944\n",
      "1999998000000\n",
      "Multithreading: 0.057185\n"
     ]
    }
   ],
   "source": [
    "if __name__ == \"__main__\":\n",
    "    \n",
    "    data = list(range(1000000))\n",
    "    start_time = time.time()\n",
    "    normal(data*4)\n",
    "    print(\"Normal: %f\" %(time.time() - start_time))\n",
    "    \n",
    "    start_time = time.time()\n",
    "    multiThreading(data)\n",
    "    print(\"Multithreading: %f\" %(time.time() - start_time))"
   ]
  },
  {
   "cell_type": "markdown",
   "metadata": {},
   "source": [
    "### Part V - Lock:鎖住目前執行緒，把所有資源都拿來先執行此工作"
   ]
  },
  {
   "cell_type": "code",
   "execution_count": 48,
   "metadata": {},
   "outputs": [],
   "source": [
    "def job1():\n",
    "    global A, lock\n",
    "    \n",
    "    lock.acquire()\n",
    "    for _ in range(10):\n",
    "        A += 1\n",
    "    print(\"job 1: \",A)\n",
    "    lock.release()"
   ]
  },
  {
   "cell_type": "code",
   "execution_count": 49,
   "metadata": {},
   "outputs": [],
   "source": [
    "def job2():\n",
    "    global A, lock\n",
    "    \n",
    "    lock.acquire()\n",
    "    for _ in range(10):\n",
    "        A += 10\n",
    "    print(\"job 2: \",A)\n",
    "    lock.release()"
   ]
  },
  {
   "cell_type": "code",
   "execution_count": 56,
   "metadata": {},
   "outputs": [
    {
     "name": "stdout",
     "output_type": "stream",
     "text": [
      "job 1:  10\n",
      "job 2:  110\n"
     ]
    }
   ],
   "source": [
    "if __name__ == \"__main__\":\n",
    "    lock = threading.Lock()\n",
    "    A = 0\n",
    "    \n",
    "    t1 = threading.Thread(target=job1, name = \"t1\")\n",
    "    t2 = threading.Thread(target=job2, name = \"t2\")\n",
    "    \n",
    "    t1.start()\n",
    "    t2.start()\n",
    "    \n",
    "    t1.join()\n",
    "    t2.join()"
   ]
  },
  {
   "cell_type": "code",
   "execution_count": null,
   "metadata": {},
   "outputs": [],
   "source": []
  },
  {
   "cell_type": "code",
   "execution_count": null,
   "metadata": {},
   "outputs": [],
   "source": []
  }
 ],
 "metadata": {
  "kernelspec": {
   "display_name": "Python 3",
   "language": "python",
   "name": "python3"
  },
  "language_info": {
   "codemirror_mode": {
    "name": "ipython",
    "version": 3
   },
   "file_extension": ".py",
   "mimetype": "text/x-python",
   "name": "python",
   "nbconvert_exporter": "python",
   "pygments_lexer": "ipython3",
   "version": "3.7.4"
  }
 },
 "nbformat": 4,
 "nbformat_minor": 4
}
