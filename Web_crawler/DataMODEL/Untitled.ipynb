{
 "cells": [
  {
   "cell_type": "code",
   "execution_count": 2,
   "metadata": {},
   "outputs": [],
   "source": [
    "import requests\n",
    "import pandas as pd\n",
    "import re\n",
    "from bs4 import BeautifulSoup\n",
    "import numpy as np\n",
    "import re\n",
    "\n",
    "\n",
    "url = 'https://pip.moi.gov.tw/V3/E/SCRE0106.aspx'\n",
    "df = pd.read_html(url)\n",
    "# df1 = df[0]\n",
    "\n",
    "# doc_path = \"/Users/alston/Desktop/Home_Price_Indices.csv\"\n",
    "# df1.to_csv(doc_path,index=None,encoding=\"Big5\")"
   ]
  },
  {
   "cell_type": "code",
   "execution_count": 4,
   "metadata": {},
   "outputs": [],
   "source": [
    "df2 = df[1]\n",
    "doc_path = \"/Users/alston/Desktop/quarterly_change_rate.csv\"\n",
    "df2.to_csv(doc_path,index=None,encoding=\"Big5\")"
   ]
  },
  {
   "cell_type": "code",
   "execution_count": 5,
   "metadata": {},
   "outputs": [],
   "source": [
    "df3 = df[2]\n",
    "doc_path = \"/Users/alston/Desktop/yearly_change_rate.csv\"\n",
    "df3.to_csv(doc_path,index=None,encoding=\"Big5\")"
   ]
  },
  {
   "cell_type": "code",
   "execution_count": null,
   "metadata": {},
   "outputs": [],
   "source": []
  }
 ],
 "metadata": {
  "kernelspec": {
   "display_name": "Python 3",
   "language": "python",
   "name": "python3"
  },
  "language_info": {
   "codemirror_mode": {
    "name": "ipython",
    "version": 3
   },
   "file_extension": ".py",
   "mimetype": "text/x-python",
   "name": "python",
   "nbconvert_exporter": "python",
   "pygments_lexer": "ipython3",
   "version": "3.7.4"
  }
 },
 "nbformat": 4,
 "nbformat_minor": 2
}
