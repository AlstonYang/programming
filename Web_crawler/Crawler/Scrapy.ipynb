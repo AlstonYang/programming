{
 "cells": [
  {
   "cell_type": "code",
   "execution_count": 3,
   "metadata": {},
   "outputs": [],
   "source": [
    "import scrapy\n",
    "\n",
    "class bookSpider(scrapy.Spider):\n",
    "    \n",
    "    name = 'books'\n",
    "    start_urls = ['']\n",
    "    \n",
    "    def parse(self, response):\n",
    "        for book in response.css('article.product_pod'):\n",
    "            name = book.xpath('./h3/a/@title').extract_first()\n",
    "            price = book.css('p.price_color::text').extract_first()\n",
    "            \n",
    "            yield{\n",
    "                'name':name,\n",
    "                'price':price\n",
    "            }\n",
    "            \n",
    "        next_url = reponse.css('ul.pager li.next a::attr(href)').extract_first()\n",
    "        \n",
    "        if next_url:\n",
    "            next_url = reponse.urljoin(next_url)\n",
    "            yield scrapy.Request(next_url, callback = self.parse)"
   ]
  },
  {
   "cell_type": "code",
   "execution_count": 4,
   "metadata": {},
   "outputs": [
    {
     "name": "stdout",
     "output_type": "stream",
     "text": [
      "<Selector xpath=None data='<html>\\n        <body>\\n            <h1...'>\n"
     ]
    }
   ],
   "source": [
    "from scrapy.selector import Selector\n",
    "\n",
    "text = '''\n",
    "\n",
    "    <html>\n",
    "        <body>\n",
    "            <h1>Hello World</h1>\n",
    "            <h1>Hello Scrapy</h1>\n",
    "            <b>Hello python></b>\n",
    "            <ul>\n",
    "                <li>C++</li>\n",
    "                <li>Java</li>\n",
    "                <li>Python</li>\n",
    "            </ul>\n",
    "        </body>\n",
    "    </html>\n",
    "    \n",
    "'''\n",
    "\n",
    "selector = Selector(text = text) #用Selector讀html\n",
    "print(selector)\n"
   ]
  },
  {
   "cell_type": "code",
   "execution_count": 6,
   "metadata": {},
   "outputs": [
    {
     "name": "stdout",
     "output_type": "stream",
     "text": [
      "<Selector xpath=None data='<html>\\n        <body>\\n            <h1...'>\n"
     ]
    }
   ],
   "source": [
    "from scrapy.selector import Selector\n",
    "from scrapy.http import HtmlResponse\n",
    "\n",
    "body ='''\n",
    "\n",
    "<html>\n",
    "        <body>\n",
    "            <h1>Hello World</h1>\n",
    "            <h1>Hello Scrapy</h1>\n",
    "            <b>Hello python></b>\n",
    "            <ul>\n",
    "                <li>C++</li>\n",
    "                <li>Java</li>\n",
    "                <li>Python</li>\n",
    "            </ul>\n",
    "        </body>\n",
    "    </html>\n",
    "\n",
    "'''\n",
    "\n",
    "\n",
    "response = HtmlResponse(url='http://www.example.com', body = body, encoding = 'utf-8')\n",
    "selector = Selector(response = response)\n",
    "print(selector)\n",
    "\n"
   ]
  },
  {
   "cell_type": "code",
   "execution_count": 10,
   "metadata": {},
   "outputs": [
    {
     "name": "stdout",
     "output_type": "stream",
     "text": [
      "[<Selector xpath='//h1' data='<h1>Hello World</h1>'>, <Selector xpath='//h1' data='<h1>Hello Scrapy</h1>'>]\n",
      "====================================================================================================\n",
      "[<Selector xpath='./text()' data='Hello World'>]\n",
      "[<Selector xpath='./text()' data='Hello Scrapy'>]\n",
      "====================================================================================================\n",
      "[<Selector xpath='./text()' data='Hello World'>, <Selector xpath='./text()' data='Hello Scrapy'>]\n",
      "====================================================================================================\n",
      "[<Selector xpath='./text()' data='C++'>, <Selector xpath='./text()' data='Java'>, <Selector xpath='./text()' data='Python'>]\n"
     ]
    }
   ],
   "source": [
    "selector_list = selector.xpath('//h1')\n",
    "print(selector_list)\n",
    "\n",
    "print('='*100)\n",
    "\n",
    "for sel in selector_list:\n",
    "    print(sel.xpath('./text()'))\n",
    "\n",
    "print('='*100)\n",
    "\n",
    "print(selector_list.xpath('./text()'))\n",
    "\n",
    "print('='*100)\n",
    "\n",
    "print(selector.xpath('//ul').css('li').xpath('./text()'))"
   ]
  },
  {
   "cell_type": "code",
   "execution_count": 49,
   "metadata": {},
   "outputs": [
    {
     "name": "stdout",
     "output_type": "stream",
     "text": [
      "[<Selector xpath='.//li' data='<li>Python學習手冊 <b>價格：99.00元</b></li>'>, <Selector xpath='.//li' data='<li>Python核心程式設計 <b>價格：88.00元</b></li>'>, <Selector xpath='.//li' data='<li>Python基礎教學 <b>價格：80.00元</b></li>'>]\n",
      "--------------------------------------------------\n",
      "<li>Python學習手冊 <b>價格：99.00元</b></li>\n",
      "==================================================\n",
      "[<Selector xpath='.//li/text()' data='Python學習手冊 '>, <Selector xpath='.//li/text()' data='Python核心程式設計 '>, <Selector xpath='.//li/text()' data='Python基礎教學 '>]\n",
      "--------------------------------------------------\n",
      "Python學習手冊 \n",
      "==================================================\n",
      "['<li>Python學習手冊 <b>價格：99.00元</b></li>', '<li>Python核心程式設計 <b>價格：88.00元</b></li>', '<li>Python基礎教學 <b>價格：80.00元</b></li>']\n",
      "<li>Python學習手冊 <b>價格：99.00元</b></li>\n"
     ]
    }
   ],
   "source": [
    "s1 = selector.xpath('.//li')\n",
    "print(s1)\n",
    "print('-'*50)\n",
    "print(s1[0].extract())\n",
    "\n",
    "print('='*50)\n",
    "\n",
    "s1 = selector.xpath('.//li/text()')\n",
    "print(s1)\n",
    "print('-'*50)\n",
    "print(s1[0].extract())\n",
    "\n",
    "print('='*50)\n",
    "s1 = selector.xpath('.//li')\n",
    "print(s1.extract())\n",
    "print(s1.extract_first())"
   ]
  },
  {
   "cell_type": "code",
   "execution_count": 29,
   "metadata": {},
   "outputs": [
    {
     "name": "stdout",
     "output_type": "stream",
     "text": [
      "[<Selector xpath='.//li/b/text()' data='價格：99.00元'>, <Selector xpath='.//li/b/text()' data='價格：88.00元'>, <Selector xpath='.//li/b/text()' data='價格：80.00元'>]\n",
      "==================================================\n",
      "['價格：99.00元', '價格：88.00元', '價格：80.00元']\n",
      "==================================================\n",
      "['99.00', '88.00', '80.00']\n",
      "==================================================\n",
      "99.00\n"
     ]
    }
   ],
   "source": [
    "text = '''\n",
    "    <ul>\n",
    "        <li>Python學習手冊 <b>價格：99.00元</b></li>\n",
    "        <li>Python核心程式設計 <b>價格：88.00元</b></li>\n",
    "        <li>Python基礎教學 <b>價格：80.00元</b></li>\n",
    "    </ul>\n",
    "'''\n",
    "\n",
    "selector = Selector(text = text)\n",
    "price = selector.xpath('.//li/b/text()')\n",
    "print(price)\n",
    "print('='*50)\n",
    "print(price.extract())\n",
    "print('='*50)\n",
    "print(price.re('\\d+\\.\\d+'))  #re自帶extract效果\n",
    "print('='*50)\n",
    "print(price.re_first('\\d+\\.\\d+'))"
   ]
  },
  {
   "cell_type": "code",
   "execution_count": 35,
   "metadata": {},
   "outputs": [
    {
     "name": "stdout",
     "output_type": "stream",
     "text": [
      "<Selector xpath=None data='<html>\\n        <body>\\n            <h1...'>\n",
      "--------------------------------------------------\n",
      "['Hello World', 'Hello Scrapy']\n",
      "['C++', 'Java', 'Python']\n"
     ]
    }
   ],
   "source": [
    "#response 不需丟進selector\n",
    "\n",
    "from scrapy.http import HtmlResponse\n",
    "\n",
    "body = '''\n",
    "    <html>\n",
    "        <body>\n",
    "            <h1>Hello World</h1>\n",
    "            <h1>Hello Scrapy</h1>\n",
    "            <b>Hello python></b>\n",
    "            <ul>\n",
    "                <li>C++</li>\n",
    "                <li>Java</li>\n",
    "                <li>Python</li>\n",
    "            </ul>\n",
    "        </body>\n",
    "    </html>\n",
    "'''\n",
    "\n",
    "response = HtmlResponse(url='http://www.example.com', body = body, encoding='utf8')\n",
    "print(response.selector)\n",
    "print('-'*50)\n",
    "print(response.xpath('.//h1/text()').extract())\n",
    "print(response.xpath('.//li/text()').extract())\n"
   ]
  },
  {
   "cell_type": "code",
   "execution_count": 153,
   "metadata": {},
   "outputs": [
    {
     "name": "stdout",
     "output_type": "stream",
     "text": [
      "[<Selector xpath='/html' data='<html>\\n        <head>\\n            <ba...'>]\n",
      "[<Selector xpath='/html/head' data='<head>\\n            <base href=\"http:/...'>]\n"
     ]
    }
   ],
   "source": [
    "from scrapy.selector import Selector\n",
    "from scrapy.http import HtmlResponse\n",
    "\n",
    "body = '''\n",
    "    <html>\n",
    "        <head>\n",
    "            <base href='http://example.com/' />\n",
    "            <title>Example website</title>\n",
    "        </head>\n",
    "        <body>\n",
    "            <div id='images'>\n",
    "                <a href = 'image1.html'>Name: Image I<br/><img src='image1.jpg' /></a>\n",
    "                <a href = 'image2.html'>Name: Image 2<br/><img src='image2.jpg' /></a>\n",
    "                <a href = 'image3.html'>Name: Image 3<br/><img src='image3.jpg' /></a>\n",
    "                <a href = 'image4.html'>Name: Image 4<br/><img src='image4.jpg' /></a>\n",
    "                <a href = 'image5.html'>Name: Image 5<br/><img src='image5.jpg' /></a>\n",
    "            </div>\n",
    "            <img src='image1.jpg' />\n",
    "        </body>\n",
    "        \n",
    "        <body>\n",
    "            <div id='images'>\n",
    "                <a href = 'image99.html'>Name: Image 99<br/><img src='image99.jpg' /></a>\n",
    "                <a href = 'image100.html'>Name: Image 100<br/><img src='image100.jpg' /></a>\n",
    "            </div>\n",
    "        </body>\n",
    "    </html>\n",
    "'''\n",
    "\n",
    "response = HtmlResponse(url = 'http://www.example.com',body = body, encoding='utf8')\n",
    "print(response.xpath('/html'))\n",
    "print(response.xpath('/html/head'))\n"
   ]
  },
  {
   "cell_type": "code",
   "execution_count": 150,
   "metadata": {},
   "outputs": [
    {
     "name": "stdout",
     "output_type": "stream",
     "text": [
      "<a href=\"image1.html\">Name: Image I<br><img src=\"image1.jpg\"></a>\n",
      "<a href=\"image2.html\">Name: Image 2<br><img src=\"image2.jpg\"></a>\n",
      "<a href=\"image3.html\">Name: Image 3<br><img src=\"image3.jpg\"></a>\n",
      "<a href=\"image4.html\">Name: Image 4<br><img src=\"image4.jpg\"></a>\n",
      "<a href=\"image5.html\">Name: Image 5<br><img src=\"image5.jpg\"></a>\n",
      "<a href=\"image1.html\">Name: Image I<br><img src=\"image1.jpg\"></a>\n",
      "<a href=\"image2.html\">Name: Image 2<br><img src=\"image2.jpg\"></a>\n"
     ]
    }
   ],
   "source": [
    "# # 選取 div之下的所有a (指定特定路徑中的 a)\n",
    "# print(response.xpath('//a').extract())\n",
    "# print(response.xpath('./body/div/a/text()').extract())\n",
    "\n",
    "for item in response.xpath('//a').extract():\n",
    "    print(item)"
   ]
  },
  {
   "cell_type": "code",
   "execution_count": 134,
   "metadata": {},
   "outputs": [
    {
     "name": "stdout",
     "output_type": "stream",
     "text": [
      "<Selector xpath='./body//img' data='<img src=\"image1.jpg\">'>\n",
      "<Selector xpath='./body//img' data='<img src=\"image2.jpg\">'>\n",
      "<Selector xpath='./body//img' data='<img src=\"image3.jpg\">'>\n",
      "<Selector xpath='./body//img' data='<img src=\"image4.jpg\">'>\n",
      "<Selector xpath='./body//img' data='<img src=\"image5.jpg\">'>\n",
      "<Selector xpath='./body//img' data='<img src=\"image1.jpg\">'>\n",
      "<Selector xpath='./body//img' data='<img src=\"image1.jpg\">'>\n",
      "<Selector xpath='./body//img' data='<img src=\"image2.jpg\">'>\n"
     ]
    }
   ],
   "source": [
    "for item in response.xpath('./body//img'):\n",
    "    print(item)"
   ]
  },
  {
   "cell_type": "code",
   "execution_count": 113,
   "metadata": {},
   "outputs": [],
   "source": [
    "# # 選取html下的所有元素子節點 (daughter tags)\n",
    "# for item in response.xpath('/html/*'):\n",
    "#     print(item.extract)\n",
    "\n",
    "# print('-'*50)\n",
    "\n",
    "# # 選取html下的所有元素子與孫節點 (daughter tags)\n",
    "# for item in response.xpath('/html/body/div//*'):\n",
    "#     print(item.extract)"
   ]
  },
  {
   "cell_type": "code",
   "execution_count": 146,
   "metadata": {},
   "outputs": [
    {
     "name": "stdout",
     "output_type": "stream",
     "text": [
      "<Selector xpath='//div/*/img' data='<img src=\"image1.jpg\">'>\n",
      "<Selector xpath='//div/*/img' data='<img src=\"image2.jpg\">'>\n",
      "<Selector xpath='//div/*/img' data='<img src=\"image3.jpg\">'>\n",
      "<Selector xpath='//div/*/img' data='<img src=\"image4.jpg\">'>\n",
      "<Selector xpath='//div/*/img' data='<img src=\"image5.jpg\">'>\n",
      "<Selector xpath='//div/*/img' data='<img src=\"image1.jpg\">'>\n",
      "<Selector xpath='//div/*/img' data='<img src=\"image2.jpg\">'>\n",
      "image1.html\n",
      "image2.html\n",
      "image3.html\n",
      "image4.html\n",
      "image5.html\n",
      "image1.html\n",
      "image2.html\n"
     ]
    }
   ],
   "source": [
    "# 選取所有div的孫節點img\n",
    "for item in response.xpath('//div/*/img'):\n",
    "    print(item)\n",
    "\n",
    "\n",
    "# 選取所有img的scr屬性\n",
    "for item in response.xpath('//a/@href'):\n",
    "    print(item.extract())"
   ]
  },
  {
   "cell_type": "code",
   "execution_count": 127,
   "metadata": {},
   "outputs": [
    {
     "name": "stdout",
     "output_type": "stream",
     "text": [
      "<Selector xpath='//@href' data='http://example.com/'>\n",
      "<Selector xpath='//@href' data='image1.html'>\n",
      "<Selector xpath='//@href' data='image2.html'>\n",
      "<Selector xpath='//@href' data='image3.html'>\n",
      "<Selector xpath='//@href' data='image4.html'>\n",
      "<Selector xpath='//@href' data='image5.html'>\n",
      "<Selector xpath='//@href' data='image1.html'>\n",
      "<Selector xpath='//@href' data='image2.html'>\n"
     ]
    }
   ],
   "source": [
    "for item in response.xpath('//@href'):\n",
    "    print(item)"
   ]
  },
  {
   "cell_type": "code",
   "execution_count": 163,
   "metadata": {},
   "outputs": [
    {
     "name": "stdout",
     "output_type": "stream",
     "text": [
      "<Selector xpath='//a[1]' data='<a href=\"image1.html\">Name: Image I<b...'>\n",
      "<Selector xpath='//a[1]' data='<a href=\"image99.html\">Name: Image 99...'>\n"
     ]
    }
   ],
   "source": [
    "#將index為1的都抓出來\n",
    "for item in response.xpath('//a[1]'):\n",
    "    print(item)"
   ]
  },
  {
   "cell_type": "code",
   "execution_count": 162,
   "metadata": {},
   "outputs": [
    {
     "name": "stdout",
     "output_type": "stream",
     "text": [
      "<Selector xpath='//a' data='<a href=\"image1.html\">Name: Image I<b...'>\n"
     ]
    }
   ],
   "source": [
    "item = response.xpath('//a')[0]\n",
    "print(item)"
   ]
  },
  {
   "cell_type": "code",
   "execution_count": 170,
   "metadata": {},
   "outputs": [
    {
     "name": "stdout",
     "output_type": "stream",
     "text": [
      "[<Selector xpath='//a[3]' data='<a href=\"image3.html\">Name: Image 3<b...'>]\n",
      "['<a href=\"image5.html\">Name: Image 5<br><img src=\"image5.jpg\"></a>', '<a href=\"image100.html\">Name: Image 100<br><img src=\"image100.jpg\"></a>']\n",
      "[<Selector xpath='//a[position()<=3]' data='<a href=\"image1.html\">Name: Image I<b...'>, <Selector xpath='//a[position()<=3]' data='<a href=\"image2.html\">Name: Image 2<b...'>, <Selector xpath='//a[position()<=3]' data='<a href=\"image3.html\">Name: Image 3<b...'>, <Selector xpath='//a[position()<=3]' data='<a href=\"image99.html\">Name: Image 99...'>, <Selector xpath='//a[position()<=3]' data='<a href=\"image100.html\">Name: Image 1...'>]\n",
      "[]\n",
      "[<Selector xpath='//div[@id=\"images\"]' data='<div id=\"images\">\\n                <a ...'>, <Selector xpath='//div[@id=\"images\"]' data='<div id=\"images\">\\n                <a ...'>]\n"
     ]
    }
   ],
   "source": [
    "# 選取所有a中的第3個\n",
    "print(response.xpath('//a[3]'))\n",
    "\n",
    "# 最後一個\n",
    "print(response.xpath('//a[last()]').extract())\n",
    "\n",
    "# 使用position，選前三個\n",
    "print(response.xpath('//a[position()<=3]'))\n",
    "\n",
    "#選取所有含有id屬性的div\n",
    "print(response.xpath('//id[@id]'))\n",
    "\n",
    "# 選取所有含id屬性且值為images的div\n",
    "print(response.xpath('//div[@id=\"images\"]'))"
   ]
  },
  {
   "cell_type": "code",
   "execution_count": 172,
   "metadata": {},
   "outputs": [
    {
     "name": "stdout",
     "output_type": "stream",
     "text": [
      "['Next Page']\n",
      "['Next Page']\n"
     ]
    }
   ],
   "source": [
    "# .xpath()中的 string()\n",
    "\n",
    "from scrapy.selector import Selector\n",
    "text = '<a href=\"#\">Click here go to to the <strong>Next Page</strong></a>'\n",
    "sel = Selector(text=text)\n",
    "print(sel.xpath('string(/html/body/a/strong)').extract())\n",
    "print(sel.xpath('/html/body/a/strong/text()').extract())"
   ]
  },
  {
   "cell_type": "code",
   "execution_count": 177,
   "metadata": {},
   "outputs": [
    {
     "name": "stdout",
     "output_type": "stream",
     "text": [
      "['Click here go to to the ', 'Next Page']\n",
      "['Click here go to to the Next Page']\n"
     ]
    }
   ],
   "source": [
    "# 取得整個字串 Click here to go to the Next Page\n",
    "# 因為上面的字串分屬不同的標籤(元素)之下\n",
    "\n",
    "print(sel.xpath('//a//text()').extract())\n",
    "print(sel.xpath('string(//a)').extract())"
   ]
  },
  {
   "cell_type": "code",
   "execution_count": 181,
   "metadata": {},
   "outputs": [],
   "source": [
    "from scrapy.selector import Selector\n",
    "from scrapy.http import HtmlResponse\n",
    "\n",
    "body = '''\n",
    "    <html>\n",
    "        <head>\n",
    "            <base href='http://example.com/' />\n",
    "            <title>Example website</title>\n",
    "        <body>\n",
    "            <div id=\"images-1\" style='width: 1230px;'>\n",
    "                <a href='image1.html'>Name: Image1 <br/><img src='imge1.jpg' /></a>\n",
    "                <a href='image1.html'>Name: Image2 <br/><img src='imge2.jpg' /></a>\n",
    "                <a href='image1.html'>Name: Image3 <br/><img src='imge3.jpg' /></a>\n",
    "            </div>\n",
    "            <div id='images-2' class='small'>\n",
    "                <a href='image4.html'>Name: Image 4 <br/><imag src='image4.jpg' /></a>\n",
    "                <a href='image5.html'>Name: Image 5 <br/><imag src='image5.jpg' /></a>\n",
    "            </div>\n",
    "        </body>\n",
    "    </html>\n",
    "'''\n",
    "\n",
    "response = HtmlResponse(url='http://www.example.com',body=body,encoding='utf8')\n"
   ]
  },
  {
   "cell_type": "code",
   "execution_count": 203,
   "metadata": {},
   "outputs": [
    {
     "name": "stdout",
     "output_type": "stream",
     "text": [
      "['<img src=\"imge1.jpg\">', '<img src=\"imge2.jpg\">', '<img src=\"imge3.jpg\">']\n",
      "====================================================================================================\n",
      "['<base href=\"http://example.com/\">', '<title>Example website</title>']\n",
      "====================================================================================================\n",
      "[<Selector xpath='descendant-or-self::div/descendant-or-self::*/img' data='<img src=\"imge1.jpg\">'>, <Selector xpath='descendant-or-self::div/descendant-or-self::*/img' data='<img src=\"imge2.jpg\">'>, <Selector xpath='descendant-or-self::div/descendant-or-self::*/img' data='<img src=\"imge3.jpg\">'>]\n",
      "====================================================================================================\n",
      "[<Selector xpath='descendant-or-self::body/div' data='<div id=\"images-1\" style=\"width: 1230...'>, <Selector xpath='descendant-or-self::body/div' data='<div id=\"images-2\" class=\"small\">\\n   ...'>]\n",
      "====================================================================================================\n",
      "[<Selector xpath='descendant-or-self::*[@style]' data='<div id=\"images-1\" style=\"width: 1230...'>]\n",
      "====================================================================================================\n",
      "[<Selector xpath=\"descendant-or-self::*[@id = 'images-1']\" data='<div id=\"images-1\" style=\"width: 1230...'>]\n",
      "====================================================================================================\n",
      "[<Selector xpath='descendant-or-self::div/a[count(preceding-sibling::*) = 0]' data='<a href=\"image1.html\">Name: Image1 <b...'>, <Selector xpath='descendant-or-self::div/a[count(preceding-sibling::*) = 0]' data='<a href=\"image4.html\">Name: Image 4 <...'>]\n",
      "====================================================================================================\n"
     ]
    }
   ],
   "source": [
    "# 選取所有的 img\n",
    "print(response.css('img').extract())\n",
    "print('='*100)\n",
    "# 選取所有base和title\n",
    "print(response.css('base, title').extract())\n",
    "print('='*100)\n",
    "# 選取div後代中的img (descendants)\n",
    "print(response.css('div img'))\n",
    "print('='*100)\n",
    "# 選取body子元素中的div (daughters)\n",
    "print(response.css('body>div'))\n",
    "print('='*100)\n",
    "# 選取包含style屬性的元素 attrs不用“”\n",
    "print(response.css('[style]'))\n",
    "print('='*100)\n",
    "# 選取屬性id值為images-1的元表\n",
    "print(response.css('[id=\"images-1\"]'))\n",
    "print('='*100)\n",
    "# 選取每個div的第一個a\n",
    "print(response.css('div>a:nth-child(1)'))\n",
    "print('='*100)\n"
   ]
  },
  {
   "cell_type": "code",
   "execution_count": 205,
   "metadata": {},
   "outputs": [
    {
     "name": "stdout",
     "output_type": "stream",
     "text": [
      "[<Selector xpath='descendant-or-self::div[count(preceding-sibling::*) = 1]/a[count(preceding-sibling::*) = 0]' data='<a href=\"image4.html\">Name: Image 4 <...'>]\n",
      "====================================================================================================\n",
      "[<Selector xpath='descendant-or-self::div[count(preceding-sibling::*) = 0]/a[count(following-sibling::*) = 0]' data='<a href=\"image1.html\">Name: Image3 <b...'>]\n",
      "====================================================================================================\n",
      "<bound method SelectorList.getall of [<Selector xpath='descendant-or-self::a/text()' data='Name: Image1 '>, <Selector xpath='descendant-or-self::a/text()' data='Name: Image2 '>, <Selector xpath='descendant-or-self::a/text()' data='Name: Image3 '>, <Selector xpath='descendant-or-self::a/text()' data='Name: Image 4 '>, <Selector xpath='descendant-or-self::a/text()' data='Name: Image 5 '>]>\n"
     ]
    }
   ],
   "source": [
    "# 選取第二個div的第一個a\n",
    "print(response.css('div:nth-child(2)>a:nth-child(1)'))\n",
    "print('='*100)\n",
    "# 選取第一個div中的最後一個a\n",
    "print(response.css('div:first-child>a:last-child'))\n",
    "print('='*100)\n",
    "# 選取所有a的文字\n",
    "print(response.css('a::text').extract)"
   ]
  },
  {
   "cell_type": "code",
   "execution_count": null,
   "metadata": {},
   "outputs": [],
   "source": []
  },
  {
   "cell_type": "code",
   "execution_count": null,
   "metadata": {},
   "outputs": [],
   "source": []
  },
  {
   "cell_type": "code",
   "execution_count": null,
   "metadata": {},
   "outputs": [],
   "source": []
  },
  {
   "cell_type": "code",
   "execution_count": null,
   "metadata": {},
   "outputs": [],
   "source": []
  },
  {
   "cell_type": "code",
   "execution_count": null,
   "metadata": {},
   "outputs": [],
   "source": []
  },
  {
   "cell_type": "code",
   "execution_count": null,
   "metadata": {},
   "outputs": [],
   "source": []
  }
 ],
 "metadata": {
  "kernelspec": {
   "display_name": "Python 3",
   "language": "python",
   "name": "python3"
  },
  "language_info": {
   "codemirror_mode": {
    "name": "ipython",
    "version": 3
   },
   "file_extension": ".py",
   "mimetype": "text/x-python",
   "name": "python",
   "nbconvert_exporter": "python",
   "pygments_lexer": "ipython3",
   "version": "3.7.4"
  }
 },
 "nbformat": 4,
 "nbformat_minor": 2
}
