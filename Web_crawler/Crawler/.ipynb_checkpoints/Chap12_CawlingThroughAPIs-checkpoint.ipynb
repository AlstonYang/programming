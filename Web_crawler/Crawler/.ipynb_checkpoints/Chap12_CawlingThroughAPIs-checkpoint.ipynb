{
 "cells": [
  {
   "cell_type": "markdown",
   "metadata": {},
   "source": [
    "# Chapter 12 Crawling Through APIs\n",
    "\n",
    "## APIs簡介\n",
    "\n",
    "- API: 一套標準化的語法，允許結構不同、甚至是用不同程式語言寫成的軟體間可以進行溝通\n",
    "- 本章著眼於Web APIs，也就是用來讓伺服器與瀏覽器溝通的API\n",
    "- Web API 是很多廣告很大、使用說明文件很齊全的公共服務，如：\n",
    "    1. ESPN (http://espn.com/api/devcenter/docs)有API提供運動相關資訊\n",
    "    1. Google (https://console.developers.google.com) 也提供許多APIs來做語言翻譯、分析、地理等服務。\n",
    "    1. Wikipedia 也有API：https://www.mediawiki.org/wiki/API:Main_page\n",
    "- API的使用說明文件通常會載明：\n",
    "    1. 端點：也就是你該送出要求(request)的URL        \n",
    "    1. 可以使用的參數：可以是放在URL路徑中或是 GET 函式中，如：\n",
    "        1. http://example.com/the-api-route/pathparam\n",
    "        1. http://example.com/the-api-route?param1=pathparam\n",
    "- API的回應通常是JSON或是XML格式：<img src =\"Chap12_01.png\">\n",
    "- FreeGeoIP (http://freegeoip.net)：簡單的IP位址與實體位址間的轉換 (可以直接把要的輸出格式打在URL中)\n",
    "    1. http://freegeoip.net/xml/50.78.253.58\n",
    "    1. httP://freegeoip.net/csv/50.78.253.58\n",
    "    1. httP://freegeoip.net/json/50.78.253.58  \n",
    "<br>\n",
    "- 我們來看幾個例子吧。Chap12_API.py"
   ]
  },
  {
   "cell_type": "markdown",
   "metadata": {},
   "source": [
    "## facebook API\n",
    "\n",
    "- 我們可以讀取自己的FB的相關訊息。\n",
    "- 先在 anaconda prompt下，scraping環境中，安裝 pip install facebook-sdk\n",
    "- 到FB去，先登錄，然後到：developers.facebook.com/app 去，註冊一下。\n",
    "- 註冊完，到developers.facebook.com/tools 選擇圖形API測試工具。\n",
    "- 在右上角，取得權杖點選：取得用戶存取權杖\n",
    "- 勾選：user_friends, user_likes, user_photos, user_posts，然後取得權杖\n",
    "- 把出現的那長長一串的權杖複製下來。"
   ]
  },
  {
   "cell_type": "markdown",
   "metadata": {},
   "source": [
    "## Google API\n",
    "\n",
    "- 到：https://console.cloud.google.com 去申請Google API 金鑰\n",
    "- 到：https://developers.google.com/maps/gmp-get-started 取得金鑰\n",
    "- 到anaconda prompt，scraping環境下，安裝：pip install googlemaps"
   ]
  },
  {
   "cell_type": "code",
   "execution_count": null,
   "metadata": {},
   "outputs": [],
   "source": []
  }
 ],
 "metadata": {
  "kernelspec": {
   "display_name": "Python 3",
   "language": "python",
   "name": "python3"
  },
  "language_info": {
   "codemirror_mode": {
    "name": "ipython",
    "version": 3
   },
   "file_extension": ".py",
   "mimetype": "text/x-python",
   "name": "python",
   "nbconvert_exporter": "python",
   "pygments_lexer": "ipython3",
   "version": "3.7.5"
  }
 },
 "nbformat": 4,
 "nbformat_minor": 2
}
