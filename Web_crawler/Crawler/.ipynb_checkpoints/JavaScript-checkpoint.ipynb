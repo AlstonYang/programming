{
 "cells": [
  {
   "cell_type": "code",
   "execution_count": 12,
   "metadata": {},
   "outputs": [
    {
     "name": "stdout",
     "output_type": "stream",
     "text": [
      "Here is some important text you want to retrieve!\n",
      "A button to click!\n"
     ]
    }
   ],
   "source": [
    "from selenium import webdriver\n",
    "import time\n",
    "\n",
    "browser = webdriver.Chrome()\n",
    "browser.get('http://pythonscraping.com/pages/javascript/ajaxDemo.html')\n",
    "time.sleep(10) #休息10秒鐘\n",
    "\n",
    "print(browser.find_element_by_id('content').text)\n",
    "\n",
    "browser.close()"
   ]
  },
  {
   "cell_type": "code",
   "execution_count": 11,
   "metadata": {},
   "outputs": [
    {
     "name": "stdout",
     "output_type": "stream",
     "text": [
      "<html><head>\n",
      "<title>Some JavaScript-loaded content</title>\n",
      "<script src=\"../js/jquery-2.1.1.min.js\"></script>\n",
      "\n",
      "</head>\n",
      "<body>\n",
      "<div id=\"content\">Here is some important text you want to retrieve! <p></p><button id=\"loadedButton\">A button to click!</button></div>\n",
      "\n",
      "<script>\n",
      "$.ajax({\n",
      "    type: \"GET\",\n",
      "    url: \"loadedContent.php\",\n",
      "    success: function(response){\n",
      "\n",
      "\tsetTimeout(function() {\n",
      "\t    $('#content').html(response);\n",
      "\t}, 2000);\n",
      "    }\n",
      "  });\n",
      "\n",
      "function ajax_delay(str){\n",
      " setTimeout(\"str\",2000);\n",
      "}\n",
      "</script>\n",
      "\n",
      "</body></html>\n"
     ]
    }
   ],
   "source": [
    "from selenium import webdriver\n",
    "import time\n",
    "\n",
    "browser = webdriver.Chrome()\n",
    "browser.get('http://pythonscraping.com/pages/javascript/ajaxDemo.html')\n",
    "time.sleep(10) #休息10秒鐘\n",
    "\n",
    "print(browser.page_source)\n",
    "\n",
    "browser.close()"
   ]
  },
  {
   "cell_type": "code",
   "execution_count": 1,
   "metadata": {
    "scrolled": true
   },
   "outputs": [
    {
     "name": "stdout",
     "output_type": "stream",
     "text": [
      "Here is some important text you want to retrieve!\n",
      "A button to click!\n"
     ]
    }
   ],
   "source": [
    "from selenium import webdriver\n",
    "from selenium.webdriver.common.by import By\n",
    "from selenium.webdriver.support.ui import WebDriverWait\n",
    "from selenium.webdriver.support import expected_conditions as EC\n",
    "\n",
    "browser = webdriver.Chrome()\n",
    "browser.get('http://pythonscraping.com/pages/javascript/ajaxDemo.html')\n",
    "\n",
    "\n",
    "try:\n",
    "    element = WebDriverWait(browser, 10).until(EC.presence_of_element_located((By.ID,'loadedButton')))\n",
    "    \n",
    "finally:\n",
    "    print(browser.find_element_by_id('content').text)\n",
    "    browser.close()\n"
   ]
  },
  {
   "cell_type": "code",
   "execution_count": null,
   "metadata": {},
   "outputs": [],
   "source": []
  }
 ],
 "metadata": {
  "kernelspec": {
   "display_name": "Python 3",
   "language": "python",
   "name": "python3"
  },
  "language_info": {
   "codemirror_mode": {
    "name": "ipython",
    "version": 3
   },
   "file_extension": ".py",
   "mimetype": "text/x-python",
   "name": "python",
   "nbconvert_exporter": "python",
   "pygments_lexer": "ipython3",
   "version": "3.7.4"
  }
 },
 "nbformat": 4,
 "nbformat_minor": 2
}
