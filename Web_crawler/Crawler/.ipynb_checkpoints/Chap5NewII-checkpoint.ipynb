{
 "cells": [
  {
   "cell_type": "markdown",
   "metadata": {},
   "source": [
    "## 使用 Selector來分析網頁(原始碼)\n",
    "\n",
    "- 我們學過使用BeautifulSoup來分析網頁，簡單好用，但較慢。\n",
    "- lxml也可以拿來分析網頁，但是，操作上相對複雜許多。\n",
    "- Scrapy的Selector是一種基於lxml但卻操作相對容易的工具。\n",
    "\n",
    "- 我們可以把一個html檔丟給Selector，讓Selector剖析該檔。"
   ]
  },
  {
   "cell_type": "code",
   "execution_count": 2,
   "metadata": {},
   "outputs": [
    {
     "name": "stdout",
     "output_type": "stream",
     "text": [
      "<Selector xpath=None data='<html>\\n        <body>\\n            <h1...'>\n"
     ]
    }
   ],
   "source": [
    "from scrapy.selector import Selector\n",
    "\n",
    "text = '''\n",
    "    <html>\n",
    "        <body>\n",
    "            <h1>Hello World</h1>\n",
    "            <h1>Hello Scrapy</h1>\n",
    "            <b>Hello python></b>\n",
    "            <ul>\n",
    "                <li>C++</li>\n",
    "                <li>Java</li>\n",
    "                <li>Python</li>\n",
    "            </ul>\n",
    "        </body>\n",
    "    </html>\n",
    "'''\n",
    "selector = Selector(text=text)                      # 直接用Selector()讀入html檔\n",
    "print(selector)"
   ]
  },
  {
   "cell_type": "code",
   "execution_count": 3,
   "metadata": {},
   "outputs": [
    {
     "name": "stdout",
     "output_type": "stream",
     "text": [
      "<Selector xpath=None data='<html>\\n        <body>\\n            <h1...'>\n"
     ]
    }
   ],
   "source": [
    "# 也可以使用Response來建置Selector\n",
    "# 使用Response建立的物件，要傳給\n",
    "# Selector的關鍵字論元response。\n",
    "# 對比上面的做法是傳給關鍵字論元 text\n",
    "\n",
    "from scrapy.selector import Selector\n",
    "from scrapy.http import HtmlResponse\n",
    "\n",
    "body = '''\n",
    "    <html>\n",
    "        <body>\n",
    "            <h1>Hello World</h1>\n",
    "            <h1>Hello Scrapy</h1>\n",
    "            <b>Hello python></b>\n",
    "            <ul>\n",
    "                <li>C++</li>\n",
    "                <li>Java</li>\n",
    "                <li>Python</li>\n",
    "            </ul>\n",
    "        </body>\n",
    "    </html>\n",
    "'''\n",
    "\n",
    "# 利用HtmlResponse()來讀取html檔。HtmlResponse()\n",
    "# 中需要標註url()，如果html檔不在url()之中，需在\n",
    "# body中標明。下面 url中的網址是保留網域，並無實際內容\n",
    "\n",
    "\n",
    "response = HtmlResponse(url='http://www.example.com', body=body, encoding='utf8') \n",
    "selector = Selector(response=response)\n",
    "print(selector)"
   ]
  },
  {
   "cell_type": "code",
   "execution_count": 10,
   "metadata": {},
   "outputs": [
    {
     "name": "stdout",
     "output_type": "stream",
     "text": [
      "[<Selector xpath='//h1' data='<h1>Hello World</h1>'>, <Selector xpath='//h1' data='<h1>Hello Scrapy</h1>'>]\n",
      "====================================================================================================\n",
      "[<Selector xpath='./text()' data='Hello World'>]\n",
      "[<Selector xpath='./text()' data='Hello Scrapy'>]\n"
     ]
    }
   ],
   "source": [
    "# 呼叫Selector物件的xpath或css這兩個方法(method)來取得文件中的某個/些部份\n",
    "\n",
    "selector_list = selector.xpath('//h1')  # 選取所有<h1>，// 的意義在下面會說明\n",
    "print(selector_list)\n",
    "print('=' * 100)\n",
    "# 取得tag所標記的文本\n",
    "# 回傳的仍是表列，但html標記被移除了。\n",
    "for sel in selector_list:\n",
    "    print(sel.xpath('./text()'))        # ./text()在下面說明"
   ]
  },
  {
   "cell_type": "code",
   "execution_count": 13,
   "metadata": {},
   "outputs": [
    {
     "name": "stdout",
     "output_type": "stream",
     "text": [
      "[<Selector xpath='./text()' data='Hello World'>, <Selector xpath='./text()' data='Hello Scrapy'>]\n",
      "====================================================================================================\n",
      "[<Selector xpath='./text()' data='C++'>, <Selector xpath='./text()' data='Java'>, <Selector xpath='./text()' data='Python'>]\n"
     ]
    }
   ],
   "source": [
    "# 用Selector().xpath()仍可使用 .xpath來做xpath或/及css搜尋\n",
    "\n",
    "print(selector_list.xpath('./text()'))  # selector_list雖然像是一個list，但可直接使用 .xpath()，不需要做for loop。\n",
    "print('='*100)\n",
    "print(selector.xpath('.//ul').css('li').xpath('./text()'))"
   ]
  },
  {
   "cell_type": "markdown",
   "metadata": {},
   "source": [
    "### 使用Selector或doo eelectorList可用以下方法來分析選取內容：\n",
    "\n",
    "1. extract()\n",
    "1. re()\n",
    "1. extract_first() [SelectorList專有]\n",
    "1. re_first() [SelectorList專有]"
   ]
  },
  {
   "cell_type": "code",
   "execution_count": 19,
   "metadata": {},
   "outputs": [
    {
     "name": "stdout",
     "output_type": "stream",
     "text": [
      "[<Selector xpath='.//li' data='<li>C++</li>'>, <Selector xpath='.//li' data='<li>Java</li>'>, <Selector xpath='.//li' data='<li>Python</li>'>]\n",
      "====================================================================================================\n",
      "<li>C++</li>\n",
      "====================================================================================================\n",
      "[<Selector xpath='.//li/text()' data='C++'>, <Selector xpath='.//li/text()' data='Java'>, <Selector xpath='.//li/text()' data='Python'>]\n",
      "====================================================================================================\n",
      "Java\n"
     ]
    }
   ],
   "source": [
    "s1 = selector.xpath('.//li')\n",
    "print(s1)\n",
    "print('='*100)\n",
    "print(s1[0].extract())           # 把表列中第一個(index=0)的文本擷取出來\n",
    "print('='*100)\n",
    "s1 = selector.xpath('.//li/text()')\n",
    "print(s1)\n",
    "print('='*100)\n",
    "print(s1[1].extract())           # 加了text()之後，擷取出來的文本就不會有HTML標記了"
   ]
  },
  {
   "cell_type": "code",
   "execution_count": 21,
   "metadata": {},
   "outputs": [
    {
     "name": "stdout",
     "output_type": "stream",
     "text": [
      "['C++', 'Java', 'Python']\n",
      "====================================================================================================\n",
      "C++\n"
     ]
    }
   ],
   "source": [
    "# extract()取出所有值，extract_first()取出第一個值\n",
    "\n",
    "s1 = selector.xpath('.//li/text()')\n",
    "print(s1.extract())\n",
    "print('='*100)\n",
    "print(s1.extract_first())"
   ]
  },
  {
   "cell_type": "code",
   "execution_count": 26,
   "metadata": {},
   "outputs": [
    {
     "name": "stdout",
     "output_type": "stream",
     "text": [
      "[<Selector xpath='.//li/b/text()' data='價格：99.00元'>, <Selector xpath='.//li/b/text()' data='價格：88.00元'>, <Selector xpath='.//li/b/text()' data='價格：80.00元'>]\n",
      "====================================================================================================\n",
      "['價格：99.00元', '價格：88.00元', '價格：80.00元']\n",
      "====================================================================================================\n",
      "['99.00', '88.00', '80.00']\n",
      "====================================================================================================\n",
      "99.00\n"
     ]
    }
   ],
   "source": [
    "# 亦可使用正則表示式 (re) 來搜尋特定內容\n",
    "\n",
    "text = '''\n",
    "    <ul>\n",
    "        <li>Python學習手冊 <b>價格：99.00元</b></li>\n",
    "        <li>Python核心程式設計 <b>價格：88.00元</b></li>\n",
    "        <li>Python基礎教學 <b>價格：80.00元</b></li>\n",
    "    </ul>\n",
    "'''\n",
    "\n",
    "selector = Selector(text=text)\n",
    "print(selector.xpath('.//li/b/text()'))\n",
    "print('='*100)\n",
    "print(selector.xpath('.//li/b/text()').extract())\n",
    "print('='*100)\n",
    "\n",
    "# 利用Selector的re，非 re module來做蒐尋\n",
    "print(selector.xpath('.//li/b/text()').re('\\d+\\.\\d+'))    # 一個或以上的十進位數字 + 小數點 + 一個或以上的十進位數字\n",
    "\n",
    "print('='*100)\n",
    "\n",
    "print(selector.xpath('.//li/b/text()').re_first('\\d+\\.\\d+'))  #用 Selector 中的 re 找第一個價格"
   ]
  },
  {
   "cell_type": "code",
   "execution_count": 28,
   "metadata": {},
   "outputs": [
    {
     "name": "stdout",
     "output_type": "stream",
     "text": [
      "<Selector xpath=None data='<html>\\n        <body>\\n            <h1...'>\n",
      "====================================================================================================\n",
      "['Hello World', 'Hello Scrapy']\n",
      "['C++', 'Java', 'Python']\n"
     ]
    }
   ],
   "source": [
    "# 一般不需手動建立Selector，因為Response會自動建立\n",
    "\n",
    "from scrapy.http import HtmlResponse\n",
    "\n",
    "body = '''\n",
    "    <html>\n",
    "        <body>\n",
    "            <h1>Hello World</h1>\n",
    "            <h1>Hello Scrapy</h1>\n",
    "            <b>Hello python></b>\n",
    "            <ul>\n",
    "                <li>C++</li>\n",
    "                <li>Java</li>\n",
    "                <li>Python</li>\n",
    "            </ul>\n",
    "        </body>\n",
    "    </html>\n",
    "'''\n",
    "\n",
    "response = HtmlResponse(url='http://www.example.com', body = body, encoding='utf8')\n",
    "print(response.selector) # 不需要import，也不需要呼叫任何函式，直接使用 .selector 即可\n",
    "                         # 跟上面的比較一下，可以發現，不需要使用 Selector()來建立selector\n",
    "print('='*100)\n",
    "\n",
    "# 上面介紹的 .xpath()及 .css()都可直接作用於HtmlResponse()建立的物件上\n",
    "# 不需要把 response 用 Selecotr() 再處理一次\n",
    "\n",
    "print(response.xpath('.//h1/text()').extract())\n",
    "print(response.css('li::text').extract())"
   ]
  },
  {
   "cell_type": "markdown",
   "metadata": {},
   "source": [
    "## XPath\n",
    "\n",
    "- xpath即XML 路徑語言(XML Path Language)，是用來確定xml文件中某部份位置的語言。\n",
    "- xml是HTML的孫輩，兩者共享許多特性。\n",
    "- xml文件中的節點有多種類型，最常用的包括：\n",
    "    1. 根節點：整個文件樹的根\n",
    "    1. 元素節點(標籤)：html, body, div, p, a, 等\n",
    "    1. 屬性節點：href\n",
    "    1. 文字節點(文本)：Hello world, Click here等。\n",
    "- 節點間有以下關係：\n",
    "    1. 父子：body為html的子節點，p和a是div的子節點，反之為父節點\n",
    "    1. 兄弟：a和p為兄弟節點\n",
    "- XPath常用基本語法：\n",
    "    1. / ：選取文件的根(root)\n",
    "    1. . ：選取目前節點\n",
    "    1. .. ：選取目前節點的父節點\n",
    "    1. ELEMENT：選取子節點中所有ELEMENT元素節點\n",
    "    1. //ELEMENT：選取後代節點中所有ELEMENT元素節點\n",
    "    1. \\* ：選取所有元素節點\n",
    "    1. text() ：選取所有文字節點\n",
    "    1. @ATTR ：選取名叫ATTR的屬性節點\n",
    "    1. @* ：選取所有屬性節點\n",
    "    1. [謂語] ：謂語用來尋找某個特定的節點或包含某個特定值的節點    "
   ]
  },
  {
   "cell_type": "code",
   "execution_count": 1,
   "metadata": {},
   "outputs": [
    {
     "name": "stdout",
     "output_type": "stream",
     "text": [
      "[<Selector xpath='/html' data='<html>\\n        <head>\\n            <ba...'>]\n",
      "[<Selector xpath='/html/head' data='<head>\\n            <base href=\"http:/...'>]\n"
     ]
    }
   ],
   "source": [
    "from scrapy.selector import Selector\n",
    "from scrapy.http import HtmlResponse\n",
    "\n",
    "body = '''\n",
    "    <html>\n",
    "        <head>\n",
    "            <base href='http://example.com/' />\n",
    "            <title>Example website</title>\n",
    "        </head>\n",
    "        <body>\n",
    "            <div id='images'>\n",
    "                <a href = 'image1.html'>Name: Image I<br/><img src='image1.jpg' /></a>\n",
    "                <a href = 'image2.html'>Name: Image 2<br/><img src='image2.jpg' /></a>\n",
    "                <a href = 'image3.html'>Name: Image 3<br/><img src='image3.jpg' /></a>\n",
    "                <a href = 'image4.html'>Name: Image 4<br/><img src='image4.jpg' /></a>\n",
    "                <a href = 'image5.html'>Name: Image 5<br/><img src='image5.jpg' /></a>\n",
    "            </div>\n",
    "        </body>\n",
    "    </html>\n",
    "'''\n",
    "\n",
    "response = HtmlResponse(url='http://www.example.com', body=body, encoding='utf8')\n",
    "\n",
    "print(response.xpath('/html')) #描述一個從根開始的絕對路徑\n",
    "print(response.xpath('/html/head'))"
   ]
  },
  {
   "cell_type": "code",
   "execution_count": 36,
   "metadata": {},
   "outputs": [
    {
     "name": "stdout",
     "output_type": "stream",
     "text": [
      "<Selector xpath='/html/body/div/a' data='<a href=\"image1.html\">Name: Image I<b...'>\n",
      "<Selector xpath='/html/body/div/a' data='<a href=\"image2.html\">Name: Image 2<b...'>\n",
      "<Selector xpath='/html/body/div/a' data='<a href=\"image3.html\">Name: Image 3<b...'>\n",
      "<Selector xpath='/html/body/div/a' data='<a href=\"image4.html\">Name: Image 4<b...'>\n",
      "<Selector xpath='/html/body/div/a' data='<a href=\"image5.html\">Name: Image 5<b...'>\n"
     ]
    }
   ],
   "source": [
    "# 選取 div之下的所有a (指定特定路徑中的 a)\n",
    "for item in response.xpath('/html/body/div/a'):\n",
    "    print(item)"
   ]
  },
  {
   "cell_type": "code",
   "execution_count": 37,
   "metadata": {},
   "outputs": [
    {
     "name": "stdout",
     "output_type": "stream",
     "text": [
      "<Selector xpath='//a' data='<a href=\"image1.html\">Name: Image I<b...'>\n",
      "<Selector xpath='//a' data='<a href=\"image2.html\">Name: Image 2<b...'>\n",
      "<Selector xpath='//a' data='<a href=\"image3.html\">Name: Image 3<b...'>\n",
      "<Selector xpath='//a' data='<a href=\"image4.html\">Name: Image 4<b...'>\n",
      "<Selector xpath='//a' data='<a href=\"image5.html\">Name: Image 5<b...'>\n"
     ]
    }
   ],
   "source": [
    "#選取文件中所有a，不管其位置\n",
    "\n",
    "for item in response.xpath('//a'):\n",
    "    print(item)"
   ]
  },
  {
   "cell_type": "code",
   "execution_count": 38,
   "metadata": {},
   "outputs": [
    {
     "name": "stdout",
     "output_type": "stream",
     "text": [
      "<Selector xpath='/html/body//img' data='<img src=\"image1.jpg\">'>\n",
      "<Selector xpath='/html/body//img' data='<img src=\"image2.jpg\">'>\n",
      "<Selector xpath='/html/body//img' data='<img src=\"image3.jpg\">'>\n",
      "<Selector xpath='/html/body//img' data='<img src=\"image4.jpg\">'>\n",
      "<Selector xpath='/html/body//img' data='<img src=\"image5.jpg\">'>\n"
     ]
    }
   ],
   "source": [
    "#選取body後代中所有img (也可以指定是哪個路徑、哪個標記下的所有後代節點)\n",
    "\n",
    "for item in response.xpath('/html/body//img'):\n",
    "    print(item)"
   ]
  },
  {
   "cell_type": "code",
   "execution_count": 3,
   "metadata": {},
   "outputs": [
    {
     "name": "stdout",
     "output_type": "stream",
     "text": [
      "[<Selector xpath='//a/text()' data='Name: Image I'>, <Selector xpath='//a/text()' data='Name: Image 2'>, <Selector xpath='//a/text()' data='Name: Image 3'>, <Selector xpath='//a/text()' data='Name: Image 4'>, <Selector xpath='//a/text()' data='Name: Image 5'>]\n",
      "====================================================================================================\n",
      "<Selector xpath='//a/text()' data='Name: Image I'>\n",
      "<Selector xpath='//a/text()' data='Name: Image 2'>\n",
      "<Selector xpath='//a/text()' data='Name: Image 3'>\n",
      "<Selector xpath='//a/text()' data='Name: Image 4'>\n",
      "<Selector xpath='//a/text()' data='Name: Image 5'>\n"
     ]
    },
    {
     "data": {
      "text/plain": [
       "['Name: Image I',\n",
       " 'Name: Image 2',\n",
       " 'Name: Image 3',\n",
       " 'Name: Image 4',\n",
       " 'Name: Image 5']"
      ]
     },
     "execution_count": 3,
     "metadata": {},
     "output_type": "execute_result"
    }
   ],
   "source": [
    "#選取所有的a中的文字節點\n",
    "\n",
    "sel = response.xpath('//a/text()')\n",
    "print(sel)\n",
    "print('='*100)\n",
    "\n",
    "# 全部印出看起來比較亂，\n",
    "# 所以一行一行印出來\n",
    "\n",
    "for s in sel:\n",
    "    print(s)\n",
    "    \n",
    "# 直接使用 .extract()，不需迴圈\n",
    "\n",
    "sel.extract()"
   ]
  },
  {
   "cell_type": "code",
   "execution_count": 42,
   "metadata": {},
   "outputs": [
    {
     "name": "stdout",
     "output_type": "stream",
     "text": [
      "<Selector xpath='/html/body/div//*' data='<a href=\"image1.html\">Name: Image I<b...'>\n",
      "<Selector xpath='/html/body/div//*' data='<br>'>\n",
      "<Selector xpath='/html/body/div//*' data='<img src=\"image1.jpg\">'>\n",
      "<Selector xpath='/html/body/div//*' data='<a href=\"image2.html\">Name: Image 2<b...'>\n",
      "<Selector xpath='/html/body/div//*' data='<br>'>\n",
      "<Selector xpath='/html/body/div//*' data='<img src=\"image2.jpg\">'>\n",
      "<Selector xpath='/html/body/div//*' data='<a href=\"image3.html\">Name: Image 3<b...'>\n",
      "<Selector xpath='/html/body/div//*' data='<br>'>\n",
      "<Selector xpath='/html/body/div//*' data='<img src=\"image3.jpg\">'>\n",
      "<Selector xpath='/html/body/div//*' data='<a href=\"image4.html\">Name: Image 4<b...'>\n",
      "<Selector xpath='/html/body/div//*' data='<br>'>\n",
      "<Selector xpath='/html/body/div//*' data='<img src=\"image4.jpg\">'>\n",
      "<Selector xpath='/html/body/div//*' data='<a href=\"image5.html\">Name: Image 5<b...'>\n",
      "<Selector xpath='/html/body/div//*' data='<br>'>\n",
      "<Selector xpath='/html/body/div//*' data='<img src=\"image5.jpg\">'>\n"
     ]
    }
   ],
   "source": [
    "# 選取html下的所有元素子節點 (daughter tags)\n",
    "# xpath()結果是一個表列，直接印出不容易看，\n",
    "# 故使用迴圈將成員一一印出，較容易看\n",
    "\n",
    "for item in response.xpath('html/*'):\n",
    "    print(item)\n",
    "    \n",
    "# 選取特定路徑下的div的所有後代元素節點 (descendants)\n",
    "\n",
    "for item in response.xpath('/html/body/div//*'):\n",
    "    print(item)\n",
    "    "
   ]
  },
  {
   "cell_type": "code",
   "execution_count": 44,
   "metadata": {},
   "outputs": [
    {
     "name": "stdout",
     "output_type": "stream",
     "text": [
      "<Selector xpath='//div/*/img' data='<img src=\"image1.jpg\">'>\n",
      "<Selector xpath='//div/*/img' data='<img src=\"image2.jpg\">'>\n",
      "<Selector xpath='//div/*/img' data='<img src=\"image3.jpg\">'>\n",
      "<Selector xpath='//div/*/img' data='<img src=\"image4.jpg\">'>\n",
      "<Selector xpath='//div/*/img' data='<img src=\"image5.jpg\">'>\n"
     ]
    }
   ],
   "source": [
    "# 選取所有div的孫節點img\n",
    "\n",
    "for item in response.xpath('//div/*/img'):\n",
    "    print(item)"
   ]
  },
  {
   "cell_type": "code",
   "execution_count": 45,
   "metadata": {},
   "outputs": [
    {
     "name": "stdout",
     "output_type": "stream",
     "text": [
      "<Selector xpath='//img/@src' data='image1.jpg'>\n",
      "<Selector xpath='//img/@src' data='image2.jpg'>\n",
      "<Selector xpath='//img/@src' data='image3.jpg'>\n",
      "<Selector xpath='//img/@src' data='image4.jpg'>\n",
      "<Selector xpath='//img/@src' data='image5.jpg'>\n"
     ]
    }
   ],
   "source": [
    "# 選取所有img的scr屬性\n",
    "\n",
    "for item in response.xpath('//img/@src'):\n",
    "    print(item)"
   ]
  },
  {
   "cell_type": "code",
   "execution_count": 46,
   "metadata": {},
   "outputs": [
    {
     "name": "stdout",
     "output_type": "stream",
     "text": [
      "<Selector xpath='//@href' data='http://example.com/'>\n",
      "<Selector xpath='//@href' data='image1.html'>\n",
      "<Selector xpath='//@href' data='image2.html'>\n",
      "<Selector xpath='//@href' data='image3.html'>\n",
      "<Selector xpath='//@href' data='image4.html'>\n",
      "<Selector xpath='//@href' data='image5.html'>\n"
     ]
    }
   ],
   "source": [
    "# 選取文件中所有的ATTR屬性\n",
    "\n",
    "for item in response.xpath('//@href'):\n",
    "    print(item)"
   ]
  },
  {
   "cell_type": "code",
   "execution_count": 47,
   "metadata": {},
   "outputs": [
    {
     "name": "stdout",
     "output_type": "stream",
     "text": [
      "<Selector xpath='//a[1]/img/@*' data='image1.jpg'>\n"
     ]
    }
   ],
   "source": [
    "# 選取第一個a下的img的所有屬性(這裏只有src一個屬性)\n",
    "# 第幾個標記，以中括號加數字表示\n",
    "\n",
    "for item in response.xpath('//a[1]/img/@*'):\n",
    "    print(item)"
   ]
  },
  {
   "cell_type": "code",
   "execution_count": 49,
   "metadata": {},
   "outputs": [
    {
     "name": "stdout",
     "output_type": "stream",
     "text": [
      "<Selector xpath='//a' data='<a href=\"image1.html\">Name: Image I<b...'>\n",
      "[<Selector xpath='.//img' data='<img src=\"image1.jpg\">'>]\n"
     ]
    }
   ],
   "source": [
    "# 選取目前節點，用來描述相對路徑\n",
    "# 如果用 .xpath()則要用index 0 來達到相同結果\n",
    "\n",
    "sel = response.xpath('//a')[0]\n",
    "print(sel)\n",
    "\n",
    "# 從目前這個a的後代中取得img\n",
    "\n",
    "print(sel.xpath('.//img'))"
   ]
  },
  {
   "cell_type": "code",
   "execution_count": 51,
   "metadata": {},
   "outputs": [
    {
     "name": "stdout",
     "output_type": "stream",
     "text": [
      "<Selector xpath='//img/..' data='<a href=\"image1.html\">Name: Image I<b...'>\n",
      "<Selector xpath='//img/..' data='<a href=\"image2.html\">Name: Image 2<b...'>\n",
      "<Selector xpath='//img/..' data='<a href=\"image3.html\">Name: Image 3<b...'>\n",
      "<Selector xpath='//img/..' data='<a href=\"image4.html\">Name: Image 4<b...'>\n",
      "<Selector xpath='//img/..' data='<a href=\"image5.html\">Name: Image 5<b...'>\n"
     ]
    }
   ],
   "source": [
    "# 選取所有img的父節點\n",
    "# 注意：即使是父節點，仍是寫在標記之後...\n",
    "\n",
    "for item in response.xpath('//img/..'):\n",
    "    print(item)"
   ]
  },
  {
   "cell_type": "code",
   "execution_count": 58,
   "metadata": {},
   "outputs": [
    {
     "name": "stdout",
     "output_type": "stream",
     "text": [
      "[<Selector xpath='//a[3]' data='<a href=\"image3.html\">Name: Image 3<b...'>]\n",
      "[<Selector xpath='//a[last()]' data='<a href=\"image5.html\">Name: Image 5<b...'>]\n",
      "[<Selector xpath='//a[position()<=3]' data='<a href=\"image1.html\">Name: Image I<b...'>, <Selector xpath='//a[position()<=3]' data='<a href=\"image2.html\">Name: Image 2<b...'>, <Selector xpath='//a[position()<=3]' data='<a href=\"image3.html\">Name: Image 3<b...'>]\n",
      "[<Selector xpath='//div[@id]' data='<div id=\"images\">\\n                <a ...'>]\n",
      "[<Selector xpath='//div[@id=\"images\"]' data='<div id=\"images\">\\n                <a ...'>]\n"
     ]
    }
   ],
   "source": [
    "# 選取所有a中的第3個\n",
    "\n",
    "print(response.xpath('//a[3]'))\n",
    "\n",
    "# 最後一個\n",
    "print(response.xpath('//a[last()]'))\n",
    "\n",
    "# 使用position，選前三個\n",
    "print(response.xpath('//a[position()<=3]'))\n",
    "\n",
    "#選取所有含有id屬性的div\n",
    "print(response.xpath('//div[@id]'))\n",
    "\n",
    "# 選取所有含id屬性且值為images的div\n",
    "print(response.xpath('//div[@id=\"images\"]'))"
   ]
  },
  {
   "cell_type": "code",
   "execution_count": 59,
   "metadata": {},
   "outputs": [
    {
     "name": "stdout",
     "output_type": "stream",
     "text": [
      "<Selector xpath=None data='<html><body><a href=\"#\">Click here go...'>\n"
     ]
    }
   ],
   "source": [
    "# .xpath()中的 string()\n",
    "\n",
    "from scrapy.selector import Selector\n",
    "text = '<a href=\"#\">Click here go to to the <strong>Next Page</strong></a>'\n",
    "sel=Selector(text=text)\n",
    "print(sel)"
   ]
  },
  {
   "cell_type": "code",
   "execution_count": 63,
   "metadata": {},
   "outputs": [
    {
     "name": "stdout",
     "output_type": "stream",
     "text": [
      "['Next Page']\n",
      "['Next Page']\n"
     ]
    }
   ],
   "source": [
    "print(sel.xpath('string(/html/body/a/strong)').extract())\n",
    "\n",
    "#在xpath中使用string這個函式，與下面作用相同\n",
    "\n",
    "print(sel.xpath('/html/body/a/strong/text()').extract())"
   ]
  },
  {
   "cell_type": "code",
   "execution_count": 65,
   "metadata": {},
   "outputs": [
    {
     "name": "stdout",
     "output_type": "stream",
     "text": [
      "['Click here go to to the ', 'Next Page']\n",
      "['Click here go to to the Next Page']\n"
     ]
    }
   ],
   "source": [
    "# 取得整個字串 Click here to go to the Next Page\n",
    "# 因為上面的字串分屬不同的標籤(元素)之下\n",
    "\n",
    "print(sel.xpath('/html/body/a//text()').extract()) # 輸出一個有兩個字串的表列\n",
    "\n",
    "#這個時候可以使用 string\n",
    "print(sel.xpath('string(/html/body/a)').extract())"
   ]
  },
  {
   "cell_type": "markdown",
   "metadata": {},
   "source": [
    "## CSS 選擇器\n",
    "\n",
    "- 見下面範例"
   ]
  },
  {
   "cell_type": "code",
   "execution_count": 78,
   "metadata": {},
   "outputs": [],
   "source": [
    "# 建立HTML文件\n",
    "\n",
    "from scrapy.selector import Selector\n",
    "from scrapy.http import HtmlResponse\n",
    "\n",
    "body = '''\n",
    "    <html>\n",
    "        <head>\n",
    "            <base href='http://example.com/' />\n",
    "            <title>Example website</title>\n",
    "        <body>\n",
    "            <div id=\"images-1\" style='width: 1230px;'>\n",
    "                <a href='image1.html'>Name: Image1 <br/><img src='imge1.jpg' /></a>\n",
    "                <a href='image1.html'>Name: Image2 <br/><img src='imge2.jpg' /></a>\n",
    "                <a href='image1.html'>Name: Image3 <br/><img src='imge3.jpg' /></a>\n",
    "            </div>\n",
    "            <div id='images-2' class='small'>\n",
    "                <a href='image4.html'>Name: Image 4 <br/><imag src='image4.jpg' /></a>\n",
    "                <a href='image5.html'>Name: Image 5 <br/><imag src='image5.jpg' /></a>\n",
    "            </div>\n",
    "        </body>\n",
    "    </html>\n",
    "'''\n",
    "\n",
    "response = HtmlResponse(url='http://www.example.com', body=body, encoding='utf8')"
   ]
  },
  {
   "cell_type": "code",
   "execution_count": 84,
   "metadata": {},
   "outputs": [
    {
     "name": "stdout",
     "output_type": "stream",
     "text": [
      "[<Selector xpath='descendant-or-self::img' data='<img src=\"imge1.jpg\">'>, <Selector xpath='descendant-or-self::img' data='<img src=\"imge2.jpg\">'>, <Selector xpath='descendant-or-self::img' data='<img src=\"imge3.jpg\">'>]\n",
      "====================================================================================================\n",
      "[<Selector xpath='descendant-or-self::base | descendant-or-self::title' data='<base href=\"http://example.com/\">'>, <Selector xpath='descendant-or-self::base | descendant-or-self::title' data='<title>Example website</title>'>]\n",
      "====================================================================================================\n",
      "[<Selector xpath='descendant-or-self::div/descendant-or-self::*/img' data='<img src=\"imge1.jpg\">'>, <Selector xpath='descendant-or-self::div/descendant-or-self::*/img' data='<img src=\"imge2.jpg\">'>, <Selector xpath='descendant-or-self::div/descendant-or-self::*/img' data='<img src=\"imge3.jpg\">'>]\n",
      "====================================================================================================\n",
      "[<Selector xpath='descendant-or-self::body/div' data='<div id=\"images-1\" style=\"width: 1230...'>, <Selector xpath='descendant-or-self::body/div' data='<div id=\"images-2\" class=\"small\">\\n   ...'>]\n",
      "====================================================================================================\n",
      "[<Selector xpath='descendant-or-self::*[@style]' data='<div id=\"images-1\" style=\"width: 1230...'>]\n",
      "====================================================================================================\n",
      "[<Selector xpath=\"descendant-or-self::*[@id = 'images-1']\" data='<div id=\"images-1\" style=\"width: 1230...'>]\n",
      "====================================================================================================\n",
      "[<Selector xpath='descendant-or-self::div/a[count(preceding-sibling::*) = 0]' data='<a href=\"image1.html\">Name: Image1 <b...'>, <Selector xpath='descendant-or-self::div/a[count(preceding-sibling::*) = 0]' data='<a href=\"image4.html\">Name: Image 4 <...'>]\n",
      "====================================================================================================\n",
      "[<Selector xpath='descendant-or-self::div[count(preceding-sibling::*) = 1]/a[count(preceding-sibling::*) = 0]' data='<a href=\"image4.html\">Name: Image 4 <...'>]\n",
      "====================================================================================================\n",
      "[<Selector xpath='descendant-or-self::div[count(preceding-sibling::*) = 0]/a[count(following-sibling::*) = 0]' data='<a href=\"image1.html\">Name: Image3 <b...'>]\n",
      "====================================================================================================\n",
      "[<Selector xpath='descendant-or-self::a/text()' data='Name: Image1 '>, <Selector xpath='descendant-or-self::a/text()' data='Name: Image2 '>, <Selector xpath='descendant-or-self::a/text()' data='Name: Image3 '>, <Selector xpath='descendant-or-self::a/text()' data='Name: Image 4 '>, <Selector xpath='descendant-or-self::a/text()' data='Name: Image 5 '>]\n",
      "====================================================================================================\n",
      "['Name: Image1 ', 'Name: Image2 ', 'Name: Image3 ', 'Name: Image 4 ', 'Name: Image 5 ']\n"
     ]
    }
   ],
   "source": [
    "\n",
    "\n",
    "# 選取所有的 img\n",
    "print(response.css('img'))\n",
    "print('='*100)\n",
    "\n",
    "# 選取所有base和title\n",
    "print(response.css('base, title'))\n",
    "print('='*100)\n",
    "\n",
    "# 選取dvi後代中的img (descendants)\n",
    "print(response.css('div img'))\n",
    "print('='*100)\n",
    "\n",
    "# 選取body子元素中的div (daughters)\n",
    "print(response.css('body>div'))\n",
    "print('='*100)\n",
    "\n",
    "# 選取包含style屬性的元素\n",
    "print(response.css('[style]'))\n",
    "print('='*100)\n",
    "\n",
    "# 選取屬性id值為images-1的元表\n",
    "print(response.css('[id=images-1]'))\n",
    "print('='*100)\n",
    "\n",
    "# 選取每個div的第一個a\n",
    "print(response.css('div>a:nth-child(1)'))\n",
    "print('='*100)\n",
    "\n",
    "# 選取第二個div的第一個a\n",
    "print(response.css('div:nth-child(2)>a:nth-child(1)'))\n",
    "print('='*100)\n",
    "\n",
    "# 選取第一個dvi中的最後一個a\n",
    "print(response.css('div:first-child>a:last-child'))\n",
    "print('='*100)\n",
    "\n",
    "# 選取所有a的文字\n",
    "\n",
    "sel= response.css('a::text')\n",
    "print(sel)\n",
    "print('='*100)\n",
    "print(sel.extract())"
   ]
  },
  {
   "cell_type": "code",
   "execution_count": null,
   "metadata": {},
   "outputs": [],
   "source": []
  }
 ],
 "metadata": {
  "kernelspec": {
   "display_name": "Python 3",
   "language": "python",
   "name": "python3"
  },
  "language_info": {
   "codemirror_mode": {
    "name": "ipython",
    "version": 3
   },
   "file_extension": ".py",
   "mimetype": "text/x-python",
   "name": "python",
   "nbconvert_exporter": "python",
   "pygments_lexer": "ipython3",
   "version": "3.7.4"
  }
 },
 "nbformat": 4,
 "nbformat_minor": 2
}
